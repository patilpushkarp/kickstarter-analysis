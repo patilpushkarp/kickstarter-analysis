{
 "cells": [
  {
   "cell_type": "markdown",
   "metadata": {},
   "source": [
    "# Preliminary Data Preprocessing"
   ]
  },
  {
   "cell_type": "code",
   "execution_count": 1,
   "metadata": {},
   "outputs": [],
   "source": [
    "import pandas as pd"
   ]
  },
  {
   "cell_type": "code",
   "execution_count": 2,
   "metadata": {},
   "outputs": [],
   "source": [
    "df = pd.read_csv('./../data/data.csv')"
   ]
  },
  {
   "cell_type": "code",
   "execution_count": 3,
   "metadata": {},
   "outputs": [
    {
     "data": {
      "text/plain": [
       "(20632, 33)"
      ]
     },
     "execution_count": 3,
     "metadata": {},
     "output_type": "execute_result"
    }
   ],
   "source": [
    "df.shape"
   ]
  },
  {
   "cell_type": "code",
   "execution_count": 4,
   "metadata": {},
   "outputs": [
    {
     "data": {
      "text/html": [
       "<div>\n",
       "<style scoped>\n",
       "    .dataframe tbody tr th:only-of-type {\n",
       "        vertical-align: middle;\n",
       "    }\n",
       "\n",
       "    .dataframe tbody tr th {\n",
       "        vertical-align: top;\n",
       "    }\n",
       "\n",
       "    .dataframe thead th {\n",
       "        text-align: right;\n",
       "    }\n",
       "</style>\n",
       "<table border=\"1\" class=\"dataframe\">\n",
       "  <thead>\n",
       "    <tr style=\"text-align: right;\">\n",
       "      <th></th>\n",
       "      <th>index</th>\n",
       "      <th>id</th>\n",
       "      <th>name</th>\n",
       "      <th>blurb</th>\n",
       "      <th>goal</th>\n",
       "      <th>pledged</th>\n",
       "      <th>state</th>\n",
       "      <th>slug</th>\n",
       "      <th>disable_communication</th>\n",
       "      <th>country</th>\n",
       "      <th>...</th>\n",
       "      <th>name_len</th>\n",
       "      <th>name_len_clean</th>\n",
       "      <th>blurb_len</th>\n",
       "      <th>blurb_len_clean</th>\n",
       "      <th>deadline_weekday</th>\n",
       "      <th>created_at_weekday</th>\n",
       "      <th>launched_at_weekday</th>\n",
       "      <th>create_to_launch</th>\n",
       "      <th>launch_to_deadline</th>\n",
       "      <th>launch_to_state_change</th>\n",
       "    </tr>\n",
       "  </thead>\n",
       "  <tbody>\n",
       "    <tr>\n",
       "      <th>0</th>\n",
       "      <td>0</td>\n",
       "      <td>1454391034</td>\n",
       "      <td>Auntie Di's Music Time Sign ASL for Hearing an...</td>\n",
       "      <td>MTS ASL Curriculum Workbook is a reproducible ...</td>\n",
       "      <td>1500.0</td>\n",
       "      <td>0.0</td>\n",
       "      <td>failed</td>\n",
       "      <td>auntie-dis-music-time-sign-asl-for-hearing-and...</td>\n",
       "      <td>False</td>\n",
       "      <td>US</td>\n",
       "      <td>...</td>\n",
       "      <td>11.0</td>\n",
       "      <td>9.0</td>\n",
       "      <td>21.0</td>\n",
       "      <td>16.0</td>\n",
       "      <td>Friday</td>\n",
       "      <td>Saturday</td>\n",
       "      <td>Wednesday</td>\n",
       "      <td>17 days 14:51:39.000000000</td>\n",
       "      <td>36 days 20:47:24.000000000</td>\n",
       "      <td>NaN</td>\n",
       "    </tr>\n",
       "    <tr>\n",
       "      <th>1</th>\n",
       "      <td>1</td>\n",
       "      <td>1655206086</td>\n",
       "      <td>Jump Start Kindergarten Toolkit</td>\n",
       "      <td>This kit teaches how to print, correct an ugly...</td>\n",
       "      <td>500.0</td>\n",
       "      <td>0.0</td>\n",
       "      <td>failed</td>\n",
       "      <td>jump-start-kindergarten-toolkit</td>\n",
       "      <td>False</td>\n",
       "      <td>US</td>\n",
       "      <td>...</td>\n",
       "      <td>4.0</td>\n",
       "      <td>4.0</td>\n",
       "      <td>23.0</td>\n",
       "      <td>15.0</td>\n",
       "      <td>Friday</td>\n",
       "      <td>Friday</td>\n",
       "      <td>Monday</td>\n",
       "      <td>10 days 06:44:39.000000000</td>\n",
       "      <td>60 days 00:00:00.000000000</td>\n",
       "      <td>NaN</td>\n",
       "    </tr>\n",
       "    <tr>\n",
       "      <th>2</th>\n",
       "      <td>2</td>\n",
       "      <td>311581827</td>\n",
       "      <td>Ojukwu Balewa Awolowo (O.B.A.) Public Library ...</td>\n",
       "      <td>Establishing a free, world-class, public libra...</td>\n",
       "      <td>100000.0</td>\n",
       "      <td>120.0</td>\n",
       "      <td>failed</td>\n",
       "      <td>ojukwu-balewa-awolowo-oba-public-library-of-ni...</td>\n",
       "      <td>False</td>\n",
       "      <td>US</td>\n",
       "      <td>...</td>\n",
       "      <td>8.0</td>\n",
       "      <td>8.0</td>\n",
       "      <td>18.0</td>\n",
       "      <td>10.0</td>\n",
       "      <td>Thursday</td>\n",
       "      <td>Saturday</td>\n",
       "      <td>Sunday</td>\n",
       "      <td>1 days 08:08:58.000000000</td>\n",
       "      <td>60 days 00:00:00.000000000</td>\n",
       "      <td>NaN</td>\n",
       "    </tr>\n",
       "    <tr>\n",
       "      <th>3</th>\n",
       "      <td>3</td>\n",
       "      <td>859724515</td>\n",
       "      <td>MASTIZE - [mas-TAHYZ, MAS-tahyz]  - to spread</td>\n",
       "      <td>Goal: Introducing a new word into the English ...</td>\n",
       "      <td>5000.0</td>\n",
       "      <td>0.0</td>\n",
       "      <td>failed</td>\n",
       "      <td>mastize-mas-tahyz-mas-tahyz-to-spread</td>\n",
       "      <td>False</td>\n",
       "      <td>US</td>\n",
       "      <td>...</td>\n",
       "      <td>7.0</td>\n",
       "      <td>6.0</td>\n",
       "      <td>21.0</td>\n",
       "      <td>13.0</td>\n",
       "      <td>Monday</td>\n",
       "      <td>Friday</td>\n",
       "      <td>Saturday</td>\n",
       "      <td>0 days 02:11:17.000000000</td>\n",
       "      <td>30 days 00:00:00.000000000</td>\n",
       "      <td>NaN</td>\n",
       "    </tr>\n",
       "    <tr>\n",
       "      <th>4</th>\n",
       "      <td>4</td>\n",
       "      <td>1613604977</td>\n",
       "      <td>Synopse der EU-DSGVO - Artikel, Erwägungsgründ...</td>\n",
       "      <td>Zu den Artikeln der DSGVO sind die korrespondi...</td>\n",
       "      <td>3222.0</td>\n",
       "      <td>356.0</td>\n",
       "      <td>failed</td>\n",
       "      <td>synopse-der-eu-dsgvo-artikel-erwagungsgrunde-bdsg</td>\n",
       "      <td>False</td>\n",
       "      <td>DE</td>\n",
       "      <td>...</td>\n",
       "      <td>7.0</td>\n",
       "      <td>7.0</td>\n",
       "      <td>18.0</td>\n",
       "      <td>18.0</td>\n",
       "      <td>Monday</td>\n",
       "      <td>Wednesday</td>\n",
       "      <td>Thursday</td>\n",
       "      <td>0 days 15:47:38.000000000</td>\n",
       "      <td>32 days 06:02:33.000000000</td>\n",
       "      <td>NaN</td>\n",
       "    </tr>\n",
       "  </tbody>\n",
       "</table>\n",
       "<p>5 rows × 33 columns</p>\n",
       "</div>"
      ],
      "text/plain": [
       "   index          id                                               name  \\\n",
       "0      0  1454391034  Auntie Di's Music Time Sign ASL for Hearing an...   \n",
       "1      1  1655206086                    Jump Start Kindergarten Toolkit   \n",
       "2      2   311581827  Ojukwu Balewa Awolowo (O.B.A.) Public Library ...   \n",
       "3      3   859724515      MASTIZE - [mas-TAHYZ, MAS-tahyz]  - to spread   \n",
       "4      4  1613604977  Synopse der EU-DSGVO - Artikel, Erwägungsgründ...   \n",
       "\n",
       "                                               blurb      goal  pledged  \\\n",
       "0  MTS ASL Curriculum Workbook is a reproducible ...    1500.0      0.0   \n",
       "1  This kit teaches how to print, correct an ugly...     500.0      0.0   \n",
       "2  Establishing a free, world-class, public libra...  100000.0    120.0   \n",
       "3  Goal: Introducing a new word into the English ...    5000.0      0.0   \n",
       "4  Zu den Artikeln der DSGVO sind die korrespondi...    3222.0    356.0   \n",
       "\n",
       "    state                                               slug  \\\n",
       "0  failed  auntie-dis-music-time-sign-asl-for-hearing-and...   \n",
       "1  failed                    jump-start-kindergarten-toolkit   \n",
       "2  failed  ojukwu-balewa-awolowo-oba-public-library-of-ni...   \n",
       "3  failed              mastize-mas-tahyz-mas-tahyz-to-spread   \n",
       "4  failed  synopse-der-eu-dsgvo-artikel-erwagungsgrunde-bdsg   \n",
       "\n",
       "   disable_communication country  ... name_len  name_len_clean blurb_len  \\\n",
       "0                  False      US  ...     11.0             9.0      21.0   \n",
       "1                  False      US  ...      4.0             4.0      23.0   \n",
       "2                  False      US  ...      8.0             8.0      18.0   \n",
       "3                  False      US  ...      7.0             6.0      21.0   \n",
       "4                  False      DE  ...      7.0             7.0      18.0   \n",
       "\n",
       "  blurb_len_clean deadline_weekday created_at_weekday  launched_at_weekday  \\\n",
       "0            16.0           Friday           Saturday            Wednesday   \n",
       "1            15.0           Friday             Friday               Monday   \n",
       "2            10.0         Thursday           Saturday               Sunday   \n",
       "3            13.0           Monday             Friday             Saturday   \n",
       "4            18.0           Monday          Wednesday             Thursday   \n",
       "\n",
       "             create_to_launch          launch_to_deadline  \\\n",
       "0  17 days 14:51:39.000000000  36 days 20:47:24.000000000   \n",
       "1  10 days 06:44:39.000000000  60 days 00:00:00.000000000   \n",
       "2   1 days 08:08:58.000000000  60 days 00:00:00.000000000   \n",
       "3   0 days 02:11:17.000000000  30 days 00:00:00.000000000   \n",
       "4   0 days 15:47:38.000000000  32 days 06:02:33.000000000   \n",
       "\n",
       "   launch_to_state_change  \n",
       "0                     NaN  \n",
       "1                     NaN  \n",
       "2                     NaN  \n",
       "3                     NaN  \n",
       "4                     NaN  \n",
       "\n",
       "[5 rows x 33 columns]"
      ]
     },
     "execution_count": 4,
     "metadata": {},
     "output_type": "execute_result"
    }
   ],
   "source": [
    "df.head()\n"
   ]
  },
  {
   "cell_type": "code",
   "execution_count": 5,
   "metadata": {},
   "outputs": [
    {
     "name": "stdout",
     "output_type": "stream",
     "text": [
      "<class 'pandas.core.frame.DataFrame'>\n",
      "RangeIndex: 20632 entries, 0 to 20631\n",
      "Data columns (total 33 columns):\n",
      " #   Column                  Non-Null Count  Dtype  \n",
      "---  ------                  --------------  -----  \n",
      " 0   index                   20632 non-null  int64  \n",
      " 1   id                      20632 non-null  int64  \n",
      " 2   name                    20632 non-null  object \n",
      " 3   blurb                   20627 non-null  object \n",
      " 4   goal                    20632 non-null  float64\n",
      " 5   pledged                 20632 non-null  float64\n",
      " 6   state                   20632 non-null  object \n",
      " 7   slug                    20632 non-null  object \n",
      " 8   disable_communication   20632 non-null  bool   \n",
      " 9   country                 20632 non-null  object \n",
      " 10  currency                20632 non-null  object \n",
      " 11  currency_trailing_code  20632 non-null  bool   \n",
      " 12  deadline                20632 non-null  object \n",
      " 13  state_changed_at        20632 non-null  object \n",
      " 14  created_at              20632 non-null  object \n",
      " 15  launched_at             20632 non-null  object \n",
      " 16  staff_pick              20632 non-null  bool   \n",
      " 17  backers_count           20632 non-null  int64  \n",
      " 18  static_usd_rate         20632 non-null  float64\n",
      " 19  usd_pledged             20632 non-null  float64\n",
      " 20  category                18743 non-null  object \n",
      " 21  spotlight               20632 non-null  bool   \n",
      " 22  source_url              20632 non-null  object \n",
      " 23  name_len                20627 non-null  float64\n",
      " 24  name_len_clean          20627 non-null  float64\n",
      " 25  blurb_len               20627 non-null  float64\n",
      " 26  blurb_len_clean         20627 non-null  float64\n",
      " 27  deadline_weekday        20632 non-null  object \n",
      " 28  created_at_weekday      20632 non-null  object \n",
      " 29  launched_at_weekday     20632 non-null  object \n",
      " 30  create_to_launch        20632 non-null  object \n",
      " 31  launch_to_deadline      20632 non-null  object \n",
      " 32  launch_to_state_change  6018 non-null   object \n",
      "dtypes: bool(4), float64(8), int64(3), object(18)\n",
      "memory usage: 4.6+ MB\n"
     ]
    }
   ],
   "source": [
    "df.info()"
   ]
  },
  {
   "cell_type": "code",
   "execution_count": 6,
   "metadata": {},
   "outputs": [
    {
     "data": {
      "text/html": [
       "<div>\n",
       "<style scoped>\n",
       "    .dataframe tbody tr th:only-of-type {\n",
       "        vertical-align: middle;\n",
       "    }\n",
       "\n",
       "    .dataframe tbody tr th {\n",
       "        vertical-align: top;\n",
       "    }\n",
       "\n",
       "    .dataframe thead th {\n",
       "        text-align: right;\n",
       "    }\n",
       "</style>\n",
       "<table border=\"1\" class=\"dataframe\">\n",
       "  <thead>\n",
       "    <tr style=\"text-align: right;\">\n",
       "      <th></th>\n",
       "      <th>index</th>\n",
       "      <th>id</th>\n",
       "      <th>goal</th>\n",
       "      <th>pledged</th>\n",
       "      <th>backers_count</th>\n",
       "      <th>static_usd_rate</th>\n",
       "      <th>usd_pledged</th>\n",
       "      <th>name_len</th>\n",
       "      <th>name_len_clean</th>\n",
       "      <th>blurb_len</th>\n",
       "      <th>blurb_len_clean</th>\n",
       "    </tr>\n",
       "  </thead>\n",
       "  <tbody>\n",
       "    <tr>\n",
       "      <th>count</th>\n",
       "      <td>20632.000000</td>\n",
       "      <td>2.063200e+04</td>\n",
       "      <td>2.063200e+04</td>\n",
       "      <td>2.063200e+04</td>\n",
       "      <td>20632.000000</td>\n",
       "      <td>20632.000000</td>\n",
       "      <td>2.063200e+04</td>\n",
       "      <td>20627.000000</td>\n",
       "      <td>20627.000000</td>\n",
       "      <td>20627.000000</td>\n",
       "      <td>20627.000000</td>\n",
       "    </tr>\n",
       "    <tr>\n",
       "      <th>mean</th>\n",
       "      <td>10315.500000</td>\n",
       "      <td>1.071156e+09</td>\n",
       "      <td>9.410497e+04</td>\n",
       "      <td>2.139268e+04</td>\n",
       "      <td>183.675843</td>\n",
       "      <td>1.039363</td>\n",
       "      <td>2.091591e+04</td>\n",
       "      <td>5.940806</td>\n",
       "      <td>5.292578</td>\n",
       "      <td>18.991177</td>\n",
       "      <td>13.081204</td>\n",
       "    </tr>\n",
       "    <tr>\n",
       "      <th>std</th>\n",
       "      <td>5956.089713</td>\n",
       "      <td>6.154929e+08</td>\n",
       "      <td>1.335511e+06</td>\n",
       "      <td>1.204973e+05</td>\n",
       "      <td>1222.012658</td>\n",
       "      <td>0.230419</td>\n",
       "      <td>1.154717e+05</td>\n",
       "      <td>2.826118</td>\n",
       "      <td>2.418168</td>\n",
       "      <td>4.632371</td>\n",
       "      <td>3.283547</td>\n",
       "    </tr>\n",
       "    <tr>\n",
       "      <th>min</th>\n",
       "      <td>0.000000</td>\n",
       "      <td>1.645550e+05</td>\n",
       "      <td>1.000000e+00</td>\n",
       "      <td>0.000000e+00</td>\n",
       "      <td>0.000000</td>\n",
       "      <td>0.045641</td>\n",
       "      <td>0.000000e+00</td>\n",
       "      <td>1.000000</td>\n",
       "      <td>1.000000</td>\n",
       "      <td>1.000000</td>\n",
       "      <td>1.000000</td>\n",
       "    </tr>\n",
       "    <tr>\n",
       "      <th>25%</th>\n",
       "      <td>5157.750000</td>\n",
       "      <td>5.472185e+08</td>\n",
       "      <td>4.000000e+03</td>\n",
       "      <td>2.500000e+01</td>\n",
       "      <td>2.000000</td>\n",
       "      <td>1.000000</td>\n",
       "      <td>2.500000e+01</td>\n",
       "      <td>4.000000</td>\n",
       "      <td>3.000000</td>\n",
       "      <td>17.000000</td>\n",
       "      <td>11.000000</td>\n",
       "    </tr>\n",
       "    <tr>\n",
       "      <th>50%</th>\n",
       "      <td>10315.500000</td>\n",
       "      <td>1.069882e+09</td>\n",
       "      <td>1.400000e+04</td>\n",
       "      <td>6.950000e+02</td>\n",
       "      <td>12.000000</td>\n",
       "      <td>1.000000</td>\n",
       "      <td>7.163012e+02</td>\n",
       "      <td>6.000000</td>\n",
       "      <td>5.000000</td>\n",
       "      <td>20.000000</td>\n",
       "      <td>13.000000</td>\n",
       "    </tr>\n",
       "    <tr>\n",
       "      <th>75%</th>\n",
       "      <td>15473.250000</td>\n",
       "      <td>1.601801e+09</td>\n",
       "      <td>5.000000e+04</td>\n",
       "      <td>5.954250e+03</td>\n",
       "      <td>63.000000</td>\n",
       "      <td>1.000000</td>\n",
       "      <td>6.004628e+03</td>\n",
       "      <td>8.000000</td>\n",
       "      <td>7.000000</td>\n",
       "      <td>22.000000</td>\n",
       "      <td>15.000000</td>\n",
       "    </tr>\n",
       "    <tr>\n",
       "      <th>max</th>\n",
       "      <td>20631.000000</td>\n",
       "      <td>2.147388e+09</td>\n",
       "      <td>1.000000e+08</td>\n",
       "      <td>6.225355e+06</td>\n",
       "      <td>105857.000000</td>\n",
       "      <td>1.715913</td>\n",
       "      <td>6.225355e+06</td>\n",
       "      <td>16.000000</td>\n",
       "      <td>14.000000</td>\n",
       "      <td>35.000000</td>\n",
       "      <td>30.000000</td>\n",
       "    </tr>\n",
       "  </tbody>\n",
       "</table>\n",
       "</div>"
      ],
      "text/plain": [
       "              index            id          goal       pledged  backers_count  \\\n",
       "count  20632.000000  2.063200e+04  2.063200e+04  2.063200e+04   20632.000000   \n",
       "mean   10315.500000  1.071156e+09  9.410497e+04  2.139268e+04     183.675843   \n",
       "std     5956.089713  6.154929e+08  1.335511e+06  1.204973e+05    1222.012658   \n",
       "min        0.000000  1.645550e+05  1.000000e+00  0.000000e+00       0.000000   \n",
       "25%     5157.750000  5.472185e+08  4.000000e+03  2.500000e+01       2.000000   \n",
       "50%    10315.500000  1.069882e+09  1.400000e+04  6.950000e+02      12.000000   \n",
       "75%    15473.250000  1.601801e+09  5.000000e+04  5.954250e+03      63.000000   \n",
       "max    20631.000000  2.147388e+09  1.000000e+08  6.225355e+06  105857.000000   \n",
       "\n",
       "       static_usd_rate   usd_pledged      name_len  name_len_clean  \\\n",
       "count     20632.000000  2.063200e+04  20627.000000    20627.000000   \n",
       "mean          1.039363  2.091591e+04      5.940806        5.292578   \n",
       "std           0.230419  1.154717e+05      2.826118        2.418168   \n",
       "min           0.045641  0.000000e+00      1.000000        1.000000   \n",
       "25%           1.000000  2.500000e+01      4.000000        3.000000   \n",
       "50%           1.000000  7.163012e+02      6.000000        5.000000   \n",
       "75%           1.000000  6.004628e+03      8.000000        7.000000   \n",
       "max           1.715913  6.225355e+06     16.000000       14.000000   \n",
       "\n",
       "          blurb_len  blurb_len_clean  \n",
       "count  20627.000000     20627.000000  \n",
       "mean      18.991177        13.081204  \n",
       "std        4.632371         3.283547  \n",
       "min        1.000000         1.000000  \n",
       "25%       17.000000        11.000000  \n",
       "50%       20.000000        13.000000  \n",
       "75%       22.000000        15.000000  \n",
       "max       35.000000        30.000000  "
      ]
     },
     "execution_count": 6,
     "metadata": {},
     "output_type": "execute_result"
    }
   ],
   "source": [
    "df.describe()"
   ]
  },
  {
   "cell_type": "markdown",
   "metadata": {},
   "source": [
    "It is necessary for us to remove all the text column, since textual analysis will not be covered in this project."
   ]
  },
  {
   "cell_type": "code",
   "execution_count": 7,
   "metadata": {},
   "outputs": [],
   "source": [
    "# Columns to be dropped\n",
    "drop_columns = ['index', 'name', 'blurb', 'slug', 'source_url']\n",
    "df.drop(drop_columns, axis=1, inplace=True)"
   ]
  },
  {
   "cell_type": "code",
   "execution_count": 8,
   "metadata": {},
   "outputs": [],
   "source": [
    "df['goal_fx'] = df['goal'] * df['static_usd_rate']"
   ]
  },
  {
   "cell_type": "code",
   "execution_count": 9,
   "metadata": {},
   "outputs": [
    {
     "data": {
      "text/plain": [
       "(20632, 29)"
      ]
     },
     "execution_count": 9,
     "metadata": {},
     "output_type": "execute_result"
    }
   ],
   "source": [
    "df.shape"
   ]
  },
  {
   "cell_type": "code",
   "execution_count": 10,
   "metadata": {},
   "outputs": [],
   "source": [
    "# Only select successful and failed projects\n",
    "states = ['successful', 'failed']\n",
    "df = df[df['state'].isin(states)]"
   ]
  },
  {
   "cell_type": "code",
   "execution_count": 11,
   "metadata": {},
   "outputs": [
    {
     "data": {
      "text/plain": [
       "(17434, 29)"
      ]
     },
     "execution_count": 11,
     "metadata": {},
     "output_type": "execute_result"
    }
   ],
   "source": [
    "df.shape"
   ]
  },
  {
   "cell_type": "code",
   "execution_count": 12,
   "metadata": {},
   "outputs": [],
   "source": [
    "# Select observations with goal amount \n",
    "df = df[(df['goal_fx']<100000) & (df['goal_fx']>1000)]"
   ]
  },
  {
   "cell_type": "code",
   "execution_count": 13,
   "metadata": {},
   "outputs": [
    {
     "data": {
      "text/plain": [
       "(13788, 29)"
      ]
     },
     "execution_count": 13,
     "metadata": {},
     "output_type": "execute_result"
    }
   ],
   "source": [
    "df.shape"
   ]
  },
  {
   "cell_type": "code",
   "execution_count": 14,
   "metadata": {},
   "outputs": [],
   "source": [
    "# Remove observations for countries whose count is less than 50\n",
    "country_cnt = pd.DataFrame(df['country'].value_counts())\n",
    "relevant_countries = country_cnt[country_cnt['country']>50].index\n",
    "df = df[df['country'].isin(relevant_countries)]"
   ]
  },
  {
   "cell_type": "code",
   "execution_count": 15,
   "metadata": {},
   "outputs": [
    {
     "data": {
      "text/plain": [
       "(13613, 29)"
      ]
     },
     "execution_count": 15,
     "metadata": {},
     "output_type": "execute_result"
    }
   ],
   "source": [
    "df.shape"
   ]
  },
  {
   "cell_type": "code",
   "execution_count": 16,
   "metadata": {},
   "outputs": [],
   "source": [
    "df.to_csv('./../data/prelim.csv', index=False)"
   ]
  },
  {
   "cell_type": "code",
   "execution_count": null,
   "metadata": {},
   "outputs": [],
   "source": []
  }
 ],
 "metadata": {
  "kernelspec": {
   "display_name": "Python 3.8.13 ('project')",
   "language": "python",
   "name": "python3"
  },
  "language_info": {
   "codemirror_mode": {
    "name": "ipython",
    "version": 3
   },
   "file_extension": ".py",
   "mimetype": "text/x-python",
   "name": "python",
   "nbconvert_exporter": "python",
   "pygments_lexer": "ipython3",
   "version": "3.8.13"
  },
  "orig_nbformat": 4,
  "vscode": {
   "interpreter": {
    "hash": "af77eb27f514ee114388f6898d9553454263f7eea260918546d16a8e581c8922"
   }
  }
 },
 "nbformat": 4,
 "nbformat_minor": 2
}
