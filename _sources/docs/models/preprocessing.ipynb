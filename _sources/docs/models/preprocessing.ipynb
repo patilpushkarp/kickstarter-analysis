{
 "cells": [
  {
   "cell_type": "markdown",
   "metadata": {},
   "source": [
    "# Data Preprocessing"
   ]
  },
  {
   "cell_type": "markdown",
   "metadata": {},
   "source": [
    "Based on the insights that are obtained from the previous analysis, it is required that the data be treated to engineer new features and create models."
   ]
  },
  {
   "cell_type": "code",
   "execution_count": 1,
   "metadata": {
    "tags": [
     "hide-cell"
    ]
   },
   "outputs": [],
   "source": [
    "# Import necessary packages\n",
    "import pandas as pd"
   ]
  },
  {
   "cell_type": "code",
   "execution_count": 2,
   "metadata": {
    "tags": [
     "hide-input"
    ]
   },
   "outputs": [],
   "source": [
    "# Load the data\n",
    "df = pd.read_csv('./../../data/data.csv')"
   ]
  },
  {
   "cell_type": "markdown",
   "metadata": {},
   "source": [
    "Preprocessing steps will be carried out as follows:\n",
    "1. Select observations having a goal amount less than equal to 1 million.\n",
    "2. Select observations having backers count less than equal to 1000.\n",
    "3. Select observations having a length of blurb less than 35.\n",
    "4. Select categories that have representation from both successful and failed projects.\n",
    "5. Perform one-hot encoding for the following columns:\n",
    "   1. Country\n",
    "   2. Currency\n",
    "   3. Category\n",
    "6. Convert all the necessary features with object or boolean data types to numerical data types."
   ]
  },
  {
   "cell_type": "markdown",
   "metadata": {},
   "source": [
    "```{note}\n",
    "It is necessary to convert all the columns to numerical data types because all the models in python accept numerical data only for fitting.\n",
    "```"
   ]
  },
  {
   "cell_type": "code",
   "execution_count": 3,
   "metadata": {},
   "outputs": [],
   "source": [
    "# Select data for only successful and failed projects\n",
    "df = df[df['state'].isin(['successful', 'failed'])]"
   ]
  },
  {
   "cell_type": "code",
   "execution_count": 4,
   "metadata": {
    "tags": [
     "hide-cell"
    ]
   },
   "outputs": [],
   "source": [
    "# Select observations having a goal mount less than equal to 1M\n",
    "df = df[df['goal'] <= 1000000]"
   ]
  },
  {
   "cell_type": "code",
   "execution_count": 5,
   "metadata": {
    "tags": [
     "hide-cell"
    ]
   },
   "outputs": [],
   "source": [
    "# Select observations having backers count less than equal to 1000\n",
    "df = df[df['backers_count'] <= 1000]"
   ]
  },
  {
   "cell_type": "code",
   "execution_count": 6,
   "metadata": {
    "tags": [
     "hide-cell"
    ]
   },
   "outputs": [],
   "source": [
    "# Select observations having a length of blurb less than 35\n",
    "df = df[df['blurb_len'] < 35]"
   ]
  },
  {
   "cell_type": "code",
   "execution_count": 7,
   "metadata": {
    "tags": [
     "hide-cell"
    ]
   },
   "outputs": [],
   "source": [
    "# Select categories that have representation from both the categories of target variables\n",
    "\n",
    "# Select the categories to keep\n",
    "categories = df['category'].unique().tolist()\n",
    "selected_categories = [category for category in categories if df[df['category'] == category]['state'].nunique() == 2]\n",
    "\n",
    "# Use the selected categories to subset the data\n",
    "df = df[df['category'].isin(selected_categories)]"
   ]
  },
  {
   "cell_type": "code",
   "execution_count": 8,
   "metadata": {
    "tags": [
     "hide-cell"
    ]
   },
   "outputs": [],
   "source": [
    "# One-hot encode the columns\n",
    "\n",
    "# Select the columns to be encoded\n",
    "onehot_columns = ['country', 'currency', 'category']\n",
    "\n",
    "# One-hot encode columns one by one and then drop the main columns\n",
    "# Loop over selected columns\n",
    "for column in onehot_columns:\n",
    "    # Onehot encode the columns\n",
    "    onehot_array = pd.get_dummies(df[[column]], prefix=column, drop_first=True)\n",
    "    \n",
    "    # Join the results with the main data\n",
    "    df = pd.concat([df, onehot_array], axis=1)\n",
    "\n",
    "    # Drop the main column\n",
    "    df.drop(column, axis=1, inplace=True)"
   ]
  },
  {
   "cell_type": "code",
   "execution_count": 9,
   "metadata": {},
   "outputs": [],
   "source": [
    "# Convert the data types of other required features to numerical type\n",
    "\n",
    "# Convert boolean variables to numerical data\n",
    "bool_cols = ['disable_communication', 'currency_trailing_code', 'staff_pick', 'spotlight']\n",
    "df[bool_cols] = df[bool_cols].astype(int)"
   ]
  },
  {
   "cell_type": "code",
   "execution_count": 10,
   "metadata": {},
   "outputs": [],
   "source": [
    "# Convert the target variable to numeric feature\n",
    "df['state'] = df['state'].replace({'successful':1, 'failed': 0})"
   ]
  },
  {
   "cell_type": "code",
   "execution_count": 11,
   "metadata": {
    "tags": [
     "hide-input"
    ]
   },
   "outputs": [
    {
     "name": "stdout",
     "output_type": "stream",
     "text": [
      "The shape of the preprocesed data is: 14862 rows, 71 columns\n"
     ]
    }
   ],
   "source": [
    "print(f\"The shape of the preprocesed data is: {df.shape[0]} rows, {df.shape[1]} columns\")"
   ]
  },
  {
   "cell_type": "code",
   "execution_count": 12,
   "metadata": {
    "tags": [
     "hide-cell"
    ]
   },
   "outputs": [],
   "source": [
    "# Save the preprocessed data\n",
    "df.to_csv('./../../data/preprocessed.csv', index=False)"
   ]
  }
 ],
 "metadata": {
  "kernelspec": {
   "display_name": "Python 3.8.13 ('project')",
   "language": "python",
   "name": "python3"
  },
  "language_info": {
   "codemirror_mode": {
    "name": "ipython",
    "version": 3
   },
   "file_extension": ".py",
   "mimetype": "text/x-python",
   "name": "python",
   "nbconvert_exporter": "python",
   "pygments_lexer": "ipython3",
   "version": "3.8.13"
  },
  "orig_nbformat": 4,
  "vscode": {
   "interpreter": {
    "hash": "af77eb27f514ee114388f6898d9553454263f7eea260918546d16a8e581c8922"
   }
  }
 },
 "nbformat": 4,
 "nbformat_minor": 2
}
