{
 "cells": [
  {
   "cell_type": "markdown",
   "metadata": {},
   "source": [
    "# Feature Engineering"
   ]
  },
  {
   "cell_type": "markdown",
   "metadata": {},
   "source": [
    "Feature engineering is the most step in any machine learning project. It involves selecting the relevant columns for modeling as well as creating new features from the existing data which will provide more information to the models."
   ]
  },
  {
   "cell_type": "code",
   "execution_count": 1,
   "metadata": {
    "tags": [
     "hide-cell"
    ]
   },
   "outputs": [],
   "source": [
    "# Import necessary packages\n",
    "import pandas as pd\n",
    "import datetime\n",
    "from sklearn.feature_selection import VarianceThreshold\n",
    "from sklearn.preprocessing import StandardScaler"
   ]
  },
  {
   "cell_type": "markdown",
   "metadata": {},
   "source": [
    "For feature engineering, it is necessary that data be cleaned and data types of the columns should have been corrected. In other words, the data should be preprocessed."
   ]
  },
  {
   "cell_type": "code",
   "execution_count": 2,
   "metadata": {
    "tags": [
     "hide-cell"
    ]
   },
   "outputs": [],
   "source": [
    "# Load the data\n",
    "df = pd.read_csv('./../../data/preprocessed.csv', parse_dates=True)"
   ]
  },
  {
   "cell_type": "markdown",
   "metadata": {},
   "source": [
    "## Feature Creation"
   ]
  },
  {
   "cell_type": "markdown",
   "metadata": {},
   "source": [
    "To improve the performance of the model, it is expected that model be provided with an appropriate amount of information. It is difficult for models to understand indirect relationships. Hence, new features should be created in such a way that the indirect information gets converted to direct information. For example, date columns do not provide any direct information, but gaps between two dates can be a piece of important information for the model."
   ]
  },
  {
   "cell_type": "markdown",
   "metadata": {},
   "source": [
    "For the data set under consideration, the following new features can be created to provide more direct and relevant information to the model:\n",
    "|New feature column name|Description|\n",
    "|:--|:--|\n",
    "|created_to_launch|Gap in days between the creation to the launch of project|\n",
    "|launch_to_deadline|Gap in days between the launch to the deadline of project|\n",
    "|launch_to_state_change_|Gap in days between the launch to the change in the state of project|\n",
    "|is_mon_tue|Whether the project is launched on Monday or Tuesday. It is observed that projects released on these weekdays have more chance to be successful|"
   ]
  },
  {
   "cell_type": "code",
   "execution_count": 3,
   "metadata": {
    "tags": [
     "hide-cell"
    ]
   },
   "outputs": [],
   "source": [
    "# Correct the data type of date variables\n",
    "\n",
    "# Select the date variables\n",
    "date_variables = ['created_at', 'launched_at', 'state_changed_at', 'deadline']\n",
    "\n",
    "# Change the data type\n",
    "df[date_variables] = df[date_variables].apply(pd.to_datetime)"
   ]
  },
  {
   "cell_type": "code",
   "execution_count": 4,
   "metadata": {
    "tags": [
     "hide-cell"
    ]
   },
   "outputs": [],
   "source": [
    "# Creation of new columns from the date columns available in the data\n",
    "df['created_to_launch'] = df['launched_at'] - df['created_at']\n",
    "df['launch_to_deadline'] = df['deadline'] - df['launched_at']\n",
    "df['launch_to_state_change'] = df['state_changed_at'] - df['launched_at']\n",
    "\n",
    "# Changing the gap data to days\n",
    "df['created_to_launch'] = df['created_to_launch'] / datetime.timedelta(days=1)\n",
    "df['launch_to_deadline'] = df['launch_to_deadline'] / datetime.timedelta(days=1)\n",
    "df['launch_to_state_change'] = df['launch_to_state_change'] / datetime.timedelta(days=1)"
   ]
  },
  {
   "cell_type": "code",
   "execution_count": 5,
   "metadata": {
    "tags": [
     "hide-cell"
    ]
   },
   "outputs": [],
   "source": [
    "# Check whether the project is launched on Monday or Tuesday\n",
    "df['is_mon_tue'] = df['launched_at'].apply(lambda x: 1 if x.weekday() in [0, 1] else 0)"
   ]
  },
  {
   "cell_type": "code",
   "execution_count": 6,
   "metadata": {},
   "outputs": [
    {
     "name": "stdout",
     "output_type": "stream",
     "text": [
      "The shape of engineered data is: 14862 rows and 75\n"
     ]
    }
   ],
   "source": [
    "# Get the shape of data\n",
    "print(f\"The shape of engineered data is: {df.shape[0]} rows and {df.shape[1]}\")"
   ]
  },
  {
   "cell_type": "code",
   "execution_count": 7,
   "metadata": {},
   "outputs": [
    {
     "name": "stdout",
     "output_type": "stream",
     "text": [
      "<class 'pandas.core.frame.DataFrame'>\n",
      "RangeIndex: 14862 entries, 0 to 14861\n",
      "Data columns (total 75 columns):\n",
      " #   Column                  Non-Null Count  Dtype         \n",
      "---  ------                  --------------  -----         \n",
      " 0   index                   14862 non-null  int64         \n",
      " 1   id                      14862 non-null  int64         \n",
      " 2   name                    14862 non-null  object        \n",
      " 3   blurb                   14862 non-null  object        \n",
      " 4   goal                    14862 non-null  float64       \n",
      " 5   pledged                 14862 non-null  float64       \n",
      " 6   state                   14862 non-null  int64         \n",
      " 7   slug                    14862 non-null  object        \n",
      " 8   disable_communication   14862 non-null  int64         \n",
      " 9   currency_trailing_code  14862 non-null  int64         \n",
      " 10  deadline                14862 non-null  datetime64[ns]\n",
      " 11  state_changed_at        14862 non-null  datetime64[ns]\n",
      " 12  created_at              14862 non-null  datetime64[ns]\n",
      " 13  launched_at             14862 non-null  datetime64[ns]\n",
      " 14  staff_pick              14862 non-null  int64         \n",
      " 15  backers_count           14862 non-null  int64         \n",
      " 16  static_usd_rate         14862 non-null  float64       \n",
      " 17  usd_pledged             14862 non-null  float64       \n",
      " 18  spotlight               14862 non-null  int64         \n",
      " 19  source_url              14862 non-null  object        \n",
      " 20  name_len                14862 non-null  float64       \n",
      " 21  name_len_clean          14862 non-null  float64       \n",
      " 22  blurb_len               14862 non-null  float64       \n",
      " 23  blurb_len_clean         14862 non-null  float64       \n",
      " 24  country_AU              14862 non-null  int64         \n",
      " 25  country_BE              14862 non-null  int64         \n",
      " 26  country_CA              14862 non-null  int64         \n",
      " 27  country_CH              14862 non-null  int64         \n",
      " 28  country_DE              14862 non-null  int64         \n",
      " 29  country_DK              14862 non-null  int64         \n",
      " 30  country_ES              14862 non-null  int64         \n",
      " 31  country_FR              14862 non-null  int64         \n",
      " 32  country_GB              14862 non-null  int64         \n",
      " 33  country_HK              14862 non-null  int64         \n",
      " 34  country_IE              14862 non-null  int64         \n",
      " 35  country_IT              14862 non-null  int64         \n",
      " 36  country_LU              14862 non-null  int64         \n",
      " 37  country_MX              14862 non-null  int64         \n",
      " 38  country_NL              14862 non-null  int64         \n",
      " 39  country_NO              14862 non-null  int64         \n",
      " 40  country_NZ              14862 non-null  int64         \n",
      " 41  country_SE              14862 non-null  int64         \n",
      " 42  country_SG              14862 non-null  int64         \n",
      " 43  country_US              14862 non-null  int64         \n",
      " 44  currency_CAD            14862 non-null  int64         \n",
      " 45  currency_CHF            14862 non-null  int64         \n",
      " 46  currency_DKK            14862 non-null  int64         \n",
      " 47  currency_EUR            14862 non-null  int64         \n",
      " 48  currency_GBP            14862 non-null  int64         \n",
      " 49  currency_HKD            14862 non-null  int64         \n",
      " 50  currency_MXN            14862 non-null  int64         \n",
      " 51  currency_NOK            14862 non-null  int64         \n",
      " 52  currency_NZD            14862 non-null  int64         \n",
      " 53  currency_SEK            14862 non-null  int64         \n",
      " 54  currency_SGD            14862 non-null  int64         \n",
      " 55  currency_USD            14862 non-null  int64         \n",
      " 56  category_Experimental   14862 non-null  int64         \n",
      " 57  category_Festivals      14862 non-null  int64         \n",
      " 58  category_Flight         14862 non-null  int64         \n",
      " 59  category_Gadgets        14862 non-null  int64         \n",
      " 60  category_Hardware       14862 non-null  int64         \n",
      " 61  category_Immersive      14862 non-null  int64         \n",
      " 62  category_Makerspaces    14862 non-null  int64         \n",
      " 63  category_Musical        14862 non-null  int64         \n",
      " 64  category_Plays          14862 non-null  int64         \n",
      " 65  category_Robots         14862 non-null  int64         \n",
      " 66  category_Software       14862 non-null  int64         \n",
      " 67  category_Sound          14862 non-null  int64         \n",
      " 68  category_Spaces         14862 non-null  int64         \n",
      " 69  category_Wearables      14862 non-null  int64         \n",
      " 70  category_Web            14862 non-null  int64         \n",
      " 71  created_to_launch       14862 non-null  float64       \n",
      " 72  launch_to_deadline      14862 non-null  float64       \n",
      " 73  launch_to_state_change  14862 non-null  float64       \n",
      " 74  is_mon_tue              14862 non-null  int64         \n",
      "dtypes: datetime64[ns](4), float64(11), int64(56), object(4)\n",
      "memory usage: 8.5+ MB\n"
     ]
    }
   ],
   "source": [
    "df.info()"
   ]
  },
  {
   "cell_type": "markdown",
   "metadata": {},
   "source": [
    "## Feature selection"
   ]
  },
  {
   "cell_type": "markdown",
   "metadata": {},
   "source": [
    "Since all the required columns are created or processed, total of 75 columns are created. This may increase the time of processing or the model might experience the curse of dimensionality. Hence it is necessary to only select the relevant columns. Thus, it may be better to drop off unnecessary columns. \n",
    "Also, the convergence of algorithms becomes difficult if the variance of a feature is less than 1%. Hence, features with less than 1% variance can also be removed. Features with less than 1% variance signify that not enough data is available for the model to fit the data."
   ]
  },
  {
   "cell_type": "markdown",
   "metadata": {},
   "source": [
    "Columns that will be dropped are:\n",
    "1. *index*\n",
    "2. *id*\n",
    "3. *name*\n",
    "4. *blurb*\n",
    "5. *pledged*\n",
    "6. *slug*\n",
    "7. *deadline*\n",
    "8. *state_changed_at*\n",
    "9. *created_at*\n",
    "10. *launched_at*\n",
    "11. *usd_pledged*\n",
    "12. *spotlight*\n",
    "13. *source_url*\n",
    "14. *name_len*\n",
    "15. *blurb_len*"
   ]
  },
  {
   "cell_type": "code",
   "execution_count": 8,
   "metadata": {
    "tags": [
     "hide-cell"
    ]
   },
   "outputs": [],
   "source": [
    "# Keep only relevant columns\n",
    "drop_columns = ['index', 'id', 'name', 'blurb', 'pledged', 'slug', 'deadline', 'state_changed_at', 'created_at', 'launched_at',\n",
    "                'usd_pledged', 'spotlight', 'source_url', 'name_len', 'blurb_len']\n",
    "df.drop(drop_columns, axis=1, inplace=True)"
   ]
  },
  {
   "cell_type": "code",
   "execution_count": 9,
   "metadata": {
    "tags": [
     "hide-cell"
    ]
   },
   "outputs": [],
   "source": [
    "# Remove all low-variance features\n",
    "\n",
    "# Declare the selector\n",
    "selector = VarianceThreshold(threshold=0.01) # Keep the threshold to 1%.\n",
    "\n",
    "# Use selector to subset the data\n",
    "data = selector.fit_transform(df)"
   ]
  },
  {
   "cell_type": "markdown",
   "metadata": {},
   "source": [
    "Following features are selected after dropping the columns with low-variance: "
   ]
  },
  {
   "cell_type": "code",
   "execution_count": 10,
   "metadata": {
    "tags": [
     "hide-input"
    ]
   },
   "outputs": [
    {
     "data": {
      "text/plain": [
       "['goal',\n",
       " 'state',\n",
       " 'currency_trailing_code',\n",
       " 'staff_pick',\n",
       " 'backers_count',\n",
       " 'static_usd_rate',\n",
       " 'name_len_clean',\n",
       " 'blurb_len_clean',\n",
       " 'country_AU',\n",
       " 'country_CA',\n",
       " 'country_DE',\n",
       " 'country_FR',\n",
       " 'country_GB',\n",
       " 'country_IT',\n",
       " 'country_NL',\n",
       " 'country_US',\n",
       " 'currency_CAD',\n",
       " 'currency_EUR',\n",
       " 'currency_GBP',\n",
       " 'currency_USD',\n",
       " 'category_Experimental',\n",
       " 'category_Festivals',\n",
       " 'category_Flight',\n",
       " 'category_Gadgets',\n",
       " 'category_Hardware',\n",
       " 'category_Immersive',\n",
       " 'category_Makerspaces',\n",
       " 'category_Musical',\n",
       " 'category_Plays',\n",
       " 'category_Robots',\n",
       " 'category_Software',\n",
       " 'category_Sound',\n",
       " 'category_Wearables',\n",
       " 'category_Web',\n",
       " 'created_to_launch',\n",
       " 'launch_to_deadline',\n",
       " 'launch_to_state_change',\n",
       " 'is_mon_tue']"
      ]
     },
     "execution_count": 10,
     "metadata": {},
     "output_type": "execute_result"
    }
   ],
   "source": [
    "# Get the list of features that are selected\n",
    "selector.get_feature_names_out().tolist()"
   ]
  },
  {
   "cell_type": "code",
   "execution_count": 11,
   "metadata": {
    "tags": [
     "hide-cell"
    ]
   },
   "outputs": [],
   "source": [
    "# Store the result\n",
    "result = pd.DataFrame(data, columns=selector.get_feature_names_out().tolist())"
   ]
  },
  {
   "cell_type": "markdown",
   "metadata": {},
   "source": [
    "## Standardizing the data"
   ]
  },
  {
   "cell_type": "markdown",
   "metadata": {},
   "source": [
    "One of the last preprocessing steps that need to be performed is standardizing the data. In this technique, the observations are scaled to a mean of 0 and a standard deviation of 1."
   ]
  },
  {
   "cell_type": "markdown",
   "metadata": {},
   "source": [
    "```{note}\n",
    "Only numerical features should be scaled\n",
    "```"
   ]
  },
  {
   "cell_type": "code",
   "execution_count": 12,
   "metadata": {
    "tags": [
     "hide-cell"
    ]
   },
   "outputs": [],
   "source": [
    "# Decalre the scaler object\n",
    "scaler = StandardScaler()\n",
    "\n",
    "# Select features to scale\n",
    "features_to_scale = ['goal', 'backers_count', 'name_len_clean', 'blurb_len_clean']\n",
    "\n",
    "# Use the scaler object to scale the data\n",
    "data = scaler.fit_transform(result[features_to_scale])"
   ]
  },
  {
   "cell_type": "code",
   "execution_count": 13,
   "metadata": {
    "tags": [
     "hide-cell"
    ]
   },
   "outputs": [],
   "source": [
    "# Store the results appropriately\n",
    "scaled_result = pd.DataFrame(data, columns=features_to_scale)\n",
    "final_result = result.copy()\n",
    "final_result[features_to_scale] = scaled_result[features_to_scale]"
   ]
  },
  {
   "cell_type": "code",
   "execution_count": 14,
   "metadata": {
    "tags": [
     "hide-cell"
    ]
   },
   "outputs": [],
   "source": [
    "# Save the result to a file\n",
    "final_result.to_csv('./../../data/engineered_data.csv')"
   ]
  }
 ],
 "metadata": {
  "kernelspec": {
   "display_name": "Python 3.8.13 ('project')",
   "language": "python",
   "name": "python3"
  },
  "language_info": {
   "codemirror_mode": {
    "name": "ipython",
    "version": 3
   },
   "file_extension": ".py",
   "mimetype": "text/x-python",
   "name": "python",
   "nbconvert_exporter": "python",
   "pygments_lexer": "ipython3",
   "version": "3.8.13"
  },
  "orig_nbformat": 4,
  "vscode": {
   "interpreter": {
    "hash": "af77eb27f514ee114388f6898d9553454263f7eea260918546d16a8e581c8922"
   }
  }
 },
 "nbformat": 4,
 "nbformat_minor": 2
}
