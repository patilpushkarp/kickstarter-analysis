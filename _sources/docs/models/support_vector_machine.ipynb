{
 "cells": [
  {
   "cell_type": "markdown",
   "metadata": {},
   "source": [
    "# Support Vector Machine"
   ]
  },
  {
   "cell_type": "markdown",
   "metadata": {},
   "source": [
    "## About the algorithm"
   ]
  },
  {
   "cell_type": "markdown",
   "metadata": {},
   "source": [
    "Support vector machine or SVM is another one of the most widely used algorithms for classification. It is one of the most high-performing algorithms with a little amount of tuning. It uses a Maximal-Margin classifier under the hood which constructs a hyperplane to split the space of the independent variables into the target variable classes. The distance between the hyperplane and the closest data points is referred to as the margin. The hyperplane is considered to be best when this distance is the largest. The closest points known as support vectors are considered relevant for defining the classifiers. The job of the optimization algorithm is to maximize the margin between the hyperplane and support vectors {cite}`brownlee_2020_svm`."
   ]
  },
  {
   "cell_type": "code",
   "execution_count": 93,
   "metadata": {
    "tags": [
     "hide-cell"
    ]
   },
   "outputs": [],
   "source": [
    "# Import necessary packages\n",
    "import pandas as pd\n",
    "import numpy as np\n",
    "import joblib\n",
    "from sklearn.model_selection import train_test_split\n",
    "from sklearn.preprocessing import StandardScaler\n",
    "from sklearn.svm import SVC\n",
    "from sklearn.decomposition import PCA\n",
    "from sklearn.model_selection import GridSearchCV\n",
    "from sklearn.metrics import roc_auc_score, roc_curve, auc, classification_report\n",
    "from sklearn.metrics import ConfusionMatrixDisplay\n",
    "import plotly.express as px\n",
    "import plotly.io as pio\n",
    "svg_renderer = pio.renderers[\"svg\"]\n",
    "svg_renderer.width = 800\n",
    "svg_renderer.height = 500\n",
    "pio.renderers.default = \"svg\""
   ]
  },
  {
   "cell_type": "markdown",
   "metadata": {},
   "source": [
    "The same procedure as that followed for the logistic regression will be followed for the support vector machine."
   ]
  },
  {
   "cell_type": "markdown",
   "metadata": {},
   "source": [
    "## Model without oversample data"
   ]
  },
  {
   "cell_type": "code",
   "execution_count": 2,
   "metadata": {
    "tags": [
     "hide-cell"
    ]
   },
   "outputs": [],
   "source": [
    "# Load the data\n",
    "df = pd.read_csv('./../../data/engineered_data.csv')"
   ]
  },
  {
   "cell_type": "code",
   "execution_count": 3,
   "metadata": {
    "tags": [
     "hide-cell"
    ]
   },
   "outputs": [],
   "source": [
    "# Drop the index column\n",
    "df.drop('Unnamed: 0', axis=1, inplace=True)"
   ]
  },
  {
   "cell_type": "markdown",
   "metadata": {},
   "source": [
    "Before modeling the data, split the data into training and testing set such that the training set contains 80% of the total records while the remaining records are placed in the testing set."
   ]
  },
  {
   "cell_type": "code",
   "execution_count": 4,
   "metadata": {
    "tags": [
     "hide-cell"
    ]
   },
   "outputs": [],
   "source": [
    "# Split the data into train and test sets\n",
    "X_train, X_test, y_train, y_test = train_test_split(df.drop('state', axis=1), df['state'], test_size=0.2, random_state=42)"
   ]
  },
  {
   "cell_type": "markdown",
   "metadata": {},
   "source": [
    "### Model Building"
   ]
  },
  {
   "cell_type": "markdown",
   "metadata": {},
   "source": [
    "For training SVM, the grid search will be performed on two sets to reduce the number of iterations. For the first search, following paramters will be used:\n",
    "\n",
    "|Parameter|Description|Values|\n",
    "|--|--|--|\n",
    "|C|Cost of SVM for determining the margin|$10^{-4}:1$|\n",
    "|kernel|Type of kernel to be used|1. 'linear' for linear kernel <br>2. 'rbf' for radial basis function <br> 3. 'sigmoid' for logistic kernel| "
   ]
  },
  {
   "cell_type": "code",
   "execution_count": 5,
   "metadata": {
    "tags": [
     "hide-cell"
    ]
   },
   "outputs": [],
   "source": [
    "# Declare the SVM model without 'poly' kernel\n",
    "svm_clf = SVC(probability=True, class_weight='balanced')\n",
    "\n",
    "# Declare the grid paramters to be searched\n",
    "svm_params = dict(\n",
    "    C = np.logspace(-4, 0, num=5),\n",
    "    kernel = ['linear', 'rbf', 'sigmoid']\n",
    ")"
   ]
  },
  {
   "cell_type": "code",
   "execution_count": null,
   "metadata": {
    "tags": [
     "hide-cell"
    ]
   },
   "outputs": [],
   "source": [
    "# For training SVM without 'poly' kernel\n",
    "\n",
    "# Declare the gridsearch object\n",
    "grid_search = GridSearchCV(svm_clf, svm_params, scoring='roc_auc', n_jobs=7, refit=True, cv=10, verbose=3)\n",
    "\n",
    "# Fit the model\n",
    "grid_result = grid_search.fit(X_train, y_train)"
   ]
  },
  {
   "cell_type": "markdown",
   "metadata": {},
   "source": [
    "The other set of parameters will be used to tune SVM with polynomial kernel, which are as follows:\n",
    "\n",
    "|Parameter|Description|Values|\n",
    "|--|--|--|\n",
    "|C|Cost of SVM for determining the margin|$10^{-4}:1$|\n",
    "|degree|Degree of polynomial|$2,3,4$| "
   ]
  },
  {
   "cell_type": "code",
   "execution_count": 7,
   "metadata": {
    "tags": [
     "hide-cell"
    ]
   },
   "outputs": [],
   "source": [
    "# Declare the SVM model with 'poly' kernel\n",
    "svm_clf_poly = SVC(probability=True, class_weight='balanced', kernel='poly')\n",
    "\n",
    "# Declare the grid paramters to be searched\n",
    "svm_params_poly = dict(\n",
    "    C = np.logspace(-4, 0, num=5),\n",
    "    degree = [2, 3, 4]\n",
    ")"
   ]
  },
  {
   "cell_type": "code",
   "execution_count": null,
   "metadata": {
    "tags": [
     "hide-cell"
    ]
   },
   "outputs": [],
   "source": [
    "# For training SVM without 'poly' kernel\n",
    "\n",
    "# Declare the gridsearch object\n",
    "grid_search_poly = GridSearchCV(svm_clf_poly, svm_params_poly, scoring='roc_auc', n_jobs=7, refit=True, cv=10, verbose=5)\n",
    "\n",
    "# Fit the model\n",
    "grid_result_poly = grid_search_poly.fit(X_train, y_train)"
   ]
  },
  {
   "cell_type": "markdown",
   "metadata": {},
   "source": [
    "```{warning}\n",
    "Time required to run SVM on non-oversampled data: 284 mins\n",
    "```"
   ]
  },
  {
   "cell_type": "markdown",
   "metadata": {},
   "source": [
    "### Inferencing"
   ]
  },
  {
   "cell_type": "markdown",
   "metadata": {},
   "source": [
    "The best models thus obtained have score and parameters:"
   ]
  },
  {
   "cell_type": "code",
   "execution_count": 43,
   "metadata": {},
   "outputs": [
    {
     "name": "stdout",
     "output_type": "stream",
     "text": [
      "Best score of 0.9582827048948805 is achieved by using {'C': 1.0, 'kernel': 'linear'}\n",
      "Best score of 0.8522176297737245 is achieved by using {'C': 1.0, 'degree': 3}\n"
     ]
    }
   ],
   "source": [
    "# Get the best model parameters\n",
    "print(f\"Best score of {grid_result.best_score_} is achieved by using {grid_result.best_params_}\")\n",
    "print(f\"Best score of {grid_result_poly.best_score_} is achieved by using {grid_result_poly.best_params_}\")"
   ]
  },
  {
   "cell_type": "markdown",
   "metadata": {},
   "source": [
    "Since the model with a linear kernel has a better score than the one with a polynomial kernel, the former model will be used for prediction and then subsequently for evaluation."
   ]
  },
  {
   "cell_type": "code",
   "execution_count": 10,
   "metadata": {},
   "outputs": [],
   "source": [
    "# Predict on test data using the model\n",
    "y_pred = grid_search.predict(X_test)\n",
    "y_score = grid_search.predict_proba(X_test)[:, 1]"
   ]
  },
  {
   "cell_type": "markdown",
   "metadata": {},
   "source": [
    "### Evaluation"
   ]
  },
  {
   "cell_type": "markdown",
   "metadata": {},
   "source": [
    "For the initial evaluation, AUC ROC is obtained which is:"
   ]
  },
  {
   "cell_type": "code",
   "execution_count": 11,
   "metadata": {
    "tags": [
     "hide-input"
    ]
   },
   "outputs": [
    {
     "name": "stdout",
     "output_type": "stream",
     "text": [
      "Area under the ROC curve: 0.9472100846919147\n"
     ]
    }
   ],
   "source": [
    "# Find the ROC AUC score\n",
    "print(f\"Area under the ROC curve: {roc_auc_score(y_test, y_score)}\")"
   ]
  },
  {
   "cell_type": "markdown",
   "metadata": {},
   "source": [
    "To get the thesholds and the corresponding TPR and FPR:"
   ]
  },
  {
   "cell_type": "code",
   "execution_count": 12,
   "metadata": {
    "tags": [
     "hide-cell"
    ]
   },
   "outputs": [],
   "source": [
    "# Calculate parameters for roc auc curve\n",
    "fpr, tpr, thresholds = roc_curve(y_test, y_score)"
   ]
  },
  {
   "cell_type": "code",
   "execution_count": 13,
   "metadata": {
    "tags": [
     "hide-input"
    ]
   },
   "outputs": [
    {
     "data": {
      "image/svg+xml": "<svg class=\"main-svg\" xmlns=\"http://www.w3.org/2000/svg\" xmlns:xlink=\"http://www.w3.org/1999/xlink\" width=\"800\" height=\"500\" style=\"\" viewBox=\"0 0 800 500\"><rect x=\"0\" y=\"0\" width=\"800\" height=\"500\" style=\"fill: rgb(255, 255, 255); fill-opacity: 1;\"/><defs id=\"defs-1a83a0\"><g class=\"clips\"><clipPath id=\"clip1a83a0xyplot\" class=\"plotclip\"><rect width=\"304.99999999999994\" height=\"320\"/></clipPath><clipPath class=\"axesclip\" id=\"clip1a83a0x\"><rect x=\"247.50000000000003\" y=\"0\" width=\"304.99999999999994\" height=\"500\"/></clipPath><clipPath class=\"axesclip\" id=\"clip1a83a0y\"><rect x=\"0\" y=\"100\" width=\"800\" height=\"320\"/></clipPath><clipPath class=\"axesclip\" id=\"clip1a83a0xy\"><rect x=\"247.50000000000003\" y=\"100\" width=\"304.99999999999994\" height=\"320\"/></clipPath></g><g class=\"gradients\"/><g class=\"patterns\"/></defs><g class=\"bglayer\"><rect class=\"bg\" x=\"247.50000000000003\" y=\"100\" width=\"304.99999999999994\" height=\"320\" style=\"fill: rgb(229, 236, 246); fill-opacity: 1; stroke-width: 0;\"/></g><g class=\"layer-below\"><g class=\"imagelayer\"/><g class=\"shapelayer\"/></g><g class=\"cartesianlayer\"><g class=\"subplot xy\"><g class=\"layer-subplot\"><g class=\"shapelayer\"/><g class=\"imagelayer\"/></g><g class=\"minor-gridlayer\"><g class=\"x\"/><g class=\"y\"/></g><g class=\"gridlayer\"><g class=\"x\"><path class=\"xgrid crisp\" transform=\"translate(400,0)\" d=\"M0,100v320\" style=\"stroke: rgb(255, 255, 255); stroke-opacity: 1; stroke-width: 1px;\"/></g><g class=\"y\"><path class=\"ygrid crisp\" transform=\"translate(0,358.4)\" d=\"M247.50000000000003,0h304.99999999999994\" style=\"stroke: rgb(255, 255, 255); stroke-opacity: 1; stroke-width: 1px;\"/><path class=\"ygrid crisp\" transform=\"translate(0,297.8)\" d=\"M247.50000000000003,0h304.99999999999994\" style=\"stroke: rgb(255, 255, 255); stroke-opacity: 1; stroke-width: 1px;\"/><path class=\"ygrid crisp\" transform=\"translate(0,237.2)\" d=\"M247.50000000000003,0h304.99999999999994\" style=\"stroke: rgb(255, 255, 255); stroke-opacity: 1; stroke-width: 1px;\"/><path class=\"ygrid crisp\" transform=\"translate(0,176.6)\" d=\"M247.50000000000003,0h304.99999999999994\" style=\"stroke: rgb(255, 255, 255); stroke-opacity: 1; stroke-width: 1px;\"/><path class=\"ygrid crisp\" transform=\"translate(0,116)\" d=\"M247.50000000000003,0h304.99999999999994\" style=\"stroke: rgb(255, 255, 255); stroke-opacity: 1; stroke-width: 1px;\"/></g></g><g class=\"zerolinelayer\"><path class=\"xzl zl crisp\" transform=\"translate(248.50000000000003,0)\" d=\"M0,100v320\" style=\"stroke: rgb(255, 255, 255); stroke-opacity: 1; stroke-width: 2px;\"/><path class=\"yzl zl crisp\" transform=\"translate(0,419)\" d=\"M247.50000000000003,0h304.99999999999994\" style=\"stroke: rgb(255, 255, 255); stroke-opacity: 1; stroke-width: 2px;\"/></g><path class=\"xlines-below\"/><path class=\"ylines-below\"/><g class=\"overlines-below\"/><g class=\"xaxislayer-below\"/><g class=\"yaxislayer-below\"/><g class=\"overaxes-below\"/><g class=\"plot\" transform=\"translate(247.50000000000003,100)\" clip-path=\"url(#clip1a83a0xyplot)\"><g class=\"scatterlayer mlayer\"><g class=\"trace scatter trace02de51\" style=\"stroke-miterlimit: 2;\"><g class=\"fills\"><g><path class=\"js-fill\" d=\"M304,319L1,319L1,319L2.45,248.86L2.59,248.86L3.31,234.7L3.46,234.7L4.18,219.15L4.32,219.15L5.05,201.88L5.19,201.88L5.92,189.09L6.06,189.09L6.78,179.77L6.93,179.77L7.65,175.27L7.79,175.27L8.52,156.27L8.66,156.27L9.38,146.6L9.67,146.6L10.4,136.58L10.54,136.58L11.26,123.1L11.41,123.1L12.13,111.01L12.42,111.01L13.14,101.68L13.29,101.68L13.87,93.05L14.16,93.05L14.88,87.17L15.17,87.17L15.89,80.95L16.03,80.95L16.61,76.46L16.9,76.46L17.62,72.66L17.91,72.66L18.64,67.82L19.21,67.82L19.94,65.06L20.66,65.06L21.38,63.33L21.53,63.33L21.82,62.64L23.55,62.64L24.13,58.84L26.44,58.84L27.17,57.81L27.74,57.81L28.47,56.77L29.48,56.77L29.48,56.42L30.78,56.42L30.78,55.04L31.65,55.04L31.65,54.35L34.39,54.35L35.12,51.93L36.13,51.93L36.42,50.55L38.01,50.55L38.44,49.17L39.89,49.17L40.61,47.79L40.75,47.79L41.33,46.4L41.91,46.4L41.91,45.71L42.92,45.71L42.92,45.37L45.24,45.37L45.24,45.02L47.69,45.02L48.27,43.99L49.28,43.99L49.86,42.6L50.3,42.6L51.02,40.88L51.16,40.88L51.16,39.84L52.17,39.84L52.75,38.46L53.04,38.46L53.62,37.42L54.2,37.42L54.2,37.08L55.5,37.08L55.5,36.38L57.52,36.38L57.52,36.04L58.68,36.04L58.82,35.35L59.98,35.35L59.98,35L61.43,35L61.43,34.31L63.45,34.31L63.74,32.93L65.19,32.93L65.19,32.58L66.05,32.58L66.2,31.55L67.06,31.55L67.64,30.86L68.65,30.86L68.65,30.17L69.52,30.17L69.96,29.47L71.83,29.47L72.56,28.44L74.15,28.44L74.29,27.75L76.17,27.75L76.46,27.06L78.05,27.06L78.77,25.67L79.06,25.67L79.06,25.33L79.93,25.33L79.93,24.98L86,24.98L86,24.64L88.46,24.64L88.46,24.29L91.78,24.29L91.78,23.95L93.37,23.95L93.66,23.26L108.7,23.26L108.7,22.91L111.44,22.91L111.44,22.56L114.05,22.56L114.05,22.22L126.19,22.22L126.19,21.87L140.79,21.87L140.79,21.53L142.38,21.53L142.38,21.18L150.62,21.18L150.62,20.84L157.7,20.84L157.7,20.49L164.06,20.49L164.06,20.15L172.59,20.15L172.59,19.8L177.94,19.8L177.94,19.45L190.09,19.45L190.09,19.11L203.53,19.11L203.53,18.76L205.7,18.76L205.7,18.42L225.94,18.42L225.94,18.07L233.74,18.07L233.74,17.73L236.63,17.73L236.63,17.38L249.65,17.38L249.65,17.04L256.44,17.04L256.44,16.69L261.21,16.69L261.21,16.35L270.75,16.35L270.75,16L289.4,16L304,16\" style=\"fill: rgb(99, 110, 250); fill-opacity: 0.5; stroke-width: 0;\"/></g></g><g class=\"errorbars\"/><g class=\"lines\"><path class=\"js-line\" d=\"M1,319L2.45,248.86L2.59,248.86L3.31,234.7L3.46,234.7L4.18,219.15L4.32,219.15L5.05,201.88L5.19,201.88L5.92,189.09L6.06,189.09L6.78,179.77L6.93,179.77L7.65,175.27L7.79,175.27L8.52,156.27L8.66,156.27L9.38,146.6L9.67,146.6L10.4,136.58L10.54,136.58L11.26,123.1L11.41,123.1L12.13,111.01L12.42,111.01L13.14,101.68L13.29,101.68L13.87,93.05L14.16,93.05L14.88,87.17L15.17,87.17L15.89,80.95L16.03,80.95L16.61,76.46L16.9,76.46L17.62,72.66L17.91,72.66L18.64,67.82L19.21,67.82L19.94,65.06L20.66,65.06L21.38,63.33L21.53,63.33L21.82,62.64L23.55,62.64L24.13,58.84L26.44,58.84L27.17,57.81L27.74,57.81L28.47,56.77L29.48,56.77L29.48,56.42L30.78,56.42L30.78,55.04L31.65,55.04L31.65,54.35L34.39,54.35L35.12,51.93L36.13,51.93L36.42,50.55L38.01,50.55L38.44,49.17L39.89,49.17L40.61,47.79L40.75,47.79L41.33,46.4L41.91,46.4L41.91,45.71L42.92,45.71L42.92,45.37L45.24,45.37L45.24,45.02L47.69,45.02L48.27,43.99L49.28,43.99L49.86,42.6L50.3,42.6L51.02,40.88L51.16,40.88L51.16,39.84L52.17,39.84L52.75,38.46L53.04,38.46L53.62,37.42L54.2,37.42L54.2,37.08L55.5,37.08L55.5,36.38L57.52,36.38L57.52,36.04L58.68,36.04L58.82,35.35L59.98,35.35L59.98,35L61.43,35L61.43,34.31L63.45,34.31L63.74,32.93L65.19,32.93L65.19,32.58L66.05,32.58L66.2,31.55L67.06,31.55L67.64,30.86L68.65,30.86L68.65,30.17L69.52,30.17L69.96,29.47L71.83,29.47L72.56,28.44L74.15,28.44L74.29,27.75L76.17,27.75L76.46,27.06L78.05,27.06L78.77,25.67L79.06,25.67L79.06,25.33L79.93,25.33L79.93,24.98L86,24.98L86,24.64L88.46,24.64L88.46,24.29L91.78,24.29L91.78,23.95L93.37,23.95L93.66,23.26L108.7,23.26L108.7,22.91L111.44,22.91L111.44,22.56L114.05,22.56L114.05,22.22L126.19,22.22L126.19,21.87L140.79,21.87L140.79,21.53L142.38,21.53L142.38,21.18L150.62,21.18L150.62,20.84L157.7,20.84L157.7,20.49L164.06,20.49L164.06,20.15L172.59,20.15L172.59,19.8L177.94,19.8L177.94,19.45L190.09,19.45L190.09,19.11L203.53,19.11L203.53,18.76L205.7,18.76L205.7,18.42L225.94,18.42L225.94,18.07L233.74,18.07L233.74,17.73L236.63,17.73L236.63,17.38L249.65,17.38L249.65,17.04L256.44,17.04L256.44,16.69L261.21,16.69L261.21,16.35L270.75,16.35L270.75,16L289.4,16L304,16\" style=\"vector-effect: non-scaling-stroke; fill: none; stroke: rgb(99, 110, 250); stroke-opacity: 1; stroke-width: 2px; opacity: 1;\"/></g><g class=\"points\"/><g class=\"text\"/></g></g></g><g class=\"overplot\"/><path class=\"xlines-above crisp\" d=\"M0,0\" style=\"fill: none;\"/><path class=\"ylines-above crisp\" d=\"M0,0\" style=\"fill: none;\"/><g class=\"overlines-above\"/><g class=\"xaxislayer-above\"><g class=\"xtick\"><text text-anchor=\"middle\" x=\"0\" y=\"433\" transform=\"translate(248.50000000000003,0)\" style=\"font-family: 'Open Sans', verdana, arial, sans-serif; font-size: 12px; fill: rgb(42, 63, 95); fill-opacity: 1; white-space: pre; opacity: 1;\">0</text></g><g class=\"xtick\"><text text-anchor=\"middle\" x=\"0\" y=\"433\" style=\"font-family: 'Open Sans', verdana, arial, sans-serif; font-size: 12px; fill: rgb(42, 63, 95); fill-opacity: 1; white-space: pre; opacity: 1;\" transform=\"translate(400,0)\">0.5</text></g><g class=\"xtick\"><text text-anchor=\"middle\" x=\"0\" y=\"433\" style=\"font-family: 'Open Sans', verdana, arial, sans-serif; font-size: 12px; fill: rgb(42, 63, 95); fill-opacity: 1; white-space: pre; opacity: 1;\" transform=\"translate(551.5,0)\">1</text></g></g><g class=\"yaxislayer-above\"><g class=\"ytick\"><text text-anchor=\"end\" x=\"246.50000000000003\" y=\"4.199999999999999\" transform=\"translate(0,419)\" style=\"font-family: 'Open Sans', verdana, arial, sans-serif; font-size: 12px; fill: rgb(42, 63, 95); fill-opacity: 1; white-space: pre; opacity: 1;\">0</text></g><g class=\"ytick\"><text text-anchor=\"end\" x=\"246.50000000000003\" y=\"4.199999999999999\" style=\"font-family: 'Open Sans', verdana, arial, sans-serif; font-size: 12px; fill: rgb(42, 63, 95); fill-opacity: 1; white-space: pre; opacity: 1;\" transform=\"translate(0,358.4)\">0.2</text></g><g class=\"ytick\"><text text-anchor=\"end\" x=\"246.50000000000003\" y=\"4.199999999999999\" style=\"font-family: 'Open Sans', verdana, arial, sans-serif; font-size: 12px; fill: rgb(42, 63, 95); fill-opacity: 1; white-space: pre; opacity: 1;\" transform=\"translate(0,297.8)\">0.4</text></g><g class=\"ytick\"><text text-anchor=\"end\" x=\"246.50000000000003\" y=\"4.199999999999999\" style=\"font-family: 'Open Sans', verdana, arial, sans-serif; font-size: 12px; fill: rgb(42, 63, 95); fill-opacity: 1; white-space: pre; opacity: 1;\" transform=\"translate(0,237.2)\">0.6</text></g><g class=\"ytick\"><text text-anchor=\"end\" x=\"246.50000000000003\" y=\"4.199999999999999\" style=\"font-family: 'Open Sans', verdana, arial, sans-serif; font-size: 12px; fill: rgb(42, 63, 95); fill-opacity: 1; white-space: pre; opacity: 1;\" transform=\"translate(0,176.6)\">0.8</text></g><g class=\"ytick\"><text text-anchor=\"end\" x=\"246.50000000000003\" y=\"4.199999999999999\" style=\"font-family: 'Open Sans', verdana, arial, sans-serif; font-size: 12px; fill: rgb(42, 63, 95); fill-opacity: 1; white-space: pre; opacity: 1;\" transform=\"translate(0,116)\">1</text></g></g><g class=\"overaxes-above\"/></g></g><g class=\"polarlayer\"/><g class=\"smithlayer\"/><g class=\"ternarylayer\"/><g class=\"geolayer\"/><g class=\"funnelarealayer\"/><g class=\"pielayer\"/><g class=\"iciclelayer\"/><g class=\"treemaplayer\"/><g class=\"sunburstlayer\"/><g class=\"glimages\"/><defs id=\"topdefs-1a83a0\"><g class=\"clips\"/></defs><g class=\"layer-above\"><g class=\"imagelayer\"/><g class=\"shapelayer\"><path data-index=\"0\" fill-rule=\"evenodd\" d=\"M248.50000000000003,419L551.5,116\" clip-path=\"url(#clip1a83a0xy)\" style=\"opacity: 1; stroke: rgb(42, 63, 95); stroke-opacity: 1; fill: rgb(0, 0, 0); fill-opacity: 0; stroke-dasharray: 9px, 9px; stroke-width: 2px;\"/></g></g><g class=\"infolayer\"><g class=\"g-gtitle\"><text class=\"gtitle\" x=\"40\" y=\"50\" text-anchor=\"start\" dy=\"0em\" style=\"font-family: 'Open Sans', verdana, arial, sans-serif; font-size: 17px; fill: rgb(42, 63, 95); opacity: 1; font-weight: normal; white-space: pre;\">ROC Curve (AUC=0.9472)</text></g><g class=\"g-xtitle\"><text class=\"xtitle\" x=\"400\" y=\"460.3\" text-anchor=\"middle\" style=\"font-family: 'Open Sans', verdana, arial, sans-serif; font-size: 14px; fill: rgb(42, 63, 95); opacity: 1; font-weight: normal; white-space: pre;\">False Positive Rate</text></g><g class=\"g-ytitle\"><text class=\"ytitle\" transform=\"rotate(-90,202.075,260)\" x=\"202.075\" y=\"260\" text-anchor=\"middle\" style=\"font-family: 'Open Sans', verdana, arial, sans-serif; font-size: 14px; fill: rgb(42, 63, 95); opacity: 1; font-weight: normal; white-space: pre;\">True Positive Rate</text></g></g></svg>"
     },
     "metadata": {},
     "output_type": "display_data"
    }
   ],
   "source": [
    "# Plot the curve and area under the curve\n",
    "fig = px.area(\n",
    "    x=fpr, y=tpr,\n",
    "    title=f'ROC Curve (AUC={auc(fpr, tpr):.4f})',\n",
    "    labels=dict(x='False Positive Rate', y='True Positive Rate')\n",
    ")\n",
    "fig.add_shape(\n",
    "    type='line', line=dict(dash='dash'),\n",
    "    x0=0, x1=1, y0=0, y1=1\n",
    ")\n",
    "\n",
    "fig.update_yaxes(scaleanchor=\"x\", scaleratio=1)\n",
    "fig.update_xaxes(constrain='domain')\n",
    "fig.show()"
   ]
  },
  {
   "cell_type": "markdown",
   "metadata": {},
   "source": [
    "An AUC score of 0.88 is quite remarkable and it suggests that the model is quite good at predicting whether a project on Kickstarter will be successful or not. This model performed better than the logistic regression models."
   ]
  },
  {
   "cell_type": "code",
   "execution_count": 14,
   "metadata": {},
   "outputs": [],
   "source": [
    "# Create a ROC dataframe from the obtained FPR and TPR\n",
    "roc_df = pd.DataFrame({\n",
    "    'fpr': fpr,\n",
    "    'tpr': tpr,\n",
    "    'threshold': thresholds\n",
    "})"
   ]
  },
  {
   "cell_type": "code",
   "execution_count": 15,
   "metadata": {},
   "outputs": [
    {
     "data": {
      "text/html": [
       "<div>\n",
       "<style scoped>\n",
       "    .dataframe tbody tr th:only-of-type {\n",
       "        vertical-align: middle;\n",
       "    }\n",
       "\n",
       "    .dataframe tbody tr th {\n",
       "        vertical-align: top;\n",
       "    }\n",
       "\n",
       "    .dataframe thead th {\n",
       "        text-align: right;\n",
       "    }\n",
       "</style>\n",
       "<table border=\"1\" class=\"dataframe\">\n",
       "  <thead>\n",
       "    <tr style=\"text-align: right;\">\n",
       "      <th></th>\n",
       "      <th>fpr</th>\n",
       "      <th>tpr</th>\n",
       "      <th>threshold</th>\n",
       "    </tr>\n",
       "  </thead>\n",
       "  <tbody>\n",
       "    <tr>\n",
       "      <th>184</th>\n",
       "      <td>0.049618</td>\n",
       "      <td>0.793615</td>\n",
       "      <td>0.515917</td>\n",
       "    </tr>\n",
       "    <tr>\n",
       "      <th>185</th>\n",
       "      <td>0.050095</td>\n",
       "      <td>0.793615</td>\n",
       "      <td>0.513528</td>\n",
       "    </tr>\n",
       "    <tr>\n",
       "      <th>186</th>\n",
       "      <td>0.050095</td>\n",
       "      <td>0.795895</td>\n",
       "      <td>0.511968</td>\n",
       "    </tr>\n",
       "    <tr>\n",
       "      <th>187</th>\n",
       "      <td>0.051050</td>\n",
       "      <td>0.795895</td>\n",
       "      <td>0.511324</td>\n",
       "    </tr>\n",
       "    <tr>\n",
       "      <th>188</th>\n",
       "      <td>0.051050</td>\n",
       "      <td>0.799316</td>\n",
       "      <td>0.510062</td>\n",
       "    </tr>\n",
       "    <tr>\n",
       "      <th>189</th>\n",
       "      <td>0.051527</td>\n",
       "      <td>0.799316</td>\n",
       "      <td>0.508657</td>\n",
       "    </tr>\n",
       "    <tr>\n",
       "      <th>190</th>\n",
       "      <td>0.051527</td>\n",
       "      <td>0.800456</td>\n",
       "      <td>0.508389</td>\n",
       "    </tr>\n",
       "    <tr>\n",
       "      <th>191</th>\n",
       "      <td>0.052481</td>\n",
       "      <td>0.800456</td>\n",
       "      <td>0.507243</td>\n",
       "    </tr>\n",
       "    <tr>\n",
       "      <th>192</th>\n",
       "      <td>0.052481</td>\n",
       "      <td>0.801596</td>\n",
       "      <td>0.506943</td>\n",
       "    </tr>\n",
       "  </tbody>\n",
       "</table>\n",
       "</div>"
      ],
      "text/plain": [
       "          fpr       tpr  threshold\n",
       "184  0.049618  0.793615   0.515917\n",
       "185  0.050095  0.793615   0.513528\n",
       "186  0.050095  0.795895   0.511968\n",
       "187  0.051050  0.795895   0.511324\n",
       "188  0.051050  0.799316   0.510062\n",
       "189  0.051527  0.799316   0.508657\n",
       "190  0.051527  0.800456   0.508389\n",
       "191  0.052481  0.800456   0.507243\n",
       "192  0.052481  0.801596   0.506943"
      ]
     },
     "execution_count": 15,
     "metadata": {},
     "output_type": "execute_result"
    }
   ],
   "source": [
    "# Get the values of threshold for true positive rate between 0.79 and 0.81\n",
    "roc_df[roc_df['tpr'].between(0.79, 0.81)]"
   ]
  },
  {
   "cell_type": "markdown",
   "metadata": {},
   "source": [
    "From the above table, it is safe to assume the threshold value of 0.5 for classifying the observations."
   ]
  },
  {
   "cell_type": "code",
   "execution_count": 17,
   "metadata": {
    "tags": [
     "hide-cell"
    ]
   },
   "outputs": [
    {
     "data": {
      "text/plain": [
       "['./../../data/models/svm_poly.pkl']"
      ]
     },
     "execution_count": 17,
     "metadata": {},
     "output_type": "execute_result"
    }
   ],
   "source": [
    "# Save the model\n",
    "joblib.dump(grid_result, './../../data/models/svm.pkl')\n",
    "joblib.dump(grid_result_poly, './../../data/models/svm_poly.pkl')"
   ]
  },
  {
   "cell_type": "markdown",
   "metadata": {},
   "source": [
    "## Model with oversample data"
   ]
  },
  {
   "cell_type": "markdown",
   "metadata": {},
   "source": [
    "Continuing with the oversampled data."
   ]
  },
  {
   "cell_type": "code",
   "execution_count": 18,
   "metadata": {
    "tags": [
     "hide-cell"
    ]
   },
   "outputs": [],
   "source": [
    "# Load the data\n",
    "df = pd.read_csv('./../../data/engineered_data_oversampled.csv')"
   ]
  },
  {
   "cell_type": "code",
   "execution_count": 19,
   "metadata": {
    "tags": [
     "hide-cell"
    ]
   },
   "outputs": [],
   "source": [
    "# Drop the index column\n",
    "df.drop('Unnamed: 0', axis=1, inplace=True)"
   ]
  },
  {
   "cell_type": "code",
   "execution_count": 20,
   "metadata": {
    "tags": [
     "hide-cell"
    ]
   },
   "outputs": [],
   "source": [
    "# Split the data into train and test sets\n",
    "X_train, X_test, y_train, y_test = train_test_split(df.drop('state', axis=1), df['state'], test_size=0.2, random_state=42)"
   ]
  },
  {
   "cell_type": "markdown",
   "metadata": {},
   "source": [
    "### Model Building"
   ]
  },
  {
   "cell_type": "markdown",
   "metadata": {},
   "source": [
    "For this data also, only one set of parameters will be used for tuning. The parameters that will be used are:\n",
    "\n",
    "|Parameter|Description|Values|\n",
    "|--|--|--|\n",
    "|C|Cost of SVM for determining the margin|$10^{-3}:1$|\n",
    "|kernel|Type of kernel to be used|1. 'linear' for linear kernel <br>2. 'rbf' for radial basis function <br> 3. 'sigmoid' for logistic kernel| "
   ]
  },
  {
   "cell_type": "code",
   "execution_count": 21,
   "metadata": {
    "tags": [
     "hide-cell"
    ]
   },
   "outputs": [],
   "source": [
    "# Declare the SVM model\n",
    "svm_clf = SVC(probability=True, class_weight='balanced')\n",
    "\n",
    "# Declare the grid paramters to be searched\n",
    "svm_params = dict(\n",
    "    C = np.logspace(-3, 0, num=4),\n",
    "    kernel = ['linear', 'rbf', 'sigmoid']\n",
    ")"
   ]
  },
  {
   "cell_type": "code",
   "execution_count": null,
   "metadata": {
    "tags": [
     "hide-cell"
    ]
   },
   "outputs": [],
   "source": [
    "# Declare the gridsearch object\n",
    "grid_search = GridSearchCV(svm_clf, svm_params, scoring='roc_auc', n_jobs=7, refit=True, cv=10, verbose=5)\n",
    "\n",
    "# Fit the model\n",
    "grid_result = grid_search.fit(X_train, y_train)"
   ]
  },
  {
   "cell_type": "markdown",
   "metadata": {},
   "source": [
    "```{warning}\n",
    "Time required to run SVM with oversampled data: 552 mins.\n",
    "```"
   ]
  },
  {
   "cell_type": "markdown",
   "metadata": {},
   "source": [
    "### Inferencing"
   ]
  },
  {
   "cell_type": "markdown",
   "metadata": {},
   "source": [
    "The best model on oversampled is given by:"
   ]
  },
  {
   "cell_type": "code",
   "execution_count": 32,
   "metadata": {},
   "outputs": [
    {
     "name": "stdout",
     "output_type": "stream",
     "text": [
      "Best score of 0.9582827048948805 is achieved by using {'C': 1.0, 'kernel': 'linear'}\n"
     ]
    }
   ],
   "source": [
    "# Get the best model parameters\n",
    "print(f\"Best score of {grid_result.best_score_} is achieved by using {grid_result.best_params_}\")"
   ]
  },
  {
   "cell_type": "code",
   "execution_count": 33,
   "metadata": {},
   "outputs": [],
   "source": [
    "# Predict on test data using the model\n",
    "y_pred = grid_search.predict(X_test)\n",
    "y_score = grid_search.predict_proba(X_test)[:, 1]"
   ]
  },
  {
   "cell_type": "markdown",
   "metadata": {},
   "source": [
    "### Evaluation"
   ]
  },
  {
   "cell_type": "markdown",
   "metadata": {},
   "source": [
    "The AUC ROC score for the model is:"
   ]
  },
  {
   "cell_type": "code",
   "execution_count": 34,
   "metadata": {
    "tags": [
     "hide-input"
    ]
   },
   "outputs": [
    {
     "name": "stdout",
     "output_type": "stream",
     "text": [
      "Area under the ROC curve: 0.9514918050788321\n"
     ]
    }
   ],
   "source": [
    "# Find the ROC AUC score\n",
    "print(f\"Area under the ROC curve: {roc_auc_score(y_test, y_score)}\")"
   ]
  },
  {
   "cell_type": "markdown",
   "metadata": {},
   "source": [
    "With the new oversampled data, there is a marginal improvement in the performance of the support vector machine algorithm."
   ]
  },
  {
   "cell_type": "markdown",
   "metadata": {},
   "source": [
    "Thus, to find the threshold for the optimum evaluation metric, thresholds with their corresponding TPR and FPR needs to be determined and can be found by:"
   ]
  },
  {
   "cell_type": "code",
   "execution_count": 35,
   "metadata": {
    "tags": [
     "hide-cell"
    ]
   },
   "outputs": [],
   "source": [
    "# Calculate parameters for roc auc curve\n",
    "fpr, tpr, thresholds = roc_curve(y_test, y_score)"
   ]
  },
  {
   "cell_type": "code",
   "execution_count": 36,
   "metadata": {
    "tags": [
     "hide-input"
    ]
   },
   "outputs": [
    {
     "data": {
      "image/svg+xml": "<svg class=\"main-svg\" xmlns=\"http://www.w3.org/2000/svg\" xmlns:xlink=\"http://www.w3.org/1999/xlink\" width=\"800\" height=\"500\" style=\"\" viewBox=\"0 0 800 500\"><rect x=\"0\" y=\"0\" width=\"800\" height=\"500\" style=\"fill: rgb(255, 255, 255); fill-opacity: 1;\"/><defs id=\"defs-7998a1\"><g class=\"clips\"><clipPath id=\"clip7998a1xyplot\" class=\"plotclip\"><rect width=\"304.99999999999994\" height=\"320\"/></clipPath><clipPath class=\"axesclip\" id=\"clip7998a1x\"><rect x=\"247.50000000000003\" y=\"0\" width=\"304.99999999999994\" height=\"500\"/></clipPath><clipPath class=\"axesclip\" id=\"clip7998a1y\"><rect x=\"0\" y=\"100\" width=\"800\" height=\"320\"/></clipPath><clipPath class=\"axesclip\" id=\"clip7998a1xy\"><rect x=\"247.50000000000003\" y=\"100\" width=\"304.99999999999994\" height=\"320\"/></clipPath></g><g class=\"gradients\"/><g class=\"patterns\"/></defs><g class=\"bglayer\"><rect class=\"bg\" x=\"247.50000000000003\" y=\"100\" width=\"304.99999999999994\" height=\"320\" style=\"fill: rgb(229, 236, 246); fill-opacity: 1; stroke-width: 0;\"/></g><g class=\"layer-below\"><g class=\"imagelayer\"/><g class=\"shapelayer\"/></g><g class=\"cartesianlayer\"><g class=\"subplot xy\"><g class=\"layer-subplot\"><g class=\"shapelayer\"/><g class=\"imagelayer\"/></g><g class=\"minor-gridlayer\"><g class=\"x\"/><g class=\"y\"/></g><g class=\"gridlayer\"><g class=\"x\"><path class=\"xgrid crisp\" transform=\"translate(400,0)\" d=\"M0,100v320\" style=\"stroke: rgb(255, 255, 255); stroke-opacity: 1; stroke-width: 1px;\"/></g><g class=\"y\"><path class=\"ygrid crisp\" transform=\"translate(0,358.4)\" d=\"M247.50000000000003,0h304.99999999999994\" style=\"stroke: rgb(255, 255, 255); stroke-opacity: 1; stroke-width: 1px;\"/><path class=\"ygrid crisp\" transform=\"translate(0,297.8)\" d=\"M247.50000000000003,0h304.99999999999994\" style=\"stroke: rgb(255, 255, 255); stroke-opacity: 1; stroke-width: 1px;\"/><path class=\"ygrid crisp\" transform=\"translate(0,237.2)\" d=\"M247.50000000000003,0h304.99999999999994\" style=\"stroke: rgb(255, 255, 255); stroke-opacity: 1; stroke-width: 1px;\"/><path class=\"ygrid crisp\" transform=\"translate(0,176.6)\" d=\"M247.50000000000003,0h304.99999999999994\" style=\"stroke: rgb(255, 255, 255); stroke-opacity: 1; stroke-width: 1px;\"/><path class=\"ygrid crisp\" transform=\"translate(0,116)\" d=\"M247.50000000000003,0h304.99999999999994\" style=\"stroke: rgb(255, 255, 255); stroke-opacity: 1; stroke-width: 1px;\"/></g></g><g class=\"zerolinelayer\"><path class=\"xzl zl crisp\" transform=\"translate(248.50000000000003,0)\" d=\"M0,100v320\" style=\"stroke: rgb(255, 255, 255); stroke-opacity: 1; stroke-width: 2px;\"/><path class=\"yzl zl crisp\" transform=\"translate(0,419)\" d=\"M247.50000000000003,0h304.99999999999994\" style=\"stroke: rgb(255, 255, 255); stroke-opacity: 1; stroke-width: 2px;\"/></g><path class=\"xlines-below\"/><path class=\"ylines-below\"/><g class=\"overlines-below\"/><g class=\"xaxislayer-below\"/><g class=\"yaxislayer-below\"/><g class=\"overaxes-below\"/><g class=\"plot\" transform=\"translate(247.50000000000003,100)\" clip-path=\"url(#clip7998a1xyplot)\"><g class=\"scatterlayer mlayer\"><g class=\"trace scatter trace5002d2\" style=\"stroke-miterlimit: 2;\"><g class=\"fills\"><g><path class=\"js-fill\" d=\"M304,319L1,319L1,319L2.02,272.16L2.16,272.16L2.89,251.12L3.03,251.12L3.76,238.74L3.91,238.74L4.63,217.4L4.78,217.4L5.51,192.49L5.65,192.49L6.38,176.82L6.52,176.82L7.25,157.58L7.39,157.58L8.12,143.26L8.41,143.26L9.14,129.68L9.28,129.68L10.01,115.21L10.16,115.21L10.88,108.5L11.03,108.5L11.75,101.93L11.9,101.93L12.63,91.94L12.92,91.94L13.5,84.92L13.79,84.92L14.52,81.19L14.66,81.19L15.39,75.23L15.53,75.23L16.26,71.8L16.4,71.8L17.13,68.22L17.28,68.22L18,65.68L18.15,65.68L18.73,65.08L19.02,65.08L19.75,63.29L19.89,63.29L20.62,62.4L21.2,62.4L21.78,60.91L22.07,60.91L22.36,60.31L22.94,60.31L23.67,59.26L23.82,59.26L25.56,58.07L26,58.07L26.72,57.18L26.72,56.73L28.18,55.98L28.18,55.39L29.77,53.89L30.65,53.89L31.08,52.85L31.66,52.85L38.35,48.82L38.35,48.52L40.24,47.78L40.24,47.63L45.18,42.85L45.47,42.85L46.05,42.26L46.49,42.26L47.07,41.21L47.5,41.21L48.23,39.87L48.38,39.87L48.81,38.68L49.25,38.68L50.41,37.78L50.99,37.78L51.72,36.74L52.44,36.74L54.92,34.2L56.22,34.2L56.51,33.45L57.68,33.45L58.4,32.71L58.69,32.71L61.16,30.47L61.75,30.47L61.89,30.02L63.05,30.02L65.81,29.28L67.27,29.28L67.27,29.13L68.14,29.13L68.87,28.53L69.01,28.53L69.3,28.08L69.88,28.08L70.32,27.49L71.05,27.49L71.77,26.14L71.92,26.14L72.21,25.85L74.53,25.85L75.26,25.4L75.55,25.4L75.84,25.1L78.02,25.1L78.75,24.5L79.47,24.5L79.91,24.06L81.36,24.06L97.35,22.12L100.11,22.12L100.11,21.97L104.47,21.97L136.59,20.48L142.84,20.48L142.84,20.33L148.36,20.33L175.82,19.58L175.82,19.28L192.39,18.54L192.39,18.39L230.9,17.79L230.9,17.49L267.96,16.75L267.96,16.6L304,16\" style=\"fill: rgb(99, 110, 250); fill-opacity: 0.5; stroke-width: 0;\"/></g></g><g class=\"errorbars\"/><g class=\"lines\"><path class=\"js-line\" d=\"M1,319L2.02,272.16L2.16,272.16L2.89,251.12L3.03,251.12L3.76,238.74L3.91,238.74L4.63,217.4L4.78,217.4L5.51,192.49L5.65,192.49L6.38,176.82L6.52,176.82L7.25,157.58L7.39,157.58L8.12,143.26L8.41,143.26L9.14,129.68L9.28,129.68L10.01,115.21L10.16,115.21L10.88,108.5L11.03,108.5L11.75,101.93L11.9,101.93L12.63,91.94L12.92,91.94L13.5,84.92L13.79,84.92L14.52,81.19L14.66,81.19L15.39,75.23L15.53,75.23L16.26,71.8L16.4,71.8L17.13,68.22L17.28,68.22L18,65.68L18.15,65.68L18.73,65.08L19.02,65.08L19.75,63.29L19.89,63.29L20.62,62.4L21.2,62.4L21.78,60.91L22.07,60.91L22.36,60.31L22.94,60.31L23.67,59.26L23.82,59.26L25.56,58.07L26,58.07L26.72,57.18L26.72,56.73L28.18,55.98L28.18,55.39L29.77,53.89L30.65,53.89L31.08,52.85L31.66,52.85L38.35,48.82L38.35,48.52L40.24,47.78L40.24,47.63L45.18,42.85L45.47,42.85L46.05,42.26L46.49,42.26L47.07,41.21L47.5,41.21L48.23,39.87L48.38,39.87L48.81,38.68L49.25,38.68L50.41,37.78L50.99,37.78L51.72,36.74L52.44,36.74L54.92,34.2L56.22,34.2L56.51,33.45L57.68,33.45L58.4,32.71L58.69,32.71L61.16,30.47L61.75,30.47L61.89,30.02L63.05,30.02L65.81,29.28L67.27,29.28L67.27,29.13L68.14,29.13L68.87,28.53L69.01,28.53L69.3,28.08L69.88,28.08L70.32,27.49L71.05,27.49L71.77,26.14L71.92,26.14L72.21,25.85L74.53,25.85L75.26,25.4L75.55,25.4L75.84,25.1L78.02,25.1L78.75,24.5L79.47,24.5L79.91,24.06L81.36,24.06L97.35,22.12L100.11,22.12L100.11,21.97L104.47,21.97L136.59,20.48L142.84,20.48L142.84,20.33L148.36,20.33L175.82,19.58L175.82,19.28L192.39,18.54L192.39,18.39L230.9,17.79L230.9,17.49L267.96,16.75L267.96,16.6L304,16\" style=\"vector-effect: non-scaling-stroke; fill: none; stroke: rgb(99, 110, 250); stroke-opacity: 1; stroke-width: 2px; opacity: 1;\"/></g><g class=\"points\"/><g class=\"text\"/></g></g></g><g class=\"overplot\"/><path class=\"xlines-above crisp\" d=\"M0,0\" style=\"fill: none;\"/><path class=\"ylines-above crisp\" d=\"M0,0\" style=\"fill: none;\"/><g class=\"overlines-above\"/><g class=\"xaxislayer-above\"><g class=\"xtick\"><text text-anchor=\"middle\" x=\"0\" y=\"433\" transform=\"translate(248.50000000000003,0)\" style=\"font-family: 'Open Sans', verdana, arial, sans-serif; font-size: 12px; fill: rgb(42, 63, 95); fill-opacity: 1; white-space: pre; opacity: 1;\">0</text></g><g class=\"xtick\"><text text-anchor=\"middle\" x=\"0\" y=\"433\" style=\"font-family: 'Open Sans', verdana, arial, sans-serif; font-size: 12px; fill: rgb(42, 63, 95); fill-opacity: 1; white-space: pre; opacity: 1;\" transform=\"translate(400,0)\">0.5</text></g><g class=\"xtick\"><text text-anchor=\"middle\" x=\"0\" y=\"433\" style=\"font-family: 'Open Sans', verdana, arial, sans-serif; font-size: 12px; fill: rgb(42, 63, 95); fill-opacity: 1; white-space: pre; opacity: 1;\" transform=\"translate(551.5,0)\">1</text></g></g><g class=\"yaxislayer-above\"><g class=\"ytick\"><text text-anchor=\"end\" x=\"246.50000000000003\" y=\"4.199999999999999\" transform=\"translate(0,419)\" style=\"font-family: 'Open Sans', verdana, arial, sans-serif; font-size: 12px; fill: rgb(42, 63, 95); fill-opacity: 1; white-space: pre; opacity: 1;\">0</text></g><g class=\"ytick\"><text text-anchor=\"end\" x=\"246.50000000000003\" y=\"4.199999999999999\" style=\"font-family: 'Open Sans', verdana, arial, sans-serif; font-size: 12px; fill: rgb(42, 63, 95); fill-opacity: 1; white-space: pre; opacity: 1;\" transform=\"translate(0,358.4)\">0.2</text></g><g class=\"ytick\"><text text-anchor=\"end\" x=\"246.50000000000003\" y=\"4.199999999999999\" style=\"font-family: 'Open Sans', verdana, arial, sans-serif; font-size: 12px; fill: rgb(42, 63, 95); fill-opacity: 1; white-space: pre; opacity: 1;\" transform=\"translate(0,297.8)\">0.4</text></g><g class=\"ytick\"><text text-anchor=\"end\" x=\"246.50000000000003\" y=\"4.199999999999999\" style=\"font-family: 'Open Sans', verdana, arial, sans-serif; font-size: 12px; fill: rgb(42, 63, 95); fill-opacity: 1; white-space: pre; opacity: 1;\" transform=\"translate(0,237.2)\">0.6</text></g><g class=\"ytick\"><text text-anchor=\"end\" x=\"246.50000000000003\" y=\"4.199999999999999\" style=\"font-family: 'Open Sans', verdana, arial, sans-serif; font-size: 12px; fill: rgb(42, 63, 95); fill-opacity: 1; white-space: pre; opacity: 1;\" transform=\"translate(0,176.6)\">0.8</text></g><g class=\"ytick\"><text text-anchor=\"end\" x=\"246.50000000000003\" y=\"4.199999999999999\" style=\"font-family: 'Open Sans', verdana, arial, sans-serif; font-size: 12px; fill: rgb(42, 63, 95); fill-opacity: 1; white-space: pre; opacity: 1;\" transform=\"translate(0,116)\">1</text></g></g><g class=\"overaxes-above\"/></g></g><g class=\"polarlayer\"/><g class=\"smithlayer\"/><g class=\"ternarylayer\"/><g class=\"geolayer\"/><g class=\"funnelarealayer\"/><g class=\"pielayer\"/><g class=\"iciclelayer\"/><g class=\"treemaplayer\"/><g class=\"sunburstlayer\"/><g class=\"glimages\"/><defs id=\"topdefs-7998a1\"><g class=\"clips\"/></defs><g class=\"layer-above\"><g class=\"imagelayer\"/><g class=\"shapelayer\"><path data-index=\"0\" fill-rule=\"evenodd\" d=\"M248.50000000000003,419L551.5,116\" clip-path=\"url(#clip7998a1xy)\" style=\"opacity: 1; stroke: rgb(42, 63, 95); stroke-opacity: 1; fill: rgb(0, 0, 0); fill-opacity: 0; stroke-dasharray: 9px, 9px; stroke-width: 2px;\"/></g></g><g class=\"infolayer\"><g class=\"g-gtitle\"><text class=\"gtitle\" x=\"40\" y=\"50\" text-anchor=\"start\" dy=\"0em\" style=\"font-family: 'Open Sans', verdana, arial, sans-serif; font-size: 17px; fill: rgb(42, 63, 95); opacity: 1; font-weight: normal; white-space: pre;\">ROC Curve (AUC=0.9515)</text></g><g class=\"g-xtitle\"><text class=\"xtitle\" x=\"400\" y=\"460.3\" text-anchor=\"middle\" style=\"font-family: 'Open Sans', verdana, arial, sans-serif; font-size: 14px; fill: rgb(42, 63, 95); opacity: 1; font-weight: normal; white-space: pre;\">False Positive Rate</text></g><g class=\"g-ytitle\"><text class=\"ytitle\" transform=\"rotate(-90,202.075,260)\" x=\"202.075\" y=\"260\" text-anchor=\"middle\" style=\"font-family: 'Open Sans', verdana, arial, sans-serif; font-size: 14px; fill: rgb(42, 63, 95); opacity: 1; font-weight: normal; white-space: pre;\">True Positive Rate</text></g></g></svg>"
     },
     "metadata": {},
     "output_type": "display_data"
    }
   ],
   "source": [
    "# Plot the curve and area under the curve\n",
    "fig = px.area(\n",
    "    x=fpr, y=tpr,\n",
    "    title=f'ROC Curve (AUC={auc(fpr, tpr):.4f})',\n",
    "    labels=dict(x='False Positive Rate', y='True Positive Rate')\n",
    ")\n",
    "fig.add_shape(\n",
    "    type='line', line=dict(dash='dash'),\n",
    "    x0=0, x1=1, y0=0, y1=1\n",
    ")\n",
    "\n",
    "fig.update_yaxes(scaleanchor=\"x\", scaleratio=1)\n",
    "fig.update_xaxes(constrain='domain')\n",
    "fig.show()"
   ]
  },
  {
   "cell_type": "code",
   "execution_count": 37,
   "metadata": {
    "tags": [
     "hide-cell"
    ]
   },
   "outputs": [],
   "source": [
    "# Create a ROC dataframe from the obtained FPR and TPR\n",
    "roc_df = pd.DataFrame({\n",
    "    'fpr': fpr,\n",
    "    'tpr': tpr,\n",
    "    'threshold': thresholds\n",
    "})"
   ]
  },
  {
   "cell_type": "code",
   "execution_count": 96,
   "metadata": {
    "tags": [
     "hide-input"
    ]
   },
   "outputs": [
    {
     "data": {
      "text/html": [
       "<div>\n",
       "<style scoped>\n",
       "    .dataframe tbody tr th:only-of-type {\n",
       "        vertical-align: middle;\n",
       "    }\n",
       "\n",
       "    .dataframe tbody tr th {\n",
       "        vertical-align: top;\n",
       "    }\n",
       "\n",
       "    .dataframe thead th {\n",
       "        text-align: right;\n",
       "    }\n",
       "</style>\n",
       "<table border=\"1\" class=\"dataframe\">\n",
       "  <thead>\n",
       "    <tr style=\"text-align: right;\">\n",
       "      <th></th>\n",
       "      <th>fpr</th>\n",
       "      <th>tpr</th>\n",
       "      <th>threshold</th>\n",
       "    </tr>\n",
       "  </thead>\n",
       "  <tbody>\n",
       "    <tr>\n",
       "      <th>343</th>\n",
       "      <td>0.122782</td>\n",
       "      <td>0.891679</td>\n",
       "      <td>0.500000</td>\n",
       "    </tr>\n",
       "    <tr>\n",
       "      <th>344</th>\n",
       "      <td>0.123261</td>\n",
       "      <td>0.891679</td>\n",
       "      <td>0.494277</td>\n",
       "    </tr>\n",
       "    <tr>\n",
       "      <th>345</th>\n",
       "      <td>0.123261</td>\n",
       "      <td>0.892664</td>\n",
       "      <td>0.491941</td>\n",
       "    </tr>\n",
       "    <tr>\n",
       "      <th>346</th>\n",
       "      <td>0.124221</td>\n",
       "      <td>0.892664</td>\n",
       "      <td>0.490585</td>\n",
       "    </tr>\n",
       "    <tr>\n",
       "      <th>347</th>\n",
       "      <td>0.124221</td>\n",
       "      <td>0.893156</td>\n",
       "      <td>0.489900</td>\n",
       "    </tr>\n",
       "    <tr>\n",
       "      <th>348</th>\n",
       "      <td>0.125659</td>\n",
       "      <td>0.893156</td>\n",
       "      <td>0.488325</td>\n",
       "    </tr>\n",
       "    <tr>\n",
       "      <th>349</th>\n",
       "      <td>0.125659</td>\n",
       "      <td>0.893648</td>\n",
       "      <td>0.486883</td>\n",
       "    </tr>\n",
       "    <tr>\n",
       "      <th>350</th>\n",
       "      <td>0.126139</td>\n",
       "      <td>0.893648</td>\n",
       "      <td>0.486531</td>\n",
       "    </tr>\n",
       "    <tr>\n",
       "      <th>351</th>\n",
       "      <td>0.126139</td>\n",
       "      <td>0.894141</td>\n",
       "      <td>0.485656</td>\n",
       "    </tr>\n",
       "    <tr>\n",
       "      <th>352</th>\n",
       "      <td>0.127578</td>\n",
       "      <td>0.894141</td>\n",
       "      <td>0.485366</td>\n",
       "    </tr>\n",
       "    <tr>\n",
       "      <th>353</th>\n",
       "      <td>0.127578</td>\n",
       "      <td>0.895126</td>\n",
       "      <td>0.484574</td>\n",
       "    </tr>\n",
       "    <tr>\n",
       "      <th>354</th>\n",
       "      <td>0.129496</td>\n",
       "      <td>0.895126</td>\n",
       "      <td>0.479773</td>\n",
       "    </tr>\n",
       "    <tr>\n",
       "      <th>355</th>\n",
       "      <td>0.129496</td>\n",
       "      <td>0.895618</td>\n",
       "      <td>0.479133</td>\n",
       "    </tr>\n",
       "    <tr>\n",
       "      <th>356</th>\n",
       "      <td>0.129976</td>\n",
       "      <td>0.895618</td>\n",
       "      <td>0.478438</td>\n",
       "    </tr>\n",
       "    <tr>\n",
       "      <th>357</th>\n",
       "      <td>0.129976</td>\n",
       "      <td>0.896110</td>\n",
       "      <td>0.477416</td>\n",
       "    </tr>\n",
       "    <tr>\n",
       "      <th>358</th>\n",
       "      <td>0.130935</td>\n",
       "      <td>0.896110</td>\n",
       "      <td>0.476623</td>\n",
       "    </tr>\n",
       "    <tr>\n",
       "      <th>359</th>\n",
       "      <td>0.130935</td>\n",
       "      <td>0.896603</td>\n",
       "      <td>0.475434</td>\n",
       "    </tr>\n",
       "    <tr>\n",
       "      <th>360</th>\n",
       "      <td>0.131415</td>\n",
       "      <td>0.896603</td>\n",
       "      <td>0.474092</td>\n",
       "    </tr>\n",
       "    <tr>\n",
       "      <th>361</th>\n",
       "      <td>0.131415</td>\n",
       "      <td>0.897587</td>\n",
       "      <td>0.472469</td>\n",
       "    </tr>\n",
       "    <tr>\n",
       "      <th>362</th>\n",
       "      <td>0.131894</td>\n",
       "      <td>0.897587</td>\n",
       "      <td>0.471175</td>\n",
       "    </tr>\n",
       "    <tr>\n",
       "      <th>363</th>\n",
       "      <td>0.131894</td>\n",
       "      <td>0.899065</td>\n",
       "      <td>0.468694</td>\n",
       "    </tr>\n",
       "    <tr>\n",
       "      <th>364</th>\n",
       "      <td>0.132374</td>\n",
       "      <td>0.899065</td>\n",
       "      <td>0.468370</td>\n",
       "    </tr>\n",
       "  </tbody>\n",
       "</table>\n",
       "</div>"
      ],
      "text/plain": [
       "          fpr       tpr  threshold\n",
       "343  0.122782  0.891679   0.500000\n",
       "344  0.123261  0.891679   0.494277\n",
       "345  0.123261  0.892664   0.491941\n",
       "346  0.124221  0.892664   0.490585\n",
       "347  0.124221  0.893156   0.489900\n",
       "348  0.125659  0.893156   0.488325\n",
       "349  0.125659  0.893648   0.486883\n",
       "350  0.126139  0.893648   0.486531\n",
       "351  0.126139  0.894141   0.485656\n",
       "352  0.127578  0.894141   0.485366\n",
       "353  0.127578  0.895126   0.484574\n",
       "354  0.129496  0.895126   0.479773\n",
       "355  0.129496  0.895618   0.479133\n",
       "356  0.129976  0.895618   0.478438\n",
       "357  0.129976  0.896110   0.477416\n",
       "358  0.130935  0.896110   0.476623\n",
       "359  0.130935  0.896603   0.475434\n",
       "360  0.131415  0.896603   0.474092\n",
       "361  0.131415  0.897587   0.472469\n",
       "362  0.131894  0.897587   0.471175\n",
       "363  0.131894  0.899065   0.468694\n",
       "364  0.132374  0.899065   0.468370"
      ]
     },
     "execution_count": 96,
     "metadata": {},
     "output_type": "execute_result"
    }
   ],
   "source": [
    "# Get the values of threshold for true positive rate between 0.79 and 0.81\n",
    "roc_df[roc_df['tpr'].between(0.89, 0.90)]"
   ]
  },
  {
   "cell_type": "markdown",
   "metadata": {},
   "source": [
    "Since the threshold for the optimum TPR is near 0.5. The threshold that will be used is 0.5 i.e. the default will be used."
   ]
  },
  {
   "cell_type": "code",
   "execution_count": 97,
   "metadata": {},
   "outputs": [
    {
     "name": "stdout",
     "output_type": "stream",
     "text": [
      "              precision    recall  f1-score   support\n",
      "\n",
      "         0.0       0.90      0.87      0.88      2085\n",
      "         1.0       0.87      0.90      0.88      2031\n",
      "\n",
      "    accuracy                           0.88      4116\n",
      "   macro avg       0.88      0.88      0.88      4116\n",
      "weighted avg       0.88      0.88      0.88      4116\n",
      "\n"
     ]
    }
   ],
   "source": [
    "# Plot classification report\n",
    "print(classification_report(y_test, y_pred))"
   ]
  },
  {
   "cell_type": "markdown",
   "metadata": {},
   "source": [
    "The F1-score thus obtained is better than that of logistic regression and hence it can be concluded that SVM with linear kernel is btter in predicting the success of the Kickstarter Campaign."
   ]
  },
  {
   "cell_type": "code",
   "execution_count": 40,
   "metadata": {},
   "outputs": [
    {
     "data": {
      "text/plain": [
       "['./../../data/models/svm_oversample_poly.pkl']"
      ]
     },
     "execution_count": 40,
     "metadata": {},
     "output_type": "execute_result"
    }
   ],
   "source": [
    "# Save the model\n",
    "joblib.dump(grid_result, './../../data/models/svm_oversample.pkl')"
   ]
  },
  {
   "cell_type": "markdown",
   "metadata": {},
   "source": [
    "## Principal Componanent Analysis"
   ]
  },
  {
   "cell_type": "markdown",
   "metadata": {},
   "source": [
    "The time required to train the SVM algorithms is huge. The training time is the function of the number of observations and the number of columns. It is possible to reduce the number of features without losing much information. This can be achieved by using Principal Component Analysis (PCA)."
   ]
  },
  {
   "cell_type": "markdown",
   "metadata": {},
   "source": [
    "To reduce the number of features using PCA, it is necessary to standardize the features."
   ]
  },
  {
   "cell_type": "code",
   "execution_count": 48,
   "metadata": {
    "tags": [
     "hide-cell"
    ]
   },
   "outputs": [],
   "source": [
    "# Standardize the data\n",
    "\n",
    "# Declare the scaling object\n",
    "standard_scaler = StandardScaler()\n",
    "\n",
    "# Fit the scaling object\n",
    "standard_scaler.fit(X_train)\n",
    "\n",
    "# Transform the data using the scaled object\n",
    "scaled_train = standard_scaler.transform(X_train)\n",
    "scaled_test = standard_scaler.transform(X_test)"
   ]
  },
  {
   "cell_type": "markdown",
   "metadata": {},
   "source": [
    "To find the optimum number of features to be retained, it is necessary to examine the information loss that can be tolerated. The information loss can be evaluated on the basis of varince. The maximum the variance, the lesser the information loss. To find the optimum number, PCA should on run on complete data."
   ]
  },
  {
   "cell_type": "code",
   "execution_count": 53,
   "metadata": {
    "tags": [
     "hide-cell"
    ]
   },
   "outputs": [],
   "source": [
    "# Declare PCA object to check the optimum number of components\n",
    "experiment_pca = PCA(n_components=None)"
   ]
  },
  {
   "cell_type": "code",
   "execution_count": 54,
   "metadata": {
    "tags": [
     "hide-cell"
    ]
   },
   "outputs": [
    {
     "data": {
      "text/html": [
       "<style>#sk-container-id-2 {color: black;background-color: white;}#sk-container-id-2 pre{padding: 0;}#sk-container-id-2 div.sk-toggleable {background-color: white;}#sk-container-id-2 label.sk-toggleable__label {cursor: pointer;display: block;width: 100%;margin-bottom: 0;padding: 0.3em;box-sizing: border-box;text-align: center;}#sk-container-id-2 label.sk-toggleable__label-arrow:before {content: \"▸\";float: left;margin-right: 0.25em;color: #696969;}#sk-container-id-2 label.sk-toggleable__label-arrow:hover:before {color: black;}#sk-container-id-2 div.sk-estimator:hover label.sk-toggleable__label-arrow:before {color: black;}#sk-container-id-2 div.sk-toggleable__content {max-height: 0;max-width: 0;overflow: hidden;text-align: left;background-color: #f0f8ff;}#sk-container-id-2 div.sk-toggleable__content pre {margin: 0.2em;color: black;border-radius: 0.25em;background-color: #f0f8ff;}#sk-container-id-2 input.sk-toggleable__control:checked~div.sk-toggleable__content {max-height: 200px;max-width: 100%;overflow: auto;}#sk-container-id-2 input.sk-toggleable__control:checked~label.sk-toggleable__label-arrow:before {content: \"▾\";}#sk-container-id-2 div.sk-estimator input.sk-toggleable__control:checked~label.sk-toggleable__label {background-color: #d4ebff;}#sk-container-id-2 div.sk-label input.sk-toggleable__control:checked~label.sk-toggleable__label {background-color: #d4ebff;}#sk-container-id-2 input.sk-hidden--visually {border: 0;clip: rect(1px 1px 1px 1px);clip: rect(1px, 1px, 1px, 1px);height: 1px;margin: -1px;overflow: hidden;padding: 0;position: absolute;width: 1px;}#sk-container-id-2 div.sk-estimator {font-family: monospace;background-color: #f0f8ff;border: 1px dotted black;border-radius: 0.25em;box-sizing: border-box;margin-bottom: 0.5em;}#sk-container-id-2 div.sk-estimator:hover {background-color: #d4ebff;}#sk-container-id-2 div.sk-parallel-item::after {content: \"\";width: 100%;border-bottom: 1px solid gray;flex-grow: 1;}#sk-container-id-2 div.sk-label:hover label.sk-toggleable__label {background-color: #d4ebff;}#sk-container-id-2 div.sk-serial::before {content: \"\";position: absolute;border-left: 1px solid gray;box-sizing: border-box;top: 0;bottom: 0;left: 50%;z-index: 0;}#sk-container-id-2 div.sk-serial {display: flex;flex-direction: column;align-items: center;background-color: white;padding-right: 0.2em;padding-left: 0.2em;position: relative;}#sk-container-id-2 div.sk-item {position: relative;z-index: 1;}#sk-container-id-2 div.sk-parallel {display: flex;align-items: stretch;justify-content: center;background-color: white;position: relative;}#sk-container-id-2 div.sk-item::before, #sk-container-id-2 div.sk-parallel-item::before {content: \"\";position: absolute;border-left: 1px solid gray;box-sizing: border-box;top: 0;bottom: 0;left: 50%;z-index: -1;}#sk-container-id-2 div.sk-parallel-item {display: flex;flex-direction: column;z-index: 1;position: relative;background-color: white;}#sk-container-id-2 div.sk-parallel-item:first-child::after {align-self: flex-end;width: 50%;}#sk-container-id-2 div.sk-parallel-item:last-child::after {align-self: flex-start;width: 50%;}#sk-container-id-2 div.sk-parallel-item:only-child::after {width: 0;}#sk-container-id-2 div.sk-dashed-wrapped {border: 1px dashed gray;margin: 0 0.4em 0.5em 0.4em;box-sizing: border-box;padding-bottom: 0.4em;background-color: white;}#sk-container-id-2 div.sk-label label {font-family: monospace;font-weight: bold;display: inline-block;line-height: 1.2em;}#sk-container-id-2 div.sk-label-container {text-align: center;}#sk-container-id-2 div.sk-container {/* jupyter's `normalize.less` sets `[hidden] { display: none; }` but bootstrap.min.css set `[hidden] { display: none !important; }` so we also need the `!important` here to be able to override the default hidden behavior on the sphinx rendered scikit-learn.org. See: https://github.com/scikit-learn/scikit-learn/issues/21755 */display: inline-block !important;position: relative;}#sk-container-id-2 div.sk-text-repr-fallback {display: none;}</style><div id=\"sk-container-id-2\" class=\"sk-top-container\"><div class=\"sk-text-repr-fallback\"><pre>PCA()</pre><b>In a Jupyter environment, please rerun this cell to show the HTML representation or trust the notebook. <br />On GitHub, the HTML representation is unable to render, please try loading this page with nbviewer.org.</b></div><div class=\"sk-container\" hidden><div class=\"sk-item\"><div class=\"sk-estimator sk-toggleable\"><input class=\"sk-toggleable__control sk-hidden--visually\" id=\"sk-estimator-id-2\" type=\"checkbox\" checked><label for=\"sk-estimator-id-2\" class=\"sk-toggleable__label sk-toggleable__label-arrow\">PCA</label><div class=\"sk-toggleable__content\"><pre>PCA()</pre></div></div></div></div></div>"
      ],
      "text/plain": [
       "PCA()"
      ]
     },
     "execution_count": 54,
     "metadata": {},
     "output_type": "execute_result"
    }
   ],
   "source": [
    "# Use the PCA to fit the data\n",
    "experiment_pca.fit(scaled_train)"
   ]
  },
  {
   "cell_type": "markdown",
   "metadata": {},
   "source": [
    "The PCA gives us the ratios of variances for the different numbers of components which signifies the percentage of information retained by that number of components.\n",
    "\n",
    "Scree plot can be of great help for deciding on the number of components"
   ]
  },
  {
   "cell_type": "code",
   "execution_count": 65,
   "metadata": {
    "tags": [
     "hide-cell"
    ]
   },
   "outputs": [],
   "source": [
    "# Store the results\n",
    "experiment_pca_eigen_values = pd.DataFrame(experiment_pca.explained_variance_ratio_*100).reset_index()\n",
    "experiment_pca_eigen_values.columns = [\"Eigen Value Size\", \"Eigen Value Number\"]"
   ]
  },
  {
   "cell_type": "code",
   "execution_count": 66,
   "metadata": {
    "tags": [
     "hide-input"
    ]
   },
   "outputs": [
    {
     "data": {
      "image/svg+xml": "<svg class=\"main-svg\" xmlns=\"http://www.w3.org/2000/svg\" xmlns:xlink=\"http://www.w3.org/1999/xlink\" width=\"800\" height=\"500\" style=\"\" viewBox=\"0 0 800 500\"><rect x=\"0\" y=\"0\" width=\"800\" height=\"500\" style=\"fill: rgb(255, 255, 255); fill-opacity: 1;\"/><defs id=\"defs-80f9f6\"><g class=\"clips\"><clipPath id=\"clip80f9f6xyplot\" class=\"plotclip\"><rect width=\"640\" height=\"320\"/></clipPath><clipPath class=\"axesclip\" id=\"clip80f9f6x\"><rect x=\"80\" y=\"0\" width=\"640\" height=\"500\"/></clipPath><clipPath class=\"axesclip\" id=\"clip80f9f6y\"><rect x=\"0\" y=\"100\" width=\"800\" height=\"320\"/></clipPath><clipPath class=\"axesclip\" id=\"clip80f9f6xy\"><rect x=\"80\" y=\"100\" width=\"640\" height=\"320\"/></clipPath></g><g class=\"gradients\"/><g class=\"patterns\"/></defs><g class=\"bglayer\"><rect class=\"bg\" x=\"80\" y=\"100\" width=\"640\" height=\"320\" style=\"fill: rgb(229, 236, 246); fill-opacity: 1; stroke-width: 0;\"/></g><g class=\"layer-below\"><g class=\"imagelayer\"/><g class=\"shapelayer\"/></g><g class=\"cartesianlayer\"><g class=\"subplot xy\"><g class=\"layer-subplot\"><g class=\"shapelayer\"/><g class=\"imagelayer\"/></g><g class=\"minor-gridlayer\"><g class=\"x\"/><g class=\"y\"/></g><g class=\"gridlayer\"><g class=\"x\"><path class=\"xgrid crisp\" transform=\"translate(194.70999999999998,0)\" d=\"M0,100v320\" style=\"stroke: rgb(255, 255, 255); stroke-opacity: 1; stroke-width: 1px;\"/><path class=\"xgrid crisp\" transform=\"translate(273.66999999999996,0)\" d=\"M0,100v320\" style=\"stroke: rgb(255, 255, 255); stroke-opacity: 1; stroke-width: 1px;\"/><path class=\"xgrid crisp\" transform=\"translate(352.63,0)\" d=\"M0,100v320\" style=\"stroke: rgb(255, 255, 255); stroke-opacity: 1; stroke-width: 1px;\"/><path class=\"xgrid crisp\" transform=\"translate(431.58,0)\" d=\"M0,100v320\" style=\"stroke: rgb(255, 255, 255); stroke-opacity: 1; stroke-width: 1px;\"/><path class=\"xgrid crisp\" transform=\"translate(510.54,0)\" d=\"M0,100v320\" style=\"stroke: rgb(255, 255, 255); stroke-opacity: 1; stroke-width: 1px;\"/><path class=\"xgrid crisp\" transform=\"translate(589.5,0)\" d=\"M0,100v320\" style=\"stroke: rgb(255, 255, 255); stroke-opacity: 1; stroke-width: 1px;\"/><path class=\"xgrid crisp\" transform=\"translate(668.46,0)\" d=\"M0,100v320\" style=\"stroke: rgb(255, 255, 255); stroke-opacity: 1; stroke-width: 1px;\"/></g><g class=\"y\"><path class=\"ygrid crisp\" transform=\"translate(0,356.69)\" d=\"M80,0h640\" style=\"stroke: rgb(255, 255, 255); stroke-opacity: 1; stroke-width: 1px;\"/><path class=\"ygrid crisp\" transform=\"translate(0,313.14)\" d=\"M80,0h640\" style=\"stroke: rgb(255, 255, 255); stroke-opacity: 1; stroke-width: 1px;\"/><path class=\"ygrid crisp\" transform=\"translate(0,269.58000000000004)\" d=\"M80,0h640\" style=\"stroke: rgb(255, 255, 255); stroke-opacity: 1; stroke-width: 1px;\"/><path class=\"ygrid crisp\" transform=\"translate(0,226.03)\" d=\"M80,0h640\" style=\"stroke: rgb(255, 255, 255); stroke-opacity: 1; stroke-width: 1px;\"/><path class=\"ygrid crisp\" transform=\"translate(0,182.47)\" d=\"M80,0h640\" style=\"stroke: rgb(255, 255, 255); stroke-opacity: 1; stroke-width: 1px;\"/><path class=\"ygrid crisp\" transform=\"translate(0,138.91)\" d=\"M80,0h640\" style=\"stroke: rgb(255, 255, 255); stroke-opacity: 1; stroke-width: 1px;\"/></g></g><g class=\"zerolinelayer\"><path class=\"xzl zl crisp\" transform=\"translate(115.75,0)\" d=\"M0,100v320\" style=\"stroke: rgb(255, 255, 255); stroke-opacity: 1; stroke-width: 2px;\"/><path class=\"yzl zl crisp\" transform=\"translate(0,400.25)\" d=\"M80,0h640\" style=\"stroke: rgb(255, 255, 255); stroke-opacity: 1; stroke-width: 2px;\"/></g><path class=\"xlines-below\"/><path class=\"ylines-below\"/><g class=\"overlines-below\"/><g class=\"xaxislayer-below\"/><g class=\"yaxislayer-below\"/><g class=\"overaxes-below\"/><g class=\"plot\" transform=\"translate(80,100)\" clip-path=\"url(#clip80f9f6xyplot)\"><g class=\"scatterlayer mlayer\"><g class=\"trace scatter trace527030\" style=\"stroke-miterlimit: 2; opacity: 1;\"><g class=\"fills\"/><g class=\"errorbars\"/><g class=\"lines\"><path class=\"js-line\" d=\"M35.75,19.75L51.54,146.7L67.33,170.6L83.13,177.93L98.92,194.69L114.71,226.67L130.5,227.81L146.29,231.07L162.08,232.2L177.88,233.59L193.67,235.83L256.83,239.18L272.63,239.44L320,240.84L335.79,241.63L367.38,242.91L383.17,245.84L430.54,252.5L446.33,259.81L462.13,270.1L477.92,282.27L493.71,291.86L509.5,294.98L525.29,298.92L541.08,299.66L572.67,300.25L588.46,300.25L604.25,300.25\" style=\"vector-effect: non-scaling-stroke; fill: none; stroke: rgb(99, 110, 250); stroke-opacity: 1; stroke-width: 2px; opacity: 1;\"/></g><g class=\"points\"><path class=\"point\" transform=\"translate(35.75,19.75)\" d=\"M3,0A3,3 0 1,1 0,-3A3,3 0 0,1 3,0Z\" style=\"opacity: 1; stroke-width: 0px; fill: rgb(99, 110, 250); fill-opacity: 1;\"/><path class=\"point\" transform=\"translate(51.54,146.7)\" d=\"M3,0A3,3 0 1,1 0,-3A3,3 0 0,1 3,0Z\" style=\"opacity: 1; stroke-width: 0px; fill: rgb(99, 110, 250); fill-opacity: 1;\"/><path class=\"point\" transform=\"translate(67.33,170.6)\" d=\"M3,0A3,3 0 1,1 0,-3A3,3 0 0,1 3,0Z\" style=\"opacity: 1; stroke-width: 0px; fill: rgb(99, 110, 250); fill-opacity: 1;\"/><path class=\"point\" transform=\"translate(83.13,177.93)\" d=\"M3,0A3,3 0 1,1 0,-3A3,3 0 0,1 3,0Z\" style=\"opacity: 1; stroke-width: 0px; fill: rgb(99, 110, 250); fill-opacity: 1;\"/><path class=\"point\" transform=\"translate(98.92,194.69)\" d=\"M3,0A3,3 0 1,1 0,-3A3,3 0 0,1 3,0Z\" style=\"opacity: 1; stroke-width: 0px; fill: rgb(99, 110, 250); fill-opacity: 1;\"/><path class=\"point\" transform=\"translate(114.71,226.67)\" d=\"M3,0A3,3 0 1,1 0,-3A3,3 0 0,1 3,0Z\" style=\"opacity: 1; stroke-width: 0px; fill: rgb(99, 110, 250); fill-opacity: 1;\"/><path class=\"point\" transform=\"translate(130.5,227.81)\" d=\"M3,0A3,3 0 1,1 0,-3A3,3 0 0,1 3,0Z\" style=\"opacity: 1; stroke-width: 0px; fill: rgb(99, 110, 250); fill-opacity: 1;\"/><path class=\"point\" transform=\"translate(146.29,231.07)\" d=\"M3,0A3,3 0 1,1 0,-3A3,3 0 0,1 3,0Z\" style=\"opacity: 1; stroke-width: 0px; fill: rgb(99, 110, 250); fill-opacity: 1;\"/><path class=\"point\" transform=\"translate(162.08,232.2)\" d=\"M3,0A3,3 0 1,1 0,-3A3,3 0 0,1 3,0Z\" style=\"opacity: 1; stroke-width: 0px; fill: rgb(99, 110, 250); fill-opacity: 1;\"/><path class=\"point\" transform=\"translate(177.88,233.59)\" d=\"M3,0A3,3 0 1,1 0,-3A3,3 0 0,1 3,0Z\" style=\"opacity: 1; stroke-width: 0px; fill: rgb(99, 110, 250); fill-opacity: 1;\"/><path class=\"point\" transform=\"translate(193.67,235.83)\" d=\"M3,0A3,3 0 1,1 0,-3A3,3 0 0,1 3,0Z\" style=\"opacity: 1; stroke-width: 0px; fill: rgb(99, 110, 250); fill-opacity: 1;\"/><path class=\"point\" transform=\"translate(209.46,236.66)\" d=\"M3,0A3,3 0 1,1 0,-3A3,3 0 0,1 3,0Z\" style=\"opacity: 1; stroke-width: 0px; fill: rgb(99, 110, 250); fill-opacity: 1;\"/><path class=\"point\" transform=\"translate(225.25,237.72)\" d=\"M3,0A3,3 0 1,1 0,-3A3,3 0 0,1 3,0Z\" style=\"opacity: 1; stroke-width: 0px; fill: rgb(99, 110, 250); fill-opacity: 1;\"/><path class=\"point\" transform=\"translate(241.04,238.58)\" d=\"M3,0A3,3 0 1,1 0,-3A3,3 0 0,1 3,0Z\" style=\"opacity: 1; stroke-width: 0px; fill: rgb(99, 110, 250); fill-opacity: 1;\"/><path class=\"point\" transform=\"translate(256.83,239.18)\" d=\"M3,0A3,3 0 1,1 0,-3A3,3 0 0,1 3,0Z\" style=\"opacity: 1; stroke-width: 0px; fill: rgb(99, 110, 250); fill-opacity: 1;\"/><path class=\"point\" transform=\"translate(272.63,239.44)\" d=\"M3,0A3,3 0 1,1 0,-3A3,3 0 0,1 3,0Z\" style=\"opacity: 1; stroke-width: 0px; fill: rgb(99, 110, 250); fill-opacity: 1;\"/><path class=\"point\" transform=\"translate(288.42,239.7)\" d=\"M3,0A3,3 0 1,1 0,-3A3,3 0 0,1 3,0Z\" style=\"opacity: 1; stroke-width: 0px; fill: rgb(99, 110, 250); fill-opacity: 1;\"/><path class=\"point\" transform=\"translate(304.21,240.03)\" d=\"M3,0A3,3 0 1,1 0,-3A3,3 0 0,1 3,0Z\" style=\"opacity: 1; stroke-width: 0px; fill: rgb(99, 110, 250); fill-opacity: 1;\"/><path class=\"point\" transform=\"translate(320,240.84)\" d=\"M3,0A3,3 0 1,1 0,-3A3,3 0 0,1 3,0Z\" style=\"opacity: 1; stroke-width: 0px; fill: rgb(99, 110, 250); fill-opacity: 1;\"/><path class=\"point\" transform=\"translate(335.79,241.63)\" d=\"M3,0A3,3 0 1,1 0,-3A3,3 0 0,1 3,0Z\" style=\"opacity: 1; stroke-width: 0px; fill: rgb(99, 110, 250); fill-opacity: 1;\"/><path class=\"point\" transform=\"translate(351.58,242.5)\" d=\"M3,0A3,3 0 1,1 0,-3A3,3 0 0,1 3,0Z\" style=\"opacity: 1; stroke-width: 0px; fill: rgb(99, 110, 250); fill-opacity: 1;\"/><path class=\"point\" transform=\"translate(367.38,242.91)\" d=\"M3,0A3,3 0 1,1 0,-3A3,3 0 0,1 3,0Z\" style=\"opacity: 1; stroke-width: 0px; fill: rgb(99, 110, 250); fill-opacity: 1;\"/><path class=\"point\" transform=\"translate(383.17,245.84)\" d=\"M3,0A3,3 0 1,1 0,-3A3,3 0 0,1 3,0Z\" style=\"opacity: 1; stroke-width: 0px; fill: rgb(99, 110, 250); fill-opacity: 1;\"/><path class=\"point\" transform=\"translate(398.96,248.14)\" d=\"M3,0A3,3 0 1,1 0,-3A3,3 0 0,1 3,0Z\" style=\"opacity: 1; stroke-width: 0px; fill: rgb(99, 110, 250); fill-opacity: 1;\"/><path class=\"point\" transform=\"translate(414.75,250.34)\" d=\"M3,0A3,3 0 1,1 0,-3A3,3 0 0,1 3,0Z\" style=\"opacity: 1; stroke-width: 0px; fill: rgb(99, 110, 250); fill-opacity: 1;\"/><path class=\"point\" transform=\"translate(430.54,252.5)\" d=\"M3,0A3,3 0 1,1 0,-3A3,3 0 0,1 3,0Z\" style=\"opacity: 1; stroke-width: 0px; fill: rgb(99, 110, 250); fill-opacity: 1;\"/><path class=\"point\" transform=\"translate(446.33,259.81)\" d=\"M3,0A3,3 0 1,1 0,-3A3,3 0 0,1 3,0Z\" style=\"opacity: 1; stroke-width: 0px; fill: rgb(99, 110, 250); fill-opacity: 1;\"/><path class=\"point\" transform=\"translate(462.13,270.1)\" d=\"M3,0A3,3 0 1,1 0,-3A3,3 0 0,1 3,0Z\" style=\"opacity: 1; stroke-width: 0px; fill: rgb(99, 110, 250); fill-opacity: 1;\"/><path class=\"point\" transform=\"translate(477.92,282.27)\" d=\"M3,0A3,3 0 1,1 0,-3A3,3 0 0,1 3,0Z\" style=\"opacity: 1; stroke-width: 0px; fill: rgb(99, 110, 250); fill-opacity: 1;\"/><path class=\"point\" transform=\"translate(493.71,291.86)\" d=\"M3,0A3,3 0 1,1 0,-3A3,3 0 0,1 3,0Z\" style=\"opacity: 1; stroke-width: 0px; fill: rgb(99, 110, 250); fill-opacity: 1;\"/><path class=\"point\" transform=\"translate(509.5,294.98)\" d=\"M3,0A3,3 0 1,1 0,-3A3,3 0 0,1 3,0Z\" style=\"opacity: 1; stroke-width: 0px; fill: rgb(99, 110, 250); fill-opacity: 1;\"/><path class=\"point\" transform=\"translate(525.29,298.92)\" d=\"M3,0A3,3 0 1,1 0,-3A3,3 0 0,1 3,0Z\" style=\"opacity: 1; stroke-width: 0px; fill: rgb(99, 110, 250); fill-opacity: 1;\"/><path class=\"point\" transform=\"translate(541.08,299.66)\" d=\"M3,0A3,3 0 1,1 0,-3A3,3 0 0,1 3,0Z\" style=\"opacity: 1; stroke-width: 0px; fill: rgb(99, 110, 250); fill-opacity: 1;\"/><path class=\"point\" transform=\"translate(556.88,300.25)\" d=\"M3,0A3,3 0 1,1 0,-3A3,3 0 0,1 3,0Z\" style=\"opacity: 1; stroke-width: 0px; fill: rgb(99, 110, 250); fill-opacity: 1;\"/><path class=\"point\" transform=\"translate(572.67,300.25)\" d=\"M3,0A3,3 0 1,1 0,-3A3,3 0 0,1 3,0Z\" style=\"opacity: 1; stroke-width: 0px; fill: rgb(99, 110, 250); fill-opacity: 1;\"/><path class=\"point\" transform=\"translate(588.46,300.25)\" d=\"M3,0A3,3 0 1,1 0,-3A3,3 0 0,1 3,0Z\" style=\"opacity: 1; stroke-width: 0px; fill: rgb(99, 110, 250); fill-opacity: 1;\"/><path class=\"point\" transform=\"translate(604.25,300.25)\" d=\"M3,0A3,3 0 1,1 0,-3A3,3 0 0,1 3,0Z\" style=\"opacity: 1; stroke-width: 0px; fill: rgb(99, 110, 250); fill-opacity: 1;\"/></g><g class=\"text\"/></g></g></g><g class=\"overplot\"/><path class=\"xlines-above crisp\" d=\"M0,0\" style=\"fill: none;\"/><path class=\"ylines-above crisp\" d=\"M0,0\" style=\"fill: none;\"/><g class=\"overlines-above\"/><g class=\"xaxislayer-above\"><g class=\"xtick\"><text text-anchor=\"middle\" x=\"0\" y=\"433\" transform=\"translate(115.75,0)\" style=\"font-family: 'Open Sans', verdana, arial, sans-serif; font-size: 12px; fill: rgb(42, 63, 95); fill-opacity: 1; white-space: pre; opacity: 1;\">0</text></g><g class=\"xtick\"><text text-anchor=\"middle\" x=\"0\" y=\"433\" style=\"font-family: 'Open Sans', verdana, arial, sans-serif; font-size: 12px; fill: rgb(42, 63, 95); fill-opacity: 1; white-space: pre; opacity: 1;\" transform=\"translate(194.70999999999998,0)\">5</text></g><g class=\"xtick\"><text text-anchor=\"middle\" x=\"0\" y=\"433\" style=\"font-family: 'Open Sans', verdana, arial, sans-serif; font-size: 12px; fill: rgb(42, 63, 95); fill-opacity: 1; white-space: pre; opacity: 1;\" transform=\"translate(273.66999999999996,0)\">10</text></g><g class=\"xtick\"><text text-anchor=\"middle\" x=\"0\" y=\"433\" style=\"font-family: 'Open Sans', verdana, arial, sans-serif; font-size: 12px; fill: rgb(42, 63, 95); fill-opacity: 1; white-space: pre; opacity: 1;\" transform=\"translate(352.63,0)\">15</text></g><g class=\"xtick\"><text text-anchor=\"middle\" x=\"0\" y=\"433\" style=\"font-family: 'Open Sans', verdana, arial, sans-serif; font-size: 12px; fill: rgb(42, 63, 95); fill-opacity: 1; white-space: pre; opacity: 1;\" transform=\"translate(431.58,0)\">20</text></g><g class=\"xtick\"><text text-anchor=\"middle\" x=\"0\" y=\"433\" style=\"font-family: 'Open Sans', verdana, arial, sans-serif; font-size: 12px; fill: rgb(42, 63, 95); fill-opacity: 1; white-space: pre; opacity: 1;\" transform=\"translate(510.54,0)\">25</text></g><g class=\"xtick\"><text text-anchor=\"middle\" x=\"0\" y=\"433\" style=\"font-family: 'Open Sans', verdana, arial, sans-serif; font-size: 12px; fill: rgb(42, 63, 95); fill-opacity: 1; white-space: pre; opacity: 1;\" transform=\"translate(589.5,0)\">30</text></g><g class=\"xtick\"><text text-anchor=\"middle\" x=\"0\" y=\"433\" style=\"font-family: 'Open Sans', verdana, arial, sans-serif; font-size: 12px; fill: rgb(42, 63, 95); fill-opacity: 1; white-space: pre; opacity: 1;\" transform=\"translate(668.46,0)\">35</text></g></g><g class=\"yaxislayer-above\"><g class=\"ytick\"><text text-anchor=\"end\" x=\"79\" y=\"4.199999999999999\" transform=\"translate(0,400.25)\" style=\"font-family: 'Open Sans', verdana, arial, sans-serif; font-size: 12px; fill: rgb(42, 63, 95); fill-opacity: 1; white-space: pre; opacity: 1;\">0</text></g><g class=\"ytick\"><text text-anchor=\"end\" x=\"79\" y=\"4.199999999999999\" style=\"font-family: 'Open Sans', verdana, arial, sans-serif; font-size: 12px; fill: rgb(42, 63, 95); fill-opacity: 1; white-space: pre; opacity: 1;\" transform=\"translate(0,356.69)\">2</text></g><g class=\"ytick\"><text text-anchor=\"end\" x=\"79\" y=\"4.199999999999999\" style=\"font-family: 'Open Sans', verdana, arial, sans-serif; font-size: 12px; fill: rgb(42, 63, 95); fill-opacity: 1; white-space: pre; opacity: 1;\" transform=\"translate(0,313.14)\">4</text></g><g class=\"ytick\"><text text-anchor=\"end\" x=\"79\" y=\"4.199999999999999\" style=\"font-family: 'Open Sans', verdana, arial, sans-serif; font-size: 12px; fill: rgb(42, 63, 95); fill-opacity: 1; white-space: pre; opacity: 1;\" transform=\"translate(0,269.58000000000004)\">6</text></g><g class=\"ytick\"><text text-anchor=\"end\" x=\"79\" y=\"4.199999999999999\" style=\"font-family: 'Open Sans', verdana, arial, sans-serif; font-size: 12px; fill: rgb(42, 63, 95); fill-opacity: 1; white-space: pre; opacity: 1;\" transform=\"translate(0,226.03)\">8</text></g><g class=\"ytick\"><text text-anchor=\"end\" x=\"79\" y=\"4.199999999999999\" style=\"font-family: 'Open Sans', verdana, arial, sans-serif; font-size: 12px; fill: rgb(42, 63, 95); fill-opacity: 1; white-space: pre; opacity: 1;\" transform=\"translate(0,182.47)\">10</text></g><g class=\"ytick\"><text text-anchor=\"end\" x=\"79\" y=\"4.199999999999999\" style=\"font-family: 'Open Sans', verdana, arial, sans-serif; font-size: 12px; fill: rgb(42, 63, 95); fill-opacity: 1; white-space: pre; opacity: 1;\" transform=\"translate(0,138.91)\">12</text></g></g><g class=\"overaxes-above\"/></g></g><g class=\"polarlayer\"/><g class=\"smithlayer\"/><g class=\"ternarylayer\"/><g class=\"geolayer\"/><g class=\"funnelarealayer\"/><g class=\"pielayer\"/><g class=\"iciclelayer\"/><g class=\"treemaplayer\"/><g class=\"sunburstlayer\"/><g class=\"glimages\"/><defs id=\"topdefs-80f9f6\"><g class=\"clips\"/></defs><g class=\"layer-above\"><g class=\"imagelayer\"/><g class=\"shapelayer\"/></g><g class=\"infolayer\"><g class=\"g-gtitle\"><text class=\"gtitle\" x=\"40\" y=\"50\" text-anchor=\"start\" dy=\"0em\" style=\"font-family: 'Open Sans', verdana, arial, sans-serif; font-size: 17px; fill: rgb(42, 63, 95); opacity: 1; font-weight: normal; white-space: pre;\">Scree Plot for PCA</text></g><g class=\"g-xtitle\"><text class=\"xtitle\" x=\"400\" y=\"460.3\" text-anchor=\"middle\" style=\"font-family: 'Open Sans', verdana, arial, sans-serif; font-size: 14px; fill: rgb(42, 63, 95); opacity: 1; font-weight: normal; white-space: pre;\">Eigen Value Size</text></g><g class=\"g-ytitle\"><text class=\"ytitle\" transform=\"rotate(-90,38.934375,260)\" x=\"38.934375\" y=\"260\" text-anchor=\"middle\" style=\"font-family: 'Open Sans', verdana, arial, sans-serif; font-size: 14px; fill: rgb(42, 63, 95); opacity: 1; font-weight: normal; white-space: pre;\">Eigen Value Number</text></g></g></svg>"
     },
     "metadata": {},
     "output_type": "display_data"
    }
   ],
   "source": [
    "# Plot the scree plot\n",
    "fig = px.line(experiment_pca_eigen_values, x='Eigen Value Size', y=\"Eigen Value Number\", markers=True, title=\"Scree Plot for PCA\")\n",
    "fig.show()"
   ]
  },
  {
   "cell_type": "markdown",
   "metadata": {},
   "source": [
    "There exist an elbow at 5 components in the scree plot but the variance explained by those many components may not be sufficient. Further evaluation is necessary for the variance explained."
   ]
  },
  {
   "cell_type": "code",
   "execution_count": 67,
   "metadata": {
    "tags": [
     "hide-cell"
    ]
   },
   "outputs": [],
   "source": [
    "# Find the cumulative variances across the components\n",
    "exp_var = experiment_pca.explained_variance_ratio_ * 100\n",
    "cum_exp_var = np.cumsum(exp_var)"
   ]
  },
  {
   "cell_type": "code",
   "execution_count": 74,
   "metadata": {
    "tags": [
     "hide-input"
    ]
   },
   "outputs": [
    {
     "data": {
      "text/html": [
       "<div>\n",
       "<style scoped>\n",
       "    .dataframe tbody tr th:only-of-type {\n",
       "        vertical-align: middle;\n",
       "    }\n",
       "\n",
       "    .dataframe tbody tr th {\n",
       "        vertical-align: top;\n",
       "    }\n",
       "\n",
       "    .dataframe thead th {\n",
       "        text-align: right;\n",
       "    }\n",
       "</style>\n",
       "<table border=\"1\" class=\"dataframe\">\n",
       "  <thead>\n",
       "    <tr style=\"text-align: right;\">\n",
       "      <th></th>\n",
       "      <th>Components</th>\n",
       "      <th>Explained Variance</th>\n",
       "      <th>Cumulative Explained Variance</th>\n",
       "    </tr>\n",
       "  </thead>\n",
       "  <tbody>\n",
       "    <tr>\n",
       "      <th>0</th>\n",
       "      <td>0</td>\n",
       "      <td>12.880015</td>\n",
       "      <td>12.880015</td>\n",
       "    </tr>\n",
       "    <tr>\n",
       "      <th>1</th>\n",
       "      <td>1</td>\n",
       "      <td>7.050662</td>\n",
       "      <td>19.930677</td>\n",
       "    </tr>\n",
       "    <tr>\n",
       "      <th>2</th>\n",
       "      <td>2</td>\n",
       "      <td>5.953163</td>\n",
       "      <td>25.883840</td>\n",
       "    </tr>\n",
       "    <tr>\n",
       "      <th>3</th>\n",
       "      <td>3</td>\n",
       "      <td>5.616665</td>\n",
       "      <td>31.500505</td>\n",
       "    </tr>\n",
       "    <tr>\n",
       "      <th>4</th>\n",
       "      <td>4</td>\n",
       "      <td>4.847132</td>\n",
       "      <td>36.347637</td>\n",
       "    </tr>\n",
       "    <tr>\n",
       "      <th>5</th>\n",
       "      <td>5</td>\n",
       "      <td>3.378421</td>\n",
       "      <td>39.726058</td>\n",
       "    </tr>\n",
       "    <tr>\n",
       "      <th>6</th>\n",
       "      <td>6</td>\n",
       "      <td>3.326492</td>\n",
       "      <td>43.052549</td>\n",
       "    </tr>\n",
       "    <tr>\n",
       "      <th>7</th>\n",
       "      <td>7</td>\n",
       "      <td>3.176691</td>\n",
       "      <td>46.229240</td>\n",
       "    </tr>\n",
       "    <tr>\n",
       "      <th>8</th>\n",
       "      <td>8</td>\n",
       "      <td>3.124685</td>\n",
       "      <td>49.353925</td>\n",
       "    </tr>\n",
       "    <tr>\n",
       "      <th>9</th>\n",
       "      <td>9</td>\n",
       "      <td>3.060913</td>\n",
       "      <td>52.414839</td>\n",
       "    </tr>\n",
       "  </tbody>\n",
       "</table>\n",
       "</div>"
      ],
      "text/plain": [
       "   Components  Explained Variance  Cumulative Explained Variance\n",
       "0           0           12.880015                      12.880015\n",
       "1           1            7.050662                      19.930677\n",
       "2           2            5.953163                      25.883840\n",
       "3           3            5.616665                      31.500505\n",
       "4           4            4.847132                      36.347637\n",
       "5           5            3.378421                      39.726058\n",
       "6           6            3.326492                      43.052549\n",
       "7           7            3.176691                      46.229240\n",
       "8           8            3.124685                      49.353925\n",
       "9           9            3.060913                      52.414839"
      ]
     },
     "execution_count": 74,
     "metadata": {},
     "output_type": "execute_result"
    }
   ],
   "source": [
    "# Store the cumulative results\n",
    "exp_var_df = pd.DataFrame([exp_var, cum_exp_var]).T.reset_index()\n",
    "exp_var_df.columns = [\"Components\", \"Explained Variance\", \"Cumulative Explained Variance\"]\n",
    "exp_var_df.head(10)"
   ]
  },
  {
   "cell_type": "code",
   "execution_count": 91,
   "metadata": {
    "tags": [
     "hide-input"
    ]
   },
   "outputs": [
    {
     "data": {
      "image/svg+xml": "<svg class=\"main-svg\" xmlns=\"http://www.w3.org/2000/svg\" xmlns:xlink=\"http://www.w3.org/1999/xlink\" width=\"800\" height=\"500\" style=\"\" viewBox=\"0 0 800 500\"><rect x=\"0\" y=\"0\" width=\"800\" height=\"500\" style=\"fill: rgb(255, 255, 255); fill-opacity: 1;\"/><defs id=\"defs-6b4227\"><g class=\"clips\"><clipPath id=\"clip6b4227xyplot\" class=\"plotclip\"><rect width=\"640\" height=\"360\"/></clipPath><clipPath class=\"axesclip\" id=\"clip6b4227x\"><rect x=\"80\" y=\"0\" width=\"640\" height=\"500\"/></clipPath><clipPath class=\"axesclip\" id=\"clip6b4227y\"><rect x=\"0\" y=\"60\" width=\"800\" height=\"360\"/></clipPath><clipPath class=\"axesclip\" id=\"clip6b4227xy\"><rect x=\"80\" y=\"60\" width=\"640\" height=\"360\"/></clipPath></g><g class=\"gradients\"/><g class=\"patterns\"/></defs><g class=\"bglayer\"><rect class=\"bg\" x=\"80\" y=\"60\" width=\"640\" height=\"360\" style=\"fill: rgb(229, 236, 246); fill-opacity: 1; stroke-width: 0;\"/></g><g class=\"layer-below\"><g class=\"imagelayer\"/><g class=\"shapelayer\"/></g><g class=\"cartesianlayer\"><g class=\"subplot xy\"><g class=\"layer-subplot\"><g class=\"shapelayer\"/><g class=\"imagelayer\"/></g><g class=\"minor-gridlayer\"><g class=\"x\"/><g class=\"y\"/></g><g class=\"gridlayer\"><g class=\"x\"/><g class=\"y\"><path class=\"ygrid crisp\" transform=\"translate(0,351.6)\" d=\"M80,0h640\" style=\"stroke: rgb(255, 255, 255); stroke-opacity: 1; stroke-width: 1px;\"/><path class=\"ygrid crisp\" transform=\"translate(0,283.2)\" d=\"M80,0h640\" style=\"stroke: rgb(255, 255, 255); stroke-opacity: 1; stroke-width: 1px;\"/><path class=\"ygrid crisp\" transform=\"translate(0,214.8)\" d=\"M80,0h640\" style=\"stroke: rgb(255, 255, 255); stroke-opacity: 1; stroke-width: 1px;\"/><path class=\"ygrid crisp\" transform=\"translate(0,146.4)\" d=\"M80,0h640\" style=\"stroke: rgb(255, 255, 255); stroke-opacity: 1; stroke-width: 1px;\"/><path class=\"ygrid crisp\" transform=\"translate(0,78)\" d=\"M80,0h640\" style=\"stroke: rgb(255, 255, 255); stroke-opacity: 1; stroke-width: 1px;\"/></g></g><g class=\"zerolinelayer\"><path class=\"yzl zl crisp\" transform=\"translate(0,420)\" d=\"M80,0h640\" style=\"stroke: rgb(255, 255, 255); stroke-opacity: 1; stroke-width: 2px;\"/></g><path class=\"xlines-below\"/><path class=\"ylines-below\"/><g class=\"overlines-below\"/><g class=\"xaxislayer-below\"/><g class=\"yaxislayer-below\"/><g class=\"overaxes-below\"/><g class=\"plot\" transform=\"translate(80,60)\" clip-path=\"url(#clip6b4227xyplot)\"><g class=\"barlayer mlayer\"><g class=\"trace bars\" style=\"opacity: 1;\"><g class=\"points\"><g class=\"point\"><path d=\"M1.73,360V315.95H15.57V360Z\" style=\"vector-effect: non-scaling-stroke; opacity: 1; stroke-width: 0.5px; fill: rgb(99, 110, 250); fill-opacity: 1; stroke: rgb(229, 236, 246); stroke-opacity: 1;\"/></g><g class=\"point\"><path d=\"M19.03,360V335.89H32.86V360Z\" style=\"vector-effect: non-scaling-stroke; opacity: 1; stroke-width: 0.5px; fill: rgb(99, 110, 250); fill-opacity: 1; stroke: rgb(229, 236, 246); stroke-opacity: 1;\"/></g><g class=\"point\"><path d=\"M36.32,360V339.64H50.16V360Z\" style=\"vector-effect: non-scaling-stroke; opacity: 1; stroke-width: 0.5px; fill: rgb(99, 110, 250); fill-opacity: 1; stroke: rgb(229, 236, 246); stroke-opacity: 1;\"/></g><g class=\"point\"><path d=\"M53.62,360V340.79H67.46V360Z\" style=\"vector-effect: non-scaling-stroke; opacity: 1; stroke-width: 0.5px; fill: rgb(99, 110, 250); fill-opacity: 1; stroke: rgb(229, 236, 246); stroke-opacity: 1;\"/></g><g class=\"point\"><path d=\"M70.92,360V343.42H84.76V360Z\" style=\"vector-effect: non-scaling-stroke; opacity: 1; stroke-width: 0.5px; fill: rgb(99, 110, 250); fill-opacity: 1; stroke: rgb(229, 236, 246); stroke-opacity: 1;\"/></g><g class=\"point\"><path d=\"M88.22,360V348.45H102.05V360Z\" style=\"vector-effect: non-scaling-stroke; opacity: 1; stroke-width: 0.5px; fill: rgb(99, 110, 250); fill-opacity: 1; stroke: rgb(229, 236, 246); stroke-opacity: 1;\"/></g><g class=\"point\"><path d=\"M105.51,360V348.62H119.35V360Z\" style=\"vector-effect: non-scaling-stroke; opacity: 1; stroke-width: 0.5px; fill: rgb(99, 110, 250); fill-opacity: 1; stroke: rgb(229, 236, 246); stroke-opacity: 1;\"/></g><g class=\"point\"><path d=\"M122.81,360V349.14H136.65V360Z\" style=\"vector-effect: non-scaling-stroke; opacity: 1; stroke-width: 0.5px; fill: rgb(99, 110, 250); fill-opacity: 1; stroke: rgb(229, 236, 246); stroke-opacity: 1;\"/></g><g class=\"point\"><path d=\"M140.11,360V349.31H153.95V360Z\" style=\"vector-effect: non-scaling-stroke; opacity: 1; stroke-width: 0.5px; fill: rgb(99, 110, 250); fill-opacity: 1; stroke: rgb(229, 236, 246); stroke-opacity: 1;\"/></g><g class=\"point\"><path d=\"M157.41,360V349.53H171.24V360Z\" style=\"vector-effect: non-scaling-stroke; opacity: 1; stroke-width: 0.5px; fill: rgb(99, 110, 250); fill-opacity: 1; stroke: rgb(229, 236, 246); stroke-opacity: 1;\"/></g><g class=\"point\"><path d=\"M174.7,360V349.88H188.54V360Z\" style=\"vector-effect: non-scaling-stroke; opacity: 1; stroke-width: 0.5px; fill: rgb(99, 110, 250); fill-opacity: 1; stroke: rgb(229, 236, 246); stroke-opacity: 1;\"/></g><g class=\"point\"><path d=\"M192,360V350.01H205.84V360Z\" style=\"vector-effect: non-scaling-stroke; opacity: 1; stroke-width: 0.5px; fill: rgb(99, 110, 250); fill-opacity: 1; stroke: rgb(229, 236, 246); stroke-opacity: 1;\"/></g><g class=\"point\"><path d=\"M209.3,360V350.18H223.14V360Z\" style=\"vector-effect: non-scaling-stroke; opacity: 1; stroke-width: 0.5px; fill: rgb(99, 110, 250); fill-opacity: 1; stroke: rgb(229, 236, 246); stroke-opacity: 1;\"/></g><g class=\"point\"><path d=\"M226.59,360V350.32H240.43V360Z\" style=\"vector-effect: non-scaling-stroke; opacity: 1; stroke-width: 0.5px; fill: rgb(99, 110, 250); fill-opacity: 1; stroke: rgb(229, 236, 246); stroke-opacity: 1;\"/></g><g class=\"point\"><path d=\"M243.89,360V350.41H257.73V360Z\" style=\"vector-effect: non-scaling-stroke; opacity: 1; stroke-width: 0.5px; fill: rgb(99, 110, 250); fill-opacity: 1; stroke: rgb(229, 236, 246); stroke-opacity: 1;\"/></g><g class=\"point\"><path d=\"M261.19,360V350.45H275.03V360Z\" style=\"vector-effect: non-scaling-stroke; opacity: 1; stroke-width: 0.5px; fill: rgb(99, 110, 250); fill-opacity: 1; stroke: rgb(229, 236, 246); stroke-opacity: 1;\"/></g><g class=\"point\"><path d=\"M278.49,360V350.49H292.32V360Z\" style=\"vector-effect: non-scaling-stroke; opacity: 1; stroke-width: 0.5px; fill: rgb(99, 110, 250); fill-opacity: 1; stroke: rgb(229, 236, 246); stroke-opacity: 1;\"/></g><g class=\"point\"><path d=\"M295.78,360V350.54H309.62V360Z\" style=\"vector-effect: non-scaling-stroke; opacity: 1; stroke-width: 0.5px; fill: rgb(99, 110, 250); fill-opacity: 1; stroke: rgb(229, 236, 246); stroke-opacity: 1;\"/></g><g class=\"point\"><path d=\"M313.08,360V350.67H326.92V360Z\" style=\"vector-effect: non-scaling-stroke; opacity: 1; stroke-width: 0.5px; fill: rgb(99, 110, 250); fill-opacity: 1; stroke: rgb(229, 236, 246); stroke-opacity: 1;\"/></g><g class=\"point\"><path d=\"M330.38,360V350.79H344.22V360Z\" style=\"vector-effect: non-scaling-stroke; opacity: 1; stroke-width: 0.5px; fill: rgb(99, 110, 250); fill-opacity: 1; stroke: rgb(229, 236, 246); stroke-opacity: 1;\"/></g><g class=\"point\"><path d=\"M347.68,360V350.93H361.51V360Z\" style=\"vector-effect: non-scaling-stroke; opacity: 1; stroke-width: 0.5px; fill: rgb(99, 110, 250); fill-opacity: 1; stroke: rgb(229, 236, 246); stroke-opacity: 1;\"/></g><g class=\"point\"><path d=\"M364.97,360V351H378.81V360Z\" style=\"vector-effect: non-scaling-stroke; opacity: 1; stroke-width: 0.5px; fill: rgb(99, 110, 250); fill-opacity: 1; stroke: rgb(229, 236, 246); stroke-opacity: 1;\"/></g><g class=\"point\"><path d=\"M382.27,360V351.46H396.11V360Z\" style=\"vector-effect: non-scaling-stroke; opacity: 1; stroke-width: 0.5px; fill: rgb(99, 110, 250); fill-opacity: 1; stroke: rgb(229, 236, 246); stroke-opacity: 1;\"/></g><g class=\"point\"><path d=\"M399.57,360V351.82H413.41V360Z\" style=\"vector-effect: non-scaling-stroke; opacity: 1; stroke-width: 0.5px; fill: rgb(99, 110, 250); fill-opacity: 1; stroke: rgb(229, 236, 246); stroke-opacity: 1;\"/></g><g class=\"point\"><path d=\"M416.86,360V352.16H430.7V360Z\" style=\"vector-effect: non-scaling-stroke; opacity: 1; stroke-width: 0.5px; fill: rgb(99, 110, 250); fill-opacity: 1; stroke: rgb(229, 236, 246); stroke-opacity: 1;\"/></g><g class=\"point\"><path d=\"M434.16,360V352.5H448V360Z\" style=\"vector-effect: non-scaling-stroke; opacity: 1; stroke-width: 0.5px; fill: rgb(99, 110, 250); fill-opacity: 1; stroke: rgb(229, 236, 246); stroke-opacity: 1;\"/></g><g class=\"point\"><path d=\"M451.46,360V353.65H465.3V360Z\" style=\"vector-effect: non-scaling-stroke; opacity: 1; stroke-width: 0.5px; fill: rgb(99, 110, 250); fill-opacity: 1; stroke: rgb(229, 236, 246); stroke-opacity: 1;\"/></g><g class=\"point\"><path d=\"M468.76,360V355.27H482.59V360Z\" style=\"vector-effect: non-scaling-stroke; opacity: 1; stroke-width: 0.5px; fill: rgb(99, 110, 250); fill-opacity: 1; stroke: rgb(229, 236, 246); stroke-opacity: 1;\"/></g><g class=\"point\"><path d=\"M486.05,360V357.18H499.89V360Z\" style=\"vector-effect: non-scaling-stroke; opacity: 1; stroke-width: 0.5px; fill: rgb(99, 110, 250); fill-opacity: 1; stroke: rgb(229, 236, 246); stroke-opacity: 1;\"/></g><g class=\"point\"><path d=\"M503.35,360V358.68H517.19V360Z\" style=\"vector-effect: non-scaling-stroke; opacity: 1; stroke-width: 0.5px; fill: rgb(99, 110, 250); fill-opacity: 1; stroke: rgb(229, 236, 246); stroke-opacity: 1;\"/></g><g class=\"point\"><path d=\"M520.65,360V359.17H534.49V360Z\" style=\"vector-effect: non-scaling-stroke; opacity: 1; stroke-width: 0.5px; fill: rgb(99, 110, 250); fill-opacity: 1; stroke: rgb(229, 236, 246); stroke-opacity: 1;\"/></g><g class=\"point\"><path d=\"M537.95,360V359.79H551.78V360Z\" style=\"vector-effect: non-scaling-stroke; opacity: 1; stroke-width: 0.5px; fill: rgb(99, 110, 250); fill-opacity: 1; stroke: rgb(229, 236, 246); stroke-opacity: 1;\"/></g><g class=\"point\"><path d=\"M555.24,360V359.91H569.08V360Z\" style=\"vector-effect: non-scaling-stroke; opacity: 1; stroke-width: 0.5px; fill: rgb(99, 110, 250); fill-opacity: 1; stroke: rgb(229, 236, 246); stroke-opacity: 1;\"/></g><g class=\"point\"><path d=\"M572.54,360V360H586.38V360Z\" style=\"vector-effect: non-scaling-stroke; opacity: 1; stroke-width: 0.5px; fill: rgb(99, 110, 250); fill-opacity: 1; stroke: rgb(229, 236, 246); stroke-opacity: 1;\"/></g><g class=\"point\"><path d=\"M589.84,360V360H603.68V360Z\" style=\"vector-effect: non-scaling-stroke; opacity: 1; stroke-width: 0.5px; fill: rgb(99, 110, 250); fill-opacity: 1; stroke: rgb(229, 236, 246); stroke-opacity: 1;\"/></g><g class=\"point\"><path d=\"M607.14,360V360H620.97V360Z\" style=\"vector-effect: non-scaling-stroke; opacity: 1; stroke-width: 0.5px; fill: rgb(99, 110, 250); fill-opacity: 1; stroke: rgb(229, 236, 246); stroke-opacity: 1;\"/></g><g class=\"point\"><path d=\"M624.43,360V360H638.27V360Z\" style=\"vector-effect: non-scaling-stroke; opacity: 1; stroke-width: 0.5px; fill: rgb(99, 110, 250); fill-opacity: 1; stroke: rgb(229, 236, 246); stroke-opacity: 1;\"/></g></g></g></g><g class=\"scatterlayer mlayer\"><g class=\"trace scatter trace69c3f8\" style=\"stroke-miterlimit: 2; opacity: 1;\"><g class=\"fills\"/><g class=\"errorbars\"/><g class=\"lines\"><path class=\"js-line\" d=\"M8.65,315.95V291.84H25.95V271.48H43.24V252.27H60.54V235.69H77.84V224.14H95.14V212.76H112.43V201.9H129.73V191.21H147.03V180.74H164.32V170.63H181.62V160.64H198.92V150.82H216.22V141.14H233.51V131.54H250.81V121.99H268.11V112.49H285.41V103.03H302.7V93.7H320V84.49H337.3V75.42H354.59V66.42H371.89V57.88H389.19V49.69H406.49V41.86H423.78V34.36H441.08V28.01H458.38V23.27H475.68V20.45H492.97V19.13H510.27V18.3H527.57V18.09H544.86V18H562.16V18H579.46V18H596.76V18H614.05V18H631.35\" style=\"vector-effect: non-scaling-stroke; fill: none; stroke: rgb(255, 0, 0); stroke-opacity: 1; stroke-width: 2px; opacity: 1;\"/></g><g class=\"points\"/><g class=\"text\"/></g></g></g><g class=\"overplot\"/><path class=\"xlines-above crisp\" d=\"M0,0\" style=\"fill: none;\"/><path class=\"ylines-above crisp\" d=\"M0,0\" style=\"fill: none;\"/><g class=\"overlines-above\"/><g class=\"xaxislayer-above\"><g class=\"xtick\"><text text-anchor=\"middle\" x=\"0\" y=\"433\" transform=\"translate(88.65,0)\" style=\"font-family: 'Open Sans', verdana, arial, sans-serif; font-size: 12px; fill: rgb(42, 63, 95); fill-opacity: 1; white-space: pre; opacity: 1;\">0</text></g><g class=\"xtick\"><text text-anchor=\"middle\" x=\"0\" y=\"433\" style=\"font-family: 'Open Sans', verdana, arial, sans-serif; font-size: 12px; fill: rgb(42, 63, 95); fill-opacity: 1; white-space: pre; opacity: 1;\" transform=\"translate(175.14,0)\">5</text></g><g class=\"xtick\"><text text-anchor=\"middle\" x=\"0\" y=\"433\" style=\"font-family: 'Open Sans', verdana, arial, sans-serif; font-size: 12px; fill: rgb(42, 63, 95); fill-opacity: 1; white-space: pre; opacity: 1;\" transform=\"translate(261.62,0)\">10</text></g><g class=\"xtick\"><text text-anchor=\"middle\" x=\"0\" y=\"433\" style=\"font-family: 'Open Sans', verdana, arial, sans-serif; font-size: 12px; fill: rgb(42, 63, 95); fill-opacity: 1; white-space: pre; opacity: 1;\" transform=\"translate(348.11,0)\">15</text></g><g class=\"xtick\"><text text-anchor=\"middle\" x=\"0\" y=\"433\" style=\"font-family: 'Open Sans', verdana, arial, sans-serif; font-size: 12px; fill: rgb(42, 63, 95); fill-opacity: 1; white-space: pre; opacity: 1;\" transform=\"translate(434.59,0)\">20</text></g><g class=\"xtick\"><text text-anchor=\"middle\" x=\"0\" y=\"433\" style=\"font-family: 'Open Sans', verdana, arial, sans-serif; font-size: 12px; fill: rgb(42, 63, 95); fill-opacity: 1; white-space: pre; opacity: 1;\" transform=\"translate(521.0799999999999,0)\">25</text></g><g class=\"xtick\"><text text-anchor=\"middle\" x=\"0\" y=\"433\" style=\"font-family: 'Open Sans', verdana, arial, sans-serif; font-size: 12px; fill: rgb(42, 63, 95); fill-opacity: 1; white-space: pre; opacity: 1;\" transform=\"translate(607.57,0)\">30</text></g><g class=\"xtick\"><text text-anchor=\"middle\" x=\"0\" y=\"433\" style=\"font-family: 'Open Sans', verdana, arial, sans-serif; font-size: 12px; fill: rgb(42, 63, 95); fill-opacity: 1; white-space: pre; opacity: 1;\" transform=\"translate(694.05,0)\">35</text></g></g><g class=\"yaxislayer-above\"><g class=\"ytick\"><text text-anchor=\"end\" x=\"79\" y=\"4.199999999999999\" transform=\"translate(0,420)\" style=\"font-family: 'Open Sans', verdana, arial, sans-serif; font-size: 12px; fill: rgb(42, 63, 95); fill-opacity: 1; white-space: pre; opacity: 1;\">0</text></g><g class=\"ytick\"><text text-anchor=\"end\" x=\"79\" y=\"4.199999999999999\" style=\"font-family: 'Open Sans', verdana, arial, sans-serif; font-size: 12px; fill: rgb(42, 63, 95); fill-opacity: 1; white-space: pre; opacity: 1;\" transform=\"translate(0,351.6)\">20</text></g><g class=\"ytick\"><text text-anchor=\"end\" x=\"79\" y=\"4.199999999999999\" style=\"font-family: 'Open Sans', verdana, arial, sans-serif; font-size: 12px; fill: rgb(42, 63, 95); fill-opacity: 1; white-space: pre; opacity: 1;\" transform=\"translate(0,283.2)\">40</text></g><g class=\"ytick\"><text text-anchor=\"end\" x=\"79\" y=\"4.199999999999999\" style=\"font-family: 'Open Sans', verdana, arial, sans-serif; font-size: 12px; fill: rgb(42, 63, 95); fill-opacity: 1; white-space: pre; opacity: 1;\" transform=\"translate(0,214.8)\">60</text></g><g class=\"ytick\"><text text-anchor=\"end\" x=\"79\" y=\"4.199999999999999\" style=\"font-family: 'Open Sans', verdana, arial, sans-serif; font-size: 12px; fill: rgb(42, 63, 95); fill-opacity: 1; white-space: pre; opacity: 1;\" transform=\"translate(0,146.4)\">80</text></g><g class=\"ytick\"><text text-anchor=\"end\" x=\"79\" y=\"4.199999999999999\" style=\"font-family: 'Open Sans', verdana, arial, sans-serif; font-size: 12px; fill: rgb(42, 63, 95); fill-opacity: 1; white-space: pre; opacity: 1;\" transform=\"translate(0,78)\">100</text></g></g><g class=\"overaxes-above\"/></g></g><g class=\"polarlayer\"/><g class=\"smithlayer\"/><g class=\"ternarylayer\"/><g class=\"geolayer\"/><g class=\"funnelarealayer\"/><g class=\"pielayer\"/><g class=\"iciclelayer\"/><g class=\"treemaplayer\"/><g class=\"sunburstlayer\"/><g class=\"glimages\"/><defs id=\"topdefs-6b4227\"><g class=\"clips\"/></defs><g class=\"layer-above\"><g class=\"imagelayer\"/><g class=\"shapelayer\"/></g><g class=\"infolayer\"><g class=\"g-gtitle\"/><g class=\"g-xtitle\"><text class=\"xtitle\" x=\"400\" y=\"460.3\" text-anchor=\"middle\" style=\"font-family: 'Open Sans', verdana, arial, sans-serif; font-size: 14px; fill: rgb(42, 63, 95); opacity: 1; font-weight: normal; white-space: pre;\">Components</text></g><g class=\"g-ytitle\"><text class=\"ytitle\" transform=\"rotate(-90,31.309375000000003,240)\" x=\"31.309375000000003\" y=\"240\" text-anchor=\"middle\" style=\"font-family: 'Open Sans', verdana, arial, sans-serif; font-size: 14px; fill: rgb(42, 63, 95); opacity: 1; font-weight: normal; white-space: pre;\">Explained Variance</text></g></g></svg>"
     },
     "metadata": {},
     "output_type": "display_data"
    }
   ],
   "source": [
    "# Plot the cumulative variance\n",
    "fig1 = px.bar(exp_var_df, x='Components', y='Explained Variance')\n",
    "fig2 = px.line(exp_var_df, x='Components', y='Cumulative Explained Variance', text='Cumulative Explained Variance')\n",
    "fig2.update_traces(mode=\"lines\", line_shape=\"vh\", line_color=\"red\")\n",
    "fig1.add_trace(fig2.data[0])\n",
    "fig1.show()"
   ]
  },
  {
   "cell_type": "markdown",
   "metadata": {},
   "source": [
    "Though an elbow exists at 5 components, those many components are too less to explain the variance in the data. In other words, 5 components will be able to retain a sufficient amount of information for building a model. More than 20 components are required to explain more than 85% of the variance. Hence, it will not be wise to use PCA to reduce the number of dimensions."
   ]
  }
 ],
 "metadata": {
  "kernelspec": {
   "display_name": "Python 3.8.13 ('project')",
   "language": "python",
   "name": "python3"
  },
  "language_info": {
   "codemirror_mode": {
    "name": "ipython",
    "version": 3
   },
   "file_extension": ".py",
   "mimetype": "text/x-python",
   "name": "python",
   "nbconvert_exporter": "python",
   "pygments_lexer": "ipython3",
   "version": "3.8.13"
  },
  "orig_nbformat": 4,
  "vscode": {
   "interpreter": {
    "hash": "af77eb27f514ee114388f6898d9553454263f7eea260918546d16a8e581c8922"
   }
  }
 },
 "nbformat": 4,
 "nbformat_minor": 2
}
