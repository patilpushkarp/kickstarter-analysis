{
 "cells": [
  {
   "cell_type": "markdown",
   "metadata": {},
   "source": [
    "# Logistic Regression"
   ]
  },
  {
   "cell_type": "markdown",
   "metadata": {},
   "source": [
    "## About the algorithm\n",
    "\n",
    "To begin with, one of the most simplest and widely used algorithms in use is logistic regression. It is one of the algorithms in the field of machine learning which is borrowed from statistics. It is the most prominent method for binary classification problems. The name logistic regression comes from the core function that is used in the algorithm which is the logistic function (it is also called sigmoid function) {cite}`brownlee_2020_logreg`.\n",
    "Logistic regression models the probability of the dominant target class given the value of some independent variable. With some mathematical manipulations, it can be shown that log-odds is the linearly dependent on the independent variables. The minimization algorithm used to optimize the best coefficients for the given data is Maximum-Likelihood estimation. This is implemented using various optimization algorithms {cite}`brownlee_2020_logreg`."
   ]
  },
  {
   "cell_type": "code",
   "execution_count": 20,
   "metadata": {
    "tags": [
     "hide-cell"
    ]
   },
   "outputs": [],
   "source": [
    "# Import necessary packages\n",
    "import pandas as pd\n",
    "import numpy as np\n",
    "import joblib\n",
    "import statsmodels.api as sm\n",
    "from sklearn.model_selection import train_test_split\n",
    "from sklearn.linear_model import LogisticRegression\n",
    "from sklearn.model_selection import GridSearchCV\n",
    "from sklearn.metrics import roc_auc_score, roc_curve, auc, classification_report\n",
    "from sklearn.metrics import ConfusionMatrixDisplay\n",
    "import plotly.express as px\n",
    "import plotly.io as pio\n",
    "svg_renderer = pio.renderers[\"svg\"]\n",
    "svg_renderer.width = 800\n",
    "svg_renderer.height = 500\n",
    "pio.renderers.default = \"svg\""
   ]
  },
  {
   "cell_type": "markdown",
   "metadata": {},
   "source": [
    "## Model without oversample data"
   ]
  },
  {
   "cell_type": "markdown",
   "metadata": {},
   "source": [
    "At first, logistic regression will be used to model data in which the non-dominant class is not oversampled."
   ]
  },
  {
   "cell_type": "code",
   "execution_count": 2,
   "metadata": {
    "tags": [
     "hide-cell"
    ]
   },
   "outputs": [],
   "source": [
    "# Load the data\n",
    "df = pd.read_csv('./../../data/engineered_data.csv')"
   ]
  },
  {
   "cell_type": "code",
   "execution_count": 3,
   "metadata": {
    "tags": [
     "hide-cell"
    ]
   },
   "outputs": [],
   "source": [
    "# Drop the index column\n",
    "df.drop(['Unnamed: 0'], axis=1, inplace=True)"
   ]
  },
  {
   "cell_type": "markdown",
   "metadata": {},
   "source": [
    "Before fitting any model to the data, it is necessary to split the data into training and testing set. The training data will contain 80% of the total observations while the testing data will consist of the remaining 20% of the complete data set."
   ]
  },
  {
   "cell_type": "code",
   "execution_count": 4,
   "metadata": {
    "tags": [
     "hide-cell"
    ]
   },
   "outputs": [],
   "source": [
    "# Split the data into train and test sets\n",
    "X_train, X_test, y_train, y_test = train_test_split(df.drop('state', axis=1), df['state'], test_size=0.2, random_state=42)"
   ]
  },
  {
   "cell_type": "markdown",
   "metadata": {},
   "source": [
    "### Model Building"
   ]
  },
  {
   "cell_type": "markdown",
   "metadata": {},
   "source": [
    "The model will be constructed using the training data only."
   ]
  },
  {
   "cell_type": "markdown",
   "metadata": {},
   "source": [
    "To perform a preliminary check on the data, it will be prudent to train logistic regression with default parameters. This will allow us to gauge whether the data is separable or not."
   ]
  },
  {
   "cell_type": "markdown",
   "metadata": {},
   "source": [
    "On training with the most basic version of logistic regression i.e. logistic regression with default values, the following results can be obtained:"
   ]
  },
  {
   "cell_type": "code",
   "execution_count": 9,
   "metadata": {
    "tags": [
     "hide-input"
    ]
   },
   "outputs": [
    {
     "name": "stdout",
     "output_type": "stream",
     "text": [
      "Optimization terminated successfully.\n",
      "         Current function value: 0.295182\n",
      "         Iterations 10\n"
     ]
    }
   ],
   "source": [
    "sm_logreg_obj = sm.Logit(y_train, sm.add_constant(X_train))\n",
    "sm_logreg = sm_logreg_obj.fit()"
   ]
  },
  {
   "cell_type": "code",
   "execution_count": 10,
   "metadata": {
    "tags": [
     "hide-input"
    ]
   },
   "outputs": [
    {
     "name": "stdout",
     "output_type": "stream",
     "text": [
      "                           Logit Regression Results                           \n",
      "==============================================================================\n",
      "Dep. Variable:                  state   No. Observations:                11889\n",
      "Model:                          Logit   Df Residuals:                    11854\n",
      "Method:                           MLE   Df Model:                           34\n",
      "Date:                Sun, 04 Dec 2022   Pseudo R-squ.:                  0.5237\n",
      "Time:                        09:08:06   Log-Likelihood:                -3509.4\n",
      "converged:                       True   LL-Null:                       -7368.0\n",
      "Covariance Type:            nonrobust   LLR p-value:                     0.000\n",
      "==========================================================================================\n",
      "                             coef    std err          z      P>|z|      [0.025      0.975]\n",
      "------------------------------------------------------------------------------------------\n",
      "const                      1.3176        nan        nan        nan         nan         nan\n",
      "goal                      -7.5488        nan        nan        nan         nan         nan\n",
      "currency_trailing_code    -0.9830        nan        nan        nan         nan         nan\n",
      "staff_pick                 0.5104        nan        nan        nan         nan         nan\n",
      "backers_count              4.3151        nan        nan        nan         nan         nan\n",
      "static_usd_rate           -2.5193        nan        nan        nan         nan         nan\n",
      "name_len_clean             0.1539        nan        nan        nan         nan         nan\n",
      "blurb_len_clean            0.0453      0.043      1.046      0.296      -0.040       0.130\n",
      "country_AU                -0.9881        nan        nan        nan         nan         nan\n",
      "country_CA                -0.1150        nan        nan        nan         nan         nan\n",
      "country_DE                 1.0080        nan        nan        nan         nan         nan\n",
      "country_FR                 1.1130      0.279      3.983      0.000       0.565       1.661\n",
      "country_GB                 0.1924   3.21e+07      6e-09      1.000   -6.29e+07    6.29e+07\n",
      "country_IT                 0.2303      0.518      0.445      0.656      -0.784       1.245\n",
      "country_NL                 0.5515        nan        nan        nan         nan         nan\n",
      "country_US                 0.0387   3.76e+16   1.03e-18      1.000   -7.37e+16    7.37e+16\n",
      "currency_CAD              -0.1150        nan        nan        nan         nan         nan\n",
      "currency_EUR              -1.4620        nan        nan        nan         nan         nan\n",
      "currency_GBP               0.1924        nan        nan        nan         nan         nan\n",
      "currency_USD               0.0387   3.76e+16   1.03e-18      1.000   -7.37e+16    7.37e+16\n",
      "category_Experimental      0.6598      0.264      2.499      0.012       0.142       1.177\n",
      "category_Festivals         1.1085      0.018     60.880      0.000       1.073       1.144\n",
      "category_Flight           -0.4252      0.181     -2.355      0.019      -0.779      -0.071\n",
      "category_Gadgets          -1.0267        nan        nan        nan         nan         nan\n",
      "category_Hardware         -0.5811        nan        nan        nan         nan         nan\n",
      "category_Immersive         0.5257        nan        nan        nan         nan         nan\n",
      "category_Makerspaces       0.1284      0.416      0.309      0.758      -0.687       0.944\n",
      "category_Musical           0.7809      0.222      3.519      0.000       0.346       1.216\n",
      "category_Plays             0.9115      0.039     23.220      0.000       0.835       0.988\n",
      "category_Robots            0.1929      0.159      1.213      0.225      -0.119       0.504\n",
      "category_Software         -1.0265      0.157     -6.518      0.000      -1.335      -0.718\n",
      "category_Sound             0.3075      0.131      2.340      0.019       0.050       0.565\n",
      "category_Wearables        -0.6290      0.328     -1.918      0.055      -1.272       0.014\n",
      "category_Web              -1.3792      0.142     -9.695      0.000      -1.658      -1.100\n",
      "created_to_launch         -0.0002      0.000     -0.698      0.485      -0.001       0.000\n",
      "launch_to_deadline        -0.0411      0.001    -27.759      0.000      -0.044      -0.038\n",
      "launch_to_state_change     0.0407        nan        nan        nan         nan         nan\n",
      "twf_launch                -0.0019      0.056     -0.034      0.972      -0.112       0.108\n",
      "==========================================================================================\n",
      "\n",
      "Possibly complete quasi-separation: A fraction 0.12 of observations can be\n",
      "perfectly predicted. This might indicate that there is complete\n",
      "quasi-separation. In this case some parameters will not be identified.\n"
     ]
    }
   ],
   "source": [
    "print(sm_logreg.summary())"
   ]
  },
  {
   "cell_type": "markdown",
   "metadata": {},
   "source": [
    "The p-values for a lot of coefficients are not defined. This signifies that the model is not confident in the values of those coefficients and that there might be a possibility that the data is separable."
   ]
  },
  {
   "cell_type": "markdown",
   "metadata": {},
   "source": [
    "There are certain assumptions associated with logistic regression. One of them is that the data should not be completely separable. To deal with separability, penalized logistic regression is used."
   ]
  },
  {
   "cell_type": "markdown",
   "metadata": {},
   "source": [
    "The penalty that will be used is called \"elastic net\". This algorithm uses a weighted combination of L1 and L2 regularization. There exist parameters to set the proportion of the L1 and L2 regularizations. Also, to find the best hyper-parameters for the algorithm, a grid search will be performed with the following parameter ranges:\n",
    "\n",
    "|Parameter|Description|Values|\n",
    "|--|--|--|\n",
    "|C|Parameter of trust for the training data|$10^{-4}$:$10^4$|\n",
    "|max_iter|Maximum number of iterations to be performed|$100,200,500$|\n",
    "|l1_ratio|Ratio of l1 in the elastic net|$0, 0.3, 0.6, 1$|"
   ]
  },
  {
   "cell_type": "code",
   "execution_count": 11,
   "metadata": {
    "tags": [
     "hide-cell"
    ]
   },
   "outputs": [],
   "source": [
    "# Declare the logistic regression model\n",
    "logreg_clf = LogisticRegression(penalty='elasticnet', fit_intercept=True, class_weight='balanced', solver='saga', random_state=42)\n",
    "\n",
    "# Declare the grid paramters to be searched\n",
    "logreg_params = dict(\n",
    "    C = np.logspace(-4, 4, num=9),\n",
    "    max_iter = [100, 200, 500],\n",
    "    l1_ratio = [0, 0.3, 0.6, 1]\n",
    ")"
   ]
  },
  {
   "cell_type": "code",
   "execution_count": null,
   "metadata": {
    "tags": [
     "hide-cell"
    ]
   },
   "outputs": [],
   "source": [
    "# Declare the gridsearch object\n",
    "grid_search = GridSearchCV(logreg_clf, logreg_params, scoring='roc_auc', n_jobs=7, refit=True, cv=10, verbose=5)\n",
    "\n",
    "# Fit the model\n",
    "grid_result = grid_search.fit(X_train, y_train)"
   ]
  },
  {
   "cell_type": "markdown",
   "metadata": {},
   "source": [
    "### Inferencing"
   ]
  },
  {
   "cell_type": "markdown",
   "metadata": {},
   "source": [
    "The best model is given by the parameters as follows:"
   ]
  },
  {
   "cell_type": "code",
   "execution_count": 13,
   "metadata": {
    "tags": [
     "hide-input"
    ]
   },
   "outputs": [
    {
     "name": "stdout",
     "output_type": "stream",
     "text": [
      "Best score of 0.8809883832925672 is achieved by using {'C': 10.0, 'l1_ratio': 0.3, 'max_iter': 500}\n"
     ]
    }
   ],
   "source": [
    "# Get the best model parameters\n",
    "print(f\"Best score of {grid_search.best_score_} is achieved by using {grid_result.best_params_}\")"
   ]
  },
  {
   "cell_type": "markdown",
   "metadata": {},
   "source": [
    "Since the model is now ready, it should be evaluated for its predictive power. To determine the predictive strength, the test data will be used. Using the coefficients obtained after training the logistic regression, they will be utilized to predict the probabilities of success for the observations present in the test data."
   ]
  },
  {
   "cell_type": "code",
   "execution_count": 14,
   "metadata": {
    "tags": [
     "hide-cell"
    ]
   },
   "outputs": [],
   "source": [
    "# Predict on test data using the model\n",
    "y_pred = grid_search.predict(X_test)\n",
    "y_score = grid_search.predict_proba(X_test)[:, 1]"
   ]
  },
  {
   "cell_type": "markdown",
   "metadata": {},
   "source": [
    "### Evaluation"
   ]
  },
  {
   "cell_type": "markdown",
   "metadata": {},
   "source": [
    "The goodness of the model can be determined by using the Area Under the Curve of Receiver Operating Curve, also known AUC ROC. The closer the value of AUC ROC to 1, the better the model. "
   ]
  },
  {
   "cell_type": "code",
   "execution_count": 15,
   "metadata": {
    "tags": [
     "hide-input"
    ]
   },
   "outputs": [
    {
     "name": "stdout",
     "output_type": "stream",
     "text": [
      "Area under the ROC curve: 0.8829888281528806\n"
     ]
    }
   ],
   "source": [
    "# Find the ROC AUC score\n",
    "print(f\"Area under the ROC curve: {roc_auc_score(y_test, y_score)}\")"
   ]
  },
  {
   "cell_type": "markdown",
   "metadata": {},
   "source": [
    "An AUC score of 0.88 is quite remarkable and it suggest that model is quite good in predicting whether a project on Kickstarter will be succecssful or not."
   ]
  },
  {
   "cell_type": "markdown",
   "metadata": {},
   "source": [
    "For further evaluations, the predicted probabilities need to be converted to specific binary outcomes of success or failure. In order to convert probabilities into binary outcomes, it is necessary to find a threshold above which the outcome will be termed as success and below which the outcome will be termed as failure.\n",
    "The binary outcomes thus determined will be compared with the original outputs of the success of the projects."
   ]
  },
  {
   "cell_type": "code",
   "execution_count": 16,
   "metadata": {
    "tags": [
     "hide-cell"
    ]
   },
   "outputs": [],
   "source": [
    "# Calculate parameters for roc auc curve\n",
    "fpr, tpr, thresholds = roc_curve(y_test, y_score)"
   ]
  },
  {
   "cell_type": "code",
   "execution_count": 17,
   "metadata": {
    "tags": [
     "hide-input"
    ]
   },
   "outputs": [
    {
     "data": {
      "image/svg+xml": "<svg class=\"main-svg\" xmlns=\"http://www.w3.org/2000/svg\" xmlns:xlink=\"http://www.w3.org/1999/xlink\" width=\"800\" height=\"500\" style=\"\" viewBox=\"0 0 800 500\"><rect x=\"0\" y=\"0\" width=\"800\" height=\"500\" style=\"fill: rgb(255, 255, 255); fill-opacity: 1;\"/><defs id=\"defs-19a802\"><g class=\"clips\"><clipPath id=\"clip19a802xyplot\" class=\"plotclip\"><rect width=\"304.99999999999994\" height=\"320\"/></clipPath><clipPath class=\"axesclip\" id=\"clip19a802x\"><rect x=\"247.50000000000003\" y=\"0\" width=\"304.99999999999994\" height=\"500\"/></clipPath><clipPath class=\"axesclip\" id=\"clip19a802y\"><rect x=\"0\" y=\"100\" width=\"800\" height=\"320\"/></clipPath><clipPath class=\"axesclip\" id=\"clip19a802xy\"><rect x=\"247.50000000000003\" y=\"100\" width=\"304.99999999999994\" height=\"320\"/></clipPath></g><g class=\"gradients\"/><g class=\"patterns\"/></defs><g class=\"bglayer\"><rect class=\"bg\" x=\"247.50000000000003\" y=\"100\" width=\"304.99999999999994\" height=\"320\" style=\"fill: rgb(229, 236, 246); fill-opacity: 1; stroke-width: 0;\"/></g><g class=\"layer-below\"><g class=\"imagelayer\"/><g class=\"shapelayer\"/></g><g class=\"cartesianlayer\"><g class=\"subplot xy\"><g class=\"layer-subplot\"><g class=\"shapelayer\"/><g class=\"imagelayer\"/></g><g class=\"minor-gridlayer\"><g class=\"x\"/><g class=\"y\"/></g><g class=\"gridlayer\"><g class=\"x\"><path class=\"xgrid crisp\" transform=\"translate(400,0)\" d=\"M0,100v320\" style=\"stroke: rgb(255, 255, 255); stroke-opacity: 1; stroke-width: 1px;\"/></g><g class=\"y\"><path class=\"ygrid crisp\" transform=\"translate(0,358.4)\" d=\"M247.50000000000003,0h304.99999999999994\" style=\"stroke: rgb(255, 255, 255); stroke-opacity: 1; stroke-width: 1px;\"/><path class=\"ygrid crisp\" transform=\"translate(0,297.8)\" d=\"M247.50000000000003,0h304.99999999999994\" style=\"stroke: rgb(255, 255, 255); stroke-opacity: 1; stroke-width: 1px;\"/><path class=\"ygrid crisp\" transform=\"translate(0,237.2)\" d=\"M247.50000000000003,0h304.99999999999994\" style=\"stroke: rgb(255, 255, 255); stroke-opacity: 1; stroke-width: 1px;\"/><path class=\"ygrid crisp\" transform=\"translate(0,176.6)\" d=\"M247.50000000000003,0h304.99999999999994\" style=\"stroke: rgb(255, 255, 255); stroke-opacity: 1; stroke-width: 1px;\"/><path class=\"ygrid crisp\" transform=\"translate(0,116)\" d=\"M247.50000000000003,0h304.99999999999994\" style=\"stroke: rgb(255, 255, 255); stroke-opacity: 1; stroke-width: 1px;\"/></g></g><g class=\"zerolinelayer\"><path class=\"xzl zl crisp\" transform=\"translate(248.50000000000003,0)\" d=\"M0,100v320\" style=\"stroke: rgb(255, 255, 255); stroke-opacity: 1; stroke-width: 2px;\"/><path class=\"yzl zl crisp\" transform=\"translate(0,419)\" d=\"M247.50000000000003,0h304.99999999999994\" style=\"stroke: rgb(255, 255, 255); stroke-opacity: 1; stroke-width: 2px;\"/></g><path class=\"xlines-below\"/><path class=\"ylines-below\"/><g class=\"overlines-below\"/><g class=\"xaxislayer-below\"/><g class=\"yaxislayer-below\"/><g class=\"overaxes-below\"/><g class=\"plot\" transform=\"translate(247.50000000000003,100)\" clip-path=\"url(#clip19a802xyplot)\"><g class=\"scatterlayer mlayer\"><g class=\"trace scatter trace75fc87\" style=\"stroke-miterlimit: 2;\"><g class=\"fills\"><g><path class=\"js-fill\" d=\"M304,319L1,319L1,319L1.72,280.65L1.87,280.65L2.59,257.16L2.73,257.16L3.31,246.79L3.6,246.79L4.32,240.92L4.47,240.92L5.05,236.08L5.63,236.08L6.35,227.44L6.49,227.44L7.22,212.59L7.36,212.59L8.08,208.1L8.23,208.1L8.95,207.06L9.1,207.06L9.67,200.84L9.96,200.84L10.54,198.77L10.83,198.77L11.55,193.93L11.84,193.93L12.56,188.4L12.71,188.4L13.43,179.77L13.72,179.77L14.44,171.13L14.88,171.13L15.6,169.05L15.75,169.05L16.47,165.6L16.61,165.6L17.34,158.34L17.48,158.34L18.2,154.89L18.78,154.89L19.36,153.16L19.65,153.16L20.37,152.13L20.52,152.13L21.24,148.67L21.38,148.67L22.11,142.8L22.25,142.8L22.68,139L23.12,139L23.84,136.23L23.99,136.23L24.27,134.51L24.85,134.51L25.58,132.09L26.3,132.09L26.73,129.32L27.17,129.32L27.6,127.94L28.03,127.94L28.76,123.45L28.9,123.45L29.48,121.38L29.77,121.38L30.49,118.27L30.64,118.27L31.36,115.5L31.5,115.5L32.08,113.43L32.37,113.43L32.8,111.7L33.38,111.7L34.1,110.32L34.25,110.32L34.68,108.25L36.27,108.25L36.85,106.17L37.57,106.17L38.15,105.48L39.02,105.48L39.02,105.14L40.03,105.14L40.61,104.45L40.9,104.45L41.33,103.41L41.77,103.41L42.2,102.03L42.92,102.03L43.36,100.99L43.79,100.99L44.22,98.23L45.09,98.23L45.81,96.5L46.1,96.5L46.68,95.46L47.4,95.46L47.55,94.77L48.42,94.77L48.56,94.08L49.57,94.08L50.01,92.7L51.31,92.7L51.6,90.63L52.17,90.63L52.17,90.28L53.19,90.28L53.48,89.25L54.92,89.25L55.64,87.17L55.93,87.17L56.66,85.1L57.67,85.1L58.39,84.06L58.54,84.06L58.54,83.37L59.4,83.37L60.13,82.34L60.56,82.34L61.14,81.3L61.43,81.3L61.86,79.92L62.87,79.92L63.31,77.5L63.88,77.5L64.32,76.81L65.62,76.81L66.05,76.12L66.49,76.12L67.21,74.39L67.35,74.39L67.79,72.66L69.38,72.66L70.1,71.28L70.39,71.28L70.82,70.24L71.83,70.24L72.56,68.86L72.85,68.86L72.85,68.52L74,68.52L74.58,67.82L74.87,67.82L75.59,66.79L75.88,66.79L76.46,65.75L76.89,65.75L77.33,64.02L77.76,64.02L77.76,63.68L78.63,63.68L79.21,62.99L79.64,62.99L80.22,62.3L80.65,62.3L81.23,60.91L82.1,60.91L82.68,58.84L83.11,58.84L83.83,57.81L83.98,57.81L83.98,57.46L86.15,57.46L86.15,57.11L88.03,57.11L88.03,56.77L89.62,56.77L89.91,56.08L91.06,56.08L91.5,55.39L91.93,55.39L92.07,54.7L93.66,54.7L93.66,54L94.68,54L95.4,52.62L95.54,52.62L95.69,51.24L96.41,51.24L96.41,50.9L97.28,50.9L97.28,50.55L98.72,50.55L99.16,49.86L99.59,49.86L100.31,48.13L100.89,48.13L101.61,47.44L101.76,47.44L101.76,47.09L102.77,47.09L102.92,46.06L104.36,46.06L104.36,45.71L105.37,45.71L106.1,44.68L106.82,44.68L106.82,43.99L107.98,43.99L107.98,43.64L109.13,43.64L109.85,42.6L110,42.6L110,42.26L112.02,42.26L112.02,41.57L113.32,41.57L113.32,40.53L114.63,40.53L114.63,40.18L116.65,40.18L116.79,39.15L117.66,39.15L117.95,37.77L118.82,37.77L119.25,37.08L120.41,37.08L120.84,36.04L121.27,36.04L121.27,35.69L122.58,35.69L122.58,35.35L123.44,35.35L123.59,34.31L124.6,34.31L124.6,33.62L125.61,33.62L125.61,33.27L126.77,33.27L127.2,32.58L129.37,32.58L129.37,32.24L130.82,32.24L130.96,31.55L131.97,31.55L132.55,30.51L138.77,30.51L138.77,30.17L142.38,30.17L142.38,29.82L144.26,29.82L144.84,28.44L148.31,28.44L148.31,28.09L155.39,28.09L155.39,27.75L159.87,27.75L159.87,27.4L165.51,27.4L165.51,26.71L166.38,26.71L166.38,26.36L167.25,26.36L167.25,25.67L169.7,25.67L169.85,24.98L170.71,24.98L170.71,24.64L173.61,24.64L174.18,23.6L177.36,23.6L177.36,23.26L178.67,23.26L178.67,22.91L187.34,22.91L187.34,22.56L188.5,22.56L188.5,22.22L190.66,22.22L190.95,21.53L191.82,21.53L191.82,21.18L194.86,21.18L194.86,20.84L199.48,20.84L199.48,20.49L201.36,20.49L201.36,20.15L208.3,20.15L208.3,19.8L212.78,19.8L212.78,19.45L213.65,19.45L213.65,19.11L220.3,19.11L220.3,18.76L222.76,18.76L222.76,18.42L234.03,18.42L234.03,18.07L255.57,18.07L255.57,17.73L256.44,17.73L256.44,17.38L264.25,17.38L264.25,17.04L274.51,17.04L274.51,16.69L284.05,16.69L284.05,16.35L288.39,16.35L288.39,16L304,16\" style=\"fill: rgb(99, 110, 250); fill-opacity: 0.5; stroke-width: 0;\"/></g></g><g class=\"errorbars\"/><g class=\"lines\"><path class=\"js-line\" d=\"M1,319L1.72,280.65L1.87,280.65L2.59,257.16L2.73,257.16L3.31,246.79L3.6,246.79L4.32,240.92L4.47,240.92L5.05,236.08L5.63,236.08L6.35,227.44L6.49,227.44L7.22,212.59L7.36,212.59L8.08,208.1L8.23,208.1L8.95,207.06L9.1,207.06L9.67,200.84L9.96,200.84L10.54,198.77L10.83,198.77L11.55,193.93L11.84,193.93L12.56,188.4L12.71,188.4L13.43,179.77L13.72,179.77L14.44,171.13L14.88,171.13L15.6,169.05L15.75,169.05L16.47,165.6L16.61,165.6L17.34,158.34L17.48,158.34L18.2,154.89L18.78,154.89L19.36,153.16L19.65,153.16L20.37,152.13L20.52,152.13L21.24,148.67L21.38,148.67L22.11,142.8L22.25,142.8L22.68,139L23.12,139L23.84,136.23L23.99,136.23L24.27,134.51L24.85,134.51L25.58,132.09L26.3,132.09L26.73,129.32L27.17,129.32L27.6,127.94L28.03,127.94L28.76,123.45L28.9,123.45L29.48,121.38L29.77,121.38L30.49,118.27L30.64,118.27L31.36,115.5L31.5,115.5L32.08,113.43L32.37,113.43L32.8,111.7L33.38,111.7L34.1,110.32L34.25,110.32L34.68,108.25L36.27,108.25L36.85,106.17L37.57,106.17L38.15,105.48L39.02,105.48L39.02,105.14L40.03,105.14L40.61,104.45L40.9,104.45L41.33,103.41L41.77,103.41L42.2,102.03L42.92,102.03L43.36,100.99L43.79,100.99L44.22,98.23L45.09,98.23L45.81,96.5L46.1,96.5L46.68,95.46L47.4,95.46L47.55,94.77L48.42,94.77L48.56,94.08L49.57,94.08L50.01,92.7L51.31,92.7L51.6,90.63L52.17,90.63L52.17,90.28L53.19,90.28L53.48,89.25L54.92,89.25L55.64,87.17L55.93,87.17L56.66,85.1L57.67,85.1L58.39,84.06L58.54,84.06L58.54,83.37L59.4,83.37L60.13,82.34L60.56,82.34L61.14,81.3L61.43,81.3L61.86,79.92L62.87,79.92L63.31,77.5L63.88,77.5L64.32,76.81L65.62,76.81L66.05,76.12L66.49,76.12L67.21,74.39L67.35,74.39L67.79,72.66L69.38,72.66L70.1,71.28L70.39,71.28L70.82,70.24L71.83,70.24L72.56,68.86L72.85,68.86L72.85,68.52L74,68.52L74.58,67.82L74.87,67.82L75.59,66.79L75.88,66.79L76.46,65.75L76.89,65.75L77.33,64.02L77.76,64.02L77.76,63.68L78.63,63.68L79.21,62.99L79.64,62.99L80.22,62.3L80.65,62.3L81.23,60.91L82.1,60.91L82.68,58.84L83.11,58.84L83.83,57.81L83.98,57.81L83.98,57.46L86.15,57.46L86.15,57.11L88.03,57.11L88.03,56.77L89.62,56.77L89.91,56.08L91.06,56.08L91.5,55.39L91.93,55.39L92.07,54.7L93.66,54.7L93.66,54L94.68,54L95.4,52.62L95.54,52.62L95.69,51.24L96.41,51.24L96.41,50.9L97.28,50.9L97.28,50.55L98.72,50.55L99.16,49.86L99.59,49.86L100.31,48.13L100.89,48.13L101.61,47.44L101.76,47.44L101.76,47.09L102.77,47.09L102.92,46.06L104.36,46.06L104.36,45.71L105.37,45.71L106.1,44.68L106.82,44.68L106.82,43.99L107.98,43.99L107.98,43.64L109.13,43.64L109.85,42.6L110,42.6L110,42.26L112.02,42.26L112.02,41.57L113.32,41.57L113.32,40.53L114.63,40.53L114.63,40.18L116.65,40.18L116.79,39.15L117.66,39.15L117.95,37.77L118.82,37.77L119.25,37.08L120.41,37.08L120.84,36.04L121.27,36.04L121.27,35.69L122.58,35.69L122.58,35.35L123.44,35.35L123.59,34.31L124.6,34.31L124.6,33.62L125.61,33.62L125.61,33.27L126.77,33.27L127.2,32.58L129.37,32.58L129.37,32.24L130.82,32.24L130.96,31.55L131.97,31.55L132.55,30.51L138.77,30.51L138.77,30.17L142.38,30.17L142.38,29.82L144.26,29.82L144.84,28.44L148.31,28.44L148.31,28.09L155.39,28.09L155.39,27.75L159.87,27.75L159.87,27.4L165.51,27.4L165.51,26.71L166.38,26.71L166.38,26.36L167.25,26.36L167.25,25.67L169.7,25.67L169.85,24.98L170.71,24.98L170.71,24.64L173.61,24.64L174.18,23.6L177.36,23.6L177.36,23.26L178.67,23.26L178.67,22.91L187.34,22.91L187.34,22.56L188.5,22.56L188.5,22.22L190.66,22.22L190.95,21.53L191.82,21.53L191.82,21.18L194.86,21.18L194.86,20.84L199.48,20.84L199.48,20.49L201.36,20.49L201.36,20.15L208.3,20.15L208.3,19.8L212.78,19.8L212.78,19.45L213.65,19.45L213.65,19.11L220.3,19.11L220.3,18.76L222.76,18.76L222.76,18.42L234.03,18.42L234.03,18.07L255.57,18.07L255.57,17.73L256.44,17.73L256.44,17.38L264.25,17.38L264.25,17.04L274.51,17.04L274.51,16.69L284.05,16.69L284.05,16.35L288.39,16.35L288.39,16L304,16\" style=\"vector-effect: non-scaling-stroke; fill: none; stroke: rgb(99, 110, 250); stroke-opacity: 1; stroke-width: 2px; opacity: 1;\"/></g><g class=\"points\"/><g class=\"text\"/></g></g></g><g class=\"overplot\"/><path class=\"xlines-above crisp\" d=\"M0,0\" style=\"fill: none;\"/><path class=\"ylines-above crisp\" d=\"M0,0\" style=\"fill: none;\"/><g class=\"overlines-above\"/><g class=\"xaxislayer-above\"><g class=\"xtick\"><text text-anchor=\"middle\" x=\"0\" y=\"433\" transform=\"translate(248.50000000000003,0)\" style=\"font-family: 'Open Sans', verdana, arial, sans-serif; font-size: 12px; fill: rgb(42, 63, 95); fill-opacity: 1; white-space: pre; opacity: 1;\">0</text></g><g class=\"xtick\"><text text-anchor=\"middle\" x=\"0\" y=\"433\" style=\"font-family: 'Open Sans', verdana, arial, sans-serif; font-size: 12px; fill: rgb(42, 63, 95); fill-opacity: 1; white-space: pre; opacity: 1;\" transform=\"translate(400,0)\">0.5</text></g><g class=\"xtick\"><text text-anchor=\"middle\" x=\"0\" y=\"433\" style=\"font-family: 'Open Sans', verdana, arial, sans-serif; font-size: 12px; fill: rgb(42, 63, 95); fill-opacity: 1; white-space: pre; opacity: 1;\" transform=\"translate(551.5,0)\">1</text></g></g><g class=\"yaxislayer-above\"><g class=\"ytick\"><text text-anchor=\"end\" x=\"246.50000000000003\" y=\"4.199999999999999\" transform=\"translate(0,419)\" style=\"font-family: 'Open Sans', verdana, arial, sans-serif; font-size: 12px; fill: rgb(42, 63, 95); fill-opacity: 1; white-space: pre; opacity: 1;\">0</text></g><g class=\"ytick\"><text text-anchor=\"end\" x=\"246.50000000000003\" y=\"4.199999999999999\" style=\"font-family: 'Open Sans', verdana, arial, sans-serif; font-size: 12px; fill: rgb(42, 63, 95); fill-opacity: 1; white-space: pre; opacity: 1;\" transform=\"translate(0,358.4)\">0.2</text></g><g class=\"ytick\"><text text-anchor=\"end\" x=\"246.50000000000003\" y=\"4.199999999999999\" style=\"font-family: 'Open Sans', verdana, arial, sans-serif; font-size: 12px; fill: rgb(42, 63, 95); fill-opacity: 1; white-space: pre; opacity: 1;\" transform=\"translate(0,297.8)\">0.4</text></g><g class=\"ytick\"><text text-anchor=\"end\" x=\"246.50000000000003\" y=\"4.199999999999999\" style=\"font-family: 'Open Sans', verdana, arial, sans-serif; font-size: 12px; fill: rgb(42, 63, 95); fill-opacity: 1; white-space: pre; opacity: 1;\" transform=\"translate(0,237.2)\">0.6</text></g><g class=\"ytick\"><text text-anchor=\"end\" x=\"246.50000000000003\" y=\"4.199999999999999\" style=\"font-family: 'Open Sans', verdana, arial, sans-serif; font-size: 12px; fill: rgb(42, 63, 95); fill-opacity: 1; white-space: pre; opacity: 1;\" transform=\"translate(0,176.6)\">0.8</text></g><g class=\"ytick\"><text text-anchor=\"end\" x=\"246.50000000000003\" y=\"4.199999999999999\" style=\"font-family: 'Open Sans', verdana, arial, sans-serif; font-size: 12px; fill: rgb(42, 63, 95); fill-opacity: 1; white-space: pre; opacity: 1;\" transform=\"translate(0,116)\">1</text></g></g><g class=\"overaxes-above\"/></g></g><g class=\"polarlayer\"/><g class=\"smithlayer\"/><g class=\"ternarylayer\"/><g class=\"geolayer\"/><g class=\"funnelarealayer\"/><g class=\"pielayer\"/><g class=\"iciclelayer\"/><g class=\"treemaplayer\"/><g class=\"sunburstlayer\"/><g class=\"glimages\"/><defs id=\"topdefs-19a802\"><g class=\"clips\"/></defs><g class=\"layer-above\"><g class=\"imagelayer\"/><g class=\"shapelayer\"><path data-index=\"0\" fill-rule=\"evenodd\" d=\"M248.50000000000003,419L551.5,116\" clip-path=\"url(#clip19a802xy)\" style=\"opacity: 1; stroke: rgb(42, 63, 95); stroke-opacity: 1; fill: rgb(0, 0, 0); fill-opacity: 0; stroke-dasharray: 9px, 9px; stroke-width: 2px;\"/></g></g><g class=\"infolayer\"><g class=\"g-gtitle\"><text class=\"gtitle\" x=\"40\" y=\"50\" text-anchor=\"start\" dy=\"0em\" style=\"font-family: 'Open Sans', verdana, arial, sans-serif; font-size: 17px; fill: rgb(42, 63, 95); opacity: 1; font-weight: normal; white-space: pre;\">ROC Curve (AUC=0.8830)</text></g><g class=\"g-xtitle\"><text class=\"xtitle\" x=\"400\" y=\"460.3\" text-anchor=\"middle\" style=\"font-family: 'Open Sans', verdana, arial, sans-serif; font-size: 14px; fill: rgb(42, 63, 95); opacity: 1; font-weight: normal; white-space: pre;\">False Positive Rate</text></g><g class=\"g-ytitle\"><text class=\"ytitle\" transform=\"rotate(-90,202.075,260)\" x=\"202.075\" y=\"260\" text-anchor=\"middle\" style=\"font-family: 'Open Sans', verdana, arial, sans-serif; font-size: 14px; fill: rgb(42, 63, 95); opacity: 1; font-weight: normal; white-space: pre;\">True Positive Rate</text></g></g></svg>"
     },
     "metadata": {},
     "output_type": "display_data"
    }
   ],
   "source": [
    "# Plot the curve and area under the curve\n",
    "fig = px.area(\n",
    "    x=fpr, y=tpr,\n",
    "    title=f'ROC Curve (AUC={auc(fpr, tpr):.4f})',\n",
    "    labels=dict(x='False Positive Rate', y='True Positive Rate')\n",
    ")\n",
    "fig.add_shape(\n",
    "    type='line', line=dict(dash='dash'),\n",
    "    x0=0, x1=1, y0=0, y1=1\n",
    ")\n",
    "\n",
    "fig.update_yaxes(scaleanchor=\"x\", scaleratio=1)\n",
    "fig.update_xaxes(constrain='domain')\n",
    "fig.show()"
   ]
  },
  {
   "cell_type": "code",
   "execution_count": 18,
   "metadata": {
    "tags": [
     "hide-input"
    ]
   },
   "outputs": [
    {
     "data": {
      "text/html": [
       "<div>\n",
       "<style scoped>\n",
       "    .dataframe tbody tr th:only-of-type {\n",
       "        vertical-align: middle;\n",
       "    }\n",
       "\n",
       "    .dataframe tbody tr th {\n",
       "        vertical-align: top;\n",
       "    }\n",
       "\n",
       "    .dataframe thead th {\n",
       "        text-align: right;\n",
       "    }\n",
       "</style>\n",
       "<table border=\"1\" class=\"dataframe\">\n",
       "  <thead>\n",
       "    <tr style=\"text-align: right;\">\n",
       "      <th></th>\n",
       "      <th>fpr</th>\n",
       "      <th>tpr</th>\n",
       "      <th>threshold</th>\n",
       "    </tr>\n",
       "  </thead>\n",
       "  <tbody>\n",
       "    <tr>\n",
       "      <th>434</th>\n",
       "      <td>0.204198</td>\n",
       "      <td>0.791334</td>\n",
       "      <td>0.479913</td>\n",
       "    </tr>\n",
       "    <tr>\n",
       "      <th>435</th>\n",
       "      <td>0.204676</td>\n",
       "      <td>0.791334</td>\n",
       "      <td>0.479765</td>\n",
       "    </tr>\n",
       "    <tr>\n",
       "      <th>436</th>\n",
       "      <td>0.204676</td>\n",
       "      <td>0.793615</td>\n",
       "      <td>0.479258</td>\n",
       "    </tr>\n",
       "    <tr>\n",
       "      <th>437</th>\n",
       "      <td>0.205153</td>\n",
       "      <td>0.793615</td>\n",
       "      <td>0.479249</td>\n",
       "    </tr>\n",
       "    <tr>\n",
       "      <th>438</th>\n",
       "      <td>0.205153</td>\n",
       "      <td>0.795895</td>\n",
       "      <td>0.479089</td>\n",
       "    </tr>\n",
       "    <tr>\n",
       "      <th>439</th>\n",
       "      <td>0.205630</td>\n",
       "      <td>0.795895</td>\n",
       "      <td>0.478822</td>\n",
       "    </tr>\n",
       "    <tr>\n",
       "      <th>440</th>\n",
       "      <td>0.205630</td>\n",
       "      <td>0.797035</td>\n",
       "      <td>0.478626</td>\n",
       "    </tr>\n",
       "    <tr>\n",
       "      <th>441</th>\n",
       "      <td>0.207538</td>\n",
       "      <td>0.797035</td>\n",
       "      <td>0.478218</td>\n",
       "    </tr>\n",
       "    <tr>\n",
       "      <th>442</th>\n",
       "      <td>0.207538</td>\n",
       "      <td>0.798176</td>\n",
       "      <td>0.478036</td>\n",
       "    </tr>\n",
       "    <tr>\n",
       "      <th>443</th>\n",
       "      <td>0.208969</td>\n",
       "      <td>0.798176</td>\n",
       "      <td>0.477853</td>\n",
       "    </tr>\n",
       "    <tr>\n",
       "      <th>444</th>\n",
       "      <td>0.208969</td>\n",
       "      <td>0.799316</td>\n",
       "      <td>0.477741</td>\n",
       "    </tr>\n",
       "    <tr>\n",
       "      <th>445</th>\n",
       "      <td>0.213263</td>\n",
       "      <td>0.799316</td>\n",
       "      <td>0.476826</td>\n",
       "    </tr>\n",
       "    <tr>\n",
       "      <th>446</th>\n",
       "      <td>0.213263</td>\n",
       "      <td>0.800456</td>\n",
       "      <td>0.476815</td>\n",
       "    </tr>\n",
       "    <tr>\n",
       "      <th>447</th>\n",
       "      <td>0.214695</td>\n",
       "      <td>0.800456</td>\n",
       "      <td>0.476619</td>\n",
       "    </tr>\n",
       "    <tr>\n",
       "      <th>448</th>\n",
       "      <td>0.214695</td>\n",
       "      <td>0.801596</td>\n",
       "      <td>0.476570</td>\n",
       "    </tr>\n",
       "    <tr>\n",
       "      <th>449</th>\n",
       "      <td>0.216126</td>\n",
       "      <td>0.801596</td>\n",
       "      <td>0.476462</td>\n",
       "    </tr>\n",
       "    <tr>\n",
       "      <th>450</th>\n",
       "      <td>0.216126</td>\n",
       "      <td>0.802737</td>\n",
       "      <td>0.476455</td>\n",
       "    </tr>\n",
       "    <tr>\n",
       "      <th>451</th>\n",
       "      <td>0.218511</td>\n",
       "      <td>0.802737</td>\n",
       "      <td>0.475497</td>\n",
       "    </tr>\n",
       "    <tr>\n",
       "      <th>452</th>\n",
       "      <td>0.218511</td>\n",
       "      <td>0.807298</td>\n",
       "      <td>0.475039</td>\n",
       "    </tr>\n",
       "    <tr>\n",
       "      <th>453</th>\n",
       "      <td>0.218989</td>\n",
       "      <td>0.807298</td>\n",
       "      <td>0.474950</td>\n",
       "    </tr>\n",
       "    <tr>\n",
       "      <th>454</th>\n",
       "      <td>0.218989</td>\n",
       "      <td>0.809578</td>\n",
       "      <td>0.474816</td>\n",
       "    </tr>\n",
       "    <tr>\n",
       "      <th>455</th>\n",
       "      <td>0.219943</td>\n",
       "      <td>0.809578</td>\n",
       "      <td>0.474710</td>\n",
       "    </tr>\n",
       "  </tbody>\n",
       "</table>\n",
       "</div>"
      ],
      "text/plain": [
       "          fpr       tpr  threshold\n",
       "434  0.204198  0.791334   0.479913\n",
       "435  0.204676  0.791334   0.479765\n",
       "436  0.204676  0.793615   0.479258\n",
       "437  0.205153  0.793615   0.479249\n",
       "438  0.205153  0.795895   0.479089\n",
       "439  0.205630  0.795895   0.478822\n",
       "440  0.205630  0.797035   0.478626\n",
       "441  0.207538  0.797035   0.478218\n",
       "442  0.207538  0.798176   0.478036\n",
       "443  0.208969  0.798176   0.477853\n",
       "444  0.208969  0.799316   0.477741\n",
       "445  0.213263  0.799316   0.476826\n",
       "446  0.213263  0.800456   0.476815\n",
       "447  0.214695  0.800456   0.476619\n",
       "448  0.214695  0.801596   0.476570\n",
       "449  0.216126  0.801596   0.476462\n",
       "450  0.216126  0.802737   0.476455\n",
       "451  0.218511  0.802737   0.475497\n",
       "452  0.218511  0.807298   0.475039\n",
       "453  0.218989  0.807298   0.474950\n",
       "454  0.218989  0.809578   0.474816\n",
       "455  0.219943  0.809578   0.474710"
      ]
     },
     "execution_count": 18,
     "metadata": {},
     "output_type": "execute_result"
    }
   ],
   "source": [
    "# Create a ROC dataframe from the obtained FPR and TPR\n",
    "roc_df = pd.DataFrame({\n",
    "    'fpr': fpr,\n",
    "    'tpr': tpr,\n",
    "    'threshold': thresholds\n",
    "})\n",
    "\n",
    "# Get the values of threshold for true positive rate between 0.79 and 0.81\n",
    "roc_df[roc_df['tpr'].between(0.79, 0.81)]"
   ]
  },
  {
   "cell_type": "markdown",
   "metadata": {},
   "source": [
    "The threshold value that can be used is 0.48. This value is not too far away from the default value of the threshold which is 0.5, hence the default value will be utilized to predict the final binary outcome."
   ]
  },
  {
   "cell_type": "code",
   "execution_count": 21,
   "metadata": {
    "tags": [
     "hide-input"
    ]
   },
   "outputs": [
    {
     "data": {
      "text/plain": [
       "<sklearn.metrics._plot.confusion_matrix.ConfusionMatrixDisplay at 0x13c1c4640>"
      ]
     },
     "execution_count": 21,
     "metadata": {},
     "output_type": "execute_result"
    },
    {
     "data": {
      "image/png": "[encoded data removed]",
      "text/plain": [
       "<Figure size 640x480 with 2 Axes>"
      ]
     },
     "metadata": {},
     "output_type": "display_data"
    }
   ],
   "source": [
    "# Plot the confusion matrix\n",
    "ConfusionMatrixDisplay.from_estimator(grid_result, X_test, y_test)"
   ]
  },
  {
   "cell_type": "code",
   "execution_count": 23,
   "metadata": {
    "tags": [
     "hide-input"
    ]
   },
   "outputs": [
    {
     "name": "stdout",
     "output_type": "stream",
     "text": [
      "              precision    recall  f1-score   support\n",
      "\n",
      "         0.0       0.88      0.86      0.87      2096\n",
      "         1.0       0.68      0.73      0.70       877\n",
      "\n",
      "    accuracy                           0.82      2973\n",
      "   macro avg       0.78      0.79      0.79      2973\n",
      "weighted avg       0.82      0.82      0.82      2973\n",
      "\n"
     ]
    }
   ],
   "source": [
    "# Print classification report\n",
    "print(classification_report(y_test, y_pred))"
   ]
  },
  {
   "cell_type": "markdown",
   "metadata": {},
   "source": [
    "An F1 score of 0.82 is quite good and hence it can be concluded that the model can be used for the prediction of the success or failure of the Kickstarter project."
   ]
  },
  {
   "cell_type": "code",
   "execution_count": 19,
   "metadata": {
    "tags": [
     "hide-cell"
    ]
   },
   "outputs": [
    {
     "data": {
      "text/plain": [
       "['./../../data/models/logistic_regression.pkl']"
      ]
     },
     "execution_count": 19,
     "metadata": {},
     "output_type": "execute_result"
    }
   ],
   "source": [
    "# Save the model\n",
    "joblib.dump(grid_result, './../../data/models/logistic_regression.pkl')"
   ]
  },
  {
   "cell_type": "markdown",
   "metadata": {},
   "source": [
    "## Model with oversample data"
   ]
  },
  {
   "cell_type": "markdown",
   "metadata": {},
   "source": [
    "The logistic regression model may not work best when the data set is unbalanced. To overcome this shortcoming, undersampling or oversampling can be used to balance the data set. In this case, oversampling is performed on the non-dominant class."
   ]
  },
  {
   "cell_type": "code",
   "execution_count": 24,
   "metadata": {
    "tags": [
     "hide-cell"
    ]
   },
   "outputs": [],
   "source": [
    "# Load the data\n",
    "df = pd.read_csv('./../../data/engineered_data_oversampled.csv')"
   ]
  },
  {
   "cell_type": "code",
   "execution_count": 25,
   "metadata": {
    "tags": [
     "hide-cell"
    ]
   },
   "outputs": [],
   "source": [
    "# Drop the index column\n",
    "df.drop('Unnamed: 0', axis=1, inplace=True)"
   ]
  },
  {
   "cell_type": "markdown",
   "metadata": {},
   "source": [
    "The same procedure will be followed as that followed for the data without oversampling. The data will be split into training and testing set with 80:20 ratio."
   ]
  },
  {
   "cell_type": "code",
   "execution_count": 26,
   "metadata": {
    "tags": [
     "hide-cell"
    ]
   },
   "outputs": [],
   "source": [
    "# Split the data into train and test sets\n",
    "X_train, X_test, y_train, y_test = train_test_split(df.drop('state', axis=1), df['state'], test_size=0.2, random_state=42)"
   ]
  },
  {
   "cell_type": "markdown",
   "metadata": {},
   "source": [
    "### Model Building"
   ]
  },
  {
   "cell_type": "markdown",
   "metadata": {},
   "source": [
    "The model to be trained on the training data set in the following way:"
   ]
  },
  {
   "cell_type": "code",
   "execution_count": 27,
   "metadata": {
    "tags": [
     "hide-cell"
    ]
   },
   "outputs": [],
   "source": [
    "# Declare the logistic regression model\n",
    "logreg_clf = LogisticRegression(penalty='elasticnet', fit_intercept=True, class_weight='balanced', solver='saga')\n",
    "\n",
    "# Declare the grid paramters to be searched\n",
    "logreg_params = dict(\n",
    "    C = np.logspace(-4, 4, num=9),\n",
    "    max_iter = [100, 200, 500],\n",
    "    l1_ratio = [0, 0.3, 0.6, 1]\n",
    ")"
   ]
  },
  {
   "cell_type": "code",
   "execution_count": null,
   "metadata": {
    "tags": [
     "hide-cell"
    ]
   },
   "outputs": [],
   "source": [
    "# Declare the gridsearch object\n",
    "grid_search = GridSearchCV(logreg_clf, logreg_params, scoring='roc_auc', n_jobs=7, refit=True, cv=10, verbose=5)\n",
    "\n",
    "# Fit the model\n",
    "grid_result = grid_search.fit(X_train, y_train)"
   ]
  },
  {
   "cell_type": "markdown",
   "metadata": {},
   "source": [
    "### Inferencing"
   ]
  },
  {
   "cell_type": "markdown",
   "metadata": {},
   "source": [
    "The best model that is obtained with the following score and parameters:"
   ]
  },
  {
   "cell_type": "code",
   "execution_count": 29,
   "metadata": {
    "tags": [
     "hide-input"
    ]
   },
   "outputs": [
    {
     "name": "stdout",
     "output_type": "stream",
     "text": [
      "Best score of 0.9032103824424617 is achieved by using {'C': 10000.0, 'l1_ratio': 1, 'max_iter': 500}\n"
     ]
    }
   ],
   "source": [
    "# Get the best model parameters\n",
    "print(f\"Best score of {grid_result.best_score_} is achieved by using {grid_result.best_params_}\")"
   ]
  },
  {
   "cell_type": "code",
   "execution_count": 30,
   "metadata": {
    "tags": [
     "hide-cell"
    ]
   },
   "outputs": [],
   "source": [
    "# Predict on test data using the model\n",
    "y_pred = grid_search.predict(X_test)\n",
    "y_score = grid_search.predict_proba(X_test)[:, 1]"
   ]
  },
  {
   "cell_type": "markdown",
   "metadata": {},
   "source": [
    "### Evaluation"
   ]
  },
  {
   "cell_type": "markdown",
   "metadata": {},
   "source": [
    "For the comparison, AUC ROC score to be used is given by:"
   ]
  },
  {
   "cell_type": "code",
   "execution_count": 32,
   "metadata": {
    "tags": [
     "hide-input"
    ]
   },
   "outputs": [
    {
     "name": "stdout",
     "output_type": "stream",
     "text": [
      "Area under the ROC curve: 0.9040847676364079\n"
     ]
    }
   ],
   "source": [
    "# Find the ROC AUC score\n",
    "print(f\"Area under the ROC curve: {roc_auc_score(y_test, y_score)}\")"
   ]
  },
  {
   "cell_type": "markdown",
   "metadata": {},
   "source": [
    "With the new oversampled data, there is slight improvement in the performance of the logistic regression algorithm."
   ]
  },
  {
   "cell_type": "markdown",
   "metadata": {},
   "source": [
    "The threshold can be found on the basic of the AUC ROC curve values."
   ]
  },
  {
   "cell_type": "code",
   "execution_count": 31,
   "metadata": {
    "tags": [
     "hide-cell"
    ]
   },
   "outputs": [],
   "source": [
    "# Calculate parameters for roc auc curve\n",
    "fpr, tpr, thresholds = roc_curve(y_test, y_score)"
   ]
  },
  {
   "cell_type": "code",
   "execution_count": 33,
   "metadata": {
    "tags": [
     "hide-input"
    ]
   },
   "outputs": [
    {
     "data": {
      "image/svg+xml": "<svg class=\"main-svg\" xmlns=\"http://www.w3.org/2000/svg\" xmlns:xlink=\"http://www.w3.org/1999/xlink\" width=\"800\" height=\"500\" style=\"\" viewBox=\"0 0 800 500\"><rect x=\"0\" y=\"0\" width=\"800\" height=\"500\" style=\"fill: rgb(255, 255, 255); fill-opacity: 1;\"/><defs id=\"defs-51443a\"><g class=\"clips\"><clipPath id=\"clip51443axyplot\" class=\"plotclip\"><rect width=\"304.99999999999994\" height=\"320\"/></clipPath><clipPath class=\"axesclip\" id=\"clip51443ax\"><rect x=\"247.50000000000003\" y=\"0\" width=\"304.99999999999994\" height=\"500\"/></clipPath><clipPath class=\"axesclip\" id=\"clip51443ay\"><rect x=\"0\" y=\"100\" width=\"800\" height=\"320\"/></clipPath><clipPath class=\"axesclip\" id=\"clip51443axy\"><rect x=\"247.50000000000003\" y=\"100\" width=\"304.99999999999994\" height=\"320\"/></clipPath></g><g class=\"gradients\"/><g class=\"patterns\"/></defs><g class=\"bglayer\"><rect class=\"bg\" x=\"247.50000000000003\" y=\"100\" width=\"304.99999999999994\" height=\"320\" style=\"fill: rgb(229, 236, 246); fill-opacity: 1; stroke-width: 0;\"/></g><g class=\"layer-below\"><g class=\"imagelayer\"/><g class=\"shapelayer\"/></g><g class=\"cartesianlayer\"><g class=\"subplot xy\"><g class=\"layer-subplot\"><g class=\"shapelayer\"/><g class=\"imagelayer\"/></g><g class=\"minor-gridlayer\"><g class=\"x\"/><g class=\"y\"/></g><g class=\"gridlayer\"><g class=\"x\"><path class=\"xgrid crisp\" transform=\"translate(400,0)\" d=\"M0,100v320\" style=\"stroke: rgb(255, 255, 255); stroke-opacity: 1; stroke-width: 1px;\"/></g><g class=\"y\"><path class=\"ygrid crisp\" transform=\"translate(0,358.4)\" d=\"M247.50000000000003,0h304.99999999999994\" style=\"stroke: rgb(255, 255, 255); stroke-opacity: 1; stroke-width: 1px;\"/><path class=\"ygrid crisp\" transform=\"translate(0,297.8)\" d=\"M247.50000000000003,0h304.99999999999994\" style=\"stroke: rgb(255, 255, 255); stroke-opacity: 1; stroke-width: 1px;\"/><path class=\"ygrid crisp\" transform=\"translate(0,237.2)\" d=\"M247.50000000000003,0h304.99999999999994\" style=\"stroke: rgb(255, 255, 255); stroke-opacity: 1; stroke-width: 1px;\"/><path class=\"ygrid crisp\" transform=\"translate(0,176.6)\" d=\"M247.50000000000003,0h304.99999999999994\" style=\"stroke: rgb(255, 255, 255); stroke-opacity: 1; stroke-width: 1px;\"/><path class=\"ygrid crisp\" transform=\"translate(0,116)\" d=\"M247.50000000000003,0h304.99999999999994\" style=\"stroke: rgb(255, 255, 255); stroke-opacity: 1; stroke-width: 1px;\"/></g></g><g class=\"zerolinelayer\"><path class=\"xzl zl crisp\" transform=\"translate(248.50000000000003,0)\" d=\"M0,100v320\" style=\"stroke: rgb(255, 255, 255); stroke-opacity: 1; stroke-width: 2px;\"/><path class=\"yzl zl crisp\" transform=\"translate(0,419)\" d=\"M247.50000000000003,0h304.99999999999994\" style=\"stroke: rgb(255, 255, 255); stroke-opacity: 1; stroke-width: 2px;\"/></g><path class=\"xlines-below\"/><path class=\"ylines-below\"/><g class=\"overlines-below\"/><g class=\"xaxislayer-below\"/><g class=\"yaxislayer-below\"/><g class=\"overaxes-below\"/><g class=\"plot\" transform=\"translate(247.50000000000003,100)\" clip-path=\"url(#clip51443axyplot)\"><g class=\"scatterlayer mlayer\"><g class=\"trace scatter traced922fa\" style=\"stroke-miterlimit: 2;\"><g class=\"fills\"><g><path class=\"js-fill\" d=\"M304,319L1,319L1,319L1.73,291.7L1.87,291.7L2.6,282.6L2.74,282.6L3.47,258.88L3.76,258.88L4.49,246.64L4.63,246.64L5.36,243.06L5.51,243.06L6.23,223.67L6.38,223.67L7.1,217.4L7.25,217.4L7.83,209.94L8.12,209.94L8.85,205.47L8.99,205.47L9.72,198.9L9.86,198.9L10.59,188.46L10.74,188.46L11.46,181.45L11.61,181.45L12.34,177.42L12.48,177.42L13.06,171.6L13.5,171.6L14.08,169.81L14.37,169.81L14.95,166.83L15.24,166.83L15.97,159.82L16.11,159.82L16.84,153.4L16.99,153.4L17.71,151.16L17.86,151.16L18.58,149.22L18.73,149.22L19.46,144.75L19.75,144.75L20.47,140.87L20.62,140.87L21.35,136.25L21.49,136.25L22.22,130.73L22.36,130.73L22.51,130.58L22.51,129.38L23.38,126.1L23.67,126.1L24.54,124.31L24.54,124.01L24.83,123.86L24.83,122.97L25.27,122.52L25.27,121.77L26.58,117L27.01,117L27.74,111.48L27.88,111.48L28.61,109.99L28.76,109.99L29.48,108.05L29.63,108.05L30.36,105.06L30.5,105.06L31.08,102.98L31.66,102.98L32.24,101.78L32.68,101.78L33.41,100.44L33.55,100.44L33.99,99.25L33.99,98.8L34.57,98.5L34.57,97.75L36.75,92.53L37.48,92.53L38.2,90.89L38.35,90.89L39.07,88.65L39.37,88.65L40.09,86.71L40.38,86.71L40.53,86.57L40.53,85.37L42.42,84.92L42.42,83.58L43.58,82.09L43.58,81.49L46.49,76.72L46.78,76.72L47.5,75.82L47.79,75.82L48.52,73.74L48.67,73.74L48.96,72.84L50.12,72.84L50.85,72.09L51.14,72.09L51.43,71.05L52.01,71.05L52.59,69.41L52.88,69.41L53.61,68.81L53.75,68.81L54.33,67.92L54.62,67.92L55.35,66.87L55.64,66.87L56.37,66.13L56.95,66.13L58.55,64.49L59.13,64.49L59.27,64.04L60.15,64.04L60.87,61.8L61.31,61.8L62.04,60.31L62.33,60.31L63.05,58.67L63.2,58.67L63.93,57.77L64.36,57.77L65.09,56.88L65.52,56.88L66.25,55.98L66.4,55.98L68.72,54.49L68.72,54.04L69.16,53.45L69.16,52.85L70.76,52.55L70.76,51.95L73.08,51.21L73.08,51.06L74.82,50.31L74.82,50.16L76.28,49.42L76.28,48.82L78.31,48.22L78.31,47.93L78.75,47.78L78.75,46.88L80.64,46.14L80.64,45.69L81.36,45.39L81.95,45.39L84.85,42.56L85.58,42.56L86.16,41.66L87.18,41.66L97.2,37.78L97.2,37.48L98.8,36.74L98.8,36.29L100.98,35.69L100.98,35.39L105.92,34.65L105.92,34.35L108.54,33.6L108.54,33.45L111.88,32.71L111.88,32.56L115.81,31.96L115.81,31.81L117.11,31.07L118.42,31.07L118.86,30.47L120.6,30.47L126.41,28.53L128.16,28.53L128.16,28.38L129.32,28.38L134.84,27.34L138.77,27.34L139.35,26.44L139.78,26.44L139.93,26.14L141.82,26.14L144.87,25.25L147.92,25.25L155.92,24.06L155.92,23.76L163.33,23.01L163.33,22.86L170.59,22.27L170.59,21.97L173.79,21.22L173.79,21.07L179.75,20.33L179.75,20.18L184.25,19.43L184.25,19.28L200.82,18.54L200.82,18.39L208.09,17.64L208.09,17.49L216.52,16.75L216.52,16.6L304,16\" style=\"fill: rgb(99, 110, 250); fill-opacity: 0.5; stroke-width: 0;\"/></g></g><g class=\"errorbars\"/><g class=\"lines\"><path class=\"js-line\" d=\"M1,319L1.73,291.7L1.87,291.7L2.6,282.6L2.74,282.6L3.47,258.88L3.76,258.88L4.49,246.64L4.63,246.64L5.36,243.06L5.51,243.06L6.23,223.67L6.38,223.67L7.1,217.4L7.25,217.4L7.83,209.94L8.12,209.94L8.85,205.47L8.99,205.47L9.72,198.9L9.86,198.9L10.59,188.46L10.74,188.46L11.46,181.45L11.61,181.45L12.34,177.42L12.48,177.42L13.06,171.6L13.5,171.6L14.08,169.81L14.37,169.81L14.95,166.83L15.24,166.83L15.97,159.82L16.11,159.82L16.84,153.4L16.99,153.4L17.71,151.16L17.86,151.16L18.58,149.22L18.73,149.22L19.46,144.75L19.75,144.75L20.47,140.87L20.62,140.87L21.35,136.25L21.49,136.25L22.22,130.73L22.36,130.73L22.51,130.58L22.51,129.38L23.38,126.1L23.67,126.1L24.54,124.31L24.54,124.01L24.83,123.86L24.83,122.97L25.27,122.52L25.27,121.77L26.58,117L27.01,117L27.74,111.48L27.88,111.48L28.61,109.99L28.76,109.99L29.48,108.05L29.63,108.05L30.36,105.06L30.5,105.06L31.08,102.98L31.66,102.98L32.24,101.78L32.68,101.78L33.41,100.44L33.55,100.44L33.99,99.25L33.99,98.8L34.57,98.5L34.57,97.75L36.75,92.53L37.48,92.53L38.2,90.89L38.35,90.89L39.07,88.65L39.37,88.65L40.09,86.71L40.38,86.71L40.53,86.57L40.53,85.37L42.42,84.92L42.42,83.58L43.58,82.09L43.58,81.49L46.49,76.72L46.78,76.72L47.5,75.82L47.79,75.82L48.52,73.74L48.67,73.74L48.96,72.84L50.12,72.84L50.85,72.09L51.14,72.09L51.43,71.05L52.01,71.05L52.59,69.41L52.88,69.41L53.61,68.81L53.75,68.81L54.33,67.92L54.62,67.92L55.35,66.87L55.64,66.87L56.37,66.13L56.95,66.13L58.55,64.49L59.13,64.49L59.27,64.04L60.15,64.04L60.87,61.8L61.31,61.8L62.04,60.31L62.33,60.31L63.05,58.67L63.2,58.67L63.93,57.77L64.36,57.77L65.09,56.88L65.52,56.88L66.25,55.98L66.4,55.98L68.72,54.49L68.72,54.04L69.16,53.45L69.16,52.85L70.76,52.55L70.76,51.95L73.08,51.21L73.08,51.06L74.82,50.31L74.82,50.16L76.28,49.42L76.28,48.82L78.31,48.22L78.31,47.93L78.75,47.78L78.75,46.88L80.64,46.14L80.64,45.69L81.36,45.39L81.95,45.39L84.85,42.56L85.58,42.56L86.16,41.66L87.18,41.66L97.2,37.78L97.2,37.48L98.8,36.74L98.8,36.29L100.98,35.69L100.98,35.39L105.92,34.65L105.92,34.35L108.54,33.6L108.54,33.45L111.88,32.71L111.88,32.56L115.81,31.96L115.81,31.81L117.11,31.07L118.42,31.07L118.86,30.47L120.6,30.47L126.41,28.53L128.16,28.53L128.16,28.38L129.32,28.38L134.84,27.34L138.77,27.34L139.35,26.44L139.78,26.44L139.93,26.14L141.82,26.14L144.87,25.25L147.92,25.25L155.92,24.06L155.92,23.76L163.33,23.01L163.33,22.86L170.59,22.27L170.59,21.97L173.79,21.22L173.79,21.07L179.75,20.33L179.75,20.18L184.25,19.43L184.25,19.28L200.82,18.54L200.82,18.39L208.09,17.64L208.09,17.49L216.52,16.75L216.52,16.6L304,16\" style=\"vector-effect: non-scaling-stroke; fill: none; stroke: rgb(99, 110, 250); stroke-opacity: 1; stroke-width: 2px; opacity: 1;\"/></g><g class=\"points\"/><g class=\"text\"/></g></g></g><g class=\"overplot\"/><path class=\"xlines-above crisp\" d=\"M0,0\" style=\"fill: none;\"/><path class=\"ylines-above crisp\" d=\"M0,0\" style=\"fill: none;\"/><g class=\"overlines-above\"/><g class=\"xaxislayer-above\"><g class=\"xtick\"><text text-anchor=\"middle\" x=\"0\" y=\"433\" transform=\"translate(248.50000000000003,0)\" style=\"font-family: 'Open Sans', verdana, arial, sans-serif; font-size: 12px; fill: rgb(42, 63, 95); fill-opacity: 1; white-space: pre; opacity: 1;\">0</text></g><g class=\"xtick\"><text text-anchor=\"middle\" x=\"0\" y=\"433\" style=\"font-family: 'Open Sans', verdana, arial, sans-serif; font-size: 12px; fill: rgb(42, 63, 95); fill-opacity: 1; white-space: pre; opacity: 1;\" transform=\"translate(400,0)\">0.5</text></g><g class=\"xtick\"><text text-anchor=\"middle\" x=\"0\" y=\"433\" style=\"font-family: 'Open Sans', verdana, arial, sans-serif; font-size: 12px; fill: rgb(42, 63, 95); fill-opacity: 1; white-space: pre; opacity: 1;\" transform=\"translate(551.5,0)\">1</text></g></g><g class=\"yaxislayer-above\"><g class=\"ytick\"><text text-anchor=\"end\" x=\"246.50000000000003\" y=\"4.199999999999999\" transform=\"translate(0,419)\" style=\"font-family: 'Open Sans', verdana, arial, sans-serif; font-size: 12px; fill: rgb(42, 63, 95); fill-opacity: 1; white-space: pre; opacity: 1;\">0</text></g><g class=\"ytick\"><text text-anchor=\"end\" x=\"246.50000000000003\" y=\"4.199999999999999\" style=\"font-family: 'Open Sans', verdana, arial, sans-serif; font-size: 12px; fill: rgb(42, 63, 95); fill-opacity: 1; white-space: pre; opacity: 1;\" transform=\"translate(0,358.4)\">0.2</text></g><g class=\"ytick\"><text text-anchor=\"end\" x=\"246.50000000000003\" y=\"4.199999999999999\" style=\"font-family: 'Open Sans', verdana, arial, sans-serif; font-size: 12px; fill: rgb(42, 63, 95); fill-opacity: 1; white-space: pre; opacity: 1;\" transform=\"translate(0,297.8)\">0.4</text></g><g class=\"ytick\"><text text-anchor=\"end\" x=\"246.50000000000003\" y=\"4.199999999999999\" style=\"font-family: 'Open Sans', verdana, arial, sans-serif; font-size: 12px; fill: rgb(42, 63, 95); fill-opacity: 1; white-space: pre; opacity: 1;\" transform=\"translate(0,237.2)\">0.6</text></g><g class=\"ytick\"><text text-anchor=\"end\" x=\"246.50000000000003\" y=\"4.199999999999999\" style=\"font-family: 'Open Sans', verdana, arial, sans-serif; font-size: 12px; fill: rgb(42, 63, 95); fill-opacity: 1; white-space: pre; opacity: 1;\" transform=\"translate(0,176.6)\">0.8</text></g><g class=\"ytick\"><text text-anchor=\"end\" x=\"246.50000000000003\" y=\"4.199999999999999\" style=\"font-family: 'Open Sans', verdana, arial, sans-serif; font-size: 12px; fill: rgb(42, 63, 95); fill-opacity: 1; white-space: pre; opacity: 1;\" transform=\"translate(0,116)\">1</text></g></g><g class=\"overaxes-above\"/></g></g><g class=\"polarlayer\"/><g class=\"smithlayer\"/><g class=\"ternarylayer\"/><g class=\"geolayer\"/><g class=\"funnelarealayer\"/><g class=\"pielayer\"/><g class=\"iciclelayer\"/><g class=\"treemaplayer\"/><g class=\"sunburstlayer\"/><g class=\"glimages\"/><defs id=\"topdefs-51443a\"><g class=\"clips\"/></defs><g class=\"layer-above\"><g class=\"imagelayer\"/><g class=\"shapelayer\"><path data-index=\"0\" fill-rule=\"evenodd\" d=\"M248.50000000000003,419L551.5,116\" clip-path=\"url(#clip51443axy)\" style=\"opacity: 1; stroke: rgb(42, 63, 95); stroke-opacity: 1; fill: rgb(0, 0, 0); fill-opacity: 0; stroke-dasharray: 9px, 9px; stroke-width: 2px;\"/></g></g><g class=\"infolayer\"><g class=\"g-gtitle\"><text class=\"gtitle\" x=\"40\" y=\"50\" text-anchor=\"start\" dy=\"0em\" style=\"font-family: 'Open Sans', verdana, arial, sans-serif; font-size: 17px; fill: rgb(42, 63, 95); opacity: 1; font-weight: normal; white-space: pre;\">ROC Curve (AUC=0.9041)</text></g><g class=\"g-xtitle\"><text class=\"xtitle\" x=\"400\" y=\"460.3\" text-anchor=\"middle\" style=\"font-family: 'Open Sans', verdana, arial, sans-serif; font-size: 14px; fill: rgb(42, 63, 95); opacity: 1; font-weight: normal; white-space: pre;\">False Positive Rate</text></g><g class=\"g-ytitle\"><text class=\"ytitle\" transform=\"rotate(-90,202.075,260)\" x=\"202.075\" y=\"260\" text-anchor=\"middle\" style=\"font-family: 'Open Sans', verdana, arial, sans-serif; font-size: 14px; fill: rgb(42, 63, 95); opacity: 1; font-weight: normal; white-space: pre;\">True Positive Rate</text></g></g></svg>"
     },
     "metadata": {},
     "output_type": "display_data"
    }
   ],
   "source": [
    "# Plot the curve and area under the curve\n",
    "fig = px.area(\n",
    "    x=fpr, y=tpr,\n",
    "    title=f'ROC Curve (AUC={auc(fpr, tpr):.4f})',\n",
    "    labels=dict(x='False Positive Rate', y='True Positive Rate')\n",
    ")\n",
    "fig.add_shape(\n",
    "    type='line', line=dict(dash='dash'),\n",
    "    x0=0, x1=1, y0=0, y1=1\n",
    ")\n",
    "\n",
    "fig.update_yaxes(scaleanchor=\"x\", scaleratio=1)\n",
    "fig.update_xaxes(constrain='domain')\n",
    "fig.show()"
   ]
  },
  {
   "cell_type": "code",
   "execution_count": 34,
   "metadata": {
    "tags": [
     "hide-input"
    ]
   },
   "outputs": [
    {
     "data": {
      "text/html": [
       "<div>\n",
       "<style scoped>\n",
       "    .dataframe tbody tr th:only-of-type {\n",
       "        vertical-align: middle;\n",
       "    }\n",
       "\n",
       "    .dataframe tbody tr th {\n",
       "        vertical-align: top;\n",
       "    }\n",
       "\n",
       "    .dataframe thead th {\n",
       "        text-align: right;\n",
       "    }\n",
       "</style>\n",
       "<table border=\"1\" class=\"dataframe\">\n",
       "  <thead>\n",
       "    <tr style=\"text-align: right;\">\n",
       "      <th></th>\n",
       "      <th>fpr</th>\n",
       "      <th>tpr</th>\n",
       "      <th>threshold</th>\n",
       "    </tr>\n",
       "  </thead>\n",
       "  <tbody>\n",
       "    <tr>\n",
       "      <th>480</th>\n",
       "      <td>0.143405</td>\n",
       "      <td>0.790743</td>\n",
       "      <td>0.488017</td>\n",
       "    </tr>\n",
       "    <tr>\n",
       "      <th>481</th>\n",
       "      <td>0.143885</td>\n",
       "      <td>0.790743</td>\n",
       "      <td>0.487851</td>\n",
       "    </tr>\n",
       "    <tr>\n",
       "      <th>482</th>\n",
       "      <td>0.143885</td>\n",
       "      <td>0.791728</td>\n",
       "      <td>0.487713</td>\n",
       "    </tr>\n",
       "    <tr>\n",
       "      <th>483</th>\n",
       "      <td>0.144844</td>\n",
       "      <td>0.791728</td>\n",
       "      <td>0.487675</td>\n",
       "    </tr>\n",
       "    <tr>\n",
       "      <th>484</th>\n",
       "      <td>0.144844</td>\n",
       "      <td>0.793698</td>\n",
       "      <td>0.487610</td>\n",
       "    </tr>\n",
       "    <tr>\n",
       "      <th>485</th>\n",
       "      <td>0.145324</td>\n",
       "      <td>0.793698</td>\n",
       "      <td>0.487528</td>\n",
       "    </tr>\n",
       "    <tr>\n",
       "      <th>486</th>\n",
       "      <td>0.145324</td>\n",
       "      <td>0.794190</td>\n",
       "      <td>0.487480</td>\n",
       "    </tr>\n",
       "    <tr>\n",
       "      <th>487</th>\n",
       "      <td>0.146283</td>\n",
       "      <td>0.794190</td>\n",
       "      <td>0.487367</td>\n",
       "    </tr>\n",
       "    <tr>\n",
       "      <th>488</th>\n",
       "      <td>0.146283</td>\n",
       "      <td>0.795175</td>\n",
       "      <td>0.487164</td>\n",
       "    </tr>\n",
       "    <tr>\n",
       "      <th>489</th>\n",
       "      <td>0.146763</td>\n",
       "      <td>0.795175</td>\n",
       "      <td>0.487124</td>\n",
       "    </tr>\n",
       "    <tr>\n",
       "      <th>490</th>\n",
       "      <td>0.146763</td>\n",
       "      <td>0.795667</td>\n",
       "      <td>0.487047</td>\n",
       "    </tr>\n",
       "    <tr>\n",
       "      <th>491</th>\n",
       "      <td>0.147242</td>\n",
       "      <td>0.795667</td>\n",
       "      <td>0.486771</td>\n",
       "    </tr>\n",
       "    <tr>\n",
       "      <th>492</th>\n",
       "      <td>0.147242</td>\n",
       "      <td>0.797144</td>\n",
       "      <td>0.486624</td>\n",
       "    </tr>\n",
       "    <tr>\n",
       "      <th>493</th>\n",
       "      <td>0.147722</td>\n",
       "      <td>0.797144</td>\n",
       "      <td>0.486561</td>\n",
       "    </tr>\n",
       "    <tr>\n",
       "      <th>494</th>\n",
       "      <td>0.147722</td>\n",
       "      <td>0.798129</td>\n",
       "      <td>0.486095</td>\n",
       "    </tr>\n",
       "    <tr>\n",
       "      <th>495</th>\n",
       "      <td>0.149161</td>\n",
       "      <td>0.798129</td>\n",
       "      <td>0.485930</td>\n",
       "    </tr>\n",
       "    <tr>\n",
       "      <th>496</th>\n",
       "      <td>0.149161</td>\n",
       "      <td>0.798621</td>\n",
       "      <td>0.485921</td>\n",
       "    </tr>\n",
       "    <tr>\n",
       "      <th>497</th>\n",
       "      <td>0.149640</td>\n",
       "      <td>0.798621</td>\n",
       "      <td>0.485873</td>\n",
       "    </tr>\n",
       "    <tr>\n",
       "      <th>498</th>\n",
       "      <td>0.149640</td>\n",
       "      <td>0.799114</td>\n",
       "      <td>0.485824</td>\n",
       "    </tr>\n",
       "    <tr>\n",
       "      <th>499</th>\n",
       "      <td>0.150120</td>\n",
       "      <td>0.799114</td>\n",
       "      <td>0.485606</td>\n",
       "    </tr>\n",
       "    <tr>\n",
       "      <th>500</th>\n",
       "      <td>0.150120</td>\n",
       "      <td>0.799606</td>\n",
       "      <td>0.485409</td>\n",
       "    </tr>\n",
       "    <tr>\n",
       "      <th>501</th>\n",
       "      <td>0.151079</td>\n",
       "      <td>0.799606</td>\n",
       "      <td>0.485144</td>\n",
       "    </tr>\n",
       "    <tr>\n",
       "      <th>502</th>\n",
       "      <td>0.151079</td>\n",
       "      <td>0.800098</td>\n",
       "      <td>0.485129</td>\n",
       "    </tr>\n",
       "    <tr>\n",
       "      <th>503</th>\n",
       "      <td>0.151559</td>\n",
       "      <td>0.800098</td>\n",
       "      <td>0.484901</td>\n",
       "    </tr>\n",
       "    <tr>\n",
       "      <th>504</th>\n",
       "      <td>0.151559</td>\n",
       "      <td>0.800591</td>\n",
       "      <td>0.484559</td>\n",
       "    </tr>\n",
       "    <tr>\n",
       "      <th>505</th>\n",
       "      <td>0.152038</td>\n",
       "      <td>0.800591</td>\n",
       "      <td>0.484500</td>\n",
       "    </tr>\n",
       "    <tr>\n",
       "      <th>506</th>\n",
       "      <td>0.152038</td>\n",
       "      <td>0.801083</td>\n",
       "      <td>0.484076</td>\n",
       "    </tr>\n",
       "    <tr>\n",
       "      <th>507</th>\n",
       "      <td>0.152518</td>\n",
       "      <td>0.801083</td>\n",
       "      <td>0.484045</td>\n",
       "    </tr>\n",
       "    <tr>\n",
       "      <th>508</th>\n",
       "      <td>0.152518</td>\n",
       "      <td>0.801576</td>\n",
       "      <td>0.483910</td>\n",
       "    </tr>\n",
       "    <tr>\n",
       "      <th>509</th>\n",
       "      <td>0.153477</td>\n",
       "      <td>0.801576</td>\n",
       "      <td>0.483757</td>\n",
       "    </tr>\n",
       "    <tr>\n",
       "      <th>510</th>\n",
       "      <td>0.153477</td>\n",
       "      <td>0.802560</td>\n",
       "      <td>0.483293</td>\n",
       "    </tr>\n",
       "    <tr>\n",
       "      <th>511</th>\n",
       "      <td>0.154436</td>\n",
       "      <td>0.802560</td>\n",
       "      <td>0.482961</td>\n",
       "    </tr>\n",
       "    <tr>\n",
       "      <th>512</th>\n",
       "      <td>0.154436</td>\n",
       "      <td>0.804530</td>\n",
       "      <td>0.482663</td>\n",
       "    </tr>\n",
       "    <tr>\n",
       "      <th>513</th>\n",
       "      <td>0.154916</td>\n",
       "      <td>0.804530</td>\n",
       "      <td>0.482660</td>\n",
       "    </tr>\n",
       "    <tr>\n",
       "      <th>514</th>\n",
       "      <td>0.154916</td>\n",
       "      <td>0.805022</td>\n",
       "      <td>0.482639</td>\n",
       "    </tr>\n",
       "    <tr>\n",
       "      <th>515</th>\n",
       "      <td>0.155396</td>\n",
       "      <td>0.805022</td>\n",
       "      <td>0.482605</td>\n",
       "    </tr>\n",
       "    <tr>\n",
       "      <th>516</th>\n",
       "      <td>0.155396</td>\n",
       "      <td>0.806499</td>\n",
       "      <td>0.482331</td>\n",
       "    </tr>\n",
       "    <tr>\n",
       "      <th>517</th>\n",
       "      <td>0.155875</td>\n",
       "      <td>0.806499</td>\n",
       "      <td>0.482253</td>\n",
       "    </tr>\n",
       "    <tr>\n",
       "      <th>518</th>\n",
       "      <td>0.155875</td>\n",
       "      <td>0.807976</td>\n",
       "      <td>0.482142</td>\n",
       "    </tr>\n",
       "    <tr>\n",
       "      <th>519</th>\n",
       "      <td>0.156355</td>\n",
       "      <td>0.807976</td>\n",
       "      <td>0.481905</td>\n",
       "    </tr>\n",
       "    <tr>\n",
       "      <th>520</th>\n",
       "      <td>0.156355</td>\n",
       "      <td>0.808961</td>\n",
       "      <td>0.481868</td>\n",
       "    </tr>\n",
       "    <tr>\n",
       "      <th>521</th>\n",
       "      <td>0.156835</td>\n",
       "      <td>0.808961</td>\n",
       "      <td>0.481853</td>\n",
       "    </tr>\n",
       "    <tr>\n",
       "      <th>522</th>\n",
       "      <td>0.156835</td>\n",
       "      <td>0.809453</td>\n",
       "      <td>0.481847</td>\n",
       "    </tr>\n",
       "    <tr>\n",
       "      <th>523</th>\n",
       "      <td>0.157314</td>\n",
       "      <td>0.809453</td>\n",
       "      <td>0.481812</td>\n",
       "    </tr>\n",
       "    <tr>\n",
       "      <th>524</th>\n",
       "      <td>0.157314</td>\n",
       "      <td>0.809946</td>\n",
       "      <td>0.481791</td>\n",
       "    </tr>\n",
       "    <tr>\n",
       "      <th>525</th>\n",
       "      <td>0.157794</td>\n",
       "      <td>0.809946</td>\n",
       "      <td>0.481781</td>\n",
       "    </tr>\n",
       "  </tbody>\n",
       "</table>\n",
       "</div>"
      ],
      "text/plain": [
       "          fpr       tpr  threshold\n",
       "480  0.143405  0.790743   0.488017\n",
       "481  0.143885  0.790743   0.487851\n",
       "482  0.143885  0.791728   0.487713\n",
       "483  0.144844  0.791728   0.487675\n",
       "484  0.144844  0.793698   0.487610\n",
       "485  0.145324  0.793698   0.487528\n",
       "486  0.145324  0.794190   0.487480\n",
       "487  0.146283  0.794190   0.487367\n",
       "488  0.146283  0.795175   0.487164\n",
       "489  0.146763  0.795175   0.487124\n",
       "490  0.146763  0.795667   0.487047\n",
       "491  0.147242  0.795667   0.486771\n",
       "492  0.147242  0.797144   0.486624\n",
       "493  0.147722  0.797144   0.486561\n",
       "494  0.147722  0.798129   0.486095\n",
       "495  0.149161  0.798129   0.485930\n",
       "496  0.149161  0.798621   0.485921\n",
       "497  0.149640  0.798621   0.485873\n",
       "498  0.149640  0.799114   0.485824\n",
       "499  0.150120  0.799114   0.485606\n",
       "500  0.150120  0.799606   0.485409\n",
       "501  0.151079  0.799606   0.485144\n",
       "502  0.151079  0.800098   0.485129\n",
       "503  0.151559  0.800098   0.484901\n",
       "504  0.151559  0.800591   0.484559\n",
       "505  0.152038  0.800591   0.484500\n",
       "506  0.152038  0.801083   0.484076\n",
       "507  0.152518  0.801083   0.484045\n",
       "508  0.152518  0.801576   0.483910\n",
       "509  0.153477  0.801576   0.483757\n",
       "510  0.153477  0.802560   0.483293\n",
       "511  0.154436  0.802560   0.482961\n",
       "512  0.154436  0.804530   0.482663\n",
       "513  0.154916  0.804530   0.482660\n",
       "514  0.154916  0.805022   0.482639\n",
       "515  0.155396  0.805022   0.482605\n",
       "516  0.155396  0.806499   0.482331\n",
       "517  0.155875  0.806499   0.482253\n",
       "518  0.155875  0.807976   0.482142\n",
       "519  0.156355  0.807976   0.481905\n",
       "520  0.156355  0.808961   0.481868\n",
       "521  0.156835  0.808961   0.481853\n",
       "522  0.156835  0.809453   0.481847\n",
       "523  0.157314  0.809453   0.481812\n",
       "524  0.157314  0.809946   0.481791\n",
       "525  0.157794  0.809946   0.481781"
      ]
     },
     "execution_count": 34,
     "metadata": {},
     "output_type": "execute_result"
    }
   ],
   "source": [
    "# Create a ROC dataframe from the obtained FPR and TPR\n",
    "roc_df = pd.DataFrame({\n",
    "    'fpr': fpr,\n",
    "    'tpr': tpr,\n",
    "    'threshold': thresholds\n",
    "})\n",
    "\n",
    "# Get the values of threshold for true positive rate between 0.79 and 0.81\n",
    "roc_df[roc_df['tpr'].between(0.79, 0.81)]"
   ]
  },
  {
   "cell_type": "markdown",
   "metadata": {},
   "source": [
    "For this data set also, it is the threshold value that can be utilized is close to 0.5 and hence the default value of 0.5 will be used for classification of records."
   ]
  },
  {
   "cell_type": "code",
   "execution_count": 35,
   "metadata": {
    "tags": [
     "hide-input"
    ]
   },
   "outputs": [
    {
     "data": {
      "text/plain": [
       "<sklearn.metrics._plot.confusion_matrix.ConfusionMatrixDisplay at 0x1083d3940>"
      ]
     },
     "execution_count": 35,
     "metadata": {},
     "output_type": "execute_result"
    },
    {
     "data": {
      "image/png": "[encoded data removed]",
      "text/plain": [
       "<Figure size 640x480 with 2 Axes>"
      ]
     },
     "metadata": {},
     "output_type": "display_data"
    }
   ],
   "source": [
    "# Plot the confusion matrix\n",
    "ConfusionMatrixDisplay.from_estimator(grid_result, X_test, y_test)"
   ]
  },
  {
   "cell_type": "code",
   "execution_count": 36,
   "metadata": {
    "tags": [
     "hide-input"
    ]
   },
   "outputs": [
    {
     "name": "stdout",
     "output_type": "stream",
     "text": [
      "              precision    recall  f1-score   support\n",
      "\n",
      "         0.0       0.78      0.88      0.83      2085\n",
      "         1.0       0.86      0.75      0.80      2031\n",
      "\n",
      "    accuracy                           0.82      4116\n",
      "   macro avg       0.82      0.81      0.81      4116\n",
      "weighted avg       0.82      0.82      0.81      4116\n",
      "\n"
     ]
    }
   ],
   "source": [
    "# Print classification report\n",
    "print(classification_report(y_test, y_pred))"
   ]
  },
  {
   "cell_type": "markdown",
   "metadata": {},
   "source": [
    "The F1-score of the oversampled data is comparable with that of non-oversampled data but the other parameters such as precision and recall saw a marginal improvement. Hence it can be concluded that the model trained on oversampled data is better."
   ]
  },
  {
   "cell_type": "code",
   "execution_count": 37,
   "metadata": {
    "tags": [
     "hide-cell"
    ]
   },
   "outputs": [
    {
     "data": {
      "text/plain": [
       "['./../../data/models/logistic_regression_oversample.pkl']"
      ]
     },
     "execution_count": 37,
     "metadata": {},
     "output_type": "execute_result"
    }
   ],
   "source": [
    "# Save the model\n",
    "joblib.dump(grid_result, './../../data/models/logistic_regression_oversample.pkl')"
   ]
  }
 ],
 "metadata": {
  "kernelspec": {
   "display_name": "Python 3.8.13 ('project')",
   "language": "python",
   "name": "python3"
  },
  "language_info": {
   "codemirror_mode": {
    "name": "ipython",
    "version": 3
   },
   "file_extension": ".py",
   "mimetype": "text/x-python",
   "name": "python",
   "nbconvert_exporter": "python",
   "pygments_lexer": "ipython3",
   "version": "3.8.13"
  },
  "orig_nbformat": 4,
  "vscode": {
   "interpreter": {
    "hash": "af77eb27f514ee114388f6898d9553454263f7eea260918546d16a8e581c8922"
   }
  }
 },
 "nbformat": 4,
 "nbformat_minor": 2
}
