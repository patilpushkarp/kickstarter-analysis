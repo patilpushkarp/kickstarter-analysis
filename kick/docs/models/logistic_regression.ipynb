{
 "cells": [
  {
   "cell_type": "markdown",
   "metadata": {},
   "source": [
    "# Logistic Regression"
   ]
  },
  {
   "cell_type": "markdown",
   "metadata": {},
   "source": [
    "To begin with, one of the most simplest and widely used algorithms in use is logistic regression. "
   ]
  },
  {
   "cell_type": "code",
   "execution_count": 1,
   "metadata": {
    "tags": [
     "hide-cell"
    ]
   },
   "outputs": [],
   "source": [
    "# Import necessary packages\n",
    "import pandas as pd\n",
    "import numpy as np\n",
    "import joblib\n",
    "import statsmodels.api as sm\n",
    "from sklearn.model_selection import train_test_split\n",
    "from sklearn.linear_model import LogisticRegression\n",
    "from sklearn.model_selection import GridSearchCV\n",
    "from sklearn.metrics import roc_auc_score, roc_curve, auc\n",
    "from sklearn.metrics import ConfusionMatrixDisplay\n",
    "import plotly.express as px\n",
    "import plotly.io as pio\n",
    "svg_renderer = pio.renderers[\"svg\"]\n",
    "svg_renderer.width = 800\n",
    "svg_renderer.height = 500\n",
    "pio.renderers.default = \"svg\""
   ]
  },
  {
   "cell_type": "markdown",
   "metadata": {},
   "source": [
    "## Model without oversample data"
   ]
  },
  {
   "cell_type": "code",
   "execution_count": 2,
   "metadata": {
    "tags": [
     "hide-cell"
    ]
   },
   "outputs": [],
   "source": [
    "# Load the data\n",
    "df = pd.read_csv('./../../data/engineered_data.csv')"
   ]
  },
  {
   "cell_type": "code",
   "execution_count": 3,
   "metadata": {
    "tags": [
     "hide-cell"
    ]
   },
   "outputs": [],
   "source": [
    "# Drop the index column\n",
    "df.drop(['Unnamed: 0'], axis=1, inplace=True)"
   ]
  },
  {
   "cell_type": "markdown",
   "metadata": {},
   "source": [
    "Before modelinng the data, it is necessary to split the data into training and testing set."
   ]
  },
  {
   "cell_type": "code",
   "execution_count": 4,
   "metadata": {},
   "outputs": [],
   "source": [
    "# Split the data into train and test sets\n",
    "X_train, X_test, y_train, y_test = train_test_split(df.drop('state', axis=1), df['state'], test_size=0.2, random_state=42)"
   ]
  },
  {
   "cell_type": "markdown",
   "metadata": {},
   "source": [
    "### Model Building"
   ]
  },
  {
   "cell_type": "code",
   "execution_count": 5,
   "metadata": {},
   "outputs": [],
   "source": [
    "# Declare the logistic regression model\n",
    "logreg_clf = LogisticRegression(penalty='elasticnet', fit_intercept=True, class_weight='balanced', solver='saga')\n",
    "\n",
    "# Declare the grid paramters to be searched\n",
    "logreg_params = dict(\n",
    "    C = np.logspace(-4, 4, num=9),\n",
    "    max_iter = [100, 200, 500],\n",
    "    l1_ratio = [0, 0.3, 0.6, 1]\n",
    ")"
   ]
  },
  {
   "cell_type": "code",
   "execution_count": null,
   "metadata": {},
   "outputs": [],
   "source": [
    "# Declare the gridsearch object\n",
    "grid_search = GridSearchCV(logreg_clf, logreg_params, scoring='roc_auc', n_jobs=7, refit=True, cv=10, verbose=5)\n",
    "\n",
    "# Fit the model\n",
    "grid_result = grid_search.fit(X_train, y_train)"
   ]
  },
  {
   "cell_type": "markdown",
   "metadata": {},
   "source": [
    "### Inferencing"
   ]
  },
  {
   "cell_type": "code",
   "execution_count": 7,
   "metadata": {},
   "outputs": [
    {
     "name": "stdout",
     "output_type": "stream",
     "text": [
      "Best score of 0.8808524070808426 is achieved by using {'C': 1.0, 'l1_ratio': 1, 'max_iter': 500}\n"
     ]
    }
   ],
   "source": [
    "# Get the best model parameters\n",
    "print(f\"Best score of {grid_search.best_score_} is achieved by using {grid_result.best_params_}\")"
   ]
  },
  {
   "cell_type": "code",
   "execution_count": 8,
   "metadata": {},
   "outputs": [],
   "source": [
    "# Predict on test data using the model\n",
    "y_pred = grid_search.predict(X_test)\n",
    "y_score = grid_search.predict_proba(X_test)[:, 1]"
   ]
  },
  {
   "cell_type": "markdown",
   "metadata": {},
   "source": [
    "### Evaluation"
   ]
  },
  {
   "cell_type": "code",
   "execution_count": 9,
   "metadata": {},
   "outputs": [
    {
     "name": "stdout",
     "output_type": "stream",
     "text": [
      "Area under the ROC curve: 0.8827614307972182\n"
     ]
    }
   ],
   "source": [
    "# Find the ROC AUC score\n",
    "print(f\"Area under the ROC curve: {roc_auc_score(y_test, y_score)}\")"
   ]
  },
  {
   "cell_type": "code",
   "execution_count": 10,
   "metadata": {},
   "outputs": [],
   "source": [
    "# Calculate parameters for roc auc curve\n",
    "fpr, tpr, thresholds = roc_curve(y_test, y_score)"
   ]
  },
  {
   "cell_type": "code",
   "execution_count": 11,
   "metadata": {},
   "outputs": [
    {
     "data": {
      "image/svg+xml": "<svg class=\"main-svg\" xmlns=\"http://www.w3.org/2000/svg\" xmlns:xlink=\"http://www.w3.org/1999/xlink\" width=\"800\" height=\"500\" style=\"\" viewBox=\"0 0 800 500\"><rect x=\"0\" y=\"0\" width=\"800\" height=\"500\" style=\"fill: rgb(255, 255, 255); fill-opacity: 1;\"/><defs id=\"defs-60a64d\"><g class=\"clips\"><clipPath id=\"clip60a64dxyplot\" class=\"plotclip\"><rect width=\"304.99999999999994\" height=\"320\"/></clipPath><clipPath class=\"axesclip\" id=\"clip60a64dx\"><rect x=\"247.50000000000003\" y=\"0\" width=\"304.99999999999994\" height=\"500\"/></clipPath><clipPath class=\"axesclip\" id=\"clip60a64dy\"><rect x=\"0\" y=\"100\" width=\"800\" height=\"320\"/></clipPath><clipPath class=\"axesclip\" id=\"clip60a64dxy\"><rect x=\"247.50000000000003\" y=\"100\" width=\"304.99999999999994\" height=\"320\"/></clipPath></g><g class=\"gradients\"/><g class=\"patterns\"/></defs><g class=\"bglayer\"><rect class=\"bg\" x=\"247.50000000000003\" y=\"100\" width=\"304.99999999999994\" height=\"320\" style=\"fill: rgb(229, 236, 246); fill-opacity: 1; stroke-width: 0;\"/></g><g class=\"layer-below\"><g class=\"imagelayer\"/><g class=\"shapelayer\"/></g><g class=\"cartesianlayer\"><g class=\"subplot xy\"><g class=\"layer-subplot\"><g class=\"shapelayer\"/><g class=\"imagelayer\"/></g><g class=\"minor-gridlayer\"><g class=\"x\"/><g class=\"y\"/></g><g class=\"gridlayer\"><g class=\"x\"><path class=\"xgrid crisp\" transform=\"translate(400,0)\" d=\"M0,100v320\" style=\"stroke: rgb(255, 255, 255); stroke-opacity: 1; stroke-width: 1px;\"/></g><g class=\"y\"><path class=\"ygrid crisp\" transform=\"translate(0,358.4)\" d=\"M247.50000000000003,0h304.99999999999994\" style=\"stroke: rgb(255, 255, 255); stroke-opacity: 1; stroke-width: 1px;\"/><path class=\"ygrid crisp\" transform=\"translate(0,297.8)\" d=\"M247.50000000000003,0h304.99999999999994\" style=\"stroke: rgb(255, 255, 255); stroke-opacity: 1; stroke-width: 1px;\"/><path class=\"ygrid crisp\" transform=\"translate(0,237.2)\" d=\"M247.50000000000003,0h304.99999999999994\" style=\"stroke: rgb(255, 255, 255); stroke-opacity: 1; stroke-width: 1px;\"/><path class=\"ygrid crisp\" transform=\"translate(0,176.6)\" d=\"M247.50000000000003,0h304.99999999999994\" style=\"stroke: rgb(255, 255, 255); stroke-opacity: 1; stroke-width: 1px;\"/><path class=\"ygrid crisp\" transform=\"translate(0,116)\" d=\"M247.50000000000003,0h304.99999999999994\" style=\"stroke: rgb(255, 255, 255); stroke-opacity: 1; stroke-width: 1px;\"/></g></g><g class=\"zerolinelayer\"><path class=\"xzl zl crisp\" transform=\"translate(248.50000000000003,0)\" d=\"M0,100v320\" style=\"stroke: rgb(255, 255, 255); stroke-opacity: 1; stroke-width: 2px;\"/><path class=\"yzl zl crisp\" transform=\"translate(0,419)\" d=\"M247.50000000000003,0h304.99999999999994\" style=\"stroke: rgb(255, 255, 255); stroke-opacity: 1; stroke-width: 2px;\"/></g><path class=\"xlines-below\"/><path class=\"ylines-below\"/><g class=\"overlines-below\"/><g class=\"xaxislayer-below\"/><g class=\"yaxislayer-below\"/><g class=\"overaxes-below\"/><g class=\"plot\" transform=\"translate(247.50000000000003,100)\" clip-path=\"url(#clip60a64dxyplot)\"><g class=\"scatterlayer mlayer\"><g class=\"trace scatter trace3e0916\" style=\"stroke-miterlimit: 2;\"><g class=\"fills\"><g><path class=\"js-fill\" d=\"M304,319L1,319L1,319L1.72,280.3L1.87,280.3L2.59,257.16L2.73,257.16L3.31,246.79L3.6,246.79L4.32,240.23L4.47,240.23L5.05,236.43L5.34,236.43L6.06,229.17L6.2,229.17L6.78,214.31L7.22,214.31L7.94,209.48L8.08,209.48L8.52,207.4L9.24,207.4L9.67,200.84L10.11,200.84L10.83,199.8L10.97,199.8L11.55,193.24L11.84,193.24L12.56,186.33L12.71,186.33L13.43,177.35L13.72,177.35L14.44,172.16L14.59,172.16L15.31,169.75L15.75,169.75L16.18,165.6L16.61,165.6L17.34,160.07L17.48,160.07L18.2,155.93L18.64,155.93L19.21,154.54L19.65,154.54L19.65,154.2L20.8,154.2L21.24,146.94L21.67,146.94L22.4,142.11L22.68,142.11L23.26,138.31L23.55,138.31L24.13,136.92L25,136.92L25.72,132.43L25.86,132.43L26.3,131.05L27.17,131.05L27.89,127.25L28.32,127.25L29.04,122.07L29.19,122.07L29.91,119.3L30.2,119.3L30.92,116.19L31.07,116.19L31.65,114.47L31.94,114.47L32.37,113.43L32.8,113.43L33.38,111.36L33.67,111.36L34.1,109.97L34.68,109.97L35.41,108.25L35.98,108.25L36.42,107.56L37.28,107.56L38.01,106.87L38.15,106.87L38.73,105.14L39.45,105.14L39.6,104.45L40.9,104.45L41.48,103.41L41.77,103.41L42.34,102.72L42.78,102.72L43.5,99.96L43.79,99.96L44.22,98.57L44.66,98.57L44.95,96.5L45.81,96.5L46.54,95.46L46.68,95.46L47.26,94.77L48.13,94.77L48.42,94.08L49.28,94.08L49.28,93.74L50.3,93.74L51.02,90.97L52.61,90.97L52.75,89.59L53.76,89.59L54.49,88.21L54.78,88.21L55.21,86.83L56.22,86.83L56.37,86.14L57.96,86.14L58.54,84.41L58.82,84.41L59.11,82.68L59.84,82.68L59.84,82.34L61.14,82.34L61.72,80.61L62.44,80.61L62.73,79.57L64.61,79.57L65.33,76.46L65.47,76.46L66.2,75.43L66.34,75.43L67.06,73.7L67.64,73.7L67.64,73.35L68.51,73.35L68.94,71.97L69.67,71.97L70.24,71.28L70.97,71.28L70.97,70.93L71.83,70.93L71.98,70.24L73.14,70.24L73.57,68.86L74,68.86L74.44,67.48L75.16,67.48L75.88,66.79L76.17,66.79L76.46,66.1L77.04,66.1L77.62,65.41L78.05,65.41L78.63,64.37L79.06,64.37L79.64,62.3L79.93,62.3L79.93,61.95L80.94,61.95L81.38,61.26L81.81,61.26L82.53,60.57L82.68,60.57L82.97,59.19L83.54,59.19L83.98,57.81L84.99,57.81L85.28,57.11L86.15,57.11L86.44,55.73L87.01,55.73L87.01,55.39L88.03,55.39L88.03,55.04L89.76,55.04L89.76,54.7L90.92,54.7L90.92,54.35L92.07,54.35L92.8,53.31L96.41,53.31L96.55,52.28L97.57,52.28L98.15,51.59L98.58,51.59L99.16,49.51L100.02,49.51L100.02,49.17L102.05,49.17L102.19,48.13L103.2,48.13L103.93,46.4L104.51,46.4L104.51,46.06L105.37,46.06L106.1,45.37L106.39,45.37L106.82,44.68L107.54,44.68L107.54,44.33L109.85,44.33L110.29,42.6L111.44,42.6L112.02,41.91L112.75,41.91L113.47,40.53L113.61,40.53L113.61,40.18L115.35,40.18L115.93,39.49L116.5,39.49L116.79,37.77L119.11,37.77L119.68,36.73L120.41,36.73L121.13,35.69L121.27,35.69L121.85,34.66L122.29,34.66L122.29,34.31L123.59,34.31L123.73,33.62L125.9,33.62L125.9,33.27L126.77,33.27L127.49,32.58L128.79,32.58L128.79,31.89L129.95,31.89L129.95,31.55L130.82,31.55L130.82,31.2L133.85,31.2L133.85,30.86L135.73,30.86L135.73,30.17L143.39,30.17L143.39,29.82L146.43,29.82L147.15,28.09L150.91,28.09L150.91,27.75L157.56,27.75L157.56,27.4L163.78,27.4L164.35,26.71L168.55,26.71L169.12,25.67L170.43,25.67L170.43,25.33L172.59,25.33L172.59,24.64L173.46,24.64L173.75,23.6L176.64,23.6L177.08,22.91L183.73,22.91L183.73,22.56L185.03,22.56L185.03,22.22L188.06,22.22L188.06,21.87L192.98,21.87L193.12,21.18L194.13,21.18L194.13,20.84L198.18,20.84L198.18,20.49L204.25,20.49L204.25,20.15L205.84,20.15L205.84,19.8L211.48,19.8L211.48,19.11L219.29,19.11L219.58,18.42L234.18,18.42L234.18,18.07L253.69,18.07L253.69,17.73L257.31,17.73L257.31,17.38L265.11,17.38L265.11,17.04L273.79,17.04L273.79,16.69L285.21,16.69L285.21,16.35L288.97,16.35L288.97,16L304,16\" style=\"fill: rgb(99, 110, 250); fill-opacity: 0.5; stroke-width: 0;\"/></g></g><g class=\"errorbars\"/><g class=\"lines\"><path class=\"js-line\" d=\"M1,319L1.72,280.3L1.87,280.3L2.59,257.16L2.73,257.16L3.31,246.79L3.6,246.79L4.32,240.23L4.47,240.23L5.05,236.43L5.34,236.43L6.06,229.17L6.2,229.17L6.78,214.31L7.22,214.31L7.94,209.48L8.08,209.48L8.52,207.4L9.24,207.4L9.67,200.84L10.11,200.84L10.83,199.8L10.97,199.8L11.55,193.24L11.84,193.24L12.56,186.33L12.71,186.33L13.43,177.35L13.72,177.35L14.44,172.16L14.59,172.16L15.31,169.75L15.75,169.75L16.18,165.6L16.61,165.6L17.34,160.07L17.48,160.07L18.2,155.93L18.64,155.93L19.21,154.54L19.65,154.54L19.65,154.2L20.8,154.2L21.24,146.94L21.67,146.94L22.4,142.11L22.68,142.11L23.26,138.31L23.55,138.31L24.13,136.92L25,136.92L25.72,132.43L25.86,132.43L26.3,131.05L27.17,131.05L27.89,127.25L28.32,127.25L29.04,122.07L29.19,122.07L29.91,119.3L30.2,119.3L30.92,116.19L31.07,116.19L31.65,114.47L31.94,114.47L32.37,113.43L32.8,113.43L33.38,111.36L33.67,111.36L34.1,109.97L34.68,109.97L35.41,108.25L35.98,108.25L36.42,107.56L37.28,107.56L38.01,106.87L38.15,106.87L38.73,105.14L39.45,105.14L39.6,104.45L40.9,104.45L41.48,103.41L41.77,103.41L42.34,102.72L42.78,102.72L43.5,99.96L43.79,99.96L44.22,98.57L44.66,98.57L44.95,96.5L45.81,96.5L46.54,95.46L46.68,95.46L47.26,94.77L48.13,94.77L48.42,94.08L49.28,94.08L49.28,93.74L50.3,93.74L51.02,90.97L52.61,90.97L52.75,89.59L53.76,89.59L54.49,88.21L54.78,88.21L55.21,86.83L56.22,86.83L56.37,86.14L57.96,86.14L58.54,84.41L58.82,84.41L59.11,82.68L59.84,82.68L59.84,82.34L61.14,82.34L61.72,80.61L62.44,80.61L62.73,79.57L64.61,79.57L65.33,76.46L65.47,76.46L66.2,75.43L66.34,75.43L67.06,73.7L67.64,73.7L67.64,73.35L68.51,73.35L68.94,71.97L69.67,71.97L70.24,71.28L70.97,71.28L70.97,70.93L71.83,70.93L71.98,70.24L73.14,70.24L73.57,68.86L74,68.86L74.44,67.48L75.16,67.48L75.88,66.79L76.17,66.79L76.46,66.1L77.04,66.1L77.62,65.41L78.05,65.41L78.63,64.37L79.06,64.37L79.64,62.3L79.93,62.3L79.93,61.95L80.94,61.95L81.38,61.26L81.81,61.26L82.53,60.57L82.68,60.57L82.97,59.19L83.54,59.19L83.98,57.81L84.99,57.81L85.28,57.11L86.15,57.11L86.44,55.73L87.01,55.73L87.01,55.39L88.03,55.39L88.03,55.04L89.76,55.04L89.76,54.7L90.92,54.7L90.92,54.35L92.07,54.35L92.8,53.31L96.41,53.31L96.55,52.28L97.57,52.28L98.15,51.59L98.58,51.59L99.16,49.51L100.02,49.51L100.02,49.17L102.05,49.17L102.19,48.13L103.2,48.13L103.93,46.4L104.51,46.4L104.51,46.06L105.37,46.06L106.1,45.37L106.39,45.37L106.82,44.68L107.54,44.68L107.54,44.33L109.85,44.33L110.29,42.6L111.44,42.6L112.02,41.91L112.75,41.91L113.47,40.53L113.61,40.53L113.61,40.18L115.35,40.18L115.93,39.49L116.5,39.49L116.79,37.77L119.11,37.77L119.68,36.73L120.41,36.73L121.13,35.69L121.27,35.69L121.85,34.66L122.29,34.66L122.29,34.31L123.59,34.31L123.73,33.62L125.9,33.62L125.9,33.27L126.77,33.27L127.49,32.58L128.79,32.58L128.79,31.89L129.95,31.89L129.95,31.55L130.82,31.55L130.82,31.2L133.85,31.2L133.85,30.86L135.73,30.86L135.73,30.17L143.39,30.17L143.39,29.82L146.43,29.82L147.15,28.09L150.91,28.09L150.91,27.75L157.56,27.75L157.56,27.4L163.78,27.4L164.35,26.71L168.55,26.71L169.12,25.67L170.43,25.67L170.43,25.33L172.59,25.33L172.59,24.64L173.46,24.64L173.75,23.6L176.64,23.6L177.08,22.91L183.73,22.91L183.73,22.56L185.03,22.56L185.03,22.22L188.06,22.22L188.06,21.87L192.98,21.87L193.12,21.18L194.13,21.18L194.13,20.84L198.18,20.84L198.18,20.49L204.25,20.49L204.25,20.15L205.84,20.15L205.84,19.8L211.48,19.8L211.48,19.11L219.29,19.11L219.58,18.42L234.18,18.42L234.18,18.07L253.69,18.07L253.69,17.73L257.31,17.73L257.31,17.38L265.11,17.38L265.11,17.04L273.79,17.04L273.79,16.69L285.21,16.69L285.21,16.35L288.97,16.35L288.97,16L304,16\" style=\"vector-effect: non-scaling-stroke; fill: none; stroke: rgb(99, 110, 250); stroke-opacity: 1; stroke-width: 2px; opacity: 1;\"/></g><g class=\"points\"/><g class=\"text\"/></g></g></g><g class=\"overplot\"/><path class=\"xlines-above crisp\" d=\"M0,0\" style=\"fill: none;\"/><path class=\"ylines-above crisp\" d=\"M0,0\" style=\"fill: none;\"/><g class=\"overlines-above\"/><g class=\"xaxislayer-above\"><g class=\"xtick\"><text text-anchor=\"middle\" x=\"0\" y=\"433\" transform=\"translate(248.50000000000003,0)\" style=\"font-family: 'Open Sans', verdana, arial, sans-serif; font-size: 12px; fill: rgb(42, 63, 95); fill-opacity: 1; white-space: pre; opacity: 1;\">0</text></g><g class=\"xtick\"><text text-anchor=\"middle\" x=\"0\" y=\"433\" style=\"font-family: 'Open Sans', verdana, arial, sans-serif; font-size: 12px; fill: rgb(42, 63, 95); fill-opacity: 1; white-space: pre; opacity: 1;\" transform=\"translate(400,0)\">0.5</text></g><g class=\"xtick\"><text text-anchor=\"middle\" x=\"0\" y=\"433\" style=\"font-family: 'Open Sans', verdana, arial, sans-serif; font-size: 12px; fill: rgb(42, 63, 95); fill-opacity: 1; white-space: pre; opacity: 1;\" transform=\"translate(551.5,0)\">1</text></g></g><g class=\"yaxislayer-above\"><g class=\"ytick\"><text text-anchor=\"end\" x=\"246.50000000000003\" y=\"4.199999999999999\" transform=\"translate(0,419)\" style=\"font-family: 'Open Sans', verdana, arial, sans-serif; font-size: 12px; fill: rgb(42, 63, 95); fill-opacity: 1; white-space: pre; opacity: 1;\">0</text></g><g class=\"ytick\"><text text-anchor=\"end\" x=\"246.50000000000003\" y=\"4.199999999999999\" style=\"font-family: 'Open Sans', verdana, arial, sans-serif; font-size: 12px; fill: rgb(42, 63, 95); fill-opacity: 1; white-space: pre; opacity: 1;\" transform=\"translate(0,358.4)\">0.2</text></g><g class=\"ytick\"><text text-anchor=\"end\" x=\"246.50000000000003\" y=\"4.199999999999999\" style=\"font-family: 'Open Sans', verdana, arial, sans-serif; font-size: 12px; fill: rgb(42, 63, 95); fill-opacity: 1; white-space: pre; opacity: 1;\" transform=\"translate(0,297.8)\">0.4</text></g><g class=\"ytick\"><text text-anchor=\"end\" x=\"246.50000000000003\" y=\"4.199999999999999\" style=\"font-family: 'Open Sans', verdana, arial, sans-serif; font-size: 12px; fill: rgb(42, 63, 95); fill-opacity: 1; white-space: pre; opacity: 1;\" transform=\"translate(0,237.2)\">0.6</text></g><g class=\"ytick\"><text text-anchor=\"end\" x=\"246.50000000000003\" y=\"4.199999999999999\" style=\"font-family: 'Open Sans', verdana, arial, sans-serif; font-size: 12px; fill: rgb(42, 63, 95); fill-opacity: 1; white-space: pre; opacity: 1;\" transform=\"translate(0,176.6)\">0.8</text></g><g class=\"ytick\"><text text-anchor=\"end\" x=\"246.50000000000003\" y=\"4.199999999999999\" style=\"font-family: 'Open Sans', verdana, arial, sans-serif; font-size: 12px; fill: rgb(42, 63, 95); fill-opacity: 1; white-space: pre; opacity: 1;\" transform=\"translate(0,116)\">1</text></g></g><g class=\"overaxes-above\"/></g></g><g class=\"polarlayer\"/><g class=\"smithlayer\"/><g class=\"ternarylayer\"/><g class=\"geolayer\"/><g class=\"funnelarealayer\"/><g class=\"pielayer\"/><g class=\"iciclelayer\"/><g class=\"treemaplayer\"/><g class=\"sunburstlayer\"/><g class=\"glimages\"/><defs id=\"topdefs-60a64d\"><g class=\"clips\"/></defs><g class=\"layer-above\"><g class=\"imagelayer\"/><g class=\"shapelayer\"><path data-index=\"0\" fill-rule=\"evenodd\" d=\"M248.50000000000003,419L551.5,116\" clip-path=\"url(#clip60a64dxy)\" style=\"opacity: 1; stroke: rgb(42, 63, 95); stroke-opacity: 1; fill: rgb(0, 0, 0); fill-opacity: 0; stroke-dasharray: 9px, 9px; stroke-width: 2px;\"/></g></g><g class=\"infolayer\"><g class=\"g-gtitle\"><text class=\"gtitle\" x=\"40\" y=\"50\" text-anchor=\"start\" dy=\"0em\" style=\"font-family: 'Open Sans', verdana, arial, sans-serif; font-size: 17px; fill: rgb(42, 63, 95); opacity: 1; font-weight: normal; white-space: pre;\">ROC Curve (AUC=0.8828)</text></g><g class=\"g-xtitle\"><text class=\"xtitle\" x=\"400\" y=\"460.3\" text-anchor=\"middle\" style=\"font-family: 'Open Sans', verdana, arial, sans-serif; font-size: 14px; fill: rgb(42, 63, 95); opacity: 1; font-weight: normal; white-space: pre;\">False Positive Rate</text></g><g class=\"g-ytitle\"><text class=\"ytitle\" transform=\"rotate(-90,202.075,260)\" x=\"202.075\" y=\"260\" text-anchor=\"middle\" style=\"font-family: 'Open Sans', verdana, arial, sans-serif; font-size: 14px; fill: rgb(42, 63, 95); opacity: 1; font-weight: normal; white-space: pre;\">True Positive Rate</text></g></g></svg>"
     },
     "metadata": {},
     "output_type": "display_data"
    }
   ],
   "source": [
    "# Plot the curve and area under the curve\n",
    "fig = px.area(\n",
    "    x=fpr, y=tpr,\n",
    "    title=f'ROC Curve (AUC={auc(fpr, tpr):.4f})',\n",
    "    labels=dict(x='False Positive Rate', y='True Positive Rate')\n",
    ")\n",
    "fig.add_shape(\n",
    "    type='line', line=dict(dash='dash'),\n",
    "    x0=0, x1=1, y0=0, y1=1\n",
    ")\n",
    "\n",
    "fig.update_yaxes(scaleanchor=\"x\", scaleratio=1)\n",
    "fig.update_xaxes(constrain='domain')\n",
    "fig.show()"
   ]
  },
  {
   "cell_type": "markdown",
   "metadata": {},
   "source": [
    "An AUC score of 0.88 is quite remarkable and it suggest that model is quite good in predicting whether a project on Kickstarter will be succecssful or not."
   ]
  },
  {
   "cell_type": "code",
   "execution_count": 12,
   "metadata": {},
   "outputs": [],
   "source": [
    "# Create a ROC dataframe from the obtained FPR and TPR\n",
    "roc_df = pd.DataFrame({\n",
    "    'fpr': fpr,\n",
    "    'tpr': tpr,\n",
    "    'threshold': thresholds\n",
    "})"
   ]
  },
  {
   "cell_type": "code",
   "execution_count": 13,
   "metadata": {},
   "outputs": [
    {
     "data": {
      "text/html": [
       "<div>\n",
       "<style scoped>\n",
       "    .dataframe tbody tr th:only-of-type {\n",
       "        vertical-align: middle;\n",
       "    }\n",
       "\n",
       "    .dataframe tbody tr th {\n",
       "        vertical-align: top;\n",
       "    }\n",
       "\n",
       "    .dataframe thead th {\n",
       "        text-align: right;\n",
       "    }\n",
       "</style>\n",
       "<table border=\"1\" class=\"dataframe\">\n",
       "  <thead>\n",
       "    <tr style=\"text-align: right;\">\n",
       "      <th></th>\n",
       "      <th>fpr</th>\n",
       "      <th>tpr</th>\n",
       "      <th>threshold</th>\n",
       "    </tr>\n",
       "  </thead>\n",
       "  <tbody>\n",
       "    <tr>\n",
       "      <th>414</th>\n",
       "      <td>0.203721</td>\n",
       "      <td>0.790194</td>\n",
       "      <td>0.480285</td>\n",
       "    </tr>\n",
       "    <tr>\n",
       "      <th>415</th>\n",
       "      <td>0.209924</td>\n",
       "      <td>0.790194</td>\n",
       "      <td>0.478786</td>\n",
       "    </tr>\n",
       "    <tr>\n",
       "      <th>416</th>\n",
       "      <td>0.209924</td>\n",
       "      <td>0.791334</td>\n",
       "      <td>0.478741</td>\n",
       "    </tr>\n",
       "    <tr>\n",
       "      <th>417</th>\n",
       "      <td>0.210401</td>\n",
       "      <td>0.791334</td>\n",
       "      <td>0.478728</td>\n",
       "    </tr>\n",
       "    <tr>\n",
       "      <th>418</th>\n",
       "      <td>0.210401</td>\n",
       "      <td>0.793615</td>\n",
       "      <td>0.478604</td>\n",
       "    </tr>\n",
       "    <tr>\n",
       "      <th>419</th>\n",
       "      <td>0.210878</td>\n",
       "      <td>0.793615</td>\n",
       "      <td>0.478540</td>\n",
       "    </tr>\n",
       "    <tr>\n",
       "      <th>420</th>\n",
       "      <td>0.210878</td>\n",
       "      <td>0.797035</td>\n",
       "      <td>0.478181</td>\n",
       "    </tr>\n",
       "    <tr>\n",
       "      <th>421</th>\n",
       "      <td>0.211355</td>\n",
       "      <td>0.797035</td>\n",
       "      <td>0.478149</td>\n",
       "    </tr>\n",
       "    <tr>\n",
       "      <th>422</th>\n",
       "      <td>0.211355</td>\n",
       "      <td>0.799316</td>\n",
       "      <td>0.477601</td>\n",
       "    </tr>\n",
       "    <tr>\n",
       "      <th>423</th>\n",
       "      <td>0.212309</td>\n",
       "      <td>0.799316</td>\n",
       "      <td>0.477546</td>\n",
       "    </tr>\n",
       "    <tr>\n",
       "      <th>424</th>\n",
       "      <td>0.212309</td>\n",
       "      <td>0.800456</td>\n",
       "      <td>0.477400</td>\n",
       "    </tr>\n",
       "    <tr>\n",
       "      <th>425</th>\n",
       "      <td>0.212786</td>\n",
       "      <td>0.800456</td>\n",
       "      <td>0.477364</td>\n",
       "    </tr>\n",
       "    <tr>\n",
       "      <th>426</th>\n",
       "      <td>0.212786</td>\n",
       "      <td>0.801596</td>\n",
       "      <td>0.477192</td>\n",
       "    </tr>\n",
       "    <tr>\n",
       "      <th>427</th>\n",
       "      <td>0.213740</td>\n",
       "      <td>0.801596</td>\n",
       "      <td>0.477157</td>\n",
       "    </tr>\n",
       "    <tr>\n",
       "      <th>428</th>\n",
       "      <td>0.213740</td>\n",
       "      <td>0.802737</td>\n",
       "      <td>0.477090</td>\n",
       "    </tr>\n",
       "    <tr>\n",
       "      <th>429</th>\n",
       "      <td>0.215172</td>\n",
       "      <td>0.802737</td>\n",
       "      <td>0.476857</td>\n",
       "    </tr>\n",
       "    <tr>\n",
       "      <th>430</th>\n",
       "      <td>0.215172</td>\n",
       "      <td>0.803877</td>\n",
       "      <td>0.476790</td>\n",
       "    </tr>\n",
       "    <tr>\n",
       "      <th>431</th>\n",
       "      <td>0.215649</td>\n",
       "      <td>0.803877</td>\n",
       "      <td>0.476706</td>\n",
       "    </tr>\n",
       "    <tr>\n",
       "      <th>432</th>\n",
       "      <td>0.215649</td>\n",
       "      <td>0.805017</td>\n",
       "      <td>0.476694</td>\n",
       "    </tr>\n",
       "    <tr>\n",
       "      <th>433</th>\n",
       "      <td>0.216603</td>\n",
       "      <td>0.805017</td>\n",
       "      <td>0.476459</td>\n",
       "    </tr>\n",
       "    <tr>\n",
       "      <th>434</th>\n",
       "      <td>0.216603</td>\n",
       "      <td>0.808438</td>\n",
       "      <td>0.476128</td>\n",
       "    </tr>\n",
       "    <tr>\n",
       "      <th>435</th>\n",
       "      <td>0.218034</td>\n",
       "      <td>0.808438</td>\n",
       "      <td>0.475877</td>\n",
       "    </tr>\n",
       "    <tr>\n",
       "      <th>436</th>\n",
       "      <td>0.218034</td>\n",
       "      <td>0.809578</td>\n",
       "      <td>0.475562</td>\n",
       "    </tr>\n",
       "    <tr>\n",
       "      <th>437</th>\n",
       "      <td>0.219943</td>\n",
       "      <td>0.809578</td>\n",
       "      <td>0.475351</td>\n",
       "    </tr>\n",
       "  </tbody>\n",
       "</table>\n",
       "</div>"
      ],
      "text/plain": [
       "          fpr       tpr  threshold\n",
       "414  0.203721  0.790194   0.480285\n",
       "415  0.209924  0.790194   0.478786\n",
       "416  0.209924  0.791334   0.478741\n",
       "417  0.210401  0.791334   0.478728\n",
       "418  0.210401  0.793615   0.478604\n",
       "419  0.210878  0.793615   0.478540\n",
       "420  0.210878  0.797035   0.478181\n",
       "421  0.211355  0.797035   0.478149\n",
       "422  0.211355  0.799316   0.477601\n",
       "423  0.212309  0.799316   0.477546\n",
       "424  0.212309  0.800456   0.477400\n",
       "425  0.212786  0.800456   0.477364\n",
       "426  0.212786  0.801596   0.477192\n",
       "427  0.213740  0.801596   0.477157\n",
       "428  0.213740  0.802737   0.477090\n",
       "429  0.215172  0.802737   0.476857\n",
       "430  0.215172  0.803877   0.476790\n",
       "431  0.215649  0.803877   0.476706\n",
       "432  0.215649  0.805017   0.476694\n",
       "433  0.216603  0.805017   0.476459\n",
       "434  0.216603  0.808438   0.476128\n",
       "435  0.218034  0.808438   0.475877\n",
       "436  0.218034  0.809578   0.475562\n",
       "437  0.219943  0.809578   0.475351"
      ]
     },
     "execution_count": 13,
     "metadata": {},
     "output_type": "execute_result"
    }
   ],
   "source": [
    "# Get the values of threshold for true positive rate between 0.79 and 0.81\n",
    "roc_df[roc_df['tpr'].between(0.79, 0.81)]"
   ]
  },
  {
   "cell_type": "markdown",
   "metadata": {},
   "source": [
    "From the above table, it is safe to assume the threshold value of 0.5 for classifying the observations."
   ]
  },
  {
   "cell_type": "code",
   "execution_count": 14,
   "metadata": {},
   "outputs": [
    {
     "data": {
      "text/plain": [
       "<sklearn.metrics._plot.confusion_matrix.ConfusionMatrixDisplay at 0x155562190>"
      ]
     },
     "execution_count": 14,
     "metadata": {},
     "output_type": "execute_result"
    },
    {
     "data": {
      "image/png": "[encoded data removed]",
      "text/plain": [
       "<Figure size 640x480 with 2 Axes>"
      ]
     },
     "metadata": {},
     "output_type": "display_data"
    }
   ],
   "source": [
    "# Plot the confusion matrix\n",
    "ConfusionMatrixDisplay.from_estimator(grid_result, X_test, y_test)  "
   ]
  },
  {
   "cell_type": "code",
   "execution_count": 15,
   "metadata": {},
   "outputs": [
    {
     "data": {
      "text/plain": [
       "['./../../data/models/logistic_regression.pkl']"
      ]
     },
     "execution_count": 15,
     "metadata": {},
     "output_type": "execute_result"
    }
   ],
   "source": [
    "# Save the model\n",
    "joblib.dump(grid_result, './../../data/models/logistic_regression.pkl')"
   ]
  },
  {
   "cell_type": "markdown",
   "metadata": {},
   "source": [
    "## Model with oversample data"
   ]
  },
  {
   "cell_type": "code",
   "execution_count": 16,
   "metadata": {},
   "outputs": [],
   "source": [
    "# Load the data\n",
    "df = pd.read_csv('./../../data/engineered_data_oversampled.csv')"
   ]
  },
  {
   "cell_type": "code",
   "execution_count": 17,
   "metadata": {},
   "outputs": [],
   "source": [
    "# Drop the index column\n",
    "df.drop('Unnamed: 0', axis=1, inplace=True)"
   ]
  },
  {
   "cell_type": "code",
   "execution_count": 18,
   "metadata": {},
   "outputs": [],
   "source": [
    "# Split the data into train and test sets\n",
    "X_train, X_test, y_train, y_test = train_test_split(df.drop('state', axis=1), df['state'], test_size=0.2, random_state=42)"
   ]
  },
  {
   "cell_type": "markdown",
   "metadata": {},
   "source": [
    "### Model Building"
   ]
  },
  {
   "cell_type": "code",
   "execution_count": 19,
   "metadata": {},
   "outputs": [],
   "source": [
    "# Declare the logistic regression model\n",
    "logreg_clf = LogisticRegression(penalty='elasticnet', fit_intercept=True, class_weight='balanced', solver='saga')\n",
    "\n",
    "# Declare the grid paramters to be searched\n",
    "logreg_params = dict(\n",
    "    C = np.logspace(-4, 4, num=9),\n",
    "    max_iter = [100, 200, 500],\n",
    "    l1_ratio = [0, 0.3, 0.6, 1]\n",
    ")"
   ]
  },
  {
   "cell_type": "code",
   "execution_count": null,
   "metadata": {},
   "outputs": [],
   "source": [
    "# Declare the gridsearch object\n",
    "grid_search = GridSearchCV(logreg_clf, logreg_params, scoring='roc_auc', n_jobs=7, refit=True, cv=10, verbose=5)\n",
    "\n",
    "# Fit the model\n",
    "grid_result = grid_search.fit(X_train, y_train)"
   ]
  },
  {
   "cell_type": "markdown",
   "metadata": {},
   "source": [
    "### Inferencing"
   ]
  },
  {
   "cell_type": "code",
   "execution_count": 21,
   "metadata": {},
   "outputs": [
    {
     "name": "stdout",
     "output_type": "stream",
     "text": [
      "Best score of 0.903027886164061 is achieved by using {'C': 10000.0, 'l1_ratio': 0, 'max_iter': 500}\n"
     ]
    }
   ],
   "source": [
    "# Get the best model parameters\n",
    "print(f\"Best score of {grid_result.best_score_} is achieved by using {grid_result.best_params_}\")"
   ]
  },
  {
   "cell_type": "code",
   "execution_count": 22,
   "metadata": {},
   "outputs": [],
   "source": [
    "# Predict on test data using the model\n",
    "y_pred = grid_search.predict(X_test)\n",
    "y_score = grid_search.predict_proba(X_test)[:, 1]"
   ]
  },
  {
   "cell_type": "markdown",
   "metadata": {},
   "source": [
    "### Evaluation"
   ]
  },
  {
   "cell_type": "code",
   "execution_count": 23,
   "metadata": {},
   "outputs": [
    {
     "name": "stdout",
     "output_type": "stream",
     "text": [
      "Area under the ROC curve: 0.903681663236619\n"
     ]
    }
   ],
   "source": [
    "# Find the ROC AUC score\n",
    "print(f\"Area under the ROC curve: {roc_auc_score(y_test, y_score)}\")"
   ]
  },
  {
   "cell_type": "markdown",
   "metadata": {},
   "source": [
    "With the new oversampled data, there is a marginal improvement in the performance of the logistic regression algorithm."
   ]
  },
  {
   "cell_type": "code",
   "execution_count": 24,
   "metadata": {},
   "outputs": [],
   "source": [
    "# Calculate parameters for roc auc curve\n",
    "fpr, tpr, thresholds = roc_curve(y_test, y_score)"
   ]
  },
  {
   "cell_type": "code",
   "execution_count": 25,
   "metadata": {},
   "outputs": [
    {
     "data": {
      "image/svg+xml": "<svg class=\"main-svg\" xmlns=\"http://www.w3.org/2000/svg\" xmlns:xlink=\"http://www.w3.org/1999/xlink\" width=\"800\" height=\"500\" style=\"\" viewBox=\"0 0 800 500\"><rect x=\"0\" y=\"0\" width=\"800\" height=\"500\" style=\"fill: rgb(255, 255, 255); fill-opacity: 1;\"/><defs id=\"defs-c81767\"><g class=\"clips\"><clipPath id=\"clipc81767xyplot\" class=\"plotclip\"><rect width=\"304.99999999999994\" height=\"320\"/></clipPath><clipPath class=\"axesclip\" id=\"clipc81767x\"><rect x=\"247.50000000000003\" y=\"0\" width=\"304.99999999999994\" height=\"500\"/></clipPath><clipPath class=\"axesclip\" id=\"clipc81767y\"><rect x=\"0\" y=\"100\" width=\"800\" height=\"320\"/></clipPath><clipPath class=\"axesclip\" id=\"clipc81767xy\"><rect x=\"247.50000000000003\" y=\"100\" width=\"304.99999999999994\" height=\"320\"/></clipPath></g><g class=\"gradients\"/><g class=\"patterns\"/></defs><g class=\"bglayer\"><rect class=\"bg\" x=\"247.50000000000003\" y=\"100\" width=\"304.99999999999994\" height=\"320\" style=\"fill: rgb(229, 236, 246); fill-opacity: 1; stroke-width: 0;\"/></g><g class=\"layer-below\"><g class=\"imagelayer\"/><g class=\"shapelayer\"/></g><g class=\"cartesianlayer\"><g class=\"subplot xy\"><g class=\"layer-subplot\"><g class=\"shapelayer\"/><g class=\"imagelayer\"/></g><g class=\"minor-gridlayer\"><g class=\"x\"/><g class=\"y\"/></g><g class=\"gridlayer\"><g class=\"x\"><path class=\"xgrid crisp\" transform=\"translate(400,0)\" d=\"M0,100v320\" style=\"stroke: rgb(255, 255, 255); stroke-opacity: 1; stroke-width: 1px;\"/></g><g class=\"y\"><path class=\"ygrid crisp\" transform=\"translate(0,358.4)\" d=\"M247.50000000000003,0h304.99999999999994\" style=\"stroke: rgb(255, 255, 255); stroke-opacity: 1; stroke-width: 1px;\"/><path class=\"ygrid crisp\" transform=\"translate(0,297.8)\" d=\"M247.50000000000003,0h304.99999999999994\" style=\"stroke: rgb(255, 255, 255); stroke-opacity: 1; stroke-width: 1px;\"/><path class=\"ygrid crisp\" transform=\"translate(0,237.2)\" d=\"M247.50000000000003,0h304.99999999999994\" style=\"stroke: rgb(255, 255, 255); stroke-opacity: 1; stroke-width: 1px;\"/><path class=\"ygrid crisp\" transform=\"translate(0,176.6)\" d=\"M247.50000000000003,0h304.99999999999994\" style=\"stroke: rgb(255, 255, 255); stroke-opacity: 1; stroke-width: 1px;\"/><path class=\"ygrid crisp\" transform=\"translate(0,116)\" d=\"M247.50000000000003,0h304.99999999999994\" style=\"stroke: rgb(255, 255, 255); stroke-opacity: 1; stroke-width: 1px;\"/></g></g><g class=\"zerolinelayer\"><path class=\"xzl zl crisp\" transform=\"translate(248.50000000000003,0)\" d=\"M0,100v320\" style=\"stroke: rgb(255, 255, 255); stroke-opacity: 1; stroke-width: 2px;\"/><path class=\"yzl zl crisp\" transform=\"translate(0,419)\" d=\"M247.50000000000003,0h304.99999999999994\" style=\"stroke: rgb(255, 255, 255); stroke-opacity: 1; stroke-width: 2px;\"/></g><path class=\"xlines-below\"/><path class=\"ylines-below\"/><g class=\"overlines-below\"/><g class=\"xaxislayer-below\"/><g class=\"yaxislayer-below\"/><g class=\"overaxes-below\"/><g class=\"plot\" transform=\"translate(247.50000000000003,100)\" clip-path=\"url(#clipc81767xyplot)\"><g class=\"scatterlayer mlayer\"><g class=\"trace scatter trace4b3324\" style=\"stroke-miterlimit: 2;\"><g class=\"fills\"><g><path class=\"js-fill\" d=\"M304,319L1,319L1,319L1.73,291.1L1.87,291.1L2.45,280.36L2.74,280.36L3.47,258.43L3.62,258.43L4.34,244.7L4.49,244.7L5.21,240.83L5.36,240.83L6.09,223.82L6.23,223.82L6.96,212.63L7.1,212.63L7.83,207.56L8.12,207.56L8.85,200.69L9.14,200.69L9.86,192.04L10.01,192.04L10.74,184.43L10.88,184.43L11.46,179.51L11.75,179.51L12.48,175.18L12.63,175.18L13.35,171.75L13.5,171.75L14.22,167.13L14.37,167.13L15.1,162.35L15.39,162.35L16.11,155.34L16.26,155.34L16.99,151.91L17.13,151.91L17.86,146.99L18,146.99L18.44,144.9L18.87,144.9L19.6,140.42L19.75,140.42L20.18,139.68L20.18,139.08L20.62,138.93L20.62,136.54L23.23,127.59L23.38,127.59L23.82,125.95L24.25,125.95L24.83,123.56L25.12,123.56L25.27,123.42L25.27,121.77L25.71,121.03L25.71,120.73L27.45,115.36L27.59,115.36L28.32,113.87L28.76,113.87L29.34,111.18L29.63,111.18L30.36,109.99L30.65,109.99L31.37,108.2L31.52,108.2L32.24,105.81L32.39,105.81L33.12,102.53L33.26,102.53L33.99,100.59L34.13,100.59L34.86,98.65L35.01,98.65L35.44,96.86L35.88,96.86L36.6,96.26L36.89,96.26L37.48,94.17L37.77,94.17L38.49,92.83L38.64,92.83L39.07,91.94L39.51,91.94L40.24,89.25L40.38,89.25L41.11,87.61L41.4,87.61L41.84,86.86L42.27,86.86L43,85.52L43.14,85.52L43.73,82.84L44.02,82.84L44.6,81.49L44.89,81.49L48.52,79.7L48.52,78.96L51.72,74.03L51.86,74.03L52.59,73.14L52.74,73.14L53.32,72.39L53.61,72.39L54.19,70.6L54.77,70.6L55.35,69.71L56.51,69.71L57.68,67.77L57.68,67.47L58.55,66.28L58.84,66.28L59.57,63.44L59.71,63.44L62.04,61.5L62.62,61.5L63.34,60.46L63.63,60.46L64.36,59.71L64.65,59.71L66.4,58.67L66.4,58.07L70.32,53.3L71.92,53.3L73.95,51.66L73.95,50.91L76.13,49.42L76.86,49.42L78.17,47.33L78.17,46.88L79.18,46.58L79.18,45.99L80.35,45.24L80.35,44.94L84.13,44.2L84.13,43.9L85.14,43L85.72,43L88.63,41.81L88.63,41.66L93.28,40.91L93.28,40.77L94.44,40.02L94.44,39.72L96.91,38.97L96.91,38.83L99.09,38.08L99.09,37.93L100.84,37.18L100.84,36.59L102.58,35.84L102.58,35.54L105.2,34.8L105.2,34.65L106.36,34.2L106.36,33.75L109.85,33.01L109.85,32.86L111.45,32.11L111.45,31.81L114.64,31.07L114.64,30.92L117.69,30.17L117.69,30.02L122.2,29.28L122.2,29.13L127.72,28.38L127.72,28.23L132.23,27.49L132.23,27.34L135.57,26.59L135.57,26.44L141.53,25.7L141.53,25.55L148.94,24.8L148.94,24.65L153.74,23.91L153.74,23.76L159.4,23.16L159.4,22.86L166.09,22.12L166.09,21.82L172.63,21.07L172.63,20.92L177.86,20.18L177.86,20.03L190.65,19.28L190.65,19.13L190.79,18.98L192.1,18.98L192.1,18.83L194.43,18.83L211.14,16.75L220.29,16.75L304,16\" style=\"fill: rgb(99, 110, 250); fill-opacity: 0.5; stroke-width: 0;\"/></g></g><g class=\"errorbars\"/><g class=\"lines\"><path class=\"js-line\" d=\"M1,319L1.73,291.1L1.87,291.1L2.45,280.36L2.74,280.36L3.47,258.43L3.62,258.43L4.34,244.7L4.49,244.7L5.21,240.83L5.36,240.83L6.09,223.82L6.23,223.82L6.96,212.63L7.1,212.63L7.83,207.56L8.12,207.56L8.85,200.69L9.14,200.69L9.86,192.04L10.01,192.04L10.74,184.43L10.88,184.43L11.46,179.51L11.75,179.51L12.48,175.18L12.63,175.18L13.35,171.75L13.5,171.75L14.22,167.13L14.37,167.13L15.1,162.35L15.39,162.35L16.11,155.34L16.26,155.34L16.99,151.91L17.13,151.91L17.86,146.99L18,146.99L18.44,144.9L18.87,144.9L19.6,140.42L19.75,140.42L20.18,139.68L20.18,139.08L20.62,138.93L20.62,136.54L23.23,127.59L23.38,127.59L23.82,125.95L24.25,125.95L24.83,123.56L25.12,123.56L25.27,123.42L25.27,121.77L25.71,121.03L25.71,120.73L27.45,115.36L27.59,115.36L28.32,113.87L28.76,113.87L29.34,111.18L29.63,111.18L30.36,109.99L30.65,109.99L31.37,108.2L31.52,108.2L32.24,105.81L32.39,105.81L33.12,102.53L33.26,102.53L33.99,100.59L34.13,100.59L34.86,98.65L35.01,98.65L35.44,96.86L35.88,96.86L36.6,96.26L36.89,96.26L37.48,94.17L37.77,94.17L38.49,92.83L38.64,92.83L39.07,91.94L39.51,91.94L40.24,89.25L40.38,89.25L41.11,87.61L41.4,87.61L41.84,86.86L42.27,86.86L43,85.52L43.14,85.52L43.73,82.84L44.02,82.84L44.6,81.49L44.89,81.49L48.52,79.7L48.52,78.96L51.72,74.03L51.86,74.03L52.59,73.14L52.74,73.14L53.32,72.39L53.61,72.39L54.19,70.6L54.77,70.6L55.35,69.71L56.51,69.71L57.68,67.77L57.68,67.47L58.55,66.28L58.84,66.28L59.57,63.44L59.71,63.44L62.04,61.5L62.62,61.5L63.34,60.46L63.63,60.46L64.36,59.71L64.65,59.71L66.4,58.67L66.4,58.07L70.32,53.3L71.92,53.3L73.95,51.66L73.95,50.91L76.13,49.42L76.86,49.42L78.17,47.33L78.17,46.88L79.18,46.58L79.18,45.99L80.35,45.24L80.35,44.94L84.13,44.2L84.13,43.9L85.14,43L85.72,43L88.63,41.81L88.63,41.66L93.28,40.91L93.28,40.77L94.44,40.02L94.44,39.72L96.91,38.97L96.91,38.83L99.09,38.08L99.09,37.93L100.84,37.18L100.84,36.59L102.58,35.84L102.58,35.54L105.2,34.8L105.2,34.65L106.36,34.2L106.36,33.75L109.85,33.01L109.85,32.86L111.45,32.11L111.45,31.81L114.64,31.07L114.64,30.92L117.69,30.17L117.69,30.02L122.2,29.28L122.2,29.13L127.72,28.38L127.72,28.23L132.23,27.49L132.23,27.34L135.57,26.59L135.57,26.44L141.53,25.7L141.53,25.55L148.94,24.8L148.94,24.65L153.74,23.91L153.74,23.76L159.4,23.16L159.4,22.86L166.09,22.12L166.09,21.82L172.63,21.07L172.63,20.92L177.86,20.18L177.86,20.03L190.65,19.28L190.65,19.13L190.79,18.98L192.1,18.98L192.1,18.83L194.43,18.83L211.14,16.75L220.29,16.75L304,16\" style=\"vector-effect: non-scaling-stroke; fill: none; stroke: rgb(99, 110, 250); stroke-opacity: 1; stroke-width: 2px; opacity: 1;\"/></g><g class=\"points\"/><g class=\"text\"/></g></g></g><g class=\"overplot\"/><path class=\"xlines-above crisp\" d=\"M0,0\" style=\"fill: none;\"/><path class=\"ylines-above crisp\" d=\"M0,0\" style=\"fill: none;\"/><g class=\"overlines-above\"/><g class=\"xaxislayer-above\"><g class=\"xtick\"><text text-anchor=\"middle\" x=\"0\" y=\"433\" transform=\"translate(248.50000000000003,0)\" style=\"font-family: 'Open Sans', verdana, arial, sans-serif; font-size: 12px; fill: rgb(42, 63, 95); fill-opacity: 1; white-space: pre; opacity: 1;\">0</text></g><g class=\"xtick\"><text text-anchor=\"middle\" x=\"0\" y=\"433\" style=\"font-family: 'Open Sans', verdana, arial, sans-serif; font-size: 12px; fill: rgb(42, 63, 95); fill-opacity: 1; white-space: pre; opacity: 1;\" transform=\"translate(400,0)\">0.5</text></g><g class=\"xtick\"><text text-anchor=\"middle\" x=\"0\" y=\"433\" style=\"font-family: 'Open Sans', verdana, arial, sans-serif; font-size: 12px; fill: rgb(42, 63, 95); fill-opacity: 1; white-space: pre; opacity: 1;\" transform=\"translate(551.5,0)\">1</text></g></g><g class=\"yaxislayer-above\"><g class=\"ytick\"><text text-anchor=\"end\" x=\"246.50000000000003\" y=\"4.199999999999999\" transform=\"translate(0,419)\" style=\"font-family: 'Open Sans', verdana, arial, sans-serif; font-size: 12px; fill: rgb(42, 63, 95); fill-opacity: 1; white-space: pre; opacity: 1;\">0</text></g><g class=\"ytick\"><text text-anchor=\"end\" x=\"246.50000000000003\" y=\"4.199999999999999\" style=\"font-family: 'Open Sans', verdana, arial, sans-serif; font-size: 12px; fill: rgb(42, 63, 95); fill-opacity: 1; white-space: pre; opacity: 1;\" transform=\"translate(0,358.4)\">0.2</text></g><g class=\"ytick\"><text text-anchor=\"end\" x=\"246.50000000000003\" y=\"4.199999999999999\" style=\"font-family: 'Open Sans', verdana, arial, sans-serif; font-size: 12px; fill: rgb(42, 63, 95); fill-opacity: 1; white-space: pre; opacity: 1;\" transform=\"translate(0,297.8)\">0.4</text></g><g class=\"ytick\"><text text-anchor=\"end\" x=\"246.50000000000003\" y=\"4.199999999999999\" style=\"font-family: 'Open Sans', verdana, arial, sans-serif; font-size: 12px; fill: rgb(42, 63, 95); fill-opacity: 1; white-space: pre; opacity: 1;\" transform=\"translate(0,237.2)\">0.6</text></g><g class=\"ytick\"><text text-anchor=\"end\" x=\"246.50000000000003\" y=\"4.199999999999999\" style=\"font-family: 'Open Sans', verdana, arial, sans-serif; font-size: 12px; fill: rgb(42, 63, 95); fill-opacity: 1; white-space: pre; opacity: 1;\" transform=\"translate(0,176.6)\">0.8</text></g><g class=\"ytick\"><text text-anchor=\"end\" x=\"246.50000000000003\" y=\"4.199999999999999\" style=\"font-family: 'Open Sans', verdana, arial, sans-serif; font-size: 12px; fill: rgb(42, 63, 95); fill-opacity: 1; white-space: pre; opacity: 1;\" transform=\"translate(0,116)\">1</text></g></g><g class=\"overaxes-above\"/></g></g><g class=\"polarlayer\"/><g class=\"smithlayer\"/><g class=\"ternarylayer\"/><g class=\"geolayer\"/><g class=\"funnelarealayer\"/><g class=\"pielayer\"/><g class=\"iciclelayer\"/><g class=\"treemaplayer\"/><g class=\"sunburstlayer\"/><g class=\"glimages\"/><defs id=\"topdefs-c81767\"><g class=\"clips\"/></defs><g class=\"layer-above\"><g class=\"imagelayer\"/><g class=\"shapelayer\"><path data-index=\"0\" fill-rule=\"evenodd\" d=\"M248.50000000000003,419L551.5,116\" clip-path=\"url(#clipc81767xy)\" style=\"opacity: 1; stroke: rgb(42, 63, 95); stroke-opacity: 1; fill: rgb(0, 0, 0); fill-opacity: 0; stroke-dasharray: 9px, 9px; stroke-width: 2px;\"/></g></g><g class=\"infolayer\"><g class=\"g-gtitle\"><text class=\"gtitle\" x=\"40\" y=\"50\" text-anchor=\"start\" dy=\"0em\" style=\"font-family: 'Open Sans', verdana, arial, sans-serif; font-size: 17px; fill: rgb(42, 63, 95); opacity: 1; font-weight: normal; white-space: pre;\">ROC Curve (AUC=0.9037)</text></g><g class=\"g-xtitle\"><text class=\"xtitle\" x=\"400\" y=\"460.3\" text-anchor=\"middle\" style=\"font-family: 'Open Sans', verdana, arial, sans-serif; font-size: 14px; fill: rgb(42, 63, 95); opacity: 1; font-weight: normal; white-space: pre;\">False Positive Rate</text></g><g class=\"g-ytitle\"><text class=\"ytitle\" transform=\"rotate(-90,202.075,260)\" x=\"202.075\" y=\"260\" text-anchor=\"middle\" style=\"font-family: 'Open Sans', verdana, arial, sans-serif; font-size: 14px; fill: rgb(42, 63, 95); opacity: 1; font-weight: normal; white-space: pre;\">True Positive Rate</text></g></g></svg>"
     },
     "metadata": {},
     "output_type": "display_data"
    }
   ],
   "source": [
    "# Plot the curve and area under the curve\n",
    "fig = px.area(\n",
    "    x=fpr, y=tpr,\n",
    "    title=f'ROC Curve (AUC={auc(fpr, tpr):.4f})',\n",
    "    labels=dict(x='False Positive Rate', y='True Positive Rate')\n",
    ")\n",
    "fig.add_shape(\n",
    "    type='line', line=dict(dash='dash'),\n",
    "    x0=0, x1=1, y0=0, y1=1\n",
    ")\n",
    "\n",
    "fig.update_yaxes(scaleanchor=\"x\", scaleratio=1)\n",
    "fig.update_xaxes(constrain='domain')\n",
    "fig.show()"
   ]
  },
  {
   "cell_type": "code",
   "execution_count": 26,
   "metadata": {},
   "outputs": [],
   "source": [
    "# Create a ROC dataframe from the obtained FPR and TPR\n",
    "roc_df = pd.DataFrame({\n",
    "    'fpr': fpr,\n",
    "    'tpr': tpr,\n",
    "    'threshold': thresholds\n",
    "})"
   ]
  },
  {
   "cell_type": "code",
   "execution_count": 27,
   "metadata": {},
   "outputs": [
    {
     "data": {
      "text/html": [
       "<div>\n",
       "<style scoped>\n",
       "    .dataframe tbody tr th:only-of-type {\n",
       "        vertical-align: middle;\n",
       "    }\n",
       "\n",
       "    .dataframe tbody tr th {\n",
       "        vertical-align: top;\n",
       "    }\n",
       "\n",
       "    .dataframe thead th {\n",
       "        text-align: right;\n",
       "    }\n",
       "</style>\n",
       "<table border=\"1\" class=\"dataframe\">\n",
       "  <thead>\n",
       "    <tr style=\"text-align: right;\">\n",
       "      <th></th>\n",
       "      <th>fpr</th>\n",
       "      <th>tpr</th>\n",
       "      <th>threshold</th>\n",
       "    </tr>\n",
       "  </thead>\n",
       "  <tbody>\n",
       "    <tr>\n",
       "      <th>478</th>\n",
       "      <td>0.156835</td>\n",
       "      <td>0.792221</td>\n",
       "      <td>0.484183</td>\n",
       "    </tr>\n",
       "    <tr>\n",
       "      <th>479</th>\n",
       "      <td>0.157314</td>\n",
       "      <td>0.792221</td>\n",
       "      <td>0.484112</td>\n",
       "    </tr>\n",
       "    <tr>\n",
       "      <th>480</th>\n",
       "      <td>0.157314</td>\n",
       "      <td>0.793205</td>\n",
       "      <td>0.483855</td>\n",
       "    </tr>\n",
       "    <tr>\n",
       "      <th>481</th>\n",
       "      <td>0.159233</td>\n",
       "      <td>0.793205</td>\n",
       "      <td>0.483638</td>\n",
       "    </tr>\n",
       "    <tr>\n",
       "      <th>482</th>\n",
       "      <td>0.159233</td>\n",
       "      <td>0.794682</td>\n",
       "      <td>0.483299</td>\n",
       "    </tr>\n",
       "    <tr>\n",
       "      <th>483</th>\n",
       "      <td>0.159712</td>\n",
       "      <td>0.794682</td>\n",
       "      <td>0.483219</td>\n",
       "    </tr>\n",
       "    <tr>\n",
       "      <th>484</th>\n",
       "      <td>0.159712</td>\n",
       "      <td>0.797637</td>\n",
       "      <td>0.482520</td>\n",
       "    </tr>\n",
       "    <tr>\n",
       "      <th>485</th>\n",
       "      <td>0.161631</td>\n",
       "      <td>0.797637</td>\n",
       "      <td>0.482175</td>\n",
       "    </tr>\n",
       "    <tr>\n",
       "      <th>486</th>\n",
       "      <td>0.161631</td>\n",
       "      <td>0.799114</td>\n",
       "      <td>0.481655</td>\n",
       "    </tr>\n",
       "    <tr>\n",
       "      <th>487</th>\n",
       "      <td>0.162110</td>\n",
       "      <td>0.799114</td>\n",
       "      <td>0.481580</td>\n",
       "    </tr>\n",
       "    <tr>\n",
       "      <th>488</th>\n",
       "      <td>0.162110</td>\n",
       "      <td>0.799606</td>\n",
       "      <td>0.481488</td>\n",
       "    </tr>\n",
       "    <tr>\n",
       "      <th>489</th>\n",
       "      <td>0.163070</td>\n",
       "      <td>0.799606</td>\n",
       "      <td>0.481052</td>\n",
       "    </tr>\n",
       "    <tr>\n",
       "      <th>490</th>\n",
       "      <td>0.163070</td>\n",
       "      <td>0.801083</td>\n",
       "      <td>0.481005</td>\n",
       "    </tr>\n",
       "    <tr>\n",
       "      <th>491</th>\n",
       "      <td>0.163549</td>\n",
       "      <td>0.801083</td>\n",
       "      <td>0.480990</td>\n",
       "    </tr>\n",
       "    <tr>\n",
       "      <th>492</th>\n",
       "      <td>0.163549</td>\n",
       "      <td>0.802068</td>\n",
       "      <td>0.480692</td>\n",
       "    </tr>\n",
       "    <tr>\n",
       "      <th>493</th>\n",
       "      <td>0.164029</td>\n",
       "      <td>0.802068</td>\n",
       "      <td>0.480674</td>\n",
       "    </tr>\n",
       "    <tr>\n",
       "      <th>494</th>\n",
       "      <td>0.164029</td>\n",
       "      <td>0.805022</td>\n",
       "      <td>0.479942</td>\n",
       "    </tr>\n",
       "    <tr>\n",
       "      <th>495</th>\n",
       "      <td>0.164508</td>\n",
       "      <td>0.805022</td>\n",
       "      <td>0.479907</td>\n",
       "    </tr>\n",
       "    <tr>\n",
       "      <th>496</th>\n",
       "      <td>0.164508</td>\n",
       "      <td>0.806499</td>\n",
       "      <td>0.479623</td>\n",
       "    </tr>\n",
       "    <tr>\n",
       "      <th>497</th>\n",
       "      <td>0.164988</td>\n",
       "      <td>0.806499</td>\n",
       "      <td>0.479484</td>\n",
       "    </tr>\n",
       "    <tr>\n",
       "      <th>498</th>\n",
       "      <td>0.164988</td>\n",
       "      <td>0.807484</td>\n",
       "      <td>0.479250</td>\n",
       "    </tr>\n",
       "    <tr>\n",
       "      <th>499</th>\n",
       "      <td>0.166427</td>\n",
       "      <td>0.807484</td>\n",
       "      <td>0.478996</td>\n",
       "    </tr>\n",
       "    <tr>\n",
       "      <th>500</th>\n",
       "      <td>0.166427</td>\n",
       "      <td>0.807976</td>\n",
       "      <td>0.478965</td>\n",
       "    </tr>\n",
       "    <tr>\n",
       "      <th>501</th>\n",
       "      <td>0.167386</td>\n",
       "      <td>0.807976</td>\n",
       "      <td>0.478788</td>\n",
       "    </tr>\n",
       "    <tr>\n",
       "      <th>502</th>\n",
       "      <td>0.167386</td>\n",
       "      <td>0.808469</td>\n",
       "      <td>0.478740</td>\n",
       "    </tr>\n",
       "    <tr>\n",
       "      <th>503</th>\n",
       "      <td>0.167866</td>\n",
       "      <td>0.808469</td>\n",
       "      <td>0.478699</td>\n",
       "    </tr>\n",
       "    <tr>\n",
       "      <th>504</th>\n",
       "      <td>0.167866</td>\n",
       "      <td>0.809453</td>\n",
       "      <td>0.478515</td>\n",
       "    </tr>\n",
       "    <tr>\n",
       "      <th>505</th>\n",
       "      <td>0.168825</td>\n",
       "      <td>0.809453</td>\n",
       "      <td>0.478473</td>\n",
       "    </tr>\n",
       "  </tbody>\n",
       "</table>\n",
       "</div>"
      ],
      "text/plain": [
       "          fpr       tpr  threshold\n",
       "478  0.156835  0.792221   0.484183\n",
       "479  0.157314  0.792221   0.484112\n",
       "480  0.157314  0.793205   0.483855\n",
       "481  0.159233  0.793205   0.483638\n",
       "482  0.159233  0.794682   0.483299\n",
       "483  0.159712  0.794682   0.483219\n",
       "484  0.159712  0.797637   0.482520\n",
       "485  0.161631  0.797637   0.482175\n",
       "486  0.161631  0.799114   0.481655\n",
       "487  0.162110  0.799114   0.481580\n",
       "488  0.162110  0.799606   0.481488\n",
       "489  0.163070  0.799606   0.481052\n",
       "490  0.163070  0.801083   0.481005\n",
       "491  0.163549  0.801083   0.480990\n",
       "492  0.163549  0.802068   0.480692\n",
       "493  0.164029  0.802068   0.480674\n",
       "494  0.164029  0.805022   0.479942\n",
       "495  0.164508  0.805022   0.479907\n",
       "496  0.164508  0.806499   0.479623\n",
       "497  0.164988  0.806499   0.479484\n",
       "498  0.164988  0.807484   0.479250\n",
       "499  0.166427  0.807484   0.478996\n",
       "500  0.166427  0.807976   0.478965\n",
       "501  0.167386  0.807976   0.478788\n",
       "502  0.167386  0.808469   0.478740\n",
       "503  0.167866  0.808469   0.478699\n",
       "504  0.167866  0.809453   0.478515\n",
       "505  0.168825  0.809453   0.478473"
      ]
     },
     "execution_count": 27,
     "metadata": {},
     "output_type": "execute_result"
    }
   ],
   "source": [
    "# Get the values of threshold for true positive rate between 0.79 and 0.81\n",
    "roc_df[roc_df['tpr'].between(0.79, 0.81)]"
   ]
  },
  {
   "cell_type": "markdown",
   "metadata": {},
   "source": [
    "For this data set also, it is safe to assume the threshold of 0.5."
   ]
  },
  {
   "cell_type": "code",
   "execution_count": 28,
   "metadata": {},
   "outputs": [
    {
     "data": {
      "text/plain": [
       "<sklearn.metrics._plot.confusion_matrix.ConfusionMatrixDisplay at 0x153b79670>"
      ]
     },
     "execution_count": 28,
     "metadata": {},
     "output_type": "execute_result"
    },
    {
     "data": {
      "image/png": "[encoded data removed]",
      "text/plain": [
       "<Figure size 640x480 with 2 Axes>"
      ]
     },
     "metadata": {},
     "output_type": "display_data"
    }
   ],
   "source": [
    "# Plot the confusion matrix\n",
    "ConfusionMatrixDisplay.from_estimator(grid_result, X_test, y_test)  "
   ]
  },
  {
   "cell_type": "code",
   "execution_count": 29,
   "metadata": {},
   "outputs": [
    {
     "data": {
      "text/plain": [
       "['./../../data/models/logistic_regression_oversample.pkl']"
      ]
     },
     "execution_count": 29,
     "metadata": {},
     "output_type": "execute_result"
    }
   ],
   "source": [
    "# Save the model\n",
    "joblib.dump(grid_result, './../../data/models/logistic_regression_oversample.pkl')"
   ]
  }
 ],
 "metadata": {
  "kernelspec": {
   "display_name": "Python 3.8.13 ('project')",
   "language": "python",
   "name": "python3"
  },
  "language_info": {
   "codemirror_mode": {
    "name": "ipython",
    "version": 3
   },
   "file_extension": ".py",
   "mimetype": "text/x-python",
   "name": "python",
   "nbconvert_exporter": "python",
   "pygments_lexer": "ipython3",
   "version": "3.8.13"
  },
  "orig_nbformat": 4,
  "vscode": {
   "interpreter": {
    "hash": "af77eb27f514ee114388f6898d9553454263f7eea260918546d16a8e581c8922"
   }
  }
 },
 "nbformat": 4,
 "nbformat_minor": 2
}
