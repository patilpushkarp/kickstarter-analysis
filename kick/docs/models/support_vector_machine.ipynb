{
 "cells": [
  {
   "cell_type": "markdown",
   "metadata": {},
   "source": [
    "# Support Vector Machine"
   ]
  },
  {
   "cell_type": "markdown",
   "metadata": {},
   "source": [
    "Support vector machine or SVM is another one of the most widely used algorithm for classification."
   ]
  },
  {
   "cell_type": "code",
   "execution_count": 1,
   "metadata": {
    "tags": [
     "hide-cell"
    ]
   },
   "outputs": [],
   "source": [
    "# Import necessary packages\n",
    "import pandas as pd\n",
    "import numpy as np\n",
    "import joblib\n",
    "from sklearn.model_selection import train_test_split\n",
    "from sklearn.svm import SVC\n",
    "from sklearn.model_selection import GridSearchCV\n",
    "from sklearn.metrics import roc_auc_score, roc_curve, auc\n",
    "from sklearn.metrics import ConfusionMatrixDisplay\n",
    "import plotly.express as px\n",
    "import plotly.io as pio\n",
    "svg_renderer = pio.renderers[\"svg\"]\n",
    "svg_renderer.width = 800\n",
    "svg_renderer.height = 500\n",
    "pio.renderers.default = \"svg\""
   ]
  },
  {
   "cell_type": "markdown",
   "metadata": {},
   "source": [
    "## Model without oversample data"
   ]
  },
  {
   "cell_type": "code",
   "execution_count": 2,
   "metadata": {
    "tags": [
     "hide-cell"
    ]
   },
   "outputs": [],
   "source": [
    "# Load the data\n",
    "df = pd.read_csv('./../../data/engineered_data.csv')"
   ]
  },
  {
   "cell_type": "code",
   "execution_count": 3,
   "metadata": {
    "tags": [
     "hide-cell"
    ]
   },
   "outputs": [],
   "source": [
    "# Drop the index column\n",
    "df.drop('Unnamed: 0', axis=1, inplace=True)"
   ]
  },
  {
   "cell_type": "markdown",
   "metadata": {},
   "source": [
    "Before modelinng the data, it is necessary to split the data into training and testing set."
   ]
  },
  {
   "cell_type": "code",
   "execution_count": 4,
   "metadata": {},
   "outputs": [],
   "source": [
    "# Split the data into train and test sets\n",
    "X_train, X_test, y_train, y_test = train_test_split(df.drop('state', axis=1), df['state'], test_size=0.2, random_state=42)"
   ]
  },
  {
   "cell_type": "markdown",
   "metadata": {},
   "source": [
    "### Model Building"
   ]
  },
  {
   "cell_type": "code",
   "execution_count": 5,
   "metadata": {},
   "outputs": [],
   "source": [
    "# Declare the SVM model without 'poly' kernel\n",
    "svm_clf = SVC(probability=True, class_weight='balanced')\n",
    "\n",
    "# Declare the grid paramters to be searched\n",
    "svm_params = dict(\n",
    "    C = np.logspace(-4, 0, num=5),\n",
    "    kernel = ['linear', 'rbf', 'sigmoid']\n",
    ")"
   ]
  },
  {
   "cell_type": "code",
   "execution_count": 6,
   "metadata": {},
   "outputs": [
    {
     "name": "stdout",
     "output_type": "stream",
     "text": [
      "Fitting 10 folds for each of 15 candidates, totalling 150 fits\n",
      "[CV 4/10] END ..........C=0.0001, kernel=linear;, score=0.857 total time=  53.0s\n",
      "[CV 6/10] END ..........C=0.0001, kernel=linear;, score=0.863 total time=  53.8s\n",
      "[CV 2/10] END ..........C=0.0001, kernel=linear;, score=0.822 total time=  54.1s\n",
      "[CV 3/10] END ..........C=0.0001, kernel=linear;, score=0.852 total time=  54.4s\n",
      "[CV 1/10] END ..........C=0.0001, kernel=linear;, score=0.858 total time=  54.6s\n",
      "[CV 5/10] END ..........C=0.0001, kernel=linear;, score=0.863 total time=  54.8s\n",
      "[CV 7/10] END ..........C=0.0001, kernel=linear;, score=0.856 total time=  55.4s\n",
      "[CV 10/10] END .........C=0.0001, kernel=linear;, score=0.852 total time=  43.1s\n",
      "[CV 8/10] END ..........C=0.0001, kernel=linear;, score=0.848 total time=  44.1s\n",
      "[CV 9/10] END ..........C=0.0001, kernel=linear;, score=0.839 total time=  43.7s\n",
      "[CV 2/10] END .............C=0.0001, kernel=rbf;, score=0.513 total time=  58.6s\n",
      "[CV 1/10] END .............C=0.0001, kernel=rbf;, score=0.502 total time=  60.0s\n",
      "[CV 3/10] END .............C=0.0001, kernel=rbf;, score=0.533 total time=  59.6s\n",
      "[CV 4/10] END .............C=0.0001, kernel=rbf;, score=0.514 total time=  59.1s\n",
      "[CV 6/10] END .............C=0.0001, kernel=rbf;, score=0.527 total time=  56.9s\n",
      "[CV 5/10] END .............C=0.0001, kernel=rbf;, score=0.525 total time=  58.3s\n",
      "[CV 7/10] END .............C=0.0001, kernel=rbf;, score=0.520 total time=  59.3s\n",
      "[CV 1/10] END .........C=0.0001, kernel=sigmoid;, score=0.520 total time=  53.4s\n",
      "[CV 8/10] END .............C=0.0001, kernel=rbf;, score=0.513 total time=  55.2s\n",
      "[CV 10/10] END ............C=0.0001, kernel=rbf;, score=0.534 total time=  57.3s\n",
      "[CV 9/10] END .............C=0.0001, kernel=rbf;, score=0.535 total time=  59.7s\n",
      "[CV 2/10] END .........C=0.0001, kernel=sigmoid;, score=0.481 total time=  56.1s\n",
      "[CV 3/10] END .........C=0.0001, kernel=sigmoid;, score=0.555 total time=  56.8s\n",
      "[CV 4/10] END .........C=0.0001, kernel=sigmoid;, score=0.524 total time=  57.5s\n",
      "[CV 6/10] END .........C=0.0001, kernel=sigmoid;, score=0.485 total time=  55.8s\n",
      "[CV 5/10] END .........C=0.0001, kernel=sigmoid;, score=0.517 total time=  56.3s\n",
      "[CV 7/10] END .........C=0.0001, kernel=sigmoid;, score=0.521 total time=  57.1s\n",
      "[CV 8/10] END .........C=0.0001, kernel=sigmoid;, score=0.517 total time=  56.1s\n",
      "[CV 9/10] END .........C=0.0001, kernel=sigmoid;, score=0.510 total time=  58.0s\n",
      "[CV 10/10] END ........C=0.0001, kernel=sigmoid;, score=0.511 total time=  57.1s\n",
      "[CV 1/10] END ...........C=0.001, kernel=linear;, score=0.917 total time=  58.7s\n",
      "[CV 2/10] END ...........C=0.001, kernel=linear;, score=0.908 total time=  58.2s\n",
      "[CV 3/10] END ...........C=0.001, kernel=linear;, score=0.920 total time=  60.0s\n",
      "[CV 4/10] END ...........C=0.001, kernel=linear;, score=0.923 total time=  58.4s\n",
      "[CV 5/10] END ...........C=0.001, kernel=linear;, score=0.927 total time=  59.9s\n",
      "[CV 6/10] END ...........C=0.001, kernel=linear;, score=0.931 total time=  58.2s\n",
      "[CV 7/10] END ...........C=0.001, kernel=linear;, score=0.915 total time=  58.6s\n",
      "[CV 8/10] END ...........C=0.001, kernel=linear;, score=0.906 total time=  59.9s\n",
      "[CV 9/10] END ...........C=0.001, kernel=linear;, score=0.916 total time=  57.5s\n",
      "[CV 10/10] END ..........C=0.001, kernel=linear;, score=0.929 total time=  58.4s\n",
      "[CV 1/10] END ..............C=0.001, kernel=rbf;, score=0.502 total time= 1.0min\n",
      "[CV 2/10] END ..............C=0.001, kernel=rbf;, score=0.513 total time= 1.1min\n",
      "[CV 3/10] END ..............C=0.001, kernel=rbf;, score=0.533 total time=  59.5s\n",
      "[CV 4/10] END ..............C=0.001, kernel=rbf;, score=0.514 total time=  59.5s\n",
      "[CV 5/10] END ..............C=0.001, kernel=rbf;, score=0.525 total time= 1.0min\n",
      "[CV 6/10] END ..............C=0.001, kernel=rbf;, score=0.527 total time=  59.8s\n",
      "[CV 7/10] END ..............C=0.001, kernel=rbf;, score=0.520 total time= 1.0min\n",
      "[CV 8/10] END ..............C=0.001, kernel=rbf;, score=0.513 total time= 1.0min\n",
      "[CV 9/10] END ..............C=0.001, kernel=rbf;, score=0.535 total time= 1.0min\n",
      "[CV 1/10] END ..........C=0.001, kernel=sigmoid;, score=0.520 total time=  59.0s\n",
      "[CV 10/10] END .............C=0.001, kernel=rbf;, score=0.534 total time= 1.1min\n",
      "[CV 2/10] END ..........C=0.001, kernel=sigmoid;, score=0.481 total time=  58.7s\n",
      "[CV 3/10] END ..........C=0.001, kernel=sigmoid;, score=0.555 total time=  59.8s\n",
      "[CV 4/10] END ..........C=0.001, kernel=sigmoid;, score=0.524 total time=  59.2s\n",
      "[CV 5/10] END ..........C=0.001, kernel=sigmoid;, score=0.517 total time=  59.7s\n",
      "[CV 6/10] END ..........C=0.001, kernel=sigmoid;, score=0.485 total time=  58.5s\n",
      "[CV 7/10] END ..........C=0.001, kernel=sigmoid;, score=0.521 total time=  55.3s\n",
      "[CV 8/10] END ..........C=0.001, kernel=sigmoid;, score=0.517 total time=  55.8s\n",
      "[CV 9/10] END ..........C=0.001, kernel=sigmoid;, score=0.510 total time=  56.4s\n",
      "[CV 10/10] END .........C=0.001, kernel=sigmoid;, score=0.511 total time=  54.9s\n",
      "[CV 1/10] END ............C=0.01, kernel=linear;, score=0.938 total time= 2.3min\n",
      "[CV 2/10] END ............C=0.01, kernel=linear;, score=0.929 total time= 2.3min\n",
      "[CV 3/10] END ............C=0.01, kernel=linear;, score=0.940 total time= 2.3min\n",
      "[CV 4/10] END ............C=0.01, kernel=linear;, score=0.938 total time= 2.3min\n",
      "[CV 5/10] END ............C=0.01, kernel=linear;, score=0.941 total time= 2.3min\n",
      "[CV 6/10] END ............C=0.01, kernel=linear;, score=0.945 total time= 2.3min\n",
      "[CV 7/10] END ............C=0.01, kernel=linear;, score=0.930 total time= 2.3min\n",
      "[CV 1/10] END ...............C=0.01, kernel=rbf;, score=0.502 total time=  54.8s\n",
      "[CV 2/10] END ...............C=0.01, kernel=rbf;, score=0.514 total time=  54.4s\n",
      "[CV 3/10] END ...............C=0.01, kernel=rbf;, score=0.533 total time=  57.2s\n",
      "[CV 4/10] END ...............C=0.01, kernel=rbf;, score=0.514 total time=  56.5s\n",
      "[CV 8/10] END ............C=0.01, kernel=linear;, score=0.931 total time= 2.3min\n",
      "[CV 9/10] END ............C=0.01, kernel=linear;, score=0.935 total time= 2.2min\n",
      "[CV 10/10] END ...........C=0.01, kernel=linear;, score=0.951 total time= 2.3min\n",
      "[CV 5/10] END ...............C=0.01, kernel=rbf;, score=0.525 total time=  56.4s\n",
      "[CV 6/10] END ...............C=0.01, kernel=rbf;, score=0.527 total time=  56.2s\n",
      "[CV 7/10] END ...............C=0.01, kernel=rbf;, score=0.520 total time=  57.0s\n",
      "[CV 8/10] END ...............C=0.01, kernel=rbf;, score=0.513 total time=  58.3s\n",
      "[CV 9/10] END ...............C=0.01, kernel=rbf;, score=0.535 total time= 1.1min\n",
      "[CV 10/10] END ..............C=0.01, kernel=rbf;, score=0.533 total time= 1.1min\n",
      "[CV 1/10] END ...........C=0.01, kernel=sigmoid;, score=0.530 total time= 1.0min\n",
      "[CV 2/10] END ...........C=0.01, kernel=sigmoid;, score=0.508 total time= 1.0min\n",
      "[CV 3/10] END ...........C=0.01, kernel=sigmoid;, score=0.503 total time= 1.0min\n",
      "[CV 4/10] END ...........C=0.01, kernel=sigmoid;, score=0.493 total time= 1.0min\n",
      "[CV 5/10] END ...........C=0.01, kernel=sigmoid;, score=0.521 total time=  59.5s\n",
      "[CV 7/10] END ...........C=0.01, kernel=sigmoid;, score=0.513 total time=  57.4s\n",
      "[CV 6/10] END ...........C=0.01, kernel=sigmoid;, score=0.494 total time=  58.0s\n",
      "[CV 9/10] END ...........C=0.01, kernel=sigmoid;, score=0.468 total time=  55.7s\n",
      "[CV 8/10] END ...........C=0.01, kernel=sigmoid;, score=0.490 total time=  57.9s\n",
      "[CV 10/10] END ..........C=0.01, kernel=sigmoid;, score=0.518 total time=  56.6s\n",
      "[CV 2/10] END .............C=0.1, kernel=linear;, score=0.939 total time= 9.9min\n",
      "[CV 1/10] END .............C=0.1, kernel=linear;, score=0.949 total time=10.1min\n",
      "[CV 3/10] END .............C=0.1, kernel=linear;, score=0.951 total time=10.0min\n",
      "[CV 5/10] END .............C=0.1, kernel=linear;, score=0.952 total time=10.0min\n",
      "[CV 6/10] END .............C=0.1, kernel=linear;, score=0.955 total time=10.0min\n",
      "[CV 4/10] END .............C=0.1, kernel=linear;, score=0.946 total time=10.3min\n",
      "[CV 7/10] END .............C=0.1, kernel=linear;, score=0.939 total time=10.5min\n",
      "[CV 1/10] END ................C=0.1, kernel=rbf;, score=0.516 total time=  51.0s\n",
      "[CV 2/10] END ................C=0.1, kernel=rbf;, score=0.531 total time=  52.0s\n",
      "[CV 3/10] END ................C=0.1, kernel=rbf;, score=0.545 total time=  52.3s\n",
      "[CV 4/10] END ................C=0.1, kernel=rbf;, score=0.529 total time=  52.7s\n",
      "[CV 5/10] END ................C=0.1, kernel=rbf;, score=0.540 total time=  54.7s\n",
      "[CV 6/10] END ................C=0.1, kernel=rbf;, score=0.538 total time=  56.0s\n",
      "[CV 7/10] END ................C=0.1, kernel=rbf;, score=0.540 total time=  54.8s\n",
      "[CV 8/10] END ................C=0.1, kernel=rbf;, score=0.543 total time=  53.5s\n",
      "[CV 1/10] END ............C=0.1, kernel=sigmoid;, score=0.514 total time=  39.8s\n",
      "[CV 9/10] END ................C=0.1, kernel=rbf;, score=0.555 total time=  55.7s\n",
      "[CV 10/10] END ...............C=0.1, kernel=rbf;, score=0.548 total time=  55.7s\n",
      "[CV 2/10] END ............C=0.1, kernel=sigmoid;, score=0.501 total time=  41.0s\n",
      "[CV 3/10] END ............C=0.1, kernel=sigmoid;, score=0.487 total time=  39.3s\n",
      "[CV 4/10] END ............C=0.1, kernel=sigmoid;, score=0.509 total time=  41.3s\n",
      "[CV 5/10] END ............C=0.1, kernel=sigmoid;, score=0.523 total time=  41.0s\n",
      "[CV 6/10] END ............C=0.1, kernel=sigmoid;, score=0.487 total time=  42.7s\n",
      "[CV 7/10] END ............C=0.1, kernel=sigmoid;, score=0.505 total time=  42.5s\n",
      "[CV 8/10] END ............C=0.1, kernel=sigmoid;, score=0.498 total time=  38.9s\n",
      "[CV 9/10] END ............C=0.1, kernel=sigmoid;, score=0.468 total time=  40.6s\n",
      "[CV 10/10] END ...........C=0.1, kernel=sigmoid;, score=0.519 total time=  39.9s\n",
      "[CV 9/10] END .............C=0.1, kernel=linear;, score=0.942 total time=10.0min\n",
      "[CV 8/10] END .............C=0.1, kernel=linear;, score=0.943 total time=10.7min\n",
      "[CV 10/10] END ............C=0.1, kernel=linear;, score=0.959 total time=10.2min\n",
      "[CV 3/10] END .............C=1.0, kernel=linear;, score=0.953 total time=94.5min\n",
      "[CV 2/10] END .............C=1.0, kernel=linear;, score=0.941 total time=95.4min\n",
      "[CV 4/10] END .............C=1.0, kernel=linear;, score=0.947 total time=95.8min\n",
      "[CV 6/10] END .............C=1.0, kernel=linear;, score=0.958 total time=94.4min\n",
      "[CV 1/10] END ............C=1.0, kernel=linear;, score=0.951 total time=101.1min\n",
      "[CV 1/10] END ................C=1.0, kernel=rbf;, score=0.583 total time= 1.1min\n",
      "[CV 2/10] END ................C=1.0, kernel=rbf;, score=0.594 total time= 1.1min\n",
      "[CV 3/10] END ................C=1.0, kernel=rbf;, score=0.614 total time= 1.1min\n",
      "[CV 4/10] END ................C=1.0, kernel=rbf;, score=0.618 total time= 1.1min\n",
      "[CV 5/10] END ................C=1.0, kernel=rbf;, score=0.634 total time= 1.1min\n",
      "[CV 6/10] END ................C=1.0, kernel=rbf;, score=0.627 total time= 1.1min\n",
      "[CV 7/10] END ................C=1.0, kernel=rbf;, score=0.618 total time= 1.2min\n",
      "[CV 8/10] END ................C=1.0, kernel=rbf;, score=0.632 total time= 1.2min\n",
      "[CV 9/10] END ................C=1.0, kernel=rbf;, score=0.624 total time= 1.2min\n",
      "[CV 1/10] END ............C=1.0, kernel=sigmoid;, score=0.514 total time=  46.5s\n",
      "[CV 5/10] END ............C=1.0, kernel=linear;, score=0.956 total time=101.4min\n",
      "[CV 10/10] END ...............C=1.0, kernel=rbf;, score=0.618 total time= 1.2min\n",
      "[CV 2/10] END ............C=1.0, kernel=sigmoid;, score=0.501 total time=  46.9s\n",
      "[CV 4/10] END ............C=1.0, kernel=sigmoid;, score=0.509 total time=  46.8s\n",
      "[CV 3/10] END ............C=1.0, kernel=sigmoid;, score=0.487 total time=  48.1s\n",
      "[CV 7/10] END ............C=1.0, kernel=linear;, score=0.943 total time=101.8min\n",
      "[CV 5/10] END ............C=1.0, kernel=sigmoid;, score=0.523 total time=  50.7s\n",
      "[CV 7/10] END ............C=1.0, kernel=sigmoid;, score=0.504 total time=  47.7s\n",
      "[CV 6/10] END ............C=1.0, kernel=sigmoid;, score=0.487 total time=  49.3s\n",
      "[CV 8/10] END ............C=1.0, kernel=sigmoid;, score=0.498 total time=  45.6s\n",
      "[CV 9/10] END ............C=1.0, kernel=sigmoid;, score=0.468 total time=  41.2s\n",
      "[CV 10/10] END ...........C=1.0, kernel=sigmoid;, score=0.518 total time=  36.8s\n",
      "[CV 9/10] END .............C=1.0, kernel=linear;, score=0.944 total time=63.4min\n",
      "[CV 8/10] END .............C=1.0, kernel=linear;, score=0.948 total time=64.4min\n",
      "[CV 10/10] END ............C=1.0, kernel=linear;, score=0.961 total time=65.8min\n"
     ]
    }
   ],
   "source": [
    "# For training SVM without 'poly' kernel\n",
    "\n",
    "# Declare the gridsearch object\n",
    "grid_search = GridSearchCV(svm_clf, svm_params, scoring='roc_auc', n_jobs=7, refit=True, cv=10, verbose=3)\n",
    "\n",
    "# Fit the model\n",
    "grid_result = grid_search.fit(X_train, y_train)"
   ]
  },
  {
   "cell_type": "code",
   "execution_count": 7,
   "metadata": {},
   "outputs": [],
   "source": [
    "# Declare the SVM model with 'poly' kernel\n",
    "svm_clf_poly = SVC(probability=True, class_weight='balanced', kernel='poly')\n",
    "\n",
    "# Declare the grid paramters to be searched\n",
    "svm_params_poly = dict(\n",
    "    C = np.logspace(-4, 0, num=5),\n",
    "    degree = [2, 3, 4]\n",
    ")"
   ]
  },
  {
   "cell_type": "code",
   "execution_count": 42,
   "metadata": {},
   "outputs": [
    {
     "name": "stdout",
     "output_type": "stream",
     "text": [
      "Fitting 10 folds for each of 15 candidates, totalling 150 fits\n",
      "[CV 7/10] END ...............C=0.0001, degree=2;, score=0.496 total time= 2.3min\n",
      "[CV 5/10] END ...............C=0.0001, degree=2;, score=0.520 total time= 2.4min\n",
      "[CV 6/10] END ...............C=0.0001, degree=2;, score=0.508 total time= 2.4min\n",
      "[CV 3/10] END ...............C=0.0001, degree=2;, score=0.519 total time= 2.4min\n",
      "[CV 4/10] END ...............C=0.0001, degree=2;, score=0.497 total time= 2.4min\n",
      "[CV 2/10] END ...............C=0.0001, degree=2;, score=0.488 total time= 2.4min\n",
      "[CV 1/10] END ...............C=0.0001, degree=2;, score=0.505 total time= 2.4min\n",
      "[CV 9/10] END ...............C=0.0001, degree=2;, score=0.525 total time= 2.3min\n",
      "[CV 8/10] END ...............C=0.0001, degree=2;, score=0.479 total time= 2.3min\n",
      "[CV 1/10] END ...............C=0.0001, degree=3;, score=0.496 total time= 2.3min\n",
      "[CV 10/10] END ..............C=0.0001, degree=2;, score=0.472 total time= 2.3min\n",
      "[CV 4/10] END ...............C=0.0001, degree=3;, score=0.503 total time= 2.3min\n",
      "[CV 3/10] END ...............C=0.0001, degree=3;, score=0.514 total time= 2.3min\n",
      "[CV 2/10] END ...............C=0.0001, degree=3;, score=0.497 total time= 2.4min\n",
      "[CV 5/10] END ...............C=0.0001, degree=3;, score=0.495 total time= 2.2min\n",
      "[CV 6/10] END ...............C=0.0001, degree=3;, score=0.510 total time= 2.2min\n",
      "[CV 8/10] END ...............C=0.0001, degree=3;, score=0.512 total time= 2.2min\n",
      "[CV 10/10] END ..............C=0.0001, degree=3;, score=0.518 total time= 2.1min\n",
      "[CV 1/10] END ...............C=0.0001, degree=4;, score=0.475 total time= 2.2min\n",
      "[CV 9/10] END ...............C=0.0001, degree=3;, score=0.519 total time= 2.2min\n",
      "[CV 7/10] END ...............C=0.0001, degree=3;, score=0.540 total time= 2.2min\n",
      "[CV 3/10] END ...............C=0.0001, degree=4;, score=0.513 total time= 2.1min\n",
      "[CV 2/10] END ...............C=0.0001, degree=4;, score=0.463 total time= 2.1min\n",
      "[CV 5/10] END ...............C=0.0001, degree=4;, score=0.491 total time= 2.1min\n",
      "[CV 4/10] END ...............C=0.0001, degree=4;, score=0.498 total time= 2.2min\n",
      "[CV 7/10] END ...............C=0.0001, degree=4;, score=0.512 total time= 2.1min\n",
      "[CV 8/10] END ...............C=0.0001, degree=4;, score=0.484 total time= 2.1min\n",
      "[CV 6/10] END ...............C=0.0001, degree=4;, score=0.475 total time= 2.1min\n",
      "[CV 9/10] END ...............C=0.0001, degree=4;, score=0.505 total time= 2.1min\n",
      "[CV 10/10] END ..............C=0.0001, degree=4;, score=0.500 total time= 2.1min\n",
      "[CV 1/10] END ................C=0.001, degree=2;, score=0.499 total time= 2.1min\n",
      "[CV 2/10] END ................C=0.001, degree=2;, score=0.485 total time= 2.1min\n",
      "[CV 4/10] END ................C=0.001, degree=2;, score=0.492 total time= 2.1min\n",
      "[CV 5/10] END ................C=0.001, degree=2;, score=0.521 total time= 2.1min\n",
      "[CV 3/10] END ................C=0.001, degree=2;, score=0.527 total time= 2.1min\n",
      "[CV 7/10] END ................C=0.001, degree=2;, score=0.513 total time= 2.3min\n",
      "[CV 6/10] END ................C=0.001, degree=2;, score=0.504 total time= 2.3min\n",
      "[CV 9/10] END ................C=0.001, degree=2;, score=0.507 total time= 2.3min\n",
      "[CV 8/10] END ................C=0.001, degree=2;, score=0.500 total time= 2.3min\n",
      "[CV 10/10] END ...............C=0.001, degree=2;, score=0.481 total time= 2.3min\n",
      "[CV 1/10] END ................C=0.001, degree=3;, score=0.495 total time= 2.3min\n",
      "[CV 2/10] END ................C=0.001, degree=3;, score=0.479 total time= 2.4min\n",
      "[CV 3/10] END ................C=0.001, degree=3;, score=0.505 total time= 2.3min\n",
      "[CV 5/10] END ................C=0.001, degree=3;, score=0.480 total time= 2.3min\n",
      "[CV 4/10] END ................C=0.001, degree=3;, score=0.498 total time= 2.4min\n",
      "[CV 6/10] END ................C=0.001, degree=3;, score=0.509 total time= 2.3min\n",
      "[CV 7/10] END ................C=0.001, degree=3;, score=0.532 total time= 2.3min\n",
      "[CV 8/10] END ................C=0.001, degree=3;, score=0.509 total time= 2.4min\n",
      "[CV 9/10] END ................C=0.001, degree=3;, score=0.520 total time= 2.3min\n",
      "[CV 10/10] END ...............C=0.001, degree=3;, score=0.517 total time= 2.4min\n",
      "[CV 1/10] END ................C=0.001, degree=4;, score=0.481 total time= 2.4min\n",
      "[CV 2/10] END ................C=0.001, degree=4;, score=0.482 total time= 2.3min\n",
      "[CV 4/10] END ................C=0.001, degree=4;, score=0.500 total time= 2.3min\n",
      "[CV 3/10] END ................C=0.001, degree=4;, score=0.510 total time= 2.4min\n",
      "[CV 5/10] END ................C=0.001, degree=4;, score=0.487 total time= 2.4min\n",
      "[CV 6/10] END ................C=0.001, degree=4;, score=0.479 total time= 2.4min\n",
      "[CV 7/10] END ................C=0.001, degree=4;, score=0.505 total time= 2.4min\n",
      "[CV 9/10] END ................C=0.001, degree=4;, score=0.506 total time= 2.4min\n",
      "[CV 10/10] END ...............C=0.001, degree=4;, score=0.513 total time= 2.4min\n",
      "[CV 1/10] END .................C=0.01, degree=2;, score=0.500 total time= 2.3min\n",
      "[CV 8/10] END ................C=0.001, degree=4;, score=0.501 total time= 2.4min\n",
      "[CV 2/10] END .................C=0.01, degree=2;, score=0.479 total time= 2.4min\n",
      "[CV 3/10] END .................C=0.01, degree=2;, score=0.524 total time= 2.4min\n",
      "[CV 4/10] END .................C=0.01, degree=2;, score=0.499 total time= 2.3min\n",
      "[CV 6/10] END .................C=0.01, degree=2;, score=0.504 total time= 2.2min\n",
      "[CV 5/10] END .................C=0.01, degree=2;, score=0.510 total time= 2.2min\n",
      "[CV 7/10] END .................C=0.01, degree=2;, score=0.522 total time= 2.2min\n",
      "[CV 8/10] END .................C=0.01, degree=2;, score=0.517 total time= 2.2min\n",
      "[CV 9/10] END .................C=0.01, degree=2;, score=0.505 total time= 2.2min\n",
      "[CV 10/10] END ................C=0.01, degree=2;, score=0.483 total time= 2.2min\n",
      "[CV 2/10] END .................C=0.01, degree=3;, score=0.505 total time= 2.2min\n",
      "[CV 1/10] END .................C=0.01, degree=3;, score=0.533 total time= 2.2min\n",
      "[CV 4/10] END .................C=0.01, degree=3;, score=0.540 total time= 2.2min\n",
      "[CV 5/10] END .................C=0.01, degree=3;, score=0.512 total time= 2.2min\n",
      "[CV 3/10] END .................C=0.01, degree=3;, score=0.528 total time= 2.3min\n",
      "[CV 6/10] END .................C=0.01, degree=3;, score=0.533 total time= 2.2min\n",
      "[CV 7/10] END .................C=0.01, degree=3;, score=0.554 total time= 2.2min\n",
      "[CV 9/10] END .................C=0.01, degree=3;, score=0.543 total time= 2.1min\n",
      "[CV 8/10] END .................C=0.01, degree=3;, score=0.529 total time= 2.2min\n",
      "[CV 10/10] END ................C=0.01, degree=3;, score=0.535 total time= 2.2min\n",
      "[CV 1/10] END .................C=0.01, degree=4;, score=0.537 total time= 2.3min\n",
      "[CV 2/10] END .................C=0.01, degree=4;, score=0.530 total time= 2.3min\n",
      "[CV 3/10] END .................C=0.01, degree=4;, score=0.558 total time= 2.2min\n",
      "[CV 4/10] END .................C=0.01, degree=4;, score=0.546 total time= 2.3min\n",
      "[CV 5/10] END .................C=0.01, degree=4;, score=0.553 total time= 2.2min\n",
      "[CV 6/10] END .................C=0.01, degree=4;, score=0.536 total time= 2.3min\n",
      "[CV 7/10] END .................C=0.01, degree=4;, score=0.561 total time= 2.3min\n",
      "[CV 10/10] END ................C=0.01, degree=4;, score=0.561 total time= 2.2min\n",
      "[CV 8/10] END .................C=0.01, degree=4;, score=0.541 total time= 2.3min\n",
      "[CV 9/10] END .................C=0.01, degree=4;, score=0.562 total time= 2.3min\n",
      "[CV 1/10] END ..................C=0.1, degree=2;, score=0.524 total time= 2.2min\n",
      "[CV 2/10] END ..................C=0.1, degree=2;, score=0.500 total time= 2.2min\n",
      "[CV 3/10] END ..................C=0.1, degree=2;, score=0.551 total time= 2.2min\n",
      "[CV 4/10] END ..................C=0.1, degree=2;, score=0.517 total time= 2.3min\n",
      "[CV 5/10] END ..................C=0.1, degree=2;, score=0.538 total time= 2.2min\n",
      "[CV 7/10] END ..................C=0.1, degree=2;, score=0.552 total time= 2.2min\n",
      "[CV 6/10] END ..................C=0.1, degree=2;, score=0.531 total time= 2.3min\n",
      "[CV 8/10] END ..................C=0.1, degree=2;, score=0.545 total time= 2.2min\n",
      "[CV 9/10] END ..................C=0.1, degree=2;, score=0.538 total time= 2.2min\n",
      "[CV 10/10] END .................C=0.1, degree=2;, score=0.511 total time= 2.2min\n",
      "[CV 2/10] END ..................C=0.1, degree=3;, score=0.686 total time= 2.3min\n",
      "[CV 1/10] END ..................C=0.1, degree=3;, score=0.698 total time= 2.3min\n",
      "[CV 3/10] END ..................C=0.1, degree=3;, score=0.705 total time= 2.3min\n",
      "[CV 5/10] END ..................C=0.1, degree=3;, score=0.697 total time= 2.3min\n",
      "[CV 4/10] END ..................C=0.1, degree=3;, score=0.707 total time= 2.3min\n",
      "[CV 7/10] END ..................C=0.1, degree=3;, score=0.739 total time= 2.2min\n",
      "[CV 6/10] END ..................C=0.1, degree=3;, score=0.712 total time= 2.2min\n",
      "[CV 8/10] END ..................C=0.1, degree=3;, score=0.713 total time= 2.2min\n",
      "[CV 9/10] END ..................C=0.1, degree=3;, score=0.719 total time= 2.2min\n",
      "[CV 10/10] END .................C=0.1, degree=3;, score=0.706 total time= 2.2min\n",
      "[CV 2/10] END ..................C=0.1, degree=4;, score=0.635 total time= 2.3min\n",
      "[CV 1/10] END ..................C=0.1, degree=4;, score=0.673 total time= 2.5min\n",
      "[CV 3/10] END ..................C=0.1, degree=4;, score=0.630 total time= 2.2min\n",
      "[CV 4/10] END ..................C=0.1, degree=4;, score=0.630 total time= 2.4min\n",
      "[CV 6/10] END ..................C=0.1, degree=4;, score=0.678 total time= 2.2min\n",
      "[CV 5/10] END ..................C=0.1, degree=4;, score=0.661 total time= 2.3min\n",
      "[CV 7/10] END ..................C=0.1, degree=4;, score=0.673 total time= 2.3min\n",
      "[CV 8/10] END ..................C=0.1, degree=4;, score=0.632 total time= 2.3min\n",
      "[CV 9/10] END ..................C=0.1, degree=4;, score=0.672 total time= 2.4min\n",
      "[CV 1/10] END ..................C=1.0, degree=2;, score=0.652 total time= 2.1min\n",
      "[CV 10/10] END .................C=0.1, degree=4;, score=0.671 total time= 2.3min\n",
      "[CV 2/10] END ..................C=1.0, degree=2;, score=0.616 total time= 2.1min\n",
      "[CV 3/10] END ..................C=1.0, degree=2;, score=0.637 total time= 2.1min\n",
      "[CV 4/10] END ..................C=1.0, degree=2;, score=0.606 total time= 2.2min\n",
      "[CV 5/10] END ..................C=1.0, degree=2;, score=0.640 total time= 2.1min\n",
      "[CV 6/10] END ..................C=1.0, degree=2;, score=0.649 total time= 2.2min\n",
      "[CV 7/10] END ..................C=1.0, degree=2;, score=0.678 total time= 2.2min\n",
      "[CV 8/10] END ..................C=1.0, degree=2;, score=0.636 total time= 2.1min\n",
      "[CV 9/10] END ..................C=1.0, degree=2;, score=0.643 total time= 2.1min\n",
      "[CV 10/10] END .................C=1.0, degree=2;, score=0.641 total time= 2.2min\n",
      "[CV 1/10] END ..................C=1.0, degree=3;, score=0.861 total time= 2.4min\n",
      "[CV 2/10] END ..................C=1.0, degree=3;, score=0.856 total time= 2.3min\n",
      "[CV 3/10] END ..................C=1.0, degree=3;, score=0.844 total time= 2.3min\n",
      "[CV 4/10] END ..................C=1.0, degree=3;, score=0.836 total time= 2.3min\n",
      "[CV 5/10] END ..................C=1.0, degree=3;, score=0.852 total time= 2.3min\n",
      "[CV 6/10] END ..................C=1.0, degree=3;, score=0.853 total time= 2.3min\n",
      "[CV 7/10] END ..................C=1.0, degree=3;, score=0.860 total time= 2.3min\n",
      "[CV 8/10] END ..................C=1.0, degree=3;, score=0.854 total time= 2.3min\n",
      "[CV 9/10] END ..................C=1.0, degree=3;, score=0.862 total time= 2.3min\n",
      "[CV 10/10] END .................C=1.0, degree=3;, score=0.845 total time= 2.3min\n",
      "[CV 2/10] END ..................C=1.0, degree=4;, score=0.673 total time= 2.5min\n",
      "[CV 1/10] END ..................C=1.0, degree=4;, score=0.698 total time= 2.6min\n",
      "[CV 3/10] END ..................C=1.0, degree=4;, score=0.665 total time= 2.6min\n",
      "[CV 4/10] END ..................C=1.0, degree=4;, score=0.660 total time= 2.5min\n",
      "[CV 6/10] END ..................C=1.0, degree=4;, score=0.715 total time= 2.6min\n",
      "[CV 5/10] END ..................C=1.0, degree=4;, score=0.673 total time= 2.7min\n",
      "[CV 7/10] END ..................C=1.0, degree=4;, score=0.703 total time= 2.5min\n",
      "[CV 8/10] END ..................C=1.0, degree=4;, score=0.662 total time= 1.7min\n",
      "[CV 10/10] END .................C=1.0, degree=4;, score=0.692 total time= 1.6min\n",
      "[CV 9/10] END ..................C=1.0, degree=4;, score=0.689 total time= 1.8min\n"
     ]
    }
   ],
   "source": [
    "# For training SVM without 'poly' kernel\n",
    "\n",
    "# Declare the gridsearch object\n",
    "grid_search_poly = GridSearchCV(svm_clf_poly, svm_params_poly, scoring='roc_auc', n_jobs=7, refit=True, cv=10, verbose=5)\n",
    "\n",
    "# Fit the model\n",
    "grid_result_poly = grid_search_poly.fit(X_train, y_train)"
   ]
  },
  {
   "cell_type": "markdown",
   "metadata": {},
   "source": [
    "### Inferencing"
   ]
  },
  {
   "cell_type": "code",
   "execution_count": 43,
   "metadata": {},
   "outputs": [
    {
     "name": "stdout",
     "output_type": "stream",
     "text": [
      "Best score of 0.9582827048948805 is achieved by using {'C': 1.0, 'kernel': 'linear'}\n",
      "Best score of 0.8522176297737245 is achieved by using {'C': 1.0, 'degree': 3}\n"
     ]
    }
   ],
   "source": [
    "# Get the best model parameters\n",
    "print(f\"Best score of {grid_result.best_score_} is achieved by using {grid_result.best_params_}\")\n",
    "print(f\"Best score of {grid_result_poly.best_score_} is achieved by using {grid_result_poly.best_params_}\")"
   ]
  },
  {
   "cell_type": "code",
   "execution_count": 10,
   "metadata": {},
   "outputs": [],
   "source": [
    "# Predict on test data using the model\n",
    "y_pred = grid_search.predict(X_test)\n",
    "y_score = grid_search.predict_proba(X_test)[:, 1]"
   ]
  },
  {
   "cell_type": "markdown",
   "metadata": {},
   "source": [
    "### Evaluation"
   ]
  },
  {
   "cell_type": "code",
   "execution_count": 11,
   "metadata": {},
   "outputs": [
    {
     "name": "stdout",
     "output_type": "stream",
     "text": [
      "Area under the ROC curve: 0.9472100846919147\n"
     ]
    }
   ],
   "source": [
    "# Find the ROC AUC score\n",
    "print(f\"Area under the ROC curve: {roc_auc_score(y_test, y_score)}\")"
   ]
  },
  {
   "cell_type": "code",
   "execution_count": 12,
   "metadata": {},
   "outputs": [],
   "source": [
    "# Calculate parameters for roc auc curve\n",
    "fpr, tpr, thresholds = roc_curve(y_test, y_score)"
   ]
  },
  {
   "cell_type": "code",
   "execution_count": 13,
   "metadata": {},
   "outputs": [
    {
     "data": {
      "image/svg+xml": "<svg class=\"main-svg\" xmlns=\"http://www.w3.org/2000/svg\" xmlns:xlink=\"http://www.w3.org/1999/xlink\" width=\"800\" height=\"500\" style=\"\" viewBox=\"0 0 800 500\"><rect x=\"0\" y=\"0\" width=\"800\" height=\"500\" style=\"fill: rgb(255, 255, 255); fill-opacity: 1;\"/><defs id=\"defs-1a83a0\"><g class=\"clips\"><clipPath id=\"clip1a83a0xyplot\" class=\"plotclip\"><rect width=\"304.99999999999994\" height=\"320\"/></clipPath><clipPath class=\"axesclip\" id=\"clip1a83a0x\"><rect x=\"247.50000000000003\" y=\"0\" width=\"304.99999999999994\" height=\"500\"/></clipPath><clipPath class=\"axesclip\" id=\"clip1a83a0y\"><rect x=\"0\" y=\"100\" width=\"800\" height=\"320\"/></clipPath><clipPath class=\"axesclip\" id=\"clip1a83a0xy\"><rect x=\"247.50000000000003\" y=\"100\" width=\"304.99999999999994\" height=\"320\"/></clipPath></g><g class=\"gradients\"/><g class=\"patterns\"/></defs><g class=\"bglayer\"><rect class=\"bg\" x=\"247.50000000000003\" y=\"100\" width=\"304.99999999999994\" height=\"320\" style=\"fill: rgb(229, 236, 246); fill-opacity: 1; stroke-width: 0;\"/></g><g class=\"layer-below\"><g class=\"imagelayer\"/><g class=\"shapelayer\"/></g><g class=\"cartesianlayer\"><g class=\"subplot xy\"><g class=\"layer-subplot\"><g class=\"shapelayer\"/><g class=\"imagelayer\"/></g><g class=\"minor-gridlayer\"><g class=\"x\"/><g class=\"y\"/></g><g class=\"gridlayer\"><g class=\"x\"><path class=\"xgrid crisp\" transform=\"translate(400,0)\" d=\"M0,100v320\" style=\"stroke: rgb(255, 255, 255); stroke-opacity: 1; stroke-width: 1px;\"/></g><g class=\"y\"><path class=\"ygrid crisp\" transform=\"translate(0,358.4)\" d=\"M247.50000000000003,0h304.99999999999994\" style=\"stroke: rgb(255, 255, 255); stroke-opacity: 1; stroke-width: 1px;\"/><path class=\"ygrid crisp\" transform=\"translate(0,297.8)\" d=\"M247.50000000000003,0h304.99999999999994\" style=\"stroke: rgb(255, 255, 255); stroke-opacity: 1; stroke-width: 1px;\"/><path class=\"ygrid crisp\" transform=\"translate(0,237.2)\" d=\"M247.50000000000003,0h304.99999999999994\" style=\"stroke: rgb(255, 255, 255); stroke-opacity: 1; stroke-width: 1px;\"/><path class=\"ygrid crisp\" transform=\"translate(0,176.6)\" d=\"M247.50000000000003,0h304.99999999999994\" style=\"stroke: rgb(255, 255, 255); stroke-opacity: 1; stroke-width: 1px;\"/><path class=\"ygrid crisp\" transform=\"translate(0,116)\" d=\"M247.50000000000003,0h304.99999999999994\" style=\"stroke: rgb(255, 255, 255); stroke-opacity: 1; stroke-width: 1px;\"/></g></g><g class=\"zerolinelayer\"><path class=\"xzl zl crisp\" transform=\"translate(248.50000000000003,0)\" d=\"M0,100v320\" style=\"stroke: rgb(255, 255, 255); stroke-opacity: 1; stroke-width: 2px;\"/><path class=\"yzl zl crisp\" transform=\"translate(0,419)\" d=\"M247.50000000000003,0h304.99999999999994\" style=\"stroke: rgb(255, 255, 255); stroke-opacity: 1; stroke-width: 2px;\"/></g><path class=\"xlines-below\"/><path class=\"ylines-below\"/><g class=\"overlines-below\"/><g class=\"xaxislayer-below\"/><g class=\"yaxislayer-below\"/><g class=\"overaxes-below\"/><g class=\"plot\" transform=\"translate(247.50000000000003,100)\" clip-path=\"url(#clip1a83a0xyplot)\"><g class=\"scatterlayer mlayer\"><g class=\"trace scatter trace02de51\" style=\"stroke-miterlimit: 2;\"><g class=\"fills\"><g><path class=\"js-fill\" d=\"M304,319L1,319L1,319L2.45,248.86L2.59,248.86L3.31,234.7L3.46,234.7L4.18,219.15L4.32,219.15L5.05,201.88L5.19,201.88L5.92,189.09L6.06,189.09L6.78,179.77L6.93,179.77L7.65,175.27L7.79,175.27L8.52,156.27L8.66,156.27L9.38,146.6L9.67,146.6L10.4,136.58L10.54,136.58L11.26,123.1L11.41,123.1L12.13,111.01L12.42,111.01L13.14,101.68L13.29,101.68L13.87,93.05L14.16,93.05L14.88,87.17L15.17,87.17L15.89,80.95L16.03,80.95L16.61,76.46L16.9,76.46L17.62,72.66L17.91,72.66L18.64,67.82L19.21,67.82L19.94,65.06L20.66,65.06L21.38,63.33L21.53,63.33L21.82,62.64L23.55,62.64L24.13,58.84L26.44,58.84L27.17,57.81L27.74,57.81L28.47,56.77L29.48,56.77L29.48,56.42L30.78,56.42L30.78,55.04L31.65,55.04L31.65,54.35L34.39,54.35L35.12,51.93L36.13,51.93L36.42,50.55L38.01,50.55L38.44,49.17L39.89,49.17L40.61,47.79L40.75,47.79L41.33,46.4L41.91,46.4L41.91,45.71L42.92,45.71L42.92,45.37L45.24,45.37L45.24,45.02L47.69,45.02L48.27,43.99L49.28,43.99L49.86,42.6L50.3,42.6L51.02,40.88L51.16,40.88L51.16,39.84L52.17,39.84L52.75,38.46L53.04,38.46L53.62,37.42L54.2,37.42L54.2,37.08L55.5,37.08L55.5,36.38L57.52,36.38L57.52,36.04L58.68,36.04L58.82,35.35L59.98,35.35L59.98,35L61.43,35L61.43,34.31L63.45,34.31L63.74,32.93L65.19,32.93L65.19,32.58L66.05,32.58L66.2,31.55L67.06,31.55L67.64,30.86L68.65,30.86L68.65,30.17L69.52,30.17L69.96,29.47L71.83,29.47L72.56,28.44L74.15,28.44L74.29,27.75L76.17,27.75L76.46,27.06L78.05,27.06L78.77,25.67L79.06,25.67L79.06,25.33L79.93,25.33L79.93,24.98L86,24.98L86,24.64L88.46,24.64L88.46,24.29L91.78,24.29L91.78,23.95L93.37,23.95L93.66,23.26L108.7,23.26L108.7,22.91L111.44,22.91L111.44,22.56L114.05,22.56L114.05,22.22L126.19,22.22L126.19,21.87L140.79,21.87L140.79,21.53L142.38,21.53L142.38,21.18L150.62,21.18L150.62,20.84L157.7,20.84L157.7,20.49L164.06,20.49L164.06,20.15L172.59,20.15L172.59,19.8L177.94,19.8L177.94,19.45L190.09,19.45L190.09,19.11L203.53,19.11L203.53,18.76L205.7,18.76L205.7,18.42L225.94,18.42L225.94,18.07L233.74,18.07L233.74,17.73L236.63,17.73L236.63,17.38L249.65,17.38L249.65,17.04L256.44,17.04L256.44,16.69L261.21,16.69L261.21,16.35L270.75,16.35L270.75,16L289.4,16L304,16\" style=\"fill: rgb(99, 110, 250); fill-opacity: 0.5; stroke-width: 0;\"/></g></g><g class=\"errorbars\"/><g class=\"lines\"><path class=\"js-line\" d=\"M1,319L2.45,248.86L2.59,248.86L3.31,234.7L3.46,234.7L4.18,219.15L4.32,219.15L5.05,201.88L5.19,201.88L5.92,189.09L6.06,189.09L6.78,179.77L6.93,179.77L7.65,175.27L7.79,175.27L8.52,156.27L8.66,156.27L9.38,146.6L9.67,146.6L10.4,136.58L10.54,136.58L11.26,123.1L11.41,123.1L12.13,111.01L12.42,111.01L13.14,101.68L13.29,101.68L13.87,93.05L14.16,93.05L14.88,87.17L15.17,87.17L15.89,80.95L16.03,80.95L16.61,76.46L16.9,76.46L17.62,72.66L17.91,72.66L18.64,67.82L19.21,67.82L19.94,65.06L20.66,65.06L21.38,63.33L21.53,63.33L21.82,62.64L23.55,62.64L24.13,58.84L26.44,58.84L27.17,57.81L27.74,57.81L28.47,56.77L29.48,56.77L29.48,56.42L30.78,56.42L30.78,55.04L31.65,55.04L31.65,54.35L34.39,54.35L35.12,51.93L36.13,51.93L36.42,50.55L38.01,50.55L38.44,49.17L39.89,49.17L40.61,47.79L40.75,47.79L41.33,46.4L41.91,46.4L41.91,45.71L42.92,45.71L42.92,45.37L45.24,45.37L45.24,45.02L47.69,45.02L48.27,43.99L49.28,43.99L49.86,42.6L50.3,42.6L51.02,40.88L51.16,40.88L51.16,39.84L52.17,39.84L52.75,38.46L53.04,38.46L53.62,37.42L54.2,37.42L54.2,37.08L55.5,37.08L55.5,36.38L57.52,36.38L57.52,36.04L58.68,36.04L58.82,35.35L59.98,35.35L59.98,35L61.43,35L61.43,34.31L63.45,34.31L63.74,32.93L65.19,32.93L65.19,32.58L66.05,32.58L66.2,31.55L67.06,31.55L67.64,30.86L68.65,30.86L68.65,30.17L69.52,30.17L69.96,29.47L71.83,29.47L72.56,28.44L74.15,28.44L74.29,27.75L76.17,27.75L76.46,27.06L78.05,27.06L78.77,25.67L79.06,25.67L79.06,25.33L79.93,25.33L79.93,24.98L86,24.98L86,24.64L88.46,24.64L88.46,24.29L91.78,24.29L91.78,23.95L93.37,23.95L93.66,23.26L108.7,23.26L108.7,22.91L111.44,22.91L111.44,22.56L114.05,22.56L114.05,22.22L126.19,22.22L126.19,21.87L140.79,21.87L140.79,21.53L142.38,21.53L142.38,21.18L150.62,21.18L150.62,20.84L157.7,20.84L157.7,20.49L164.06,20.49L164.06,20.15L172.59,20.15L172.59,19.8L177.94,19.8L177.94,19.45L190.09,19.45L190.09,19.11L203.53,19.11L203.53,18.76L205.7,18.76L205.7,18.42L225.94,18.42L225.94,18.07L233.74,18.07L233.74,17.73L236.63,17.73L236.63,17.38L249.65,17.38L249.65,17.04L256.44,17.04L256.44,16.69L261.21,16.69L261.21,16.35L270.75,16.35L270.75,16L289.4,16L304,16\" style=\"vector-effect: non-scaling-stroke; fill: none; stroke: rgb(99, 110, 250); stroke-opacity: 1; stroke-width: 2px; opacity: 1;\"/></g><g class=\"points\"/><g class=\"text\"/></g></g></g><g class=\"overplot\"/><path class=\"xlines-above crisp\" d=\"M0,0\" style=\"fill: none;\"/><path class=\"ylines-above crisp\" d=\"M0,0\" style=\"fill: none;\"/><g class=\"overlines-above\"/><g class=\"xaxislayer-above\"><g class=\"xtick\"><text text-anchor=\"middle\" x=\"0\" y=\"433\" transform=\"translate(248.50000000000003,0)\" style=\"font-family: 'Open Sans', verdana, arial, sans-serif; font-size: 12px; fill: rgb(42, 63, 95); fill-opacity: 1; white-space: pre; opacity: 1;\">0</text></g><g class=\"xtick\"><text text-anchor=\"middle\" x=\"0\" y=\"433\" style=\"font-family: 'Open Sans', verdana, arial, sans-serif; font-size: 12px; fill: rgb(42, 63, 95); fill-opacity: 1; white-space: pre; opacity: 1;\" transform=\"translate(400,0)\">0.5</text></g><g class=\"xtick\"><text text-anchor=\"middle\" x=\"0\" y=\"433\" style=\"font-family: 'Open Sans', verdana, arial, sans-serif; font-size: 12px; fill: rgb(42, 63, 95); fill-opacity: 1; white-space: pre; opacity: 1;\" transform=\"translate(551.5,0)\">1</text></g></g><g class=\"yaxislayer-above\"><g class=\"ytick\"><text text-anchor=\"end\" x=\"246.50000000000003\" y=\"4.199999999999999\" transform=\"translate(0,419)\" style=\"font-family: 'Open Sans', verdana, arial, sans-serif; font-size: 12px; fill: rgb(42, 63, 95); fill-opacity: 1; white-space: pre; opacity: 1;\">0</text></g><g class=\"ytick\"><text text-anchor=\"end\" x=\"246.50000000000003\" y=\"4.199999999999999\" style=\"font-family: 'Open Sans', verdana, arial, sans-serif; font-size: 12px; fill: rgb(42, 63, 95); fill-opacity: 1; white-space: pre; opacity: 1;\" transform=\"translate(0,358.4)\">0.2</text></g><g class=\"ytick\"><text text-anchor=\"end\" x=\"246.50000000000003\" y=\"4.199999999999999\" style=\"font-family: 'Open Sans', verdana, arial, sans-serif; font-size: 12px; fill: rgb(42, 63, 95); fill-opacity: 1; white-space: pre; opacity: 1;\" transform=\"translate(0,297.8)\">0.4</text></g><g class=\"ytick\"><text text-anchor=\"end\" x=\"246.50000000000003\" y=\"4.199999999999999\" style=\"font-family: 'Open Sans', verdana, arial, sans-serif; font-size: 12px; fill: rgb(42, 63, 95); fill-opacity: 1; white-space: pre; opacity: 1;\" transform=\"translate(0,237.2)\">0.6</text></g><g class=\"ytick\"><text text-anchor=\"end\" x=\"246.50000000000003\" y=\"4.199999999999999\" style=\"font-family: 'Open Sans', verdana, arial, sans-serif; font-size: 12px; fill: rgb(42, 63, 95); fill-opacity: 1; white-space: pre; opacity: 1;\" transform=\"translate(0,176.6)\">0.8</text></g><g class=\"ytick\"><text text-anchor=\"end\" x=\"246.50000000000003\" y=\"4.199999999999999\" style=\"font-family: 'Open Sans', verdana, arial, sans-serif; font-size: 12px; fill: rgb(42, 63, 95); fill-opacity: 1; white-space: pre; opacity: 1;\" transform=\"translate(0,116)\">1</text></g></g><g class=\"overaxes-above\"/></g></g><g class=\"polarlayer\"/><g class=\"smithlayer\"/><g class=\"ternarylayer\"/><g class=\"geolayer\"/><g class=\"funnelarealayer\"/><g class=\"pielayer\"/><g class=\"iciclelayer\"/><g class=\"treemaplayer\"/><g class=\"sunburstlayer\"/><g class=\"glimages\"/><defs id=\"topdefs-1a83a0\"><g class=\"clips\"/></defs><g class=\"layer-above\"><g class=\"imagelayer\"/><g class=\"shapelayer\"><path data-index=\"0\" fill-rule=\"evenodd\" d=\"M248.50000000000003,419L551.5,116\" clip-path=\"url(#clip1a83a0xy)\" style=\"opacity: 1; stroke: rgb(42, 63, 95); stroke-opacity: 1; fill: rgb(0, 0, 0); fill-opacity: 0; stroke-dasharray: 9px, 9px; stroke-width: 2px;\"/></g></g><g class=\"infolayer\"><g class=\"g-gtitle\"><text class=\"gtitle\" x=\"40\" y=\"50\" text-anchor=\"start\" dy=\"0em\" style=\"font-family: 'Open Sans', verdana, arial, sans-serif; font-size: 17px; fill: rgb(42, 63, 95); opacity: 1; font-weight: normal; white-space: pre;\">ROC Curve (AUC=0.9472)</text></g><g class=\"g-xtitle\"><text class=\"xtitle\" x=\"400\" y=\"460.3\" text-anchor=\"middle\" style=\"font-family: 'Open Sans', verdana, arial, sans-serif; font-size: 14px; fill: rgb(42, 63, 95); opacity: 1; font-weight: normal; white-space: pre;\">False Positive Rate</text></g><g class=\"g-ytitle\"><text class=\"ytitle\" transform=\"rotate(-90,202.075,260)\" x=\"202.075\" y=\"260\" text-anchor=\"middle\" style=\"font-family: 'Open Sans', verdana, arial, sans-serif; font-size: 14px; fill: rgb(42, 63, 95); opacity: 1; font-weight: normal; white-space: pre;\">True Positive Rate</text></g></g></svg>"
     },
     "metadata": {},
     "output_type": "display_data"
    }
   ],
   "source": [
    "# Plot the curve and area under the curve\n",
    "fig = px.area(\n",
    "    x=fpr, y=tpr,\n",
    "    title=f'ROC Curve (AUC={auc(fpr, tpr):.4f})',\n",
    "    labels=dict(x='False Positive Rate', y='True Positive Rate')\n",
    ")\n",
    "fig.add_shape(\n",
    "    type='line', line=dict(dash='dash'),\n",
    "    x0=0, x1=1, y0=0, y1=1\n",
    ")\n",
    "\n",
    "fig.update_yaxes(scaleanchor=\"x\", scaleratio=1)\n",
    "fig.update_xaxes(constrain='domain')\n",
    "fig.show()"
   ]
  },
  {
   "cell_type": "markdown",
   "metadata": {},
   "source": [
    "An AUC score of 0.88 is quite remarkable and it suggest that model is quite good in predicting whether a project on Kickstarter will be succecssful or not."
   ]
  },
  {
   "cell_type": "code",
   "execution_count": 14,
   "metadata": {},
   "outputs": [],
   "source": [
    "# Create a ROC dataframe from the obtained FPR and TPR\n",
    "roc_df = pd.DataFrame({\n",
    "    'fpr': fpr,\n",
    "    'tpr': tpr,\n",
    "    'threshold': thresholds\n",
    "})"
   ]
  },
  {
   "cell_type": "code",
   "execution_count": 15,
   "metadata": {},
   "outputs": [
    {
     "data": {
      "text/html": [
       "<div>\n",
       "<style scoped>\n",
       "    .dataframe tbody tr th:only-of-type {\n",
       "        vertical-align: middle;\n",
       "    }\n",
       "\n",
       "    .dataframe tbody tr th {\n",
       "        vertical-align: top;\n",
       "    }\n",
       "\n",
       "    .dataframe thead th {\n",
       "        text-align: right;\n",
       "    }\n",
       "</style>\n",
       "<table border=\"1\" class=\"dataframe\">\n",
       "  <thead>\n",
       "    <tr style=\"text-align: right;\">\n",
       "      <th></th>\n",
       "      <th>fpr</th>\n",
       "      <th>tpr</th>\n",
       "      <th>threshold</th>\n",
       "    </tr>\n",
       "  </thead>\n",
       "  <tbody>\n",
       "    <tr>\n",
       "      <th>184</th>\n",
       "      <td>0.049618</td>\n",
       "      <td>0.793615</td>\n",
       "      <td>0.515917</td>\n",
       "    </tr>\n",
       "    <tr>\n",
       "      <th>185</th>\n",
       "      <td>0.050095</td>\n",
       "      <td>0.793615</td>\n",
       "      <td>0.513528</td>\n",
       "    </tr>\n",
       "    <tr>\n",
       "      <th>186</th>\n",
       "      <td>0.050095</td>\n",
       "      <td>0.795895</td>\n",
       "      <td>0.511968</td>\n",
       "    </tr>\n",
       "    <tr>\n",
       "      <th>187</th>\n",
       "      <td>0.051050</td>\n",
       "      <td>0.795895</td>\n",
       "      <td>0.511324</td>\n",
       "    </tr>\n",
       "    <tr>\n",
       "      <th>188</th>\n",
       "      <td>0.051050</td>\n",
       "      <td>0.799316</td>\n",
       "      <td>0.510062</td>\n",
       "    </tr>\n",
       "    <tr>\n",
       "      <th>189</th>\n",
       "      <td>0.051527</td>\n",
       "      <td>0.799316</td>\n",
       "      <td>0.508657</td>\n",
       "    </tr>\n",
       "    <tr>\n",
       "      <th>190</th>\n",
       "      <td>0.051527</td>\n",
       "      <td>0.800456</td>\n",
       "      <td>0.508389</td>\n",
       "    </tr>\n",
       "    <tr>\n",
       "      <th>191</th>\n",
       "      <td>0.052481</td>\n",
       "      <td>0.800456</td>\n",
       "      <td>0.507243</td>\n",
       "    </tr>\n",
       "    <tr>\n",
       "      <th>192</th>\n",
       "      <td>0.052481</td>\n",
       "      <td>0.801596</td>\n",
       "      <td>0.506943</td>\n",
       "    </tr>\n",
       "  </tbody>\n",
       "</table>\n",
       "</div>"
      ],
      "text/plain": [
       "          fpr       tpr  threshold\n",
       "184  0.049618  0.793615   0.515917\n",
       "185  0.050095  0.793615   0.513528\n",
       "186  0.050095  0.795895   0.511968\n",
       "187  0.051050  0.795895   0.511324\n",
       "188  0.051050  0.799316   0.510062\n",
       "189  0.051527  0.799316   0.508657\n",
       "190  0.051527  0.800456   0.508389\n",
       "191  0.052481  0.800456   0.507243\n",
       "192  0.052481  0.801596   0.506943"
      ]
     },
     "execution_count": 15,
     "metadata": {},
     "output_type": "execute_result"
    }
   ],
   "source": [
    "# Get the values of threshold for true positive rate between 0.79 and 0.81\n",
    "roc_df[roc_df['tpr'].between(0.79, 0.81)]"
   ]
  },
  {
   "cell_type": "markdown",
   "metadata": {},
   "source": [
    "From the above table, it is safe to assume the threshold value of 0.5 for classifying the observations."
   ]
  },
  {
   "cell_type": "code",
   "execution_count": 16,
   "metadata": {},
   "outputs": [
    {
     "data": {
      "text/plain": [
       "<sklearn.metrics._plot.confusion_matrix.ConfusionMatrixDisplay at 0x12c7b8610>"
      ]
     },
     "execution_count": 16,
     "metadata": {},
     "output_type": "execute_result"
    },
    {
     "data": {
      "image/png": "[encoded data removed]",
      "text/plain": [
       "<Figure size 640x480 with 2 Axes>"
      ]
     },
     "metadata": {},
     "output_type": "display_data"
    }
   ],
   "source": [
    "# Plot the confusion matrix\n",
    "ConfusionMatrixDisplay.from_estimator(grid_result, X_test, y_test)  "
   ]
  },
  {
   "cell_type": "code",
   "execution_count": 17,
   "metadata": {},
   "outputs": [
    {
     "data": {
      "text/plain": [
       "['./../../data/models/svm_poly.pkl']"
      ]
     },
     "execution_count": 17,
     "metadata": {},
     "output_type": "execute_result"
    }
   ],
   "source": [
    "# Save the model\n",
    "joblib.dump(grid_result, './../../data/models/svm.pkl')\n",
    "joblib.dump(grid_result_poly, './../../data/models/svm_poly.pkl')"
   ]
  },
  {
   "cell_type": "markdown",
   "metadata": {},
   "source": [
    "## Model with oversample data"
   ]
  },
  {
   "cell_type": "code",
   "execution_count": 18,
   "metadata": {},
   "outputs": [],
   "source": [
    "# Load the data\n",
    "df = pd.read_csv('./../../data/engineered_data_oversampled.csv')"
   ]
  },
  {
   "cell_type": "code",
   "execution_count": 19,
   "metadata": {},
   "outputs": [],
   "source": [
    "# Drop the index column\n",
    "df.drop('Unnamed: 0', axis=1, inplace=True)"
   ]
  },
  {
   "cell_type": "code",
   "execution_count": 20,
   "metadata": {},
   "outputs": [],
   "source": [
    "# Split the data into train and test sets\n",
    "X_train, X_test, y_train, y_test = train_test_split(df.drop('state', axis=1), df['state'], test_size=0.2, random_state=42)"
   ]
  },
  {
   "cell_type": "markdown",
   "metadata": {},
   "source": [
    "### Model Building"
   ]
  },
  {
   "cell_type": "code",
   "execution_count": 21,
   "metadata": {},
   "outputs": [],
   "source": [
    "# Declare the SVM model\n",
    "svm_clf = SVC(probability=True, class_weight='balanced')\n",
    "\n",
    "# Declare the grid paramters to be searched\n",
    "svm_params = dict(\n",
    "    C = np.logspace(-3, 0, num=4),\n",
    "    kernel = ['linear', 'rbf', 'sigmoid']\n",
    ")"
   ]
  },
  {
   "cell_type": "code",
   "execution_count": 22,
   "metadata": {},
   "outputs": [
    {
     "name": "stdout",
     "output_type": "stream",
     "text": [
      "Fitting 10 folds for each of 12 candidates, totalling 120 fits\n",
      "[CV 5/10] END ...........C=0.001, kernel=linear;, score=0.934 total time= 2.3min\n",
      "[CV 7/10] END ...........C=0.001, kernel=linear;, score=0.936 total time= 2.4min\n",
      "[CV 2/10] END ...........C=0.001, kernel=linear;, score=0.938 total time= 2.4min\n",
      "[CV 6/10] END ...........C=0.001, kernel=linear;, score=0.935 total time= 2.4min\n",
      "[CV 4/10] END ...........C=0.001, kernel=linear;, score=0.919 total time= 2.5min\n",
      "[CV 3/10] END ...........C=0.001, kernel=linear;, score=0.935 total time= 2.5min\n",
      "[CV 1/10] END ...........C=0.001, kernel=linear;, score=0.943 total time= 2.5min\n",
      "[CV 8/10] END ...........C=0.001, kernel=linear;, score=0.935 total time= 2.6min\n",
      "[CV 9/10] END ...........C=0.001, kernel=linear;, score=0.940 total time= 2.6min\n",
      "[CV 10/10] END ..........C=0.001, kernel=linear;, score=0.941 total time= 2.7min\n",
      "[CV 1/10] END ..............C=0.001, kernel=rbf;, score=0.524 total time= 3.4min\n",
      "[CV 3/10] END ..............C=0.001, kernel=rbf;, score=0.509 total time= 3.3min\n",
      "[CV 2/10] END ..............C=0.001, kernel=rbf;, score=0.527 total time= 3.4min\n",
      "[CV 4/10] END ..............C=0.001, kernel=rbf;, score=0.498 total time= 3.4min\n",
      "[CV 5/10] END ..............C=0.001, kernel=rbf;, score=0.509 total time= 3.3min\n",
      "[CV 6/10] END ..............C=0.001, kernel=rbf;, score=0.546 total time= 3.3min\n",
      "[CV 7/10] END ..............C=0.001, kernel=rbf;, score=0.516 total time= 3.3min\n",
      "[CV 1/10] END ..........C=0.001, kernel=sigmoid;, score=0.498 total time= 3.0min\n",
      "[CV 8/10] END ..............C=0.001, kernel=rbf;, score=0.519 total time= 3.3min\n",
      "[CV 10/10] END .............C=0.001, kernel=rbf;, score=0.501 total time= 3.4min\n",
      "[CV 9/10] END ..............C=0.001, kernel=rbf;, score=0.512 total time= 3.4min\n",
      "[CV 2/10] END ..........C=0.001, kernel=sigmoid;, score=0.499 total time= 3.2min\n",
      "[CV 3/10] END ..........C=0.001, kernel=sigmoid;, score=0.514 total time= 3.2min\n",
      "[CV 4/10] END ..........C=0.001, kernel=sigmoid;, score=0.509 total time= 3.2min\n",
      "[CV 5/10] END ..........C=0.001, kernel=sigmoid;, score=0.488 total time= 3.2min\n",
      "[CV 6/10] END ..........C=0.001, kernel=sigmoid;, score=0.523 total time= 3.2min\n",
      "[CV 8/10] END ..........C=0.001, kernel=sigmoid;, score=0.519 total time= 3.2min\n",
      "[CV 7/10] END ..........C=0.001, kernel=sigmoid;, score=0.544 total time= 3.2min\n",
      "[CV 9/10] END ..........C=0.001, kernel=sigmoid;, score=0.513 total time= 2.6min\n",
      "[CV 10/10] END .........C=0.001, kernel=sigmoid;, score=0.524 total time= 2.6min\n",
      "[CV 1/10] END ............C=0.01, kernel=linear;, score=0.957 total time= 5.6min\n",
      "[CV 2/10] END ............C=0.01, kernel=linear;, score=0.949 total time= 5.6min\n",
      "[CV 5/10] END ............C=0.01, kernel=linear;, score=0.946 total time= 5.5min\n",
      "[CV 3/10] END ............C=0.01, kernel=linear;, score=0.953 total time= 5.6min\n",
      "[CV 4/10] END ............C=0.01, kernel=linear;, score=0.938 total time= 5.6min\n",
      "[CV 6/10] END ............C=0.01, kernel=linear;, score=0.948 total time= 5.3min\n",
      "[CV 7/10] END ............C=0.01, kernel=linear;, score=0.949 total time= 5.5min\n",
      "[CV 1/10] END ...............C=0.01, kernel=rbf;, score=0.525 total time= 2.5min\n",
      "[CV 2/10] END ...............C=0.01, kernel=rbf;, score=0.527 total time= 2.6min\n",
      "[CV 3/10] END ...............C=0.01, kernel=rbf;, score=0.510 total time= 2.7min\n",
      "[CV 4/10] END ...............C=0.01, kernel=rbf;, score=0.498 total time= 2.8min\n",
      "[CV 8/10] END ............C=0.01, kernel=linear;, score=0.948 total time= 5.5min\n",
      "[CV 9/10] END ............C=0.01, kernel=linear;, score=0.952 total time= 5.4min\n",
      "[CV 5/10] END ...............C=0.01, kernel=rbf;, score=0.509 total time= 2.8min\n",
      "[CV 6/10] END ...............C=0.01, kernel=rbf;, score=0.546 total time= 2.8min\n",
      "[CV 10/10] END ...........C=0.01, kernel=linear;, score=0.955 total time= 5.6min\n",
      "[CV 7/10] END ...............C=0.01, kernel=rbf;, score=0.516 total time= 3.1min\n",
      "[CV 8/10] END ...............C=0.01, kernel=rbf;, score=0.520 total time= 3.2min\n",
      "[CV 2/10] END ...........C=0.01, kernel=sigmoid;, score=0.500 total time= 2.7min\n",
      "[CV 9/10] END ...............C=0.01, kernel=rbf;, score=0.513 total time= 3.3min\n",
      "[CV 1/10] END ...........C=0.01, kernel=sigmoid;, score=0.499 total time= 2.8min\n",
      "[CV 3/10] END ...........C=0.01, kernel=sigmoid;, score=0.472 total time= 2.8min\n",
      "[CV 10/10] END ..............C=0.01, kernel=rbf;, score=0.501 total time= 3.4min\n",
      "[CV 4/10] END ...........C=0.01, kernel=sigmoid;, score=0.476 total time= 2.9min\n",
      "[CV 5/10] END ...........C=0.01, kernel=sigmoid;, score=0.481 total time= 2.9min\n",
      "[CV 6/10] END ...........C=0.01, kernel=sigmoid;, score=0.521 total time= 2.9min\n",
      "[CV 7/10] END ...........C=0.01, kernel=sigmoid;, score=0.499 total time= 2.9min\n",
      "[CV 8/10] END ...........C=0.01, kernel=sigmoid;, score=0.504 total time= 3.0min\n",
      "[CV 9/10] END ...........C=0.01, kernel=sigmoid;, score=0.501 total time= 2.9min\n",
      "[CV 10/10] END ..........C=0.01, kernel=sigmoid;, score=0.495 total time= 2.8min\n",
      "[CV 1/10] END .............C=0.1, kernel=linear;, score=0.964 total time=21.7min\n",
      "[CV 4/10] END .............C=0.1, kernel=linear;, score=0.947 total time=21.2min\n",
      "[CV 3/10] END .............C=0.1, kernel=linear;, score=0.961 total time=21.5min\n",
      "[CV 5/10] END .............C=0.1, kernel=linear;, score=0.952 total time=21.5min\n",
      "[CV 6/10] END .............C=0.1, kernel=linear;, score=0.953 total time=21.5min\n",
      "[CV 2/10] END .............C=0.1, kernel=linear;, score=0.958 total time=22.4min\n",
      "[CV 7/10] END .............C=0.1, kernel=linear;, score=0.958 total time=22.6min\n",
      "[CV 1/10] END ................C=0.1, kernel=rbf;, score=0.563 total time= 2.4min\n",
      "[CV 2/10] END ................C=0.1, kernel=rbf;, score=0.552 total time= 2.4min\n",
      "[CV 3/10] END ................C=0.1, kernel=rbf;, score=0.542 total time= 2.4min\n",
      "[CV 4/10] END ................C=0.1, kernel=rbf;, score=0.515 total time= 2.6min\n",
      "[CV 5/10] END ................C=0.1, kernel=rbf;, score=0.544 total time= 2.6min\n",
      "[CV 6/10] END ................C=0.1, kernel=rbf;, score=0.573 total time= 2.6min\n",
      "[CV 7/10] END ................C=0.1, kernel=rbf;, score=0.547 total time= 2.6min\n",
      "[CV 8/10] END ................C=0.1, kernel=rbf;, score=0.547 total time= 2.7min\n",
      "[CV 1/10] END ............C=0.1, kernel=sigmoid;, score=0.500 total time= 1.7min\n",
      "[CV 9/10] END ................C=0.1, kernel=rbf;, score=0.538 total time= 2.7min\n",
      "[CV 10/10] END ...............C=0.1, kernel=rbf;, score=0.537 total time= 2.7min\n",
      "[CV 2/10] END ............C=0.1, kernel=sigmoid;, score=0.498 total time= 1.9min\n",
      "[CV 3/10] END ............C=0.1, kernel=sigmoid;, score=0.477 total time= 1.8min\n",
      "[CV 5/10] END ............C=0.1, kernel=sigmoid;, score=0.483 total time= 1.7min\n",
      "[CV 4/10] END ............C=0.1, kernel=sigmoid;, score=0.478 total time= 1.8min\n",
      "[CV 6/10] END ............C=0.1, kernel=sigmoid;, score=0.519 total time= 1.8min\n",
      "[CV 7/10] END ............C=0.1, kernel=sigmoid;, score=0.492 total time= 1.8min\n",
      "[CV 8/10] END ............C=0.1, kernel=sigmoid;, score=0.506 total time= 1.8min\n",
      "[CV 9/10] END ............C=0.1, kernel=sigmoid;, score=0.502 total time= 1.8min\n",
      "[CV 10/10] END ...........C=0.1, kernel=sigmoid;, score=0.493 total time= 1.7min\n",
      "[CV 8/10] END .............C=0.1, kernel=linear;, score=0.954 total time=22.1min\n",
      "[CV 9/10] END .............C=0.1, kernel=linear;, score=0.957 total time=22.8min\n",
      "[CV 10/10] END ............C=0.1, kernel=linear;, score=0.960 total time=23.3min\n",
      "[CV 1/10] END ............C=1.0, kernel=linear;, score=0.965 total time=160.0min\n",
      "[CV 4/10] END ............C=1.0, kernel=linear;, score=0.950 total time=161.8min\n",
      "[CV 3/10] END ............C=1.0, kernel=linear;, score=0.964 total time=170.9min\n",
      "[CV 6/10] END ............C=1.0, kernel=linear;, score=0.954 total time=160.1min\n",
      "[CV 2/10] END ............C=1.0, kernel=linear;, score=0.960 total time=171.6min\n",
      "[CV 5/10] END ............C=1.0, kernel=linear;, score=0.953 total time=162.6min\n",
      "[CV 1/10] END ................C=1.0, kernel=rbf;, score=0.659 total time= 1.6min\n",
      "[CV 2/10] END ................C=1.0, kernel=rbf;, score=0.643 total time= 1.6min\n",
      "[CV 3/10] END ................C=1.0, kernel=rbf;, score=0.628 total time= 1.8min\n",
      "[CV 4/10] END ................C=1.0, kernel=rbf;, score=0.600 total time= 1.8min\n",
      "[CV 5/10] END ................C=1.0, kernel=rbf;, score=0.640 total time= 1.8min\n",
      "[CV 6/10] END ................C=1.0, kernel=rbf;, score=0.675 total time= 1.8min\n",
      "[CV 7/10] END ................C=1.0, kernel=rbf;, score=0.653 total time= 1.8min\n",
      "[CV 8/10] END ................C=1.0, kernel=rbf;, score=0.637 total time= 1.8min\n",
      "[CV 9/10] END ................C=1.0, kernel=rbf;, score=0.624 total time= 2.0min\n",
      "[CV 1/10] END ............C=1.0, kernel=sigmoid;, score=0.500 total time= 1.2min\n",
      "[CV 10/10] END ...............C=1.0, kernel=rbf;, score=0.631 total time= 2.2min\n",
      "[CV 2/10] END ............C=1.0, kernel=sigmoid;, score=0.498 total time= 1.4min\n",
      "[CV 3/10] END ............C=1.0, kernel=sigmoid;, score=0.477 total time= 1.3min\n",
      "[CV 4/10] END ............C=1.0, kernel=sigmoid;, score=0.478 total time= 1.4min\n",
      "[CV 6/10] END ............C=1.0, kernel=sigmoid;, score=0.519 total time= 1.3min\n",
      "[CV 5/10] END ............C=1.0, kernel=sigmoid;, score=0.483 total time= 1.4min\n",
      "[CV 7/10] END ............C=1.0, kernel=sigmoid;, score=0.492 total time= 1.2min\n",
      "[CV 9/10] END ............C=1.0, kernel=sigmoid;, score=0.502 total time= 1.1min\n",
      "[CV 8/10] END ............C=1.0, kernel=sigmoid;, score=0.506 total time= 1.2min\n",
      "[CV 10/10] END ...........C=1.0, kernel=sigmoid;, score=0.493 total time= 1.2min\n",
      "[CV 7/10] END ............C=1.0, kernel=linear;, score=0.962 total time=175.0min\n",
      "[CV 8/10] END ............C=1.0, kernel=linear;, score=0.955 total time=236.9min\n",
      "[CV 9/10] END ............C=1.0, kernel=linear;, score=0.958 total time=241.8min\n",
      "[CV 10/10] END ...........C=1.0, kernel=linear;, score=0.961 total time=240.2min\n"
     ]
    }
   ],
   "source": [
    "# Declare the gridsearch object\n",
    "grid_search = GridSearchCV(svm_clf, svm_params, scoring='roc_auc', n_jobs=7, refit=True, cv=10, verbose=5)\n",
    "\n",
    "# Fit the model\n",
    "grid_result = grid_search.fit(X_train, y_train)"
   ]
  },
  {
   "cell_type": "markdown",
   "metadata": {},
   "source": [
    "### Inferencing"
   ]
  },
  {
   "cell_type": "code",
   "execution_count": 32,
   "metadata": {},
   "outputs": [
    {
     "name": "stdout",
     "output_type": "stream",
     "text": [
      "Best score of 0.9582827048948805 is achieved by using {'C': 1.0, 'kernel': 'linear'}\n"
     ]
    }
   ],
   "source": [
    "# Get the best model parameters\n",
    "print(f\"Best score of {grid_result.best_score_} is achieved by using {grid_result.best_params_}\")"
   ]
  },
  {
   "cell_type": "code",
   "execution_count": 33,
   "metadata": {},
   "outputs": [],
   "source": [
    "# Predict on test data using the model\n",
    "y_pred = grid_search.predict(X_test)\n",
    "y_score = grid_search.predict_proba(X_test)[:, 1]"
   ]
  },
  {
   "cell_type": "markdown",
   "metadata": {},
   "source": [
    "### Evaluation"
   ]
  },
  {
   "cell_type": "code",
   "execution_count": 34,
   "metadata": {},
   "outputs": [
    {
     "name": "stdout",
     "output_type": "stream",
     "text": [
      "Area under the ROC curve: 0.9514918050788321\n"
     ]
    }
   ],
   "source": [
    "# Find the ROC AUC score\n",
    "print(f\"Area under the ROC curve: {roc_auc_score(y_test, y_score)}\")"
   ]
  },
  {
   "cell_type": "markdown",
   "metadata": {},
   "source": [
    "With the new oversampled data, there is a marginal improvement in the performance of the logistic regression algorithm."
   ]
  },
  {
   "cell_type": "code",
   "execution_count": 35,
   "metadata": {},
   "outputs": [],
   "source": [
    "# Calculate parameters for roc auc curve\n",
    "fpr, tpr, thresholds = roc_curve(y_test, y_score)"
   ]
  },
  {
   "cell_type": "code",
   "execution_count": 36,
   "metadata": {},
   "outputs": [
    {
     "data": {
      "image/svg+xml": "<svg class=\"main-svg\" xmlns=\"http://www.w3.org/2000/svg\" xmlns:xlink=\"http://www.w3.org/1999/xlink\" width=\"800\" height=\"500\" style=\"\" viewBox=\"0 0 800 500\"><rect x=\"0\" y=\"0\" width=\"800\" height=\"500\" style=\"fill: rgb(255, 255, 255); fill-opacity: 1;\"/><defs id=\"defs-7998a1\"><g class=\"clips\"><clipPath id=\"clip7998a1xyplot\" class=\"plotclip\"><rect width=\"304.99999999999994\" height=\"320\"/></clipPath><clipPath class=\"axesclip\" id=\"clip7998a1x\"><rect x=\"247.50000000000003\" y=\"0\" width=\"304.99999999999994\" height=\"500\"/></clipPath><clipPath class=\"axesclip\" id=\"clip7998a1y\"><rect x=\"0\" y=\"100\" width=\"800\" height=\"320\"/></clipPath><clipPath class=\"axesclip\" id=\"clip7998a1xy\"><rect x=\"247.50000000000003\" y=\"100\" width=\"304.99999999999994\" height=\"320\"/></clipPath></g><g class=\"gradients\"/><g class=\"patterns\"/></defs><g class=\"bglayer\"><rect class=\"bg\" x=\"247.50000000000003\" y=\"100\" width=\"304.99999999999994\" height=\"320\" style=\"fill: rgb(229, 236, 246); fill-opacity: 1; stroke-width: 0;\"/></g><g class=\"layer-below\"><g class=\"imagelayer\"/><g class=\"shapelayer\"/></g><g class=\"cartesianlayer\"><g class=\"subplot xy\"><g class=\"layer-subplot\"><g class=\"shapelayer\"/><g class=\"imagelayer\"/></g><g class=\"minor-gridlayer\"><g class=\"x\"/><g class=\"y\"/></g><g class=\"gridlayer\"><g class=\"x\"><path class=\"xgrid crisp\" transform=\"translate(400,0)\" d=\"M0,100v320\" style=\"stroke: rgb(255, 255, 255); stroke-opacity: 1; stroke-width: 1px;\"/></g><g class=\"y\"><path class=\"ygrid crisp\" transform=\"translate(0,358.4)\" d=\"M247.50000000000003,0h304.99999999999994\" style=\"stroke: rgb(255, 255, 255); stroke-opacity: 1; stroke-width: 1px;\"/><path class=\"ygrid crisp\" transform=\"translate(0,297.8)\" d=\"M247.50000000000003,0h304.99999999999994\" style=\"stroke: rgb(255, 255, 255); stroke-opacity: 1; stroke-width: 1px;\"/><path class=\"ygrid crisp\" transform=\"translate(0,237.2)\" d=\"M247.50000000000003,0h304.99999999999994\" style=\"stroke: rgb(255, 255, 255); stroke-opacity: 1; stroke-width: 1px;\"/><path class=\"ygrid crisp\" transform=\"translate(0,176.6)\" d=\"M247.50000000000003,0h304.99999999999994\" style=\"stroke: rgb(255, 255, 255); stroke-opacity: 1; stroke-width: 1px;\"/><path class=\"ygrid crisp\" transform=\"translate(0,116)\" d=\"M247.50000000000003,0h304.99999999999994\" style=\"stroke: rgb(255, 255, 255); stroke-opacity: 1; stroke-width: 1px;\"/></g></g><g class=\"zerolinelayer\"><path class=\"xzl zl crisp\" transform=\"translate(248.50000000000003,0)\" d=\"M0,100v320\" style=\"stroke: rgb(255, 255, 255); stroke-opacity: 1; stroke-width: 2px;\"/><path class=\"yzl zl crisp\" transform=\"translate(0,419)\" d=\"M247.50000000000003,0h304.99999999999994\" style=\"stroke: rgb(255, 255, 255); stroke-opacity: 1; stroke-width: 2px;\"/></g><path class=\"xlines-below\"/><path class=\"ylines-below\"/><g class=\"overlines-below\"/><g class=\"xaxislayer-below\"/><g class=\"yaxislayer-below\"/><g class=\"overaxes-below\"/><g class=\"plot\" transform=\"translate(247.50000000000003,100)\" clip-path=\"url(#clip7998a1xyplot)\"><g class=\"scatterlayer mlayer\"><g class=\"trace scatter trace5002d2\" style=\"stroke-miterlimit: 2;\"><g class=\"fills\"><g><path class=\"js-fill\" d=\"M304,319L1,319L1,319L2.02,272.16L2.16,272.16L2.89,251.12L3.03,251.12L3.76,238.74L3.91,238.74L4.63,217.4L4.78,217.4L5.51,192.49L5.65,192.49L6.38,176.82L6.52,176.82L7.25,157.58L7.39,157.58L8.12,143.26L8.41,143.26L9.14,129.68L9.28,129.68L10.01,115.21L10.16,115.21L10.88,108.5L11.03,108.5L11.75,101.93L11.9,101.93L12.63,91.94L12.92,91.94L13.5,84.92L13.79,84.92L14.52,81.19L14.66,81.19L15.39,75.23L15.53,75.23L16.26,71.8L16.4,71.8L17.13,68.22L17.28,68.22L18,65.68L18.15,65.68L18.73,65.08L19.02,65.08L19.75,63.29L19.89,63.29L20.62,62.4L21.2,62.4L21.78,60.91L22.07,60.91L22.36,60.31L22.94,60.31L23.67,59.26L23.82,59.26L25.56,58.07L26,58.07L26.72,57.18L26.72,56.73L28.18,55.98L28.18,55.39L29.77,53.89L30.65,53.89L31.08,52.85L31.66,52.85L38.35,48.82L38.35,48.52L40.24,47.78L40.24,47.63L45.18,42.85L45.47,42.85L46.05,42.26L46.49,42.26L47.07,41.21L47.5,41.21L48.23,39.87L48.38,39.87L48.81,38.68L49.25,38.68L50.41,37.78L50.99,37.78L51.72,36.74L52.44,36.74L54.92,34.2L56.22,34.2L56.51,33.45L57.68,33.45L58.4,32.71L58.69,32.71L61.16,30.47L61.75,30.47L61.89,30.02L63.05,30.02L65.81,29.28L67.27,29.28L67.27,29.13L68.14,29.13L68.87,28.53L69.01,28.53L69.3,28.08L69.88,28.08L70.32,27.49L71.05,27.49L71.77,26.14L71.92,26.14L72.21,25.85L74.53,25.85L75.26,25.4L75.55,25.4L75.84,25.1L78.02,25.1L78.75,24.5L79.47,24.5L79.91,24.06L81.36,24.06L97.35,22.12L100.11,22.12L100.11,21.97L104.47,21.97L136.59,20.48L142.84,20.48L142.84,20.33L148.36,20.33L175.82,19.58L175.82,19.28L192.39,18.54L192.39,18.39L230.9,17.79L230.9,17.49L267.96,16.75L267.96,16.6L304,16\" style=\"fill: rgb(99, 110, 250); fill-opacity: 0.5; stroke-width: 0;\"/></g></g><g class=\"errorbars\"/><g class=\"lines\"><path class=\"js-line\" d=\"M1,319L2.02,272.16L2.16,272.16L2.89,251.12L3.03,251.12L3.76,238.74L3.91,238.74L4.63,217.4L4.78,217.4L5.51,192.49L5.65,192.49L6.38,176.82L6.52,176.82L7.25,157.58L7.39,157.58L8.12,143.26L8.41,143.26L9.14,129.68L9.28,129.68L10.01,115.21L10.16,115.21L10.88,108.5L11.03,108.5L11.75,101.93L11.9,101.93L12.63,91.94L12.92,91.94L13.5,84.92L13.79,84.92L14.52,81.19L14.66,81.19L15.39,75.23L15.53,75.23L16.26,71.8L16.4,71.8L17.13,68.22L17.28,68.22L18,65.68L18.15,65.68L18.73,65.08L19.02,65.08L19.75,63.29L19.89,63.29L20.62,62.4L21.2,62.4L21.78,60.91L22.07,60.91L22.36,60.31L22.94,60.31L23.67,59.26L23.82,59.26L25.56,58.07L26,58.07L26.72,57.18L26.72,56.73L28.18,55.98L28.18,55.39L29.77,53.89L30.65,53.89L31.08,52.85L31.66,52.85L38.35,48.82L38.35,48.52L40.24,47.78L40.24,47.63L45.18,42.85L45.47,42.85L46.05,42.26L46.49,42.26L47.07,41.21L47.5,41.21L48.23,39.87L48.38,39.87L48.81,38.68L49.25,38.68L50.41,37.78L50.99,37.78L51.72,36.74L52.44,36.74L54.92,34.2L56.22,34.2L56.51,33.45L57.68,33.45L58.4,32.71L58.69,32.71L61.16,30.47L61.75,30.47L61.89,30.02L63.05,30.02L65.81,29.28L67.27,29.28L67.27,29.13L68.14,29.13L68.87,28.53L69.01,28.53L69.3,28.08L69.88,28.08L70.32,27.49L71.05,27.49L71.77,26.14L71.92,26.14L72.21,25.85L74.53,25.85L75.26,25.4L75.55,25.4L75.84,25.1L78.02,25.1L78.75,24.5L79.47,24.5L79.91,24.06L81.36,24.06L97.35,22.12L100.11,22.12L100.11,21.97L104.47,21.97L136.59,20.48L142.84,20.48L142.84,20.33L148.36,20.33L175.82,19.58L175.82,19.28L192.39,18.54L192.39,18.39L230.9,17.79L230.9,17.49L267.96,16.75L267.96,16.6L304,16\" style=\"vector-effect: non-scaling-stroke; fill: none; stroke: rgb(99, 110, 250); stroke-opacity: 1; stroke-width: 2px; opacity: 1;\"/></g><g class=\"points\"/><g class=\"text\"/></g></g></g><g class=\"overplot\"/><path class=\"xlines-above crisp\" d=\"M0,0\" style=\"fill: none;\"/><path class=\"ylines-above crisp\" d=\"M0,0\" style=\"fill: none;\"/><g class=\"overlines-above\"/><g class=\"xaxislayer-above\"><g class=\"xtick\"><text text-anchor=\"middle\" x=\"0\" y=\"433\" transform=\"translate(248.50000000000003,0)\" style=\"font-family: 'Open Sans', verdana, arial, sans-serif; font-size: 12px; fill: rgb(42, 63, 95); fill-opacity: 1; white-space: pre; opacity: 1;\">0</text></g><g class=\"xtick\"><text text-anchor=\"middle\" x=\"0\" y=\"433\" style=\"font-family: 'Open Sans', verdana, arial, sans-serif; font-size: 12px; fill: rgb(42, 63, 95); fill-opacity: 1; white-space: pre; opacity: 1;\" transform=\"translate(400,0)\">0.5</text></g><g class=\"xtick\"><text text-anchor=\"middle\" x=\"0\" y=\"433\" style=\"font-family: 'Open Sans', verdana, arial, sans-serif; font-size: 12px; fill: rgb(42, 63, 95); fill-opacity: 1; white-space: pre; opacity: 1;\" transform=\"translate(551.5,0)\">1</text></g></g><g class=\"yaxislayer-above\"><g class=\"ytick\"><text text-anchor=\"end\" x=\"246.50000000000003\" y=\"4.199999999999999\" transform=\"translate(0,419)\" style=\"font-family: 'Open Sans', verdana, arial, sans-serif; font-size: 12px; fill: rgb(42, 63, 95); fill-opacity: 1; white-space: pre; opacity: 1;\">0</text></g><g class=\"ytick\"><text text-anchor=\"end\" x=\"246.50000000000003\" y=\"4.199999999999999\" style=\"font-family: 'Open Sans', verdana, arial, sans-serif; font-size: 12px; fill: rgb(42, 63, 95); fill-opacity: 1; white-space: pre; opacity: 1;\" transform=\"translate(0,358.4)\">0.2</text></g><g class=\"ytick\"><text text-anchor=\"end\" x=\"246.50000000000003\" y=\"4.199999999999999\" style=\"font-family: 'Open Sans', verdana, arial, sans-serif; font-size: 12px; fill: rgb(42, 63, 95); fill-opacity: 1; white-space: pre; opacity: 1;\" transform=\"translate(0,297.8)\">0.4</text></g><g class=\"ytick\"><text text-anchor=\"end\" x=\"246.50000000000003\" y=\"4.199999999999999\" style=\"font-family: 'Open Sans', verdana, arial, sans-serif; font-size: 12px; fill: rgb(42, 63, 95); fill-opacity: 1; white-space: pre; opacity: 1;\" transform=\"translate(0,237.2)\">0.6</text></g><g class=\"ytick\"><text text-anchor=\"end\" x=\"246.50000000000003\" y=\"4.199999999999999\" style=\"font-family: 'Open Sans', verdana, arial, sans-serif; font-size: 12px; fill: rgb(42, 63, 95); fill-opacity: 1; white-space: pre; opacity: 1;\" transform=\"translate(0,176.6)\">0.8</text></g><g class=\"ytick\"><text text-anchor=\"end\" x=\"246.50000000000003\" y=\"4.199999999999999\" style=\"font-family: 'Open Sans', verdana, arial, sans-serif; font-size: 12px; fill: rgb(42, 63, 95); fill-opacity: 1; white-space: pre; opacity: 1;\" transform=\"translate(0,116)\">1</text></g></g><g class=\"overaxes-above\"/></g></g><g class=\"polarlayer\"/><g class=\"smithlayer\"/><g class=\"ternarylayer\"/><g class=\"geolayer\"/><g class=\"funnelarealayer\"/><g class=\"pielayer\"/><g class=\"iciclelayer\"/><g class=\"treemaplayer\"/><g class=\"sunburstlayer\"/><g class=\"glimages\"/><defs id=\"topdefs-7998a1\"><g class=\"clips\"/></defs><g class=\"layer-above\"><g class=\"imagelayer\"/><g class=\"shapelayer\"><path data-index=\"0\" fill-rule=\"evenodd\" d=\"M248.50000000000003,419L551.5,116\" clip-path=\"url(#clip7998a1xy)\" style=\"opacity: 1; stroke: rgb(42, 63, 95); stroke-opacity: 1; fill: rgb(0, 0, 0); fill-opacity: 0; stroke-dasharray: 9px, 9px; stroke-width: 2px;\"/></g></g><g class=\"infolayer\"><g class=\"g-gtitle\"><text class=\"gtitle\" x=\"40\" y=\"50\" text-anchor=\"start\" dy=\"0em\" style=\"font-family: 'Open Sans', verdana, arial, sans-serif; font-size: 17px; fill: rgb(42, 63, 95); opacity: 1; font-weight: normal; white-space: pre;\">ROC Curve (AUC=0.9515)</text></g><g class=\"g-xtitle\"><text class=\"xtitle\" x=\"400\" y=\"460.3\" text-anchor=\"middle\" style=\"font-family: 'Open Sans', verdana, arial, sans-serif; font-size: 14px; fill: rgb(42, 63, 95); opacity: 1; font-weight: normal; white-space: pre;\">False Positive Rate</text></g><g class=\"g-ytitle\"><text class=\"ytitle\" transform=\"rotate(-90,202.075,260)\" x=\"202.075\" y=\"260\" text-anchor=\"middle\" style=\"font-family: 'Open Sans', verdana, arial, sans-serif; font-size: 14px; fill: rgb(42, 63, 95); opacity: 1; font-weight: normal; white-space: pre;\">True Positive Rate</text></g></g></svg>"
     },
     "metadata": {},
     "output_type": "display_data"
    }
   ],
   "source": [
    "# Plot the curve and area under the curve\n",
    "fig = px.area(\n",
    "    x=fpr, y=tpr,\n",
    "    title=f'ROC Curve (AUC={auc(fpr, tpr):.4f})',\n",
    "    labels=dict(x='False Positive Rate', y='True Positive Rate')\n",
    ")\n",
    "fig.add_shape(\n",
    "    type='line', line=dict(dash='dash'),\n",
    "    x0=0, x1=1, y0=0, y1=1\n",
    ")\n",
    "\n",
    "fig.update_yaxes(scaleanchor=\"x\", scaleratio=1)\n",
    "fig.update_xaxes(constrain='domain')\n",
    "fig.show()"
   ]
  },
  {
   "cell_type": "code",
   "execution_count": 37,
   "metadata": {},
   "outputs": [],
   "source": [
    "# Create a ROC dataframe from the obtained FPR and TPR\n",
    "roc_df = pd.DataFrame({\n",
    "    'fpr': fpr,\n",
    "    'tpr': tpr,\n",
    "    'threshold': thresholds\n",
    "})"
   ]
  },
  {
   "cell_type": "code",
   "execution_count": 38,
   "metadata": {},
   "outputs": [
    {
     "data": {
      "text/html": [
       "<div>\n",
       "<style scoped>\n",
       "    .dataframe tbody tr th:only-of-type {\n",
       "        vertical-align: middle;\n",
       "    }\n",
       "\n",
       "    .dataframe tbody tr th {\n",
       "        vertical-align: top;\n",
       "    }\n",
       "\n",
       "    .dataframe thead th {\n",
       "        text-align: right;\n",
       "    }\n",
       "</style>\n",
       "<table border=\"1\" class=\"dataframe\">\n",
       "  <thead>\n",
       "    <tr style=\"text-align: right;\">\n",
       "      <th></th>\n",
       "      <th>fpr</th>\n",
       "      <th>tpr</th>\n",
       "      <th>threshold</th>\n",
       "    </tr>\n",
       "  </thead>\n",
       "  <tbody>\n",
       "    <tr>\n",
       "      <th>180</th>\n",
       "      <td>0.045564</td>\n",
       "      <td>0.797637</td>\n",
       "      <td>0.706893</td>\n",
       "    </tr>\n",
       "    <tr>\n",
       "      <th>181</th>\n",
       "      <td>0.046523</td>\n",
       "      <td>0.797637</td>\n",
       "      <td>0.703944</td>\n",
       "    </tr>\n",
       "    <tr>\n",
       "      <th>182</th>\n",
       "      <td>0.046523</td>\n",
       "      <td>0.802068</td>\n",
       "      <td>0.700007</td>\n",
       "    </tr>\n",
       "    <tr>\n",
       "      <th>183</th>\n",
       "      <td>0.047002</td>\n",
       "      <td>0.802068</td>\n",
       "      <td>0.699629</td>\n",
       "    </tr>\n",
       "    <tr>\n",
       "      <th>184</th>\n",
       "      <td>0.047002</td>\n",
       "      <td>0.803053</td>\n",
       "      <td>0.699390</td>\n",
       "    </tr>\n",
       "    <tr>\n",
       "      <th>185</th>\n",
       "      <td>0.047482</td>\n",
       "      <td>0.803053</td>\n",
       "      <td>0.699164</td>\n",
       "    </tr>\n",
       "    <tr>\n",
       "      <th>186</th>\n",
       "      <td>0.047482</td>\n",
       "      <td>0.804530</td>\n",
       "      <td>0.698722</td>\n",
       "    </tr>\n",
       "    <tr>\n",
       "      <th>187</th>\n",
       "      <td>0.047962</td>\n",
       "      <td>0.804530</td>\n",
       "      <td>0.698178</td>\n",
       "    </tr>\n",
       "    <tr>\n",
       "      <th>188</th>\n",
       "      <td>0.047962</td>\n",
       "      <td>0.807484</td>\n",
       "      <td>0.695471</td>\n",
       "    </tr>\n",
       "    <tr>\n",
       "      <th>189</th>\n",
       "      <td>0.048441</td>\n",
       "      <td>0.807484</td>\n",
       "      <td>0.695072</td>\n",
       "    </tr>\n",
       "    <tr>\n",
       "      <th>190</th>\n",
       "      <td>0.048441</td>\n",
       "      <td>0.809453</td>\n",
       "      <td>0.693344</td>\n",
       "    </tr>\n",
       "    <tr>\n",
       "      <th>191</th>\n",
       "      <td>0.048921</td>\n",
       "      <td>0.809453</td>\n",
       "      <td>0.692507</td>\n",
       "    </tr>\n",
       "  </tbody>\n",
       "</table>\n",
       "</div>"
      ],
      "text/plain": [
       "          fpr       tpr  threshold\n",
       "180  0.045564  0.797637   0.706893\n",
       "181  0.046523  0.797637   0.703944\n",
       "182  0.046523  0.802068   0.700007\n",
       "183  0.047002  0.802068   0.699629\n",
       "184  0.047002  0.803053   0.699390\n",
       "185  0.047482  0.803053   0.699164\n",
       "186  0.047482  0.804530   0.698722\n",
       "187  0.047962  0.804530   0.698178\n",
       "188  0.047962  0.807484   0.695471\n",
       "189  0.048441  0.807484   0.695072\n",
       "190  0.048441  0.809453   0.693344\n",
       "191  0.048921  0.809453   0.692507"
      ]
     },
     "execution_count": 38,
     "metadata": {},
     "output_type": "execute_result"
    }
   ],
   "source": [
    "# Get the values of threshold for true positive rate between 0.79 and 0.81\n",
    "roc_df[roc_df['tpr'].between(0.79, 0.81)]"
   ]
  },
  {
   "cell_type": "markdown",
   "metadata": {},
   "source": [
    "For this data set also, it is safe to assume the threshold of 0.5."
   ]
  },
  {
   "cell_type": "code",
   "execution_count": 39,
   "metadata": {},
   "outputs": [
    {
     "data": {
      "text/plain": [
       "<sklearn.metrics._plot.confusion_matrix.ConfusionMatrixDisplay at 0x12f00c5b0>"
      ]
     },
     "execution_count": 39,
     "metadata": {},
     "output_type": "execute_result"
    },
    {
     "data": {
      "image/png": "[encoded data removed]",
      "text/plain": [
       "<Figure size 640x480 with 2 Axes>"
      ]
     },
     "metadata": {},
     "output_type": "display_data"
    }
   ],
   "source": [
    "# Plot the confusion matrix\n",
    "ConfusionMatrixDisplay.from_estimator(grid_result, X_test, y_test)  "
   ]
  },
  {
   "cell_type": "code",
   "execution_count": 40,
   "metadata": {},
   "outputs": [
    {
     "data": {
      "text/plain": [
       "['./../../data/models/svm_oversample_poly.pkl']"
      ]
     },
     "execution_count": 40,
     "metadata": {},
     "output_type": "execute_result"
    }
   ],
   "source": [
    "# Save the model\n",
    "joblib.dump(grid_result, './../../data/models/svm_oversample.pkl')"
   ]
  },
  {
   "cell_type": "code",
   "execution_count": null,
   "metadata": {},
   "outputs": [],
   "source": []
  }
 ],
 "metadata": {
  "kernelspec": {
   "display_name": "Python 3.8.13 ('project')",
   "language": "python",
   "name": "python3"
  },
  "language_info": {
   "codemirror_mode": {
    "name": "ipython",
    "version": 3
   },
   "file_extension": ".py",
   "mimetype": "text/x-python",
   "name": "python",
   "nbconvert_exporter": "python",
   "pygments_lexer": "ipython3",
   "version": "3.8.13"
  },
  "orig_nbformat": 4,
  "vscode": {
   "interpreter": {
    "hash": "af77eb27f514ee114388f6898d9553454263f7eea260918546d16a8e581c8922"
   }
  }
 },
 "nbformat": 4,
 "nbformat_minor": 2
}
