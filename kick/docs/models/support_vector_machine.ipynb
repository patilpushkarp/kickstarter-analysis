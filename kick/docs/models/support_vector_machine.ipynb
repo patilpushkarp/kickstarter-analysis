{
 "cells": [
  {
   "cell_type": "markdown",
   "metadata": {},
   "source": [
    "# Support Vector Machine"
   ]
  },
  {
   "cell_type": "markdown",
   "metadata": {},
   "source": [
    "Support vector machine or SVM is another one of the most widely used algorithm for classification."
   ]
  },
  {
   "cell_type": "code",
   "execution_count": 1,
   "metadata": {
    "tags": [
     "hide-cell"
    ]
   },
   "outputs": [],
   "source": [
    "# Import necessary packages\n",
    "import pandas as pd\n",
    "import numpy as np\n",
    "import joblib\n",
    "from sklearn.model_selection import train_test_split\n",
    "from sklearn.svm import SVC\n",
    "from sklearn.model_selection import GridSearchCV\n",
    "from sklearn.metrics import roc_auc_score, roc_curve, auc\n",
    "from sklearn.metrics import ConfusionMatrixDisplay\n",
    "import plotly.express as px\n",
    "import plotly.io as pio\n",
    "svg_renderer = pio.renderers[\"svg\"]\n",
    "svg_renderer.width = 800\n",
    "svg_renderer.height = 500\n",
    "pio.renderers.default = \"svg\""
   ]
  },
  {
   "cell_type": "markdown",
   "metadata": {},
   "source": [
    "## Model without oversample data"
   ]
  },
  {
   "cell_type": "code",
   "execution_count": 2,
   "metadata": {
    "tags": [
     "hide-cell"
    ]
   },
   "outputs": [],
   "source": [
    "# Load the data\n",
    "df = pd.read_csv('./../../data/engineered_data.csv')"
   ]
  },
  {
   "cell_type": "code",
   "execution_count": 3,
   "metadata": {
    "tags": [
     "hide-cell"
    ]
   },
   "outputs": [],
   "source": [
    "# Drop the index column\n",
    "df.drop('Unnamed: 0', axis=1, inplace=True)"
   ]
  },
  {
   "cell_type": "markdown",
   "metadata": {},
   "source": [
    "Before modelinng the data, it is necessary to split the data into training and testing set."
   ]
  },
  {
   "cell_type": "code",
   "execution_count": 4,
   "metadata": {},
   "outputs": [],
   "source": [
    "# Split the data into train and test sets\n",
    "X_train, X_test, y_train, y_test = train_test_split(df.drop('state', axis=1), df['state'], test_size=0.2, random_state=42)"
   ]
  },
  {
   "cell_type": "markdown",
   "metadata": {},
   "source": [
    "### Model Building"
   ]
  },
  {
   "cell_type": "code",
   "execution_count": 9,
   "metadata": {},
   "outputs": [],
   "source": [
    "# Declare the SVM model without 'poly' kernel\n",
    "svm_clf = SVC(probability=True, class_weight='balanced')\n",
    "\n",
    "# Declare the grid paramters to be searched\n",
    "svm_params = dict(\n",
    "    C = np.logspace(-4, 0, num=5),\n",
    "    kernel = ['linear', 'rbf', 'sigmoid']\n",
    ")"
   ]
  },
  {
   "cell_type": "code",
   "execution_count": 14,
   "metadata": {},
   "outputs": [
    {
     "name": "stdout",
     "output_type": "stream",
     "text": [
      "Fitting 10 folds for each of 15 candidates, totalling 150 fits\n",
      "[CV 2/10] END ............C=0.01, kernel=linear;, score=0.929 total time= 3.2min\n",
      "[CV 3/10] END ............C=0.01, kernel=linear;, score=0.940 total time= 3.2min\n",
      "[CV 1/10] END ............C=0.01, kernel=linear;, score=0.938 total time= 3.2min\n",
      "[CV 4/10] END ............C=0.01, kernel=linear;, score=0.938 total time= 3.2min\n",
      "[CV 5/10] END ............C=0.01, kernel=linear;, score=0.941 total time= 3.2min\n",
      "[CV 6/10] END ............C=0.01, kernel=linear;, score=0.945 total time= 3.2min\n",
      "[CV 7/10] END ............C=0.01, kernel=linear;, score=0.930 total time= 3.2min\n",
      "[CV 3/10] END ...............C=0.01, kernel=rbf;, score=0.533 total time= 1.1min\n",
      "[CV 2/10] END ...............C=0.01, kernel=rbf;, score=0.514 total time= 1.2min\n",
      "[CV 1/10] END ...............C=0.01, kernel=rbf;, score=0.502 total time= 1.2min\n",
      "[CV 4/10] END ...............C=0.01, kernel=rbf;, score=0.514 total time= 1.2min\n",
      "[CV 5/10] END ...............C=0.01, kernel=rbf;, score=0.525 total time= 1.2min\n",
      "[CV 6/10] END ...............C=0.01, kernel=rbf;, score=0.527 total time= 1.2min\n",
      "[CV 8/10] END ...............C=0.01, kernel=rbf;, score=0.513 total time= 1.2min\n",
      "[CV 7/10] END ...............C=0.01, kernel=rbf;, score=0.520 total time= 1.3min\n",
      "[CV 10/10] END ...........C=0.01, kernel=linear;, score=0.951 total time= 2.9min\n",
      "[CV 9/10] END ............C=0.01, kernel=linear;, score=0.935 total time= 2.9min\n",
      "[CV 8/10] END ............C=0.01, kernel=linear;, score=0.931 total time= 3.0min\n",
      "[CV 1/10] END ...........C=0.01, kernel=sigmoid;, score=0.530 total time= 1.3min\n",
      "[CV 9/10] END ...............C=0.01, kernel=rbf;, score=0.535 total time= 1.4min\n",
      "[CV 2/10] END ...........C=0.01, kernel=sigmoid;, score=0.508 total time= 1.3min\n",
      "[CV 10/10] END ..............C=0.01, kernel=rbf;, score=0.533 total time= 1.4min\n",
      "[CV 4/10] END ...........C=0.01, kernel=sigmoid;, score=0.493 total time= 1.7min\n",
      "[CV 3/10] END ...........C=0.01, kernel=sigmoid;, score=0.503 total time= 1.7min\n",
      "[CV 5/10] END ...........C=0.01, kernel=sigmoid;, score=0.521 total time= 1.8min\n",
      "[CV 6/10] END ...........C=0.01, kernel=sigmoid;, score=0.494 total time= 1.9min\n",
      "[CV 7/10] END ...........C=0.01, kernel=sigmoid;, score=0.513 total time= 1.9min\n",
      "[CV 8/10] END ...........C=0.01, kernel=sigmoid;, score=0.490 total time= 1.9min\n",
      "[CV 9/10] END ...........C=0.01, kernel=sigmoid;, score=0.467 total time= 1.8min\n",
      "[CV 10/10] END ..........C=0.01, kernel=sigmoid;, score=0.518 total time= 1.5min\n"
     ]
    },
    {
     "ename": "KeyboardInterrupt",
     "evalue": "",
     "output_type": "error",
     "traceback": [
      "\u001b[0;31m---------------------------------------------------------------------------\u001b[0m",
      "\u001b[0;31mKeyboardInterrupt\u001b[0m                         Traceback (most recent call last)",
      "Cell \u001b[0;32mIn [14], line 7\u001b[0m\n\u001b[1;32m      4\u001b[0m grid_search \u001b[39m=\u001b[39m GridSearchCV(svm_clf, svm_params, scoring\u001b[39m=\u001b[39m\u001b[39m'\u001b[39m\u001b[39mroc_auc\u001b[39m\u001b[39m'\u001b[39m, n_jobs\u001b[39m=\u001b[39m\u001b[39m7\u001b[39m, refit\u001b[39m=\u001b[39m\u001b[39mTrue\u001b[39;00m, cv\u001b[39m=\u001b[39m\u001b[39m10\u001b[39m, verbose\u001b[39m=\u001b[39m\u001b[39m3\u001b[39m)\n\u001b[1;32m      6\u001b[0m \u001b[39m# Fit the model\u001b[39;00m\n\u001b[0;32m----> 7\u001b[0m grid_result \u001b[39m=\u001b[39m grid_search\u001b[39m.\u001b[39;49mfit(X_train, y_train)\n",
      "File \u001b[0;32m~/miniforge3/envs/project/lib/python3.8/site-packages/sklearn/model_selection/_search.py:875\u001b[0m, in \u001b[0;36mBaseSearchCV.fit\u001b[0;34m(self, X, y, groups, **fit_params)\u001b[0m\n\u001b[1;32m    869\u001b[0m     results \u001b[39m=\u001b[39m \u001b[39mself\u001b[39m\u001b[39m.\u001b[39m_format_results(\n\u001b[1;32m    870\u001b[0m         all_candidate_params, n_splits, all_out, all_more_results\n\u001b[1;32m    871\u001b[0m     )\n\u001b[1;32m    873\u001b[0m     \u001b[39mreturn\u001b[39;00m results\n\u001b[0;32m--> 875\u001b[0m \u001b[39mself\u001b[39;49m\u001b[39m.\u001b[39;49m_run_search(evaluate_candidates)\n\u001b[1;32m    877\u001b[0m \u001b[39m# multimetric is determined here because in the case of a callable\u001b[39;00m\n\u001b[1;32m    878\u001b[0m \u001b[39m# self.scoring the return type is only known after calling\u001b[39;00m\n\u001b[1;32m    879\u001b[0m first_test_score \u001b[39m=\u001b[39m all_out[\u001b[39m0\u001b[39m][\u001b[39m\"\u001b[39m\u001b[39mtest_scores\u001b[39m\u001b[39m\"\u001b[39m]\n",
      "File \u001b[0;32m~/miniforge3/envs/project/lib/python3.8/site-packages/sklearn/model_selection/_search.py:1379\u001b[0m, in \u001b[0;36mGridSearchCV._run_search\u001b[0;34m(self, evaluate_candidates)\u001b[0m\n\u001b[1;32m   1377\u001b[0m \u001b[39mdef\u001b[39;00m \u001b[39m_run_search\u001b[39m(\u001b[39mself\u001b[39m, evaluate_candidates):\n\u001b[1;32m   1378\u001b[0m     \u001b[39m\"\"\"Search all candidates in param_grid\"\"\"\u001b[39;00m\n\u001b[0;32m-> 1379\u001b[0m     evaluate_candidates(ParameterGrid(\u001b[39mself\u001b[39;49m\u001b[39m.\u001b[39;49mparam_grid))\n",
      "File \u001b[0;32m~/miniforge3/envs/project/lib/python3.8/site-packages/sklearn/model_selection/_search.py:822\u001b[0m, in \u001b[0;36mBaseSearchCV.fit.<locals>.evaluate_candidates\u001b[0;34m(candidate_params, cv, more_results)\u001b[0m\n\u001b[1;32m    814\u001b[0m \u001b[39mif\u001b[39;00m \u001b[39mself\u001b[39m\u001b[39m.\u001b[39mverbose \u001b[39m>\u001b[39m \u001b[39m0\u001b[39m:\n\u001b[1;32m    815\u001b[0m     \u001b[39mprint\u001b[39m(\n\u001b[1;32m    816\u001b[0m         \u001b[39m\"\u001b[39m\u001b[39mFitting \u001b[39m\u001b[39m{0}\u001b[39;00m\u001b[39m folds for each of \u001b[39m\u001b[39m{1}\u001b[39;00m\u001b[39m candidates,\u001b[39m\u001b[39m\"\u001b[39m\n\u001b[1;32m    817\u001b[0m         \u001b[39m\"\u001b[39m\u001b[39m totalling \u001b[39m\u001b[39m{2}\u001b[39;00m\u001b[39m fits\u001b[39m\u001b[39m\"\u001b[39m\u001b[39m.\u001b[39mformat(\n\u001b[1;32m    818\u001b[0m             n_splits, n_candidates, n_candidates \u001b[39m*\u001b[39m n_splits\n\u001b[1;32m    819\u001b[0m         )\n\u001b[1;32m    820\u001b[0m     )\n\u001b[0;32m--> 822\u001b[0m out \u001b[39m=\u001b[39m parallel(\n\u001b[1;32m    823\u001b[0m     delayed(_fit_and_score)(\n\u001b[1;32m    824\u001b[0m         clone(base_estimator),\n\u001b[1;32m    825\u001b[0m         X,\n\u001b[1;32m    826\u001b[0m         y,\n\u001b[1;32m    827\u001b[0m         train\u001b[39m=\u001b[39;49mtrain,\n\u001b[1;32m    828\u001b[0m         test\u001b[39m=\u001b[39;49mtest,\n\u001b[1;32m    829\u001b[0m         parameters\u001b[39m=\u001b[39;49mparameters,\n\u001b[1;32m    830\u001b[0m         split_progress\u001b[39m=\u001b[39;49m(split_idx, n_splits),\n\u001b[1;32m    831\u001b[0m         candidate_progress\u001b[39m=\u001b[39;49m(cand_idx, n_candidates),\n\u001b[1;32m    832\u001b[0m         \u001b[39m*\u001b[39;49m\u001b[39m*\u001b[39;49mfit_and_score_kwargs,\n\u001b[1;32m    833\u001b[0m     )\n\u001b[1;32m    834\u001b[0m     \u001b[39mfor\u001b[39;49;00m (cand_idx, parameters), (split_idx, (train, test)) \u001b[39min\u001b[39;49;00m product(\n\u001b[1;32m    835\u001b[0m         \u001b[39menumerate\u001b[39;49m(candidate_params), \u001b[39menumerate\u001b[39;49m(cv\u001b[39m.\u001b[39;49msplit(X, y, groups))\n\u001b[1;32m    836\u001b[0m     )\n\u001b[1;32m    837\u001b[0m )\n\u001b[1;32m    839\u001b[0m \u001b[39mif\u001b[39;00m \u001b[39mlen\u001b[39m(out) \u001b[39m<\u001b[39m \u001b[39m1\u001b[39m:\n\u001b[1;32m    840\u001b[0m     \u001b[39mraise\u001b[39;00m \u001b[39mValueError\u001b[39;00m(\n\u001b[1;32m    841\u001b[0m         \u001b[39m\"\u001b[39m\u001b[39mNo fits were performed. \u001b[39m\u001b[39m\"\u001b[39m\n\u001b[1;32m    842\u001b[0m         \u001b[39m\"\u001b[39m\u001b[39mWas the CV iterator empty? \u001b[39m\u001b[39m\"\u001b[39m\n\u001b[1;32m    843\u001b[0m         \u001b[39m\"\u001b[39m\u001b[39mWere there no candidates?\u001b[39m\u001b[39m\"\u001b[39m\n\u001b[1;32m    844\u001b[0m     )\n",
      "File \u001b[0;32m~/miniforge3/envs/project/lib/python3.8/site-packages/joblib/parallel.py:1098\u001b[0m, in \u001b[0;36mParallel.__call__\u001b[0;34m(self, iterable)\u001b[0m\n\u001b[1;32m   1095\u001b[0m     \u001b[39mself\u001b[39m\u001b[39m.\u001b[39m_iterating \u001b[39m=\u001b[39m \u001b[39mFalse\u001b[39;00m\n\u001b[1;32m   1097\u001b[0m \u001b[39mwith\u001b[39;00m \u001b[39mself\u001b[39m\u001b[39m.\u001b[39m_backend\u001b[39m.\u001b[39mretrieval_context():\n\u001b[0;32m-> 1098\u001b[0m     \u001b[39mself\u001b[39;49m\u001b[39m.\u001b[39;49mretrieve()\n\u001b[1;32m   1099\u001b[0m \u001b[39m# Make sure that we get a last message telling us we are done\u001b[39;00m\n\u001b[1;32m   1100\u001b[0m elapsed_time \u001b[39m=\u001b[39m time\u001b[39m.\u001b[39mtime() \u001b[39m-\u001b[39m \u001b[39mself\u001b[39m\u001b[39m.\u001b[39m_start_time\n",
      "File \u001b[0;32m~/miniforge3/envs/project/lib/python3.8/site-packages/joblib/parallel.py:975\u001b[0m, in \u001b[0;36mParallel.retrieve\u001b[0;34m(self)\u001b[0m\n\u001b[1;32m    973\u001b[0m \u001b[39mtry\u001b[39;00m:\n\u001b[1;32m    974\u001b[0m     \u001b[39mif\u001b[39;00m \u001b[39mgetattr\u001b[39m(\u001b[39mself\u001b[39m\u001b[39m.\u001b[39m_backend, \u001b[39m'\u001b[39m\u001b[39msupports_timeout\u001b[39m\u001b[39m'\u001b[39m, \u001b[39mFalse\u001b[39;00m):\n\u001b[0;32m--> 975\u001b[0m         \u001b[39mself\u001b[39m\u001b[39m.\u001b[39m_output\u001b[39m.\u001b[39mextend(job\u001b[39m.\u001b[39;49mget(timeout\u001b[39m=\u001b[39;49m\u001b[39mself\u001b[39;49m\u001b[39m.\u001b[39;49mtimeout))\n\u001b[1;32m    976\u001b[0m     \u001b[39melse\u001b[39;00m:\n\u001b[1;32m    977\u001b[0m         \u001b[39mself\u001b[39m\u001b[39m.\u001b[39m_output\u001b[39m.\u001b[39mextend(job\u001b[39m.\u001b[39mget())\n",
      "File \u001b[0;32m~/miniforge3/envs/project/lib/python3.8/site-packages/joblib/_parallel_backends.py:567\u001b[0m, in \u001b[0;36mLokyBackend.wrap_future_result\u001b[0;34m(future, timeout)\u001b[0m\n\u001b[1;32m    564\u001b[0m \u001b[39m\"\"\"Wrapper for Future.result to implement the same behaviour as\u001b[39;00m\n\u001b[1;32m    565\u001b[0m \u001b[39mAsyncResults.get from multiprocessing.\"\"\"\u001b[39;00m\n\u001b[1;32m    566\u001b[0m \u001b[39mtry\u001b[39;00m:\n\u001b[0;32m--> 567\u001b[0m     \u001b[39mreturn\u001b[39;00m future\u001b[39m.\u001b[39;49mresult(timeout\u001b[39m=\u001b[39;49mtimeout)\n\u001b[1;32m    568\u001b[0m \u001b[39mexcept\u001b[39;00m CfTimeoutError \u001b[39mas\u001b[39;00m e:\n\u001b[1;32m    569\u001b[0m     \u001b[39mraise\u001b[39;00m \u001b[39mTimeoutError\u001b[39;00m \u001b[39mfrom\u001b[39;00m \u001b[39me\u001b[39;00m\n",
      "File \u001b[0;32m~/miniforge3/envs/project/lib/python3.8/concurrent/futures/_base.py:439\u001b[0m, in \u001b[0;36mFuture.result\u001b[0;34m(self, timeout)\u001b[0m\n\u001b[1;32m    436\u001b[0m \u001b[39melif\u001b[39;00m \u001b[39mself\u001b[39m\u001b[39m.\u001b[39m_state \u001b[39m==\u001b[39m FINISHED:\n\u001b[1;32m    437\u001b[0m     \u001b[39mreturn\u001b[39;00m \u001b[39mself\u001b[39m\u001b[39m.\u001b[39m__get_result()\n\u001b[0;32m--> 439\u001b[0m \u001b[39mself\u001b[39;49m\u001b[39m.\u001b[39;49m_condition\u001b[39m.\u001b[39;49mwait(timeout)\n\u001b[1;32m    441\u001b[0m \u001b[39mif\u001b[39;00m \u001b[39mself\u001b[39m\u001b[39m.\u001b[39m_state \u001b[39min\u001b[39;00m [CANCELLED, CANCELLED_AND_NOTIFIED]:\n\u001b[1;32m    442\u001b[0m     \u001b[39mraise\u001b[39;00m CancelledError()\n",
      "File \u001b[0;32m~/miniforge3/envs/project/lib/python3.8/threading.py:302\u001b[0m, in \u001b[0;36mCondition.wait\u001b[0;34m(self, timeout)\u001b[0m\n\u001b[1;32m    300\u001b[0m \u001b[39mtry\u001b[39;00m:    \u001b[39m# restore state no matter what (e.g., KeyboardInterrupt)\u001b[39;00m\n\u001b[1;32m    301\u001b[0m     \u001b[39mif\u001b[39;00m timeout \u001b[39mis\u001b[39;00m \u001b[39mNone\u001b[39;00m:\n\u001b[0;32m--> 302\u001b[0m         waiter\u001b[39m.\u001b[39;49macquire()\n\u001b[1;32m    303\u001b[0m         gotit \u001b[39m=\u001b[39m \u001b[39mTrue\u001b[39;00m\n\u001b[1;32m    304\u001b[0m     \u001b[39melse\u001b[39;00m:\n",
      "\u001b[0;31mKeyboardInterrupt\u001b[0m: "
     ]
    }
   ],
   "source": [
    "# For training SVM without 'poly' kernel\n",
    "\n",
    "# Declare the gridsearch object\n",
    "grid_search = GridSearchCV(svm_clf, svm_params, scoring='roc_auc', n_jobs=7, refit=True, cv=10, verbose=3)\n",
    "\n",
    "# Fit the model\n",
    "grid_result = grid_search.fit(X_train, y_train)"
   ]
  },
  {
   "cell_type": "code",
   "execution_count": null,
   "metadata": {},
   "outputs": [],
   "source": [
    "# Declare the SVM model with 'poly' kernel\n",
    "svm_clf_poly = SVC(probability=True, class_weight='balanced', kernel='poly')\n",
    "\n",
    "# Declare the grid paramters to be searched\n",
    "svm_params_poly = dict(\n",
    "    C = np.logspace(-4, 0, num=5),\n",
    "    degree = [2, 3, 4]\n",
    ")"
   ]
  },
  {
   "cell_type": "code",
   "execution_count": null,
   "metadata": {},
   "outputs": [
    {
     "ename": "NameError",
     "evalue": "name 'svm_clf_poly' is not defined",
     "output_type": "error",
     "traceback": [
      "\u001b[0;31m---------------------------------------------------------------------------\u001b[0m",
      "\u001b[0;31mNameError\u001b[0m                                 Traceback (most recent call last)",
      "Cell \u001b[0;32mIn [12], line 4\u001b[0m\n\u001b[1;32m      1\u001b[0m \u001b[39m# For training SVM without 'poly' kernel\u001b[39;00m\n\u001b[1;32m      2\u001b[0m \n\u001b[1;32m      3\u001b[0m \u001b[39m# Declare the gridsearch object\u001b[39;00m\n\u001b[0;32m----> 4\u001b[0m grid_search_poly \u001b[39m=\u001b[39m GridSearchCV(svm_clf_poly, svm_params_poly, scoring\u001b[39m=\u001b[39m\u001b[39m'\u001b[39m\u001b[39mroc_auc\u001b[39m\u001b[39m'\u001b[39m, n_jobs\u001b[39m=\u001b[39m\u001b[39m7\u001b[39m, refit\u001b[39m=\u001b[39m\u001b[39mTrue\u001b[39;00m, cv\u001b[39m=\u001b[39m\u001b[39m10\u001b[39m, verbose\u001b[39m=\u001b[39m\u001b[39m5\u001b[39m)\n\u001b[1;32m      6\u001b[0m \u001b[39m# Fit the model\u001b[39;00m\n\u001b[1;32m      7\u001b[0m grid_result_poly \u001b[39m=\u001b[39m grid_search\u001b[39m.\u001b[39mfit(X_train, y_train)\n",
      "\u001b[0;31mNameError\u001b[0m: name 'svm_clf_poly' is not defined"
     ]
    }
   ],
   "source": [
    "# For training SVM without 'poly' kernel\n",
    "\n",
    "# Declare the gridsearch object\n",
    "grid_search_poly = GridSearchCV(svm_clf_poly, svm_params_poly, scoring='roc_auc', n_jobs=7, refit=True, cv=10, verbose=5)\n",
    "\n",
    "# Fit the model\n",
    "grid_result_poly = grid_search.fit(X_train, y_train)"
   ]
  },
  {
   "cell_type": "markdown",
   "metadata": {},
   "source": [
    "### Inferencing"
   ]
  },
  {
   "cell_type": "code",
   "execution_count": 13,
   "metadata": {},
   "outputs": [
    {
     "ename": "NameError",
     "evalue": "name 'grid_result' is not defined",
     "output_type": "error",
     "traceback": [
      "\u001b[0;31m---------------------------------------------------------------------------\u001b[0m",
      "\u001b[0;31mNameError\u001b[0m                                 Traceback (most recent call last)",
      "Cell \u001b[0;32mIn [13], line 2\u001b[0m\n\u001b[1;32m      1\u001b[0m \u001b[39m# Get the best model parameters\u001b[39;00m\n\u001b[0;32m----> 2\u001b[0m \u001b[39mprint\u001b[39m(\u001b[39mf\u001b[39m\u001b[39m\"\u001b[39m\u001b[39mBest score of \u001b[39m\u001b[39m{\u001b[39;00mgrid_result\u001b[39m.\u001b[39mbest_score_\u001b[39m}\u001b[39;00m\u001b[39m is achieved by using \u001b[39m\u001b[39m{\u001b[39;00mgrid_result\u001b[39m.\u001b[39mbest_params_\u001b[39m}\u001b[39;00m\u001b[39m\"\u001b[39m)\n",
      "\u001b[0;31mNameError\u001b[0m: name 'grid_result' is not defined"
     ]
    }
   ],
   "source": [
    "# Get the best model parameters\n",
    "print(f\"Best score of {grid_result.best_score_} is achieved by using {grid_result.best_params_}\")"
   ]
  },
  {
   "cell_type": "code",
   "execution_count": null,
   "metadata": {},
   "outputs": [],
   "source": [
    "# Predict on test data using the model\n",
    "y_pred = grid_search.predict(X_test)\n",
    "y_score = grid_search.predict_proba(X_test)[:, 1]"
   ]
  },
  {
   "cell_type": "markdown",
   "metadata": {},
   "source": [
    "### Evaluation"
   ]
  },
  {
   "cell_type": "code",
   "execution_count": null,
   "metadata": {},
   "outputs": [
    {
     "name": "stdout",
     "output_type": "stream",
     "text": [
      "Area under the ROC curve: 0.8827668709253439\n"
     ]
    }
   ],
   "source": [
    "# Find the ROC AUC score\n",
    "print(f\"Area under the ROC curve: {roc_auc_score(y_test, y_score)}\")"
   ]
  },
  {
   "cell_type": "code",
   "execution_count": null,
   "metadata": {},
   "outputs": [],
   "source": [
    "# Calculate parameters for roc auc curve\n",
    "fpr, tpr, thresholds = roc_curve(y_test, y_score)"
   ]
  },
  {
   "cell_type": "code",
   "execution_count": null,
   "metadata": {},
   "outputs": [
    {
     "data": {
      "image/svg+xml": "<svg class=\"main-svg\" xmlns=\"http://www.w3.org/2000/svg\" xmlns:xlink=\"http://www.w3.org/1999/xlink\" width=\"800\" height=\"500\" style=\"\" viewBox=\"0 0 800 500\"><rect x=\"0\" y=\"0\" width=\"800\" height=\"500\" style=\"fill: rgb(255, 255, 255); fill-opacity: 1;\"/><defs id=\"defs-e342f4\"><g class=\"clips\"><clipPath id=\"clipe342f4xyplot\" class=\"plotclip\"><rect width=\"304.99999999999994\" height=\"320\"/></clipPath><clipPath class=\"axesclip\" id=\"clipe342f4x\"><rect x=\"247.50000000000003\" y=\"0\" width=\"304.99999999999994\" height=\"500\"/></clipPath><clipPath class=\"axesclip\" id=\"clipe342f4y\"><rect x=\"0\" y=\"100\" width=\"800\" height=\"320\"/></clipPath><clipPath class=\"axesclip\" id=\"clipe342f4xy\"><rect x=\"247.50000000000003\" y=\"100\" width=\"304.99999999999994\" height=\"320\"/></clipPath></g><g class=\"gradients\"/><g class=\"patterns\"/></defs><g class=\"bglayer\"><rect class=\"bg\" x=\"247.50000000000003\" y=\"100\" width=\"304.99999999999994\" height=\"320\" style=\"fill: rgb(229, 236, 246); fill-opacity: 1; stroke-width: 0;\"/></g><g class=\"layer-below\"><g class=\"imagelayer\"/><g class=\"shapelayer\"/></g><g class=\"cartesianlayer\"><g class=\"subplot xy\"><g class=\"layer-subplot\"><g class=\"shapelayer\"/><g class=\"imagelayer\"/></g><g class=\"minor-gridlayer\"><g class=\"x\"/><g class=\"y\"/></g><g class=\"gridlayer\"><g class=\"x\"><path class=\"xgrid crisp\" transform=\"translate(400,0)\" d=\"M0,100v320\" style=\"stroke: rgb(255, 255, 255); stroke-opacity: 1; stroke-width: 1px;\"/></g><g class=\"y\"><path class=\"ygrid crisp\" transform=\"translate(0,358.4)\" d=\"M247.50000000000003,0h304.99999999999994\" style=\"stroke: rgb(255, 255, 255); stroke-opacity: 1; stroke-width: 1px;\"/><path class=\"ygrid crisp\" transform=\"translate(0,297.8)\" d=\"M247.50000000000003,0h304.99999999999994\" style=\"stroke: rgb(255, 255, 255); stroke-opacity: 1; stroke-width: 1px;\"/><path class=\"ygrid crisp\" transform=\"translate(0,237.2)\" d=\"M247.50000000000003,0h304.99999999999994\" style=\"stroke: rgb(255, 255, 255); stroke-opacity: 1; stroke-width: 1px;\"/><path class=\"ygrid crisp\" transform=\"translate(0,176.6)\" d=\"M247.50000000000003,0h304.99999999999994\" style=\"stroke: rgb(255, 255, 255); stroke-opacity: 1; stroke-width: 1px;\"/><path class=\"ygrid crisp\" transform=\"translate(0,116)\" d=\"M247.50000000000003,0h304.99999999999994\" style=\"stroke: rgb(255, 255, 255); stroke-opacity: 1; stroke-width: 1px;\"/></g></g><g class=\"zerolinelayer\"><path class=\"xzl zl crisp\" transform=\"translate(248.50000000000003,0)\" d=\"M0,100v320\" style=\"stroke: rgb(255, 255, 255); stroke-opacity: 1; stroke-width: 2px;\"/><path class=\"yzl zl crisp\" transform=\"translate(0,419)\" d=\"M247.50000000000003,0h304.99999999999994\" style=\"stroke: rgb(255, 255, 255); stroke-opacity: 1; stroke-width: 2px;\"/></g><path class=\"xlines-below\"/><path class=\"ylines-below\"/><g class=\"overlines-below\"/><g class=\"xaxislayer-below\"/><g class=\"yaxislayer-below\"/><g class=\"overaxes-below\"/><g class=\"plot\" transform=\"translate(247.50000000000003,100)\" clip-path=\"url(#clipe342f4xyplot)\"><g class=\"scatterlayer mlayer\"><g class=\"trace scatter tracee66fa4\" style=\"stroke-miterlimit: 2;\"><g class=\"fills\"><g><path class=\"js-fill\" d=\"M304,319L1,319L1,319L1.72,280.65L1.87,280.65L2.59,257.16L2.73,257.16L3.31,246.79L3.6,246.79L4.32,240.23L4.47,240.23L5.05,236.43L5.34,236.43L6.06,229.17L6.35,229.17L6.78,214.31L7.22,214.31L7.94,208.79L8.23,208.79L8.52,207.4L9.24,207.4L9.67,200.84L10.11,200.84L10.83,199.46L10.97,199.46L11.55,193.24L11.84,193.24L12.56,187.71L12.71,187.71L13.43,177.69L13.58,177.69L14.3,173.89L14.44,173.89L15.02,170.09L15.31,170.09L16.03,166.29L16.18,166.29L16.9,162.49L17.19,162.49L17.91,156.62L18.06,156.62L18.78,154.89L19.07,154.89L19.36,154.2L20.66,154.2L21.24,146.94L21.53,146.94L22.25,143.14L22.4,143.14L23.12,139L23.26,139L23.84,137.27L24.42,137.27L25.14,134.85L25.58,134.85L26.15,131.4L26.59,131.4L27.31,129.67L27.45,129.67L28.03,126.9L28.32,126.9L29.04,122.41L29.33,122.41L29.62,119.99L30.2,119.99L30.92,115.85L31.21,115.85L31.65,113.78L32.51,113.78L33.24,112.05L33.38,112.05L33.53,110.32L34.39,110.32L35.12,108.25L35.55,108.25L35.98,107.56L37.43,107.56L38.15,105.83L38.88,105.83L39.31,104.79L39.89,104.79L39.89,104.45L41.04,104.45L41.33,103.41L41.91,103.41L42.63,102.37L42.92,102.37L43.65,99.26L43.79,99.26L44.51,96.85L44.95,96.85L44.95,96.5L46.1,96.5L46.83,95.12L47.26,95.12L47.26,94.77L48.42,94.77L48.99,93.74L50.15,93.74L50.87,91.66L51.6,91.66L51.89,90.97L52.46,90.97L53.19,89.25L53.33,89.25L53.33,88.9L54.2,88.9L54.2,88.21L55.35,88.21L56.08,86.48L56.22,86.48L56.95,85.79L57.23,85.79L57.23,85.44L58.1,85.44L58.82,83.37L59.11,83.37L59.84,81.99L61.28,81.99L62,80.26L62.15,80.26L62.15,79.57L64.46,79.57L64.9,77.5L65.33,77.5L66.05,74.39L66.49,74.39L67.06,73.7L67.35,73.7L67.35,73.35L68.37,73.35L68.94,71.97L69.96,71.97L70.24,71.28L71.11,71.28L71.4,70.24L72.7,70.24L73.28,68.86L73.71,68.86L74.44,67.48L74.73,67.48L75.45,66.79L76.17,66.79L76.46,66.1L77.47,66.1L78.2,64.71L78.48,64.71L78.92,62.64L79.5,62.64L79.5,62.3L80.94,62.3L81.23,61.26L82.24,61.26L82.68,58.84L83.54,58.84L83.69,57.81L84.56,57.81L85.13,57.11L85.71,57.11L85.71,56.77L87.59,56.77L88.17,55.73L88.89,55.73L89.62,55.04L89.76,55.04L89.76,54.7L90.92,54.7L90.92,54.35L92.22,54.35L92.36,53.66L93.81,53.66L93.81,53.31L95.69,53.31L96.41,52.62L96.84,52.62L97.42,51.93L97.86,51.93L98.43,49.51L101.47,49.51L101.76,48.48L102.48,48.48L103.2,47.09L103.35,47.09L103.49,46.4L104.65,46.4L105.08,45.37L106.39,45.37L106.53,44.68L107.54,44.68L107.54,44.33L109.42,44.33L110.14,42.95L111.16,42.95L111.73,42.26L113.32,42.26L113.76,40.18L115.35,40.18L115.78,39.49L116.36,39.49L116.94,38.46L118.38,38.46L118.67,37.42L119.25,37.42L119.54,36.38L120.84,36.38L121.56,34.66L123.3,34.66L123.3,33.97L124.31,33.97L124.31,33.62L126.77,33.62L127.35,32.58L128.94,32.58L128.94,31.89L130.53,31.89L130.82,31.2L132.7,31.2L132.7,30.86L134.57,30.86L134.57,30.51L136.74,30.51L136.74,30.17L143.25,30.17L143.25,29.82L145.71,29.82L145.71,29.47L147.01,29.47L147.44,28.09L152.21,28.09L152.21,27.75L157.27,27.75L157.27,27.4L163.49,27.4L164.06,26.71L168.69,26.71L168.98,26.02L169.56,26.02L169.56,25.67L170.71,25.67L170.71,25.33L172.16,25.33L172.59,24.29L174.76,24.29L175.34,23.6L176.5,23.6L176.5,22.91L185.17,22.91L185.75,22.22L188.06,22.22L188.06,21.87L192.54,21.87L192.54,21.18L193.84,21.18L193.84,20.84L199.34,20.84L199.34,20.49L203.39,20.49L203.39,20.15L206.85,20.15L206.85,19.8L211.05,19.8L211.05,19.11L219.14,19.11L219.14,18.76L220.44,18.76L220.44,18.42L233.45,18.42L233.45,18.07L254.42,18.07L254.42,17.73L257.16,17.73L257.16,17.38L264.39,17.38L264.39,17.04L273.93,17.04L273.93,16.69L284.77,16.69L284.77,16.35L288.82,16.35L288.82,16L304,16\" style=\"fill: rgb(99, 110, 250); fill-opacity: 0.5; stroke-width: 0;\"/></g></g><g class=\"errorbars\"/><g class=\"lines\"><path class=\"js-line\" d=\"M1,319L1.72,280.65L1.87,280.65L2.59,257.16L2.73,257.16L3.31,246.79L3.6,246.79L4.32,240.23L4.47,240.23L5.05,236.43L5.34,236.43L6.06,229.17L6.35,229.17L6.78,214.31L7.22,214.31L7.94,208.79L8.23,208.79L8.52,207.4L9.24,207.4L9.67,200.84L10.11,200.84L10.83,199.46L10.97,199.46L11.55,193.24L11.84,193.24L12.56,187.71L12.71,187.71L13.43,177.69L13.58,177.69L14.3,173.89L14.44,173.89L15.02,170.09L15.31,170.09L16.03,166.29L16.18,166.29L16.9,162.49L17.19,162.49L17.91,156.62L18.06,156.62L18.78,154.89L19.07,154.89L19.36,154.2L20.66,154.2L21.24,146.94L21.53,146.94L22.25,143.14L22.4,143.14L23.12,139L23.26,139L23.84,137.27L24.42,137.27L25.14,134.85L25.58,134.85L26.15,131.4L26.59,131.4L27.31,129.67L27.45,129.67L28.03,126.9L28.32,126.9L29.04,122.41L29.33,122.41L29.62,119.99L30.2,119.99L30.92,115.85L31.21,115.85L31.65,113.78L32.51,113.78L33.24,112.05L33.38,112.05L33.53,110.32L34.39,110.32L35.12,108.25L35.55,108.25L35.98,107.56L37.43,107.56L38.15,105.83L38.88,105.83L39.31,104.79L39.89,104.79L39.89,104.45L41.04,104.45L41.33,103.41L41.91,103.41L42.63,102.37L42.92,102.37L43.65,99.26L43.79,99.26L44.51,96.85L44.95,96.85L44.95,96.5L46.1,96.5L46.83,95.12L47.26,95.12L47.26,94.77L48.42,94.77L48.99,93.74L50.15,93.74L50.87,91.66L51.6,91.66L51.89,90.97L52.46,90.97L53.19,89.25L53.33,89.25L53.33,88.9L54.2,88.9L54.2,88.21L55.35,88.21L56.08,86.48L56.22,86.48L56.95,85.79L57.23,85.79L57.23,85.44L58.1,85.44L58.82,83.37L59.11,83.37L59.84,81.99L61.28,81.99L62,80.26L62.15,80.26L62.15,79.57L64.46,79.57L64.9,77.5L65.33,77.5L66.05,74.39L66.49,74.39L67.06,73.7L67.35,73.7L67.35,73.35L68.37,73.35L68.94,71.97L69.96,71.97L70.24,71.28L71.11,71.28L71.4,70.24L72.7,70.24L73.28,68.86L73.71,68.86L74.44,67.48L74.73,67.48L75.45,66.79L76.17,66.79L76.46,66.1L77.47,66.1L78.2,64.71L78.48,64.71L78.92,62.64L79.5,62.64L79.5,62.3L80.94,62.3L81.23,61.26L82.24,61.26L82.68,58.84L83.54,58.84L83.69,57.81L84.56,57.81L85.13,57.11L85.71,57.11L85.71,56.77L87.59,56.77L88.17,55.73L88.89,55.73L89.62,55.04L89.76,55.04L89.76,54.7L90.92,54.7L90.92,54.35L92.22,54.35L92.36,53.66L93.81,53.66L93.81,53.31L95.69,53.31L96.41,52.62L96.84,52.62L97.42,51.93L97.86,51.93L98.43,49.51L101.47,49.51L101.76,48.48L102.48,48.48L103.2,47.09L103.35,47.09L103.49,46.4L104.65,46.4L105.08,45.37L106.39,45.37L106.53,44.68L107.54,44.68L107.54,44.33L109.42,44.33L110.14,42.95L111.16,42.95L111.73,42.26L113.32,42.26L113.76,40.18L115.35,40.18L115.78,39.49L116.36,39.49L116.94,38.46L118.38,38.46L118.67,37.42L119.25,37.42L119.54,36.38L120.84,36.38L121.56,34.66L123.3,34.66L123.3,33.97L124.31,33.97L124.31,33.62L126.77,33.62L127.35,32.58L128.94,32.58L128.94,31.89L130.53,31.89L130.82,31.2L132.7,31.2L132.7,30.86L134.57,30.86L134.57,30.51L136.74,30.51L136.74,30.17L143.25,30.17L143.25,29.82L145.71,29.82L145.71,29.47L147.01,29.47L147.44,28.09L152.21,28.09L152.21,27.75L157.27,27.75L157.27,27.4L163.49,27.4L164.06,26.71L168.69,26.71L168.98,26.02L169.56,26.02L169.56,25.67L170.71,25.67L170.71,25.33L172.16,25.33L172.59,24.29L174.76,24.29L175.34,23.6L176.5,23.6L176.5,22.91L185.17,22.91L185.75,22.22L188.06,22.22L188.06,21.87L192.54,21.87L192.54,21.18L193.84,21.18L193.84,20.84L199.34,20.84L199.34,20.49L203.39,20.49L203.39,20.15L206.85,20.15L206.85,19.8L211.05,19.8L211.05,19.11L219.14,19.11L219.14,18.76L220.44,18.76L220.44,18.42L233.45,18.42L233.45,18.07L254.42,18.07L254.42,17.73L257.16,17.73L257.16,17.38L264.39,17.38L264.39,17.04L273.93,17.04L273.93,16.69L284.77,16.69L284.77,16.35L288.82,16.35L288.82,16L304,16\" style=\"vector-effect: non-scaling-stroke; fill: none; stroke: rgb(99, 110, 250); stroke-opacity: 1; stroke-width: 2px; opacity: 1;\"/></g><g class=\"points\"/><g class=\"text\"/></g></g></g><g class=\"overplot\"/><path class=\"xlines-above crisp\" d=\"M0,0\" style=\"fill: none;\"/><path class=\"ylines-above crisp\" d=\"M0,0\" style=\"fill: none;\"/><g class=\"overlines-above\"/><g class=\"xaxislayer-above\"><g class=\"xtick\"><text text-anchor=\"middle\" x=\"0\" y=\"433\" transform=\"translate(248.50000000000003,0)\" style=\"font-family: 'Open Sans', verdana, arial, sans-serif; font-size: 12px; fill: rgb(42, 63, 95); fill-opacity: 1; white-space: pre; opacity: 1;\">0</text></g><g class=\"xtick\"><text text-anchor=\"middle\" x=\"0\" y=\"433\" style=\"font-family: 'Open Sans', verdana, arial, sans-serif; font-size: 12px; fill: rgb(42, 63, 95); fill-opacity: 1; white-space: pre; opacity: 1;\" transform=\"translate(400,0)\">0.5</text></g><g class=\"xtick\"><text text-anchor=\"middle\" x=\"0\" y=\"433\" style=\"font-family: 'Open Sans', verdana, arial, sans-serif; font-size: 12px; fill: rgb(42, 63, 95); fill-opacity: 1; white-space: pre; opacity: 1;\" transform=\"translate(551.5,0)\">1</text></g></g><g class=\"yaxislayer-above\"><g class=\"ytick\"><text text-anchor=\"end\" x=\"246.50000000000003\" y=\"4.199999999999999\" transform=\"translate(0,419)\" style=\"font-family: 'Open Sans', verdana, arial, sans-serif; font-size: 12px; fill: rgb(42, 63, 95); fill-opacity: 1; white-space: pre; opacity: 1;\">0</text></g><g class=\"ytick\"><text text-anchor=\"end\" x=\"246.50000000000003\" y=\"4.199999999999999\" style=\"font-family: 'Open Sans', verdana, arial, sans-serif; font-size: 12px; fill: rgb(42, 63, 95); fill-opacity: 1; white-space: pre; opacity: 1;\" transform=\"translate(0,358.4)\">0.2</text></g><g class=\"ytick\"><text text-anchor=\"end\" x=\"246.50000000000003\" y=\"4.199999999999999\" style=\"font-family: 'Open Sans', verdana, arial, sans-serif; font-size: 12px; fill: rgb(42, 63, 95); fill-opacity: 1; white-space: pre; opacity: 1;\" transform=\"translate(0,297.8)\">0.4</text></g><g class=\"ytick\"><text text-anchor=\"end\" x=\"246.50000000000003\" y=\"4.199999999999999\" style=\"font-family: 'Open Sans', verdana, arial, sans-serif; font-size: 12px; fill: rgb(42, 63, 95); fill-opacity: 1; white-space: pre; opacity: 1;\" transform=\"translate(0,237.2)\">0.6</text></g><g class=\"ytick\"><text text-anchor=\"end\" x=\"246.50000000000003\" y=\"4.199999999999999\" style=\"font-family: 'Open Sans', verdana, arial, sans-serif; font-size: 12px; fill: rgb(42, 63, 95); fill-opacity: 1; white-space: pre; opacity: 1;\" transform=\"translate(0,176.6)\">0.8</text></g><g class=\"ytick\"><text text-anchor=\"end\" x=\"246.50000000000003\" y=\"4.199999999999999\" style=\"font-family: 'Open Sans', verdana, arial, sans-serif; font-size: 12px; fill: rgb(42, 63, 95); fill-opacity: 1; white-space: pre; opacity: 1;\" transform=\"translate(0,116)\">1</text></g></g><g class=\"overaxes-above\"/></g></g><g class=\"polarlayer\"/><g class=\"smithlayer\"/><g class=\"ternarylayer\"/><g class=\"geolayer\"/><g class=\"funnelarealayer\"/><g class=\"pielayer\"/><g class=\"iciclelayer\"/><g class=\"treemaplayer\"/><g class=\"sunburstlayer\"/><g class=\"glimages\"/><defs id=\"topdefs-e342f4\"><g class=\"clips\"/></defs><g class=\"layer-above\"><g class=\"imagelayer\"/><g class=\"shapelayer\"><path data-index=\"0\" fill-rule=\"evenodd\" d=\"M248.50000000000003,419L551.5,116\" clip-path=\"url(#clipe342f4xy)\" style=\"opacity: 1; stroke: rgb(42, 63, 95); stroke-opacity: 1; fill: rgb(0, 0, 0); fill-opacity: 0; stroke-dasharray: 9px, 9px; stroke-width: 2px;\"/></g></g><g class=\"infolayer\"><g class=\"g-gtitle\"><text class=\"gtitle\" x=\"40\" y=\"50\" text-anchor=\"start\" dy=\"0em\" style=\"font-family: 'Open Sans', verdana, arial, sans-serif; font-size: 17px; fill: rgb(42, 63, 95); opacity: 1; font-weight: normal; white-space: pre;\">ROC Curve (AUC=0.8828)</text></g><g class=\"g-xtitle\"><text class=\"xtitle\" x=\"400\" y=\"460.3\" text-anchor=\"middle\" style=\"font-family: 'Open Sans', verdana, arial, sans-serif; font-size: 14px; fill: rgb(42, 63, 95); opacity: 1; font-weight: normal; white-space: pre;\">False Positive Rate</text></g><g class=\"g-ytitle\"><text class=\"ytitle\" transform=\"rotate(-90,202.075,260)\" x=\"202.075\" y=\"260\" text-anchor=\"middle\" style=\"font-family: 'Open Sans', verdana, arial, sans-serif; font-size: 14px; fill: rgb(42, 63, 95); opacity: 1; font-weight: normal; white-space: pre;\">True Positive Rate</text></g></g></svg>"
     },
     "metadata": {},
     "output_type": "display_data"
    }
   ],
   "source": [
    "# Plot the curve and area under the curve\n",
    "fig = px.area(\n",
    "    x=fpr, y=tpr,\n",
    "    title=f'ROC Curve (AUC={auc(fpr, tpr):.4f})',\n",
    "    labels=dict(x='False Positive Rate', y='True Positive Rate')\n",
    ")\n",
    "fig.add_shape(\n",
    "    type='line', line=dict(dash='dash'),\n",
    "    x0=0, x1=1, y0=0, y1=1\n",
    ")\n",
    "\n",
    "fig.update_yaxes(scaleanchor=\"x\", scaleratio=1)\n",
    "fig.update_xaxes(constrain='domain')\n",
    "fig.show()"
   ]
  },
  {
   "cell_type": "markdown",
   "metadata": {},
   "source": [
    "An AUC score of 0.88 is quite remarkable and it suggest that model is quite good in predicting whether a project on Kickstarter will be succecssful or not."
   ]
  },
  {
   "cell_type": "code",
   "execution_count": null,
   "metadata": {},
   "outputs": [],
   "source": [
    "# Create a ROC dataframe from the obtained FPR and TPR\n",
    "roc_df = pd.DataFrame({\n",
    "    'fpr': fpr,\n",
    "    'tpr': tpr,\n",
    "    'threshold': thresholds\n",
    "})"
   ]
  },
  {
   "cell_type": "code",
   "execution_count": null,
   "metadata": {},
   "outputs": [
    {
     "data": {
      "text/html": [
       "<div>\n",
       "<style scoped>\n",
       "    .dataframe tbody tr th:only-of-type {\n",
       "        vertical-align: middle;\n",
       "    }\n",
       "\n",
       "    .dataframe tbody tr th {\n",
       "        vertical-align: top;\n",
       "    }\n",
       "\n",
       "    .dataframe thead th {\n",
       "        text-align: right;\n",
       "    }\n",
       "</style>\n",
       "<table border=\"1\" class=\"dataframe\">\n",
       "  <thead>\n",
       "    <tr style=\"text-align: right;\">\n",
       "      <th></th>\n",
       "      <th>fpr</th>\n",
       "      <th>tpr</th>\n",
       "      <th>threshold</th>\n",
       "    </tr>\n",
       "  </thead>\n",
       "  <tbody>\n",
       "    <tr>\n",
       "      <th>406</th>\n",
       "      <td>0.201813</td>\n",
       "      <td>0.790194</td>\n",
       "      <td>0.480727</td>\n",
       "    </tr>\n",
       "    <tr>\n",
       "      <th>407</th>\n",
       "      <td>0.209447</td>\n",
       "      <td>0.790194</td>\n",
       "      <td>0.478962</td>\n",
       "    </tr>\n",
       "    <tr>\n",
       "      <th>408</th>\n",
       "      <td>0.209447</td>\n",
       "      <td>0.792474</td>\n",
       "      <td>0.478820</td>\n",
       "    </tr>\n",
       "    <tr>\n",
       "      <th>409</th>\n",
       "      <td>0.209924</td>\n",
       "      <td>0.792474</td>\n",
       "      <td>0.478810</td>\n",
       "    </tr>\n",
       "    <tr>\n",
       "      <th>410</th>\n",
       "      <td>0.209924</td>\n",
       "      <td>0.793615</td>\n",
       "      <td>0.478781</td>\n",
       "    </tr>\n",
       "    <tr>\n",
       "      <th>411</th>\n",
       "      <td>0.210401</td>\n",
       "      <td>0.793615</td>\n",
       "      <td>0.478701</td>\n",
       "    </tr>\n",
       "    <tr>\n",
       "      <th>412</th>\n",
       "      <td>0.210401</td>\n",
       "      <td>0.795895</td>\n",
       "      <td>0.478480</td>\n",
       "    </tr>\n",
       "    <tr>\n",
       "      <th>413</th>\n",
       "      <td>0.210878</td>\n",
       "      <td>0.795895</td>\n",
       "      <td>0.478390</td>\n",
       "    </tr>\n",
       "    <tr>\n",
       "      <th>414</th>\n",
       "      <td>0.210878</td>\n",
       "      <td>0.797035</td>\n",
       "      <td>0.477720</td>\n",
       "    </tr>\n",
       "    <tr>\n",
       "      <th>415</th>\n",
       "      <td>0.212309</td>\n",
       "      <td>0.797035</td>\n",
       "      <td>0.477548</td>\n",
       "    </tr>\n",
       "    <tr>\n",
       "      <th>416</th>\n",
       "      <td>0.212309</td>\n",
       "      <td>0.799316</td>\n",
       "      <td>0.477397</td>\n",
       "    </tr>\n",
       "    <tr>\n",
       "      <th>417</th>\n",
       "      <td>0.213263</td>\n",
       "      <td>0.799316</td>\n",
       "      <td>0.477255</td>\n",
       "    </tr>\n",
       "    <tr>\n",
       "      <th>418</th>\n",
       "      <td>0.213263</td>\n",
       "      <td>0.800456</td>\n",
       "      <td>0.477172</td>\n",
       "    </tr>\n",
       "    <tr>\n",
       "      <th>419</th>\n",
       "      <td>0.213740</td>\n",
       "      <td>0.800456</td>\n",
       "      <td>0.477120</td>\n",
       "    </tr>\n",
       "    <tr>\n",
       "      <th>420</th>\n",
       "      <td>0.213740</td>\n",
       "      <td>0.801596</td>\n",
       "      <td>0.477021</td>\n",
       "    </tr>\n",
       "    <tr>\n",
       "      <th>421</th>\n",
       "      <td>0.214218</td>\n",
       "      <td>0.801596</td>\n",
       "      <td>0.476946</td>\n",
       "    </tr>\n",
       "    <tr>\n",
       "      <th>422</th>\n",
       "      <td>0.214218</td>\n",
       "      <td>0.803877</td>\n",
       "      <td>0.476919</td>\n",
       "    </tr>\n",
       "    <tr>\n",
       "      <th>423</th>\n",
       "      <td>0.214695</td>\n",
       "      <td>0.803877</td>\n",
       "      <td>0.476862</td>\n",
       "    </tr>\n",
       "    <tr>\n",
       "      <th>424</th>\n",
       "      <td>0.214695</td>\n",
       "      <td>0.807298</td>\n",
       "      <td>0.476393</td>\n",
       "    </tr>\n",
       "    <tr>\n",
       "      <th>425</th>\n",
       "      <td>0.216126</td>\n",
       "      <td>0.807298</td>\n",
       "      <td>0.476291</td>\n",
       "    </tr>\n",
       "    <tr>\n",
       "      <th>426</th>\n",
       "      <td>0.216126</td>\n",
       "      <td>0.808438</td>\n",
       "      <td>0.476267</td>\n",
       "    </tr>\n",
       "    <tr>\n",
       "      <th>427</th>\n",
       "      <td>0.218034</td>\n",
       "      <td>0.808438</td>\n",
       "      <td>0.475684</td>\n",
       "    </tr>\n",
       "    <tr>\n",
       "      <th>428</th>\n",
       "      <td>0.218034</td>\n",
       "      <td>0.809578</td>\n",
       "      <td>0.475583</td>\n",
       "    </tr>\n",
       "    <tr>\n",
       "      <th>429</th>\n",
       "      <td>0.218989</td>\n",
       "      <td>0.809578</td>\n",
       "      <td>0.475568</td>\n",
       "    </tr>\n",
       "  </tbody>\n",
       "</table>\n",
       "</div>"
      ],
      "text/plain": [
       "          fpr       tpr  threshold\n",
       "406  0.201813  0.790194   0.480727\n",
       "407  0.209447  0.790194   0.478962\n",
       "408  0.209447  0.792474   0.478820\n",
       "409  0.209924  0.792474   0.478810\n",
       "410  0.209924  0.793615   0.478781\n",
       "411  0.210401  0.793615   0.478701\n",
       "412  0.210401  0.795895   0.478480\n",
       "413  0.210878  0.795895   0.478390\n",
       "414  0.210878  0.797035   0.477720\n",
       "415  0.212309  0.797035   0.477548\n",
       "416  0.212309  0.799316   0.477397\n",
       "417  0.213263  0.799316   0.477255\n",
       "418  0.213263  0.800456   0.477172\n",
       "419  0.213740  0.800456   0.477120\n",
       "420  0.213740  0.801596   0.477021\n",
       "421  0.214218  0.801596   0.476946\n",
       "422  0.214218  0.803877   0.476919\n",
       "423  0.214695  0.803877   0.476862\n",
       "424  0.214695  0.807298   0.476393\n",
       "425  0.216126  0.807298   0.476291\n",
       "426  0.216126  0.808438   0.476267\n",
       "427  0.218034  0.808438   0.475684\n",
       "428  0.218034  0.809578   0.475583\n",
       "429  0.218989  0.809578   0.475568"
      ]
     },
     "execution_count": 31,
     "metadata": {},
     "output_type": "execute_result"
    }
   ],
   "source": [
    "# Get the values of threshold for true positive rate between 0.79 and 0.81\n",
    "roc_df[roc_df['tpr'].between(0.79, 0.81)]"
   ]
  },
  {
   "cell_type": "markdown",
   "metadata": {},
   "source": [
    "From the above table, it is safe to assume the threshold value of 0.5 for classifying the observations."
   ]
  },
  {
   "cell_type": "code",
   "execution_count": null,
   "metadata": {},
   "outputs": [
    {
     "data": {
      "text/plain": [
       "<sklearn.metrics._plot.confusion_matrix.ConfusionMatrixDisplay at 0x1352b1d60>"
      ]
     },
     "execution_count": 36,
     "metadata": {},
     "output_type": "execute_result"
    },
    {
     "data": {
      "image/png": "[encoded data removed]",
      "text/plain": [
       "<Figure size 640x480 with 2 Axes>"
      ]
     },
     "metadata": {},
     "output_type": "display_data"
    }
   ],
   "source": [
    "# Plot the confusion matrix\n",
    "ConfusionMatrixDisplay.from_estimator(grid_result, X_test, y_test)  "
   ]
  },
  {
   "cell_type": "code",
   "execution_count": null,
   "metadata": {},
   "outputs": [],
   "source": [
    "# Save the model\n",
    "joblib.dump(grid_result, './../../data/models/svm.pkl')\n",
    "joblib.dump(grid_result, './../../data/models/svm.pkl')"
   ]
  },
  {
   "cell_type": "markdown",
   "metadata": {},
   "source": [
    "## Model with oversample data"
   ]
  },
  {
   "cell_type": "code",
   "execution_count": null,
   "metadata": {},
   "outputs": [],
   "source": [
    "# Load the data\n",
    "df = pd.read_csv('./../../data/engineered_data_oversampled.csv')"
   ]
  },
  {
   "cell_type": "code",
   "execution_count": null,
   "metadata": {},
   "outputs": [],
   "source": [
    "# Drop the index column\n",
    "df.drop('Unnamed: 0', axis=1, inplace=True)"
   ]
  },
  {
   "cell_type": "code",
   "execution_count": null,
   "metadata": {},
   "outputs": [],
   "source": [
    "# Split the data into train and test sets\n",
    "X_train, X_test, y_train, y_test = train_test_split(df.drop('state', axis=1), df['state'], test_size=0.2, random_state=42)"
   ]
  },
  {
   "cell_type": "markdown",
   "metadata": {},
   "source": [
    "### Model Building"
   ]
  },
  {
   "cell_type": "code",
   "execution_count": null,
   "metadata": {},
   "outputs": [],
   "source": [
    "# Declare the SVM model\n",
    "svm_clf = SVC(probability=True, class_weight='balanced')\n",
    "\n",
    "# Declare the grid paramters to be searched\n",
    "svm_params = dict(\n",
    "    C = np.logspace(-3, 0, num=4),\n",
    "    kernel = ['linear', 'rbf', 'sigmoid']\n",
    ")"
   ]
  },
  {
   "cell_type": "code",
   "execution_count": null,
   "metadata": {},
   "outputs": [],
   "source": [
    "# Declare the gridsearch object\n",
    "grid_search = GridSearchCV(svm_clf, svm_params, scoring='roc_auc', n_jobs=7, refit=True, cv=10, verbose=5)\n",
    "\n",
    "# Fit the model\n",
    "grid_result = grid_search.fit(X_train, y_train)"
   ]
  },
  {
   "cell_type": "markdown",
   "metadata": {},
   "source": [
    "### Inferencing"
   ]
  },
  {
   "cell_type": "code",
   "execution_count": null,
   "metadata": {},
   "outputs": [
    {
     "name": "stdout",
     "output_type": "stream",
     "text": [
      "Best score of 0.9006621074457278 is achieved by using {'C': 10000.0, 'l1_ratio': 1, 'max_iter': 500}\n"
     ]
    }
   ],
   "source": [
    "# Get the best model parameters\n",
    "print(f\"Best score of {grid_result.best_score_} is achieved by using {grid_result.best_params_}\")"
   ]
  },
  {
   "cell_type": "code",
   "execution_count": null,
   "metadata": {},
   "outputs": [],
   "source": [
    "# Predict on test data using the model\n",
    "y_pred = grid_search.predict(X_test)\n",
    "y_score = grid_search.predict_proba(X_test)[:, 1]"
   ]
  },
  {
   "cell_type": "markdown",
   "metadata": {},
   "source": [
    "### Evaluation"
   ]
  },
  {
   "cell_type": "code",
   "execution_count": null,
   "metadata": {},
   "outputs": [
    {
     "name": "stdout",
     "output_type": "stream",
     "text": [
      "Area under the ROC curve: 0.899628893635461\n"
     ]
    }
   ],
   "source": [
    "# Find the ROC AUC score\n",
    "print(f\"Area under the ROC curve: {roc_auc_score(y_test, y_score)}\")"
   ]
  },
  {
   "cell_type": "markdown",
   "metadata": {},
   "source": [
    "With the new oversampled data, there is a marginal improvement in the performance of the logistic regression algorithm."
   ]
  },
  {
   "cell_type": "code",
   "execution_count": null,
   "metadata": {},
   "outputs": [],
   "source": [
    "# Calculate parameters for roc auc curve\n",
    "fpr, tpr, thresholds = roc_curve(y_test, y_score)"
   ]
  },
  {
   "cell_type": "code",
   "execution_count": null,
   "metadata": {},
   "outputs": [
    {
     "data": {
      "image/svg+xml": "<svg class=\"main-svg\" xmlns=\"http://www.w3.org/2000/svg\" xmlns:xlink=\"http://www.w3.org/1999/xlink\" width=\"800\" height=\"500\" style=\"\" viewBox=\"0 0 800 500\"><rect x=\"0\" y=\"0\" width=\"800\" height=\"500\" style=\"fill: rgb(255, 255, 255); fill-opacity: 1;\"/><defs id=\"defs-121c5f\"><g class=\"clips\"><clipPath id=\"clip121c5fxyplot\" class=\"plotclip\"><rect width=\"304.99999999999994\" height=\"320\"/></clipPath><clipPath class=\"axesclip\" id=\"clip121c5fx\"><rect x=\"247.50000000000003\" y=\"0\" width=\"304.99999999999994\" height=\"500\"/></clipPath><clipPath class=\"axesclip\" id=\"clip121c5fy\"><rect x=\"0\" y=\"100\" width=\"800\" height=\"320\"/></clipPath><clipPath class=\"axesclip\" id=\"clip121c5fxy\"><rect x=\"247.50000000000003\" y=\"100\" width=\"304.99999999999994\" height=\"320\"/></clipPath></g><g class=\"gradients\"/><g class=\"patterns\"/></defs><g class=\"bglayer\"><rect class=\"bg\" x=\"247.50000000000003\" y=\"100\" width=\"304.99999999999994\" height=\"320\" style=\"fill: rgb(229, 236, 246); fill-opacity: 1; stroke-width: 0;\"/></g><g class=\"layer-below\"><g class=\"imagelayer\"/><g class=\"shapelayer\"/></g><g class=\"cartesianlayer\"><g class=\"subplot xy\"><g class=\"layer-subplot\"><g class=\"shapelayer\"/><g class=\"imagelayer\"/></g><g class=\"minor-gridlayer\"><g class=\"x\"/><g class=\"y\"/></g><g class=\"gridlayer\"><g class=\"x\"><path class=\"xgrid crisp\" transform=\"translate(400,0)\" d=\"M0,100v320\" style=\"stroke: rgb(255, 255, 255); stroke-opacity: 1; stroke-width: 1px;\"/></g><g class=\"y\"><path class=\"ygrid crisp\" transform=\"translate(0,358.4)\" d=\"M247.50000000000003,0h304.99999999999994\" style=\"stroke: rgb(255, 255, 255); stroke-opacity: 1; stroke-width: 1px;\"/><path class=\"ygrid crisp\" transform=\"translate(0,297.8)\" d=\"M247.50000000000003,0h304.99999999999994\" style=\"stroke: rgb(255, 255, 255); stroke-opacity: 1; stroke-width: 1px;\"/><path class=\"ygrid crisp\" transform=\"translate(0,237.2)\" d=\"M247.50000000000003,0h304.99999999999994\" style=\"stroke: rgb(255, 255, 255); stroke-opacity: 1; stroke-width: 1px;\"/><path class=\"ygrid crisp\" transform=\"translate(0,176.6)\" d=\"M247.50000000000003,0h304.99999999999994\" style=\"stroke: rgb(255, 255, 255); stroke-opacity: 1; stroke-width: 1px;\"/><path class=\"ygrid crisp\" transform=\"translate(0,116)\" d=\"M247.50000000000003,0h304.99999999999994\" style=\"stroke: rgb(255, 255, 255); stroke-opacity: 1; stroke-width: 1px;\"/></g></g><g class=\"zerolinelayer\"><path class=\"xzl zl crisp\" transform=\"translate(248.50000000000003,0)\" d=\"M0,100v320\" style=\"stroke: rgb(255, 255, 255); stroke-opacity: 1; stroke-width: 2px;\"/><path class=\"yzl zl crisp\" transform=\"translate(0,419)\" d=\"M247.50000000000003,0h304.99999999999994\" style=\"stroke: rgb(255, 255, 255); stroke-opacity: 1; stroke-width: 2px;\"/></g><path class=\"xlines-below\"/><path class=\"ylines-below\"/><g class=\"overlines-below\"/><g class=\"xaxislayer-below\"/><g class=\"yaxislayer-below\"/><g class=\"overaxes-below\"/><g class=\"plot\" transform=\"translate(247.50000000000003,100)\" clip-path=\"url(#clip121c5fxyplot)\"><g class=\"scatterlayer mlayer\"><g class=\"trace scatter trace544a24\" style=\"stroke-miterlimit: 2;\"><g class=\"fills\"><g><path class=\"js-fill\" d=\"M304,319L1,319L1,319L1.73,291.4L1.87,291.4L2.6,281.55L2.74,281.55L3.47,259.92L3.62,259.92L4.34,249.63L4.63,249.63L5.36,245.9L5.51,245.9L6.23,222.33L6.38,222.33L7.1,217.25L7.25,217.25L7.98,208.75L8.12,208.75L8.85,205.47L8.99,205.47L9.72,197.41L9.86,197.41L10.59,189.51L10.74,189.51L11.46,182.79L11.61,182.79L12.34,177.72L12.63,177.72L13.35,174.59L13.64,174.59L14.37,171.01L14.66,171.01L15.39,168.32L15.68,168.32L16.4,159.52L16.55,159.52L17.13,154L17.57,154L18.15,151.91L18.44,151.91L19.17,147.43L19.31,147.43L20.04,145.2L20.33,145.2L21.05,142.21L21.2,142.21L21.78,138.18L22.07,138.18L22.8,134.6L22.94,134.6L23.67,129.53L23.82,129.53L24.54,127.74L24.69,127.74L24.83,127.59L24.83,126.25L25.27,125.8L25.27,125.06L26.72,123.42L26.72,122.52L27.16,122.37L27.16,121.03L28.61,117L29.05,117L29.77,113.87L29.92,113.87L30.36,112.38L30.79,112.38L31.95,111.18L31.95,110.88L32.24,110.88L32.24,109.99L32.68,108.79L32.68,108.35L33.12,107.75L33.12,107.3L33.7,106.71L33.7,105.36L35.73,100.59L36.02,100.59L36.75,98.65L36.89,98.65L37.62,96.71L37.77,96.71L38.2,95.22L38.93,95.22L39.66,93.73L39.95,93.73L40.67,91.94L41.11,91.94L41.55,90.89L41.55,89.85L42.42,88.8L43,88.8L44.74,86.42L44.74,85.97L46.49,82.09L46.92,82.09L47.65,81.34L47.94,81.34L48.23,80.75L48.81,80.75L49.39,79.85L49.83,79.85L50.56,78.06L50.7,78.06L51.43,77.47L51.72,77.47L52.3,76.87L52.59,76.87L53.17,75.97L53.46,75.97L54.19,75.38L54.33,75.38L54.33,75.08L55.21,75.08L56.37,73.74L56.37,72.84L56.95,72.69L56.95,71.35L58.55,69.41L58.69,69.41L59.42,68.07L59.42,67.32L60.29,66.72L60.29,65.83L61.16,65.68L61.16,64.34L62.18,63.74L62.18,63.14L62.47,63.14L62.47,61.95L64.22,61.2L64.22,61.05L65.09,60.31L65.52,60.31L66.25,59.71L66.4,59.71L67.41,58.82L67.41,58.37L67.85,57.92L67.85,57.47L68.72,56.73L69.16,56.73L70.61,55.53L70.61,55.09L71.34,54.49L71.34,54.19L72.64,53.45L72.64,53.15L74.53,52.55L74.53,52.25L75.55,51.51L75.55,51.36L77.29,50.61L77.29,50.46L78.31,49.87L78.31,49.42L79.77,48.67L79.77,48.52L81.95,47.78L81.95,47.63L83.54,47.03L83.54,46.58L84.71,45.69L85.43,45.69L87.47,44.05L87.9,44.05L87.9,43.6L89.36,43.6L94.73,41.06L94.73,40.62L96.19,39.87L96.19,39.42L97.49,38.83L97.79,38.83L98.22,38.38L99.09,38.38L99.53,37.93L100.84,37.93L101.56,36.74L102.58,36.74L105.2,35.69L105.2,35.54L106.36,34.95L107.81,34.95L108.39,34.5L110.14,34.5L110.57,33.9L111.3,33.9L116.97,32.71L116.97,32.56L118.71,32.11L118.71,31.81L121.18,31.07L121.18,30.92L125.11,30.32L125.11,29.87L127,29.43L127,28.98L130.05,28.23L130.05,28.08L134.99,27.34L134.99,27.19L135.13,26.89L137.31,26.89L137.89,26.59L138.19,26.59L152.28,24.95L152.28,24.8L157.51,24.21L157.51,23.91L159.69,23.16L159.69,22.86L163.18,22.12L163.18,21.97L175.24,21.22L175.24,21.07L175.82,20.77L178.73,20.77L184.98,19.73L184.98,19.43L195.44,18.69L195.44,18.54L207.36,17.79L207.36,17.64L223.64,16.9L223.64,16.75L304,16\" style=\"fill: rgb(99, 110, 250); fill-opacity: 0.5; stroke-width: 0;\"/></g></g><g class=\"errorbars\"/><g class=\"lines\"><path class=\"js-line\" d=\"M1,319L1.73,291.4L1.87,291.4L2.6,281.55L2.74,281.55L3.47,259.92L3.62,259.92L4.34,249.63L4.63,249.63L5.36,245.9L5.51,245.9L6.23,222.33L6.38,222.33L7.1,217.25L7.25,217.25L7.98,208.75L8.12,208.75L8.85,205.47L8.99,205.47L9.72,197.41L9.86,197.41L10.59,189.51L10.74,189.51L11.46,182.79L11.61,182.79L12.34,177.72L12.63,177.72L13.35,174.59L13.64,174.59L14.37,171.01L14.66,171.01L15.39,168.32L15.68,168.32L16.4,159.52L16.55,159.52L17.13,154L17.57,154L18.15,151.91L18.44,151.91L19.17,147.43L19.31,147.43L20.04,145.2L20.33,145.2L21.05,142.21L21.2,142.21L21.78,138.18L22.07,138.18L22.8,134.6L22.94,134.6L23.67,129.53L23.82,129.53L24.54,127.74L24.69,127.74L24.83,127.59L24.83,126.25L25.27,125.8L25.27,125.06L26.72,123.42L26.72,122.52L27.16,122.37L27.16,121.03L28.61,117L29.05,117L29.77,113.87L29.92,113.87L30.36,112.38L30.79,112.38L31.95,111.18L31.95,110.88L32.24,110.88L32.24,109.99L32.68,108.79L32.68,108.35L33.12,107.75L33.12,107.3L33.7,106.71L33.7,105.36L35.73,100.59L36.02,100.59L36.75,98.65L36.89,98.65L37.62,96.71L37.77,96.71L38.2,95.22L38.93,95.22L39.66,93.73L39.95,93.73L40.67,91.94L41.11,91.94L41.55,90.89L41.55,89.85L42.42,88.8L43,88.8L44.74,86.42L44.74,85.97L46.49,82.09L46.92,82.09L47.65,81.34L47.94,81.34L48.23,80.75L48.81,80.75L49.39,79.85L49.83,79.85L50.56,78.06L50.7,78.06L51.43,77.47L51.72,77.47L52.3,76.87L52.59,76.87L53.17,75.97L53.46,75.97L54.19,75.38L54.33,75.38L54.33,75.08L55.21,75.08L56.37,73.74L56.37,72.84L56.95,72.69L56.95,71.35L58.55,69.41L58.69,69.41L59.42,68.07L59.42,67.32L60.29,66.72L60.29,65.83L61.16,65.68L61.16,64.34L62.18,63.74L62.18,63.14L62.47,63.14L62.47,61.95L64.22,61.2L64.22,61.05L65.09,60.31L65.52,60.31L66.25,59.71L66.4,59.71L67.41,58.82L67.41,58.37L67.85,57.92L67.85,57.47L68.72,56.73L69.16,56.73L70.61,55.53L70.61,55.09L71.34,54.49L71.34,54.19L72.64,53.45L72.64,53.15L74.53,52.55L74.53,52.25L75.55,51.51L75.55,51.36L77.29,50.61L77.29,50.46L78.31,49.87L78.31,49.42L79.77,48.67L79.77,48.52L81.95,47.78L81.95,47.63L83.54,47.03L83.54,46.58L84.71,45.69L85.43,45.69L87.47,44.05L87.9,44.05L87.9,43.6L89.36,43.6L94.73,41.06L94.73,40.62L96.19,39.87L96.19,39.42L97.49,38.83L97.79,38.83L98.22,38.38L99.09,38.38L99.53,37.93L100.84,37.93L101.56,36.74L102.58,36.74L105.2,35.69L105.2,35.54L106.36,34.95L107.81,34.95L108.39,34.5L110.14,34.5L110.57,33.9L111.3,33.9L116.97,32.71L116.97,32.56L118.71,32.11L118.71,31.81L121.18,31.07L121.18,30.92L125.11,30.32L125.11,29.87L127,29.43L127,28.98L130.05,28.23L130.05,28.08L134.99,27.34L134.99,27.19L135.13,26.89L137.31,26.89L137.89,26.59L138.19,26.59L152.28,24.95L152.28,24.8L157.51,24.21L157.51,23.91L159.69,23.16L159.69,22.86L163.18,22.12L163.18,21.97L175.24,21.22L175.24,21.07L175.82,20.77L178.73,20.77L184.98,19.73L184.98,19.43L195.44,18.69L195.44,18.54L207.36,17.79L207.36,17.64L223.64,16.9L223.64,16.75L304,16\" style=\"vector-effect: non-scaling-stroke; fill: none; stroke: rgb(99, 110, 250); stroke-opacity: 1; stroke-width: 2px; opacity: 1;\"/></g><g class=\"points\"/><g class=\"text\"/></g></g></g><g class=\"overplot\"/><path class=\"xlines-above crisp\" d=\"M0,0\" style=\"fill: none;\"/><path class=\"ylines-above crisp\" d=\"M0,0\" style=\"fill: none;\"/><g class=\"overlines-above\"/><g class=\"xaxislayer-above\"><g class=\"xtick\"><text text-anchor=\"middle\" x=\"0\" y=\"433\" transform=\"translate(248.50000000000003,0)\" style=\"font-family: 'Open Sans', verdana, arial, sans-serif; font-size: 12px; fill: rgb(42, 63, 95); fill-opacity: 1; white-space: pre; opacity: 1;\">0</text></g><g class=\"xtick\"><text text-anchor=\"middle\" x=\"0\" y=\"433\" style=\"font-family: 'Open Sans', verdana, arial, sans-serif; font-size: 12px; fill: rgb(42, 63, 95); fill-opacity: 1; white-space: pre; opacity: 1;\" transform=\"translate(400,0)\">0.5</text></g><g class=\"xtick\"><text text-anchor=\"middle\" x=\"0\" y=\"433\" style=\"font-family: 'Open Sans', verdana, arial, sans-serif; font-size: 12px; fill: rgb(42, 63, 95); fill-opacity: 1; white-space: pre; opacity: 1;\" transform=\"translate(551.5,0)\">1</text></g></g><g class=\"yaxislayer-above\"><g class=\"ytick\"><text text-anchor=\"end\" x=\"246.50000000000003\" y=\"4.199999999999999\" transform=\"translate(0,419)\" style=\"font-family: 'Open Sans', verdana, arial, sans-serif; font-size: 12px; fill: rgb(42, 63, 95); fill-opacity: 1; white-space: pre; opacity: 1;\">0</text></g><g class=\"ytick\"><text text-anchor=\"end\" x=\"246.50000000000003\" y=\"4.199999999999999\" style=\"font-family: 'Open Sans', verdana, arial, sans-serif; font-size: 12px; fill: rgb(42, 63, 95); fill-opacity: 1; white-space: pre; opacity: 1;\" transform=\"translate(0,358.4)\">0.2</text></g><g class=\"ytick\"><text text-anchor=\"end\" x=\"246.50000000000003\" y=\"4.199999999999999\" style=\"font-family: 'Open Sans', verdana, arial, sans-serif; font-size: 12px; fill: rgb(42, 63, 95); fill-opacity: 1; white-space: pre; opacity: 1;\" transform=\"translate(0,297.8)\">0.4</text></g><g class=\"ytick\"><text text-anchor=\"end\" x=\"246.50000000000003\" y=\"4.199999999999999\" style=\"font-family: 'Open Sans', verdana, arial, sans-serif; font-size: 12px; fill: rgb(42, 63, 95); fill-opacity: 1; white-space: pre; opacity: 1;\" transform=\"translate(0,237.2)\">0.6</text></g><g class=\"ytick\"><text text-anchor=\"end\" x=\"246.50000000000003\" y=\"4.199999999999999\" style=\"font-family: 'Open Sans', verdana, arial, sans-serif; font-size: 12px; fill: rgb(42, 63, 95); fill-opacity: 1; white-space: pre; opacity: 1;\" transform=\"translate(0,176.6)\">0.8</text></g><g class=\"ytick\"><text text-anchor=\"end\" x=\"246.50000000000003\" y=\"4.199999999999999\" style=\"font-family: 'Open Sans', verdana, arial, sans-serif; font-size: 12px; fill: rgb(42, 63, 95); fill-opacity: 1; white-space: pre; opacity: 1;\" transform=\"translate(0,116)\">1</text></g></g><g class=\"overaxes-above\"/></g></g><g class=\"polarlayer\"/><g class=\"smithlayer\"/><g class=\"ternarylayer\"/><g class=\"geolayer\"/><g class=\"funnelarealayer\"/><g class=\"pielayer\"/><g class=\"iciclelayer\"/><g class=\"treemaplayer\"/><g class=\"sunburstlayer\"/><g class=\"glimages\"/><defs id=\"topdefs-121c5f\"><g class=\"clips\"/></defs><g class=\"layer-above\"><g class=\"imagelayer\"/><g class=\"shapelayer\"><path data-index=\"0\" fill-rule=\"evenodd\" d=\"M248.50000000000003,419L551.5,116\" clip-path=\"url(#clip121c5fxy)\" style=\"opacity: 1; stroke: rgb(42, 63, 95); stroke-opacity: 1; fill: rgb(0, 0, 0); fill-opacity: 0; stroke-dasharray: 9px, 9px; stroke-width: 2px;\"/></g></g><g class=\"infolayer\"><g class=\"g-gtitle\"><text class=\"gtitle\" x=\"40\" y=\"50\" text-anchor=\"start\" dy=\"0em\" style=\"font-family: 'Open Sans', verdana, arial, sans-serif; font-size: 17px; fill: rgb(42, 63, 95); opacity: 1; font-weight: normal; white-space: pre;\">ROC Curve (AUC=0.8996)</text></g><g class=\"g-xtitle\"><text class=\"xtitle\" x=\"400\" y=\"460.3\" text-anchor=\"middle\" style=\"font-family: 'Open Sans', verdana, arial, sans-serif; font-size: 14px; fill: rgb(42, 63, 95); opacity: 1; font-weight: normal; white-space: pre;\">False Positive Rate</text></g><g class=\"g-ytitle\"><text class=\"ytitle\" transform=\"rotate(-90,202.075,260)\" x=\"202.075\" y=\"260\" text-anchor=\"middle\" style=\"font-family: 'Open Sans', verdana, arial, sans-serif; font-size: 14px; fill: rgb(42, 63, 95); opacity: 1; font-weight: normal; white-space: pre;\">True Positive Rate</text></g></g></svg>"
     },
     "metadata": {},
     "output_type": "display_data"
    }
   ],
   "source": [
    "# Plot the curve and area under the curve\n",
    "fig = px.area(\n",
    "    x=fpr, y=tpr,\n",
    "    title=f'ROC Curve (AUC={auc(fpr, tpr):.4f})',\n",
    "    labels=dict(x='False Positive Rate', y='True Positive Rate')\n",
    ")\n",
    "fig.add_shape(\n",
    "    type='line', line=dict(dash='dash'),\n",
    "    x0=0, x1=1, y0=0, y1=1\n",
    ")\n",
    "\n",
    "fig.update_yaxes(scaleanchor=\"x\", scaleratio=1)\n",
    "fig.update_xaxes(constrain='domain')\n",
    "fig.show()"
   ]
  },
  {
   "cell_type": "code",
   "execution_count": null,
   "metadata": {},
   "outputs": [],
   "source": [
    "# Create a ROC dataframe from the obtained FPR and TPR\n",
    "roc_df = pd.DataFrame({\n",
    "    'fpr': fpr,\n",
    "    'tpr': tpr,\n",
    "    'threshold': thresholds\n",
    "})"
   ]
  },
  {
   "cell_type": "code",
   "execution_count": null,
   "metadata": {},
   "outputs": [
    {
     "data": {
      "text/html": [
       "<div>\n",
       "<style scoped>\n",
       "    .dataframe tbody tr th:only-of-type {\n",
       "        vertical-align: middle;\n",
       "    }\n",
       "\n",
       "    .dataframe tbody tr th {\n",
       "        vertical-align: top;\n",
       "    }\n",
       "\n",
       "    .dataframe thead th {\n",
       "        text-align: right;\n",
       "    }\n",
       "</style>\n",
       "<table border=\"1\" class=\"dataframe\">\n",
       "  <thead>\n",
       "    <tr style=\"text-align: right;\">\n",
       "      <th></th>\n",
       "      <th>fpr</th>\n",
       "      <th>tpr</th>\n",
       "      <th>threshold</th>\n",
       "    </tr>\n",
       "  </thead>\n",
       "  <tbody>\n",
       "    <tr>\n",
       "      <th>500</th>\n",
       "      <td>0.161151</td>\n",
       "      <td>0.790743</td>\n",
       "      <td>0.481897</td>\n",
       "    </tr>\n",
       "    <tr>\n",
       "      <th>501</th>\n",
       "      <td>0.161631</td>\n",
       "      <td>0.790743</td>\n",
       "      <td>0.481852</td>\n",
       "    </tr>\n",
       "    <tr>\n",
       "      <th>502</th>\n",
       "      <td>0.161631</td>\n",
       "      <td>0.791236</td>\n",
       "      <td>0.481701</td>\n",
       "    </tr>\n",
       "    <tr>\n",
       "      <th>503</th>\n",
       "      <td>0.162110</td>\n",
       "      <td>0.791236</td>\n",
       "      <td>0.481684</td>\n",
       "    </tr>\n",
       "    <tr>\n",
       "      <th>504</th>\n",
       "      <td>0.162110</td>\n",
       "      <td>0.791728</td>\n",
       "      <td>0.481599</td>\n",
       "    </tr>\n",
       "    <tr>\n",
       "      <th>505</th>\n",
       "      <td>0.163070</td>\n",
       "      <td>0.791728</td>\n",
       "      <td>0.481566</td>\n",
       "    </tr>\n",
       "    <tr>\n",
       "      <th>506</th>\n",
       "      <td>0.163070</td>\n",
       "      <td>0.794190</td>\n",
       "      <td>0.480795</td>\n",
       "    </tr>\n",
       "    <tr>\n",
       "      <th>507</th>\n",
       "      <td>0.163549</td>\n",
       "      <td>0.794190</td>\n",
       "      <td>0.480781</td>\n",
       "    </tr>\n",
       "    <tr>\n",
       "      <th>508</th>\n",
       "      <td>0.163549</td>\n",
       "      <td>0.795175</td>\n",
       "      <td>0.480576</td>\n",
       "    </tr>\n",
       "    <tr>\n",
       "      <th>509</th>\n",
       "      <td>0.164029</td>\n",
       "      <td>0.795175</td>\n",
       "      <td>0.480549</td>\n",
       "    </tr>\n",
       "    <tr>\n",
       "      <th>510</th>\n",
       "      <td>0.164029</td>\n",
       "      <td>0.796652</td>\n",
       "      <td>0.480328</td>\n",
       "    </tr>\n",
       "    <tr>\n",
       "      <th>511</th>\n",
       "      <td>0.166427</td>\n",
       "      <td>0.796652</td>\n",
       "      <td>0.479996</td>\n",
       "    </tr>\n",
       "    <tr>\n",
       "      <th>512</th>\n",
       "      <td>0.166427</td>\n",
       "      <td>0.797144</td>\n",
       "      <td>0.479892</td>\n",
       "    </tr>\n",
       "    <tr>\n",
       "      <th>513</th>\n",
       "      <td>0.167386</td>\n",
       "      <td>0.797144</td>\n",
       "      <td>0.479490</td>\n",
       "    </tr>\n",
       "    <tr>\n",
       "      <th>514</th>\n",
       "      <td>0.167386</td>\n",
       "      <td>0.798129</td>\n",
       "      <td>0.479414</td>\n",
       "    </tr>\n",
       "    <tr>\n",
       "      <th>515</th>\n",
       "      <td>0.167866</td>\n",
       "      <td>0.798129</td>\n",
       "      <td>0.479367</td>\n",
       "    </tr>\n",
       "    <tr>\n",
       "      <th>516</th>\n",
       "      <td>0.167866</td>\n",
       "      <td>0.798621</td>\n",
       "      <td>0.479359</td>\n",
       "    </tr>\n",
       "    <tr>\n",
       "      <th>517</th>\n",
       "      <td>0.169305</td>\n",
       "      <td>0.798621</td>\n",
       "      <td>0.479205</td>\n",
       "    </tr>\n",
       "    <tr>\n",
       "      <th>518</th>\n",
       "      <td>0.169305</td>\n",
       "      <td>0.799114</td>\n",
       "      <td>0.479155</td>\n",
       "    </tr>\n",
       "    <tr>\n",
       "      <th>519</th>\n",
       "      <td>0.170264</td>\n",
       "      <td>0.799114</td>\n",
       "      <td>0.479030</td>\n",
       "    </tr>\n",
       "    <tr>\n",
       "      <th>520</th>\n",
       "      <td>0.170264</td>\n",
       "      <td>0.800591</td>\n",
       "      <td>0.478945</td>\n",
       "    </tr>\n",
       "    <tr>\n",
       "      <th>521</th>\n",
       "      <td>0.171703</td>\n",
       "      <td>0.800591</td>\n",
       "      <td>0.478690</td>\n",
       "    </tr>\n",
       "    <tr>\n",
       "      <th>522</th>\n",
       "      <td>0.171703</td>\n",
       "      <td>0.801083</td>\n",
       "      <td>0.478633</td>\n",
       "    </tr>\n",
       "    <tr>\n",
       "      <th>523</th>\n",
       "      <td>0.172182</td>\n",
       "      <td>0.801083</td>\n",
       "      <td>0.478398</td>\n",
       "    </tr>\n",
       "    <tr>\n",
       "      <th>524</th>\n",
       "      <td>0.172182</td>\n",
       "      <td>0.802068</td>\n",
       "      <td>0.478337</td>\n",
       "    </tr>\n",
       "    <tr>\n",
       "      <th>525</th>\n",
       "      <td>0.173141</td>\n",
       "      <td>0.802068</td>\n",
       "      <td>0.478187</td>\n",
       "    </tr>\n",
       "    <tr>\n",
       "      <th>526</th>\n",
       "      <td>0.173141</td>\n",
       "      <td>0.803545</td>\n",
       "      <td>0.477858</td>\n",
       "    </tr>\n",
       "    <tr>\n",
       "      <th>527</th>\n",
       "      <td>0.175540</td>\n",
       "      <td>0.803545</td>\n",
       "      <td>0.477402</td>\n",
       "    </tr>\n",
       "    <tr>\n",
       "      <th>528</th>\n",
       "      <td>0.175540</td>\n",
       "      <td>0.804037</td>\n",
       "      <td>0.477325</td>\n",
       "    </tr>\n",
       "    <tr>\n",
       "      <th>529</th>\n",
       "      <td>0.176019</td>\n",
       "      <td>0.804037</td>\n",
       "      <td>0.477306</td>\n",
       "    </tr>\n",
       "    <tr>\n",
       "      <th>530</th>\n",
       "      <td>0.176019</td>\n",
       "      <td>0.805022</td>\n",
       "      <td>0.477084</td>\n",
       "    </tr>\n",
       "    <tr>\n",
       "      <th>531</th>\n",
       "      <td>0.178897</td>\n",
       "      <td>0.805022</td>\n",
       "      <td>0.476625</td>\n",
       "    </tr>\n",
       "    <tr>\n",
       "      <th>532</th>\n",
       "      <td>0.178897</td>\n",
       "      <td>0.805515</td>\n",
       "      <td>0.476616</td>\n",
       "    </tr>\n",
       "    <tr>\n",
       "      <th>533</th>\n",
       "      <td>0.179856</td>\n",
       "      <td>0.805515</td>\n",
       "      <td>0.476297</td>\n",
       "    </tr>\n",
       "    <tr>\n",
       "      <th>534</th>\n",
       "      <td>0.179856</td>\n",
       "      <td>0.806992</td>\n",
       "      <td>0.476223</td>\n",
       "    </tr>\n",
       "    <tr>\n",
       "      <th>535</th>\n",
       "      <td>0.180336</td>\n",
       "      <td>0.806992</td>\n",
       "      <td>0.476057</td>\n",
       "    </tr>\n",
       "    <tr>\n",
       "      <th>536</th>\n",
       "      <td>0.180336</td>\n",
       "      <td>0.807484</td>\n",
       "      <td>0.476037</td>\n",
       "    </tr>\n",
       "    <tr>\n",
       "      <th>537</th>\n",
       "      <td>0.181295</td>\n",
       "      <td>0.807484</td>\n",
       "      <td>0.475893</td>\n",
       "    </tr>\n",
       "    <tr>\n",
       "      <th>538</th>\n",
       "      <td>0.181295</td>\n",
       "      <td>0.807976</td>\n",
       "      <td>0.475669</td>\n",
       "    </tr>\n",
       "    <tr>\n",
       "      <th>539</th>\n",
       "      <td>0.181775</td>\n",
       "      <td>0.807976</td>\n",
       "      <td>0.475588</td>\n",
       "    </tr>\n",
       "    <tr>\n",
       "      <th>540</th>\n",
       "      <td>0.181775</td>\n",
       "      <td>0.808469</td>\n",
       "      <td>0.475472</td>\n",
       "    </tr>\n",
       "    <tr>\n",
       "      <th>541</th>\n",
       "      <td>0.182254</td>\n",
       "      <td>0.808469</td>\n",
       "      <td>0.475250</td>\n",
       "    </tr>\n",
       "    <tr>\n",
       "      <th>542</th>\n",
       "      <td>0.182254</td>\n",
       "      <td>0.809453</td>\n",
       "      <td>0.475125</td>\n",
       "    </tr>\n",
       "    <tr>\n",
       "      <th>543</th>\n",
       "      <td>0.182734</td>\n",
       "      <td>0.809453</td>\n",
       "      <td>0.475091</td>\n",
       "    </tr>\n",
       "  </tbody>\n",
       "</table>\n",
       "</div>"
      ],
      "text/plain": [
       "          fpr       tpr  threshold\n",
       "500  0.161151  0.790743   0.481897\n",
       "501  0.161631  0.790743   0.481852\n",
       "502  0.161631  0.791236   0.481701\n",
       "503  0.162110  0.791236   0.481684\n",
       "504  0.162110  0.791728   0.481599\n",
       "505  0.163070  0.791728   0.481566\n",
       "506  0.163070  0.794190   0.480795\n",
       "507  0.163549  0.794190   0.480781\n",
       "508  0.163549  0.795175   0.480576\n",
       "509  0.164029  0.795175   0.480549\n",
       "510  0.164029  0.796652   0.480328\n",
       "511  0.166427  0.796652   0.479996\n",
       "512  0.166427  0.797144   0.479892\n",
       "513  0.167386  0.797144   0.479490\n",
       "514  0.167386  0.798129   0.479414\n",
       "515  0.167866  0.798129   0.479367\n",
       "516  0.167866  0.798621   0.479359\n",
       "517  0.169305  0.798621   0.479205\n",
       "518  0.169305  0.799114   0.479155\n",
       "519  0.170264  0.799114   0.479030\n",
       "520  0.170264  0.800591   0.478945\n",
       "521  0.171703  0.800591   0.478690\n",
       "522  0.171703  0.801083   0.478633\n",
       "523  0.172182  0.801083   0.478398\n",
       "524  0.172182  0.802068   0.478337\n",
       "525  0.173141  0.802068   0.478187\n",
       "526  0.173141  0.803545   0.477858\n",
       "527  0.175540  0.803545   0.477402\n",
       "528  0.175540  0.804037   0.477325\n",
       "529  0.176019  0.804037   0.477306\n",
       "530  0.176019  0.805022   0.477084\n",
       "531  0.178897  0.805022   0.476625\n",
       "532  0.178897  0.805515   0.476616\n",
       "533  0.179856  0.805515   0.476297\n",
       "534  0.179856  0.806992   0.476223\n",
       "535  0.180336  0.806992   0.476057\n",
       "536  0.180336  0.807484   0.476037\n",
       "537  0.181295  0.807484   0.475893\n",
       "538  0.181295  0.807976   0.475669\n",
       "539  0.181775  0.807976   0.475588\n",
       "540  0.181775  0.808469   0.475472\n",
       "541  0.182254  0.808469   0.475250\n",
       "542  0.182254  0.809453   0.475125\n",
       "543  0.182734  0.809453   0.475091"
      ]
     },
     "execution_count": 50,
     "metadata": {},
     "output_type": "execute_result"
    }
   ],
   "source": [
    "# Get the values of threshold for true positive rate between 0.79 and 0.81\n",
    "roc_df[roc_df['tpr'].between(0.79, 0.81)]"
   ]
  },
  {
   "cell_type": "markdown",
   "metadata": {},
   "source": [
    "For this data set also, it is safe to assume the threshold of 0.5."
   ]
  },
  {
   "cell_type": "code",
   "execution_count": null,
   "metadata": {},
   "outputs": [
    {
     "data": {
      "text/plain": [
       "<sklearn.metrics._plot.confusion_matrix.ConfusionMatrixDisplay at 0x13708c3a0>"
      ]
     },
     "execution_count": 51,
     "metadata": {},
     "output_type": "execute_result"
    },
    {
     "data": {
      "image/png": "[encoded data removed]",
      "text/plain": [
       "<Figure size 640x480 with 2 Axes>"
      ]
     },
     "metadata": {},
     "output_type": "display_data"
    }
   ],
   "source": [
    "# Plot the confusion matrix\n",
    "ConfusionMatrixDisplay.from_estimator(grid_result, X_test, y_test)  "
   ]
  },
  {
   "cell_type": "code",
   "execution_count": null,
   "metadata": {},
   "outputs": [
    {
     "data": {
      "text/plain": [
       "['./../../data/models/logistic_regression_oversample.pkl']"
      ]
     },
     "execution_count": 53,
     "metadata": {},
     "output_type": "execute_result"
    }
   ],
   "source": [
    "# Save the model\n",
    "joblib.dump(grid_result, './../../data/models/svm_oversample.pkl')"
   ]
  }
 ],
 "metadata": {
  "kernelspec": {
   "display_name": "Python 3.8.13 ('project')",
   "language": "python",
   "name": "python3"
  },
  "language_info": {
   "codemirror_mode": {
    "name": "ipython",
    "version": 3
   },
   "file_extension": ".py",
   "mimetype": "text/x-python",
   "name": "python",
   "nbconvert_exporter": "python",
   "pygments_lexer": "ipython3",
   "version": "3.8.13"
  },
  "orig_nbformat": 4,
  "vscode": {
   "interpreter": {
    "hash": "af77eb27f514ee114388f6898d9553454263f7eea260918546d16a8e581c8922"
   }
  }
 },
 "nbformat": 4,
 "nbformat_minor": 2
}
